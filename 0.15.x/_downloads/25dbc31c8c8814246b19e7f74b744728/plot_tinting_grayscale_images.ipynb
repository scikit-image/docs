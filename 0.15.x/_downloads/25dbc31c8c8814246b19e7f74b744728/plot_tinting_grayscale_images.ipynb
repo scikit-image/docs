{
  "cells": [
    {
      "cell_type": "code",
      "execution_count": null,
      "metadata": {
        "collapsed": false
      },
      "outputs": [],
      "source": [
        "%matplotlib inline"
      ]
    },
    {
      "cell_type": "markdown",
      "metadata": {},
      "source": [
        "\n# Tinting gray-scale images\n\n\nIt can be useful to artificially tint an image with some color, either to\nhighlight particular regions of an image or maybe just to liven up a grayscale\nimage. This example demonstrates image-tinting by scaling RGB values and by\nadjusting colors in the HSV color-space.\n\nIn 2D, color images are often represented in RGB---3 layers of 2D arrays, where\nthe 3 layers represent (R)ed, (G)reen and (B)lue channels of the image. The\nsimplest way of getting a tinted image is to set each RGB channel to the\ngrayscale image scaled by a different multiplier for each channel. For example,\nmultiplying the green and blue channels by 0 leaves only the red channel and\nproduces a bright red image. Similarly, zeroing-out the blue channel leaves\nonly the red and green channels, which combine to form yellow.\n\n"
      ]
    },
    {
      "cell_type": "code",
      "execution_count": null,
      "metadata": {
        "collapsed": false
      },
      "outputs": [],
      "source": [
        "import matplotlib.pyplot as plt\nfrom skimage import data\nfrom skimage import color\nfrom skimage import img_as_float\n\ngrayscale_image = img_as_float(data.camera()[::2, ::2])\nimage = color.gray2rgb(grayscale_image)\n\nred_multiplier = [1, 0, 0]\nyellow_multiplier = [1, 1, 0]\n\nfig, (ax1, ax2) = plt.subplots(ncols=2, figsize=(8, 4),\n                               sharex=True, sharey=True)\nax1.imshow(red_multiplier * image)\nax2.imshow(yellow_multiplier * image)"
      ]
    },
    {
      "cell_type": "markdown",
      "metadata": {},
      "source": [
        "In many cases, dealing with RGB values may not be ideal. Because of that,\nthere are many other `color spaces`_ in which you can represent a color\nimage. One popular color space is called HSV, which represents hue (~the\ncolor), saturation (~colorfulness), and value (~brightness). For example, a\ncolor (hue) might be green, but its saturation is how intense that green is\n---where olive is on the low end and neon on the high end.\n\nIn some implementations, the hue in HSV goes from 0 to 360, since hues wrap\naround in a circle. In scikit-image, however, hues are float values from 0\nto 1, so that hue, saturation, and value all share the same scale.\n\n    https://en.wikipedia.org/wiki/List_of_color_spaces_and_their_uses\n\nBelow, we plot a linear gradient in the hue, with the saturation and value\nturned all the way up:\n\n"
      ]
    },
    {
      "cell_type": "code",
      "execution_count": null,
      "metadata": {
        "collapsed": false
      },
      "outputs": [],
      "source": [
        "import numpy as np\n\nhue_gradient = np.linspace(0, 1)\nhsv = np.ones(shape=(1, len(hue_gradient), 3), dtype=float)\nhsv[:, :, 0] = hue_gradient\n\nall_hues = color.hsv2rgb(hsv)\n\nfig, ax = plt.subplots(figsize=(5, 2))\n# Set image extent so hues go from 0 to 1 and the image is a nice aspect ratio.\nax.imshow(all_hues, extent=(0, 1, 0, 0.2))\nax.set_axis_off()"
      ]
    },
    {
      "cell_type": "markdown",
      "metadata": {},
      "source": [
        "Notice how the colors at the far left and far right are the same. That\nreflects the fact that the hues wrap around like the color wheel (see HSV_\nfor more info).\n\n\nNow, let's create a little utility function to take an RGB image and:\n\n1. Transform the RGB image to HSV 2. Set the hue and saturation 3.\nTransform the HSV image back to RGB\n\n"
      ]
    },
    {
      "cell_type": "code",
      "execution_count": null,
      "metadata": {
        "collapsed": false
      },
      "outputs": [],
      "source": [
        "def colorize(image, hue, saturation=1):\n    \"\"\" Add color of the given hue to an RGB image.\n\n    By default, set the saturation to 1 so that the colors pop!\n    \"\"\"\n    hsv = color.rgb2hsv(image)\n    hsv[:, :, 1] = saturation\n    hsv[:, :, 0] = hue\n    return color.hsv2rgb(hsv)"
      ]
    },
    {
      "cell_type": "markdown",
      "metadata": {},
      "source": [
        "Notice that we need to bump up the saturation; images with zero saturation\nare grayscale, so we need to a non-zero value to actually see the color\nwe've set.\n\nUsing the function above, we plot six images with a linear gradient in the\nhue and a non-zero saturation:\n\n"
      ]
    },
    {
      "cell_type": "code",
      "execution_count": null,
      "metadata": {
        "collapsed": false
      },
      "outputs": [],
      "source": [
        "hue_rotations = np.linspace(0, 1, 6)\n\nfig, axes = plt.subplots(nrows=2, ncols=3, sharex=True, sharey=True)\n\nfor ax, hue in zip(axes.flat, hue_rotations):\n    # Turn down the saturation to give it that vintage look.\n    tinted_image = colorize(image, hue, saturation=0.3)\n    ax.imshow(tinted_image, vmin=0, vmax=1)\n    ax.set_axis_off()\nfig.tight_layout()"
      ]
    },
    {
      "cell_type": "markdown",
      "metadata": {},
      "source": [
        "You can combine this tinting effect with numpy slicing and fancy-indexing\nto selectively tint your images. In the example below, we set the hue of\nsome rectangles using slicing and scale the RGB values of some pixels found\nby thresholding. In practice, you might want to define a region for tinting\nbased on segmentation results or blob detection methods.\n\n"
      ]
    },
    {
      "cell_type": "code",
      "execution_count": null,
      "metadata": {
        "collapsed": false
      },
      "outputs": [],
      "source": [
        "from skimage.filters import rank\n\n# Square regions defined as slices over the first two dimensions.\ntop_left = (slice(100),) * 2\nbottom_right = (slice(-100, None),) * 2\n\nsliced_image = image.copy()\nsliced_image[top_left] = colorize(image[top_left], 0.82, saturation=0.5)\nsliced_image[bottom_right] = colorize(image[bottom_right], 0.5, saturation=0.5)\n\n# Create a mask selecting regions with interesting texture.\nnoisy = rank.entropy(grayscale_image, np.ones((9, 9)))\ntextured_regions = noisy > 4\n# Note that using `colorize` here is a bit more difficult, since `rgb2hsv`\n# expects an RGB image (height x width x channel), but fancy-indexing returns\n# a set of RGB pixels (# pixels x channel).\nmasked_image = image.copy()\nmasked_image[textured_regions, :] *= red_multiplier\n\nfig, (ax1, ax2) = plt.subplots(ncols=2, nrows=1, figsize=(8, 4),\n                               sharex=True, sharey=True)\nax1.imshow(sliced_image)\nax2.imshow(masked_image)\n\nplt.show()"
      ]
    },
    {
      "cell_type": "markdown",
      "metadata": {},
      "source": [
        "For coloring multiple regions, you may also be interested in\n`skimage.color.label2rgb <http://scikit-\nimage.org/docs/0.9.x/api/skimage.color.html#label2rgb>`_.\n\n"
      ]
    }
  ],
  "metadata": {
    "kernelspec": {
      "display_name": "Python 3",
      "language": "python",
      "name": "python3"
    },
    "language_info": {
      "codemirror_mode": {
        "name": "ipython",
        "version": 3
      },
      "file_extension": ".py",
      "mimetype": "text/x-python",
      "name": "python",
      "nbconvert_exporter": "python",
      "pygments_lexer": "ipython3",
      "version": "3.6.8"
    }
  },
  "nbformat": 4,
  "nbformat_minor": 0
}