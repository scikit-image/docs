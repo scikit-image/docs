{
  "cells": [
    {
      "cell_type": "code",
      "execution_count": null,
      "metadata": {
        "collapsed": false
      },
      "outputs": [],
      "source": [
        "%matplotlib inline"
      ]
    },
    {
      "cell_type": "markdown",
      "metadata": {},
      "source": [
        "\n# Image Deconvolution\n\n\nIn this example, we deconvolve a noisy version of an image using Wiener\nand unsupervised Wiener algorithms. This algorithms are based on\nlinear models that can't restore sharp edge as much as non-linear\nmethods (like TV restoration) but are much faster.\n\nWiener filter\n-------------\nThe inverse filter based on the PSF (Point Spread Function),\nthe prior regularisation (penalisation of high frequency) and the\ntradeoff between the data and prior adequacy. The regularization\nparameter must be hand tuned.\n\nUnsupervised Wiener\n-------------------\nThis algorithm has a self-tuned regularisation parameters based on\ndata learning. This is not common and based on the following\npublication [1]_. The algorithm is based on a iterative Gibbs sampler that\ndraw alternatively samples of posterior conditional law of the image,\nthe noise power and the image frequency power.\n\n.. [1] Fran\u00e7ois Orieux, Jean-Fran\u00e7ois Giovannelli, and Thomas\n       Rodet, \"Bayesian estimation of regularization and point\n       spread function parameters for Wiener-Hunt deconvolution\",\n       J. Opt. Soc. Am. A 27, 1593-1607 (2010)\n\n"
      ]
    },
    {
      "cell_type": "code",
      "execution_count": null,
      "metadata": {
        "collapsed": false
      },
      "outputs": [],
      "source": [
        "import numpy as np\nimport matplotlib.pyplot as plt\n\nfrom skimage import color, data, restoration\n\nastro = color.rgb2gray(data.astronaut())\nfrom scipy.signal import convolve2d as conv2\npsf = np.ones((5, 5)) / 25\nastro = conv2(astro, psf, 'same')\nastro += 0.1 * astro.std() * np.random.standard_normal(astro.shape)\n\ndeconvolved, _ = restoration.unsupervised_wiener(astro, psf)\n\nfig, ax = plt.subplots(nrows=1, ncols=2, figsize=(8, 5),\n                       sharex=True, sharey=True)\n\nplt.gray()\n\nax[0].imshow(astro, vmin=deconvolved.min(), vmax=deconvolved.max())\nax[0].axis('off')\nax[0].set_title('Data')\n\nax[1].imshow(deconvolved)\nax[1].axis('off')\nax[1].set_title('Self tuned restoration')\n\nfig.tight_layout()\n\nplt.show()"
      ]
    }
  ],
  "metadata": {
    "kernelspec": {
      "display_name": "Python 3",
      "language": "python",
      "name": "python3"
    },
    "language_info": {
      "codemirror_mode": {
        "name": "ipython",
        "version": 3
      },
      "file_extension": ".py",
      "mimetype": "text/x-python",
      "name": "python",
      "nbconvert_exporter": "python",
      "pygments_lexer": "ipython3",
      "version": "3.6.8"
    }
  },
  "nbformat": 4,
  "nbformat_minor": 0
}