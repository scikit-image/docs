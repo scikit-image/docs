{
  "cells": [
    {
      "cell_type": "code",
      "execution_count": null,
      "metadata": {
        "collapsed": false
      },
      "outputs": [],
      "source": [
        "%matplotlib inline"
      ]
    },
    {
      "cell_type": "markdown",
      "metadata": {},
      "source": [
        "\n# Denoising a picture\n\n\nIn this example, we denoise a noisy version of a picture using the total\nvariation, bilateral, and wavelet denoising filters.\n\nTotal variation and bilateral algorithms typically produce \"posterized\" images\nwith flat domains separated by sharp edges. It is possible to change the degree\nof posterization by controlling the tradeoff between denoising and faithfulness\nto the original image.\n\nTotal variation filter\n----------------------\n\nThe result of this filter is an image that has a minimal total variation norm,\nwhile being as close to the initial image as possible. The total variation is\nthe L1 norm of the gradient of the image.\n\nBilateral filter\n----------------\n\nA bilateral filter is an edge-preserving and noise reducing filter. It averages\npixels based on their spatial closeness and radiometric similarity.\n\nWavelet denoising filter\n------------------------\n\nA wavelet denoising filter relies on the wavelet representation of the image.\nThe noise is represented by small values in the wavelet domain which are set to\n0.\n\nIn color images, wavelet denoising is typically done in the `YCbCr color\nspace`_ as denoising in separate color channels may lead to more apparent\nnoise.\n\n\n\n"
      ]
    },
    {
      "cell_type": "code",
      "execution_count": null,
      "metadata": {
        "collapsed": false
      },
      "outputs": [],
      "source": [
        "import matplotlib.pyplot as plt\n\nfrom skimage.restoration import (denoise_tv_chambolle, denoise_bilateral,\n                                 denoise_wavelet, estimate_sigma)\nfrom skimage import data, img_as_float\nfrom skimage.util import random_noise\n\n\noriginal = img_as_float(data.chelsea()[100:250, 50:300])\n\nsigma = 0.155\nnoisy = random_noise(original, var=sigma**2)\n\nfig, ax = plt.subplots(nrows=2, ncols=4, figsize=(8, 5),\n                       sharex=True, sharey=True)\n\nplt.gray()\n\n# Estimate the average noise standard deviation across color channels.\nsigma_est = estimate_sigma(noisy, multichannel=True, average_sigmas=True)\n# Due to clipping in random_noise, the estimate will be a bit smaller than the\n# specified sigma.\nprint(\"Estimated Gaussian noise standard deviation = {}\".format(sigma_est))\n\nax[0, 0].imshow(noisy)\nax[0, 0].axis('off')\nax[0, 0].set_title('Noisy')\nax[0, 1].imshow(denoise_tv_chambolle(noisy, weight=0.1, multichannel=True))\nax[0, 1].axis('off')\nax[0, 1].set_title('TV')\nax[0, 2].imshow(denoise_bilateral(noisy, sigma_color=0.05, sigma_spatial=15,\n                multichannel=True))\nax[0, 2].axis('off')\nax[0, 2].set_title('Bilateral')\nax[0, 3].imshow(denoise_wavelet(noisy, multichannel=True))\nax[0, 3].axis('off')\nax[0, 3].set_title('Wavelet denoising')\n\nax[1, 1].imshow(denoise_tv_chambolle(noisy, weight=0.2, multichannel=True))\nax[1, 1].axis('off')\nax[1, 1].set_title('(more) TV')\nax[1, 2].imshow(denoise_bilateral(noisy, sigma_color=0.1, sigma_spatial=15,\n                multichannel=True))\nax[1, 2].axis('off')\nax[1, 2].set_title('(more) Bilateral')\nax[1, 3].imshow(denoise_wavelet(noisy, multichannel=True, convert2ycbcr=True))\nax[1, 3].axis('off')\nax[1, 3].set_title('Wavelet denoising\\nin YCbCr colorspace')\nax[1, 0].imshow(original)\nax[1, 0].axis('off')\nax[1, 0].set_title('Original')\n\nfig.tight_layout()\n\nplt.show()"
      ]
    }
  ],
  "metadata": {
    "kernelspec": {
      "display_name": "Python 3",
      "language": "python",
      "name": "python3"
    },
    "language_info": {
      "codemirror_mode": {
        "name": "ipython",
        "version": 3
      },
      "file_extension": ".py",
      "mimetype": "text/x-python",
      "name": "python",
      "nbconvert_exporter": "python",
      "pygments_lexer": "ipython3",
      "version": "3.6.8"
    }
  },
  "nbformat": 4,
  "nbformat_minor": 0
}