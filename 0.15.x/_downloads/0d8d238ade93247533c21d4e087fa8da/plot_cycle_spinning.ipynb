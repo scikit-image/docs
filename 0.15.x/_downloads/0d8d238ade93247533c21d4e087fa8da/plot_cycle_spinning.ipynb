{
  "cells": [
    {
      "cell_type": "code",
      "execution_count": null,
      "metadata": {
        "collapsed": false
      },
      "outputs": [],
      "source": [
        "%matplotlib inline"
      ]
    },
    {
      "cell_type": "markdown",
      "metadata": {},
      "source": [
        "\n# Shift-invariant wavelet denoising\n\n\nThe discrete wavelet transform is not `shift-invariant`_.  Shift invariance can\nbe achieved through an undecimated wavelet transform (also called stationary\nwavelet transform), at cost of increased redundancy (i.e. more wavelet\ncoefficients than input image pixels).  An alternative way to approximate\nshift-invariance in the context of image denoising with the discrete wavelet\ntransform is to use the technique known as \"cycle spinning\".  This involves\naveraging the results of the following 3-step procedure for multiple spatial\nshifts, n:\n\n1. (circularly) shift the signal by an amount, n\n2. apply denoising\n3. apply the inverse shift\n\nFor 2D image denoising, we demonstrate here that such cycle-spinning can\nprovide a substantial increase in quality, with much of the gain being\nachieved simply by averaging shifts of only n=0 and n=1 on each axis.\n\n\n"
      ]
    },
    {
      "cell_type": "code",
      "execution_count": null,
      "metadata": {
        "collapsed": false
      },
      "outputs": [],
      "source": [
        "import matplotlib.pyplot as plt\n\nfrom skimage.restoration import denoise_wavelet, cycle_spin\nfrom skimage import data, img_as_float\nfrom skimage.util import random_noise\nfrom skimage.measure import compare_psnr\n\n\noriginal = img_as_float(data.chelsea()[100:250, 50:300])\n\nsigma = 0.155\nnoisy = random_noise(original, var=sigma**2)\n\nfig, ax = plt.subplots(nrows=2, ncols=3, figsize=(10, 4),\n                       sharex=False, sharey=False)\nax = ax.ravel()\n\npsnr_noisy = compare_psnr(original, noisy)\nax[0].imshow(noisy)\nax[0].axis('off')\nax[0].set_title('Noisy\\nPSNR={:0.4g}'.format(psnr_noisy))\n\n\n# Repeat denosing with different amounts of cycle spinning.  e.g.\n# max_shift = 0 -> no cycle spinning\n# max_shift = 1 -> shifts of (0, 1) along each axis\n# max_shift = 3 -> shifts of (0, 1, 2, 3) along each axis\n# etc...\n\ndenoise_kwargs = dict(multichannel=True, convert2ycbcr=True, wavelet='db1')\n\nall_psnr = []\nmax_shifts = [0, 1, 3, 5]\nfor n, s in enumerate(max_shifts):\n    im_bayescs = cycle_spin(noisy, func=denoise_wavelet, max_shifts=s,\n                            func_kw=denoise_kwargs, multichannel=True)\n    ax[n+1].imshow(im_bayescs)\n    ax[n+1].axis('off')\n    psnr = compare_psnr(original, im_bayescs)\n    if s == 0:\n        ax[n+1].set_title(\n            \"Denoised: no cycle shifts\\nPSNR={:0.4g}\".format(psnr))\n    else:\n        ax[n+1].set_title(\n            \"Denoised: {0}x{0} shifts\\nPSNR={1:0.4g}\".format(s+1, psnr))\n    all_psnr.append(psnr)\n\n# plot PSNR as a function of the degree of cycle shifting\nax[5].plot(max_shifts, all_psnr, 'k.-')\nax[5].set_ylabel('PSNR (dB)')\nax[5].set_xlabel('max cycle shift along each axis')\nax[5].grid('on')\nplt.subplots_adjust(wspace=0.35, hspace=0.35)\n\n# Annotate with a cyan arrow on the 6x6 case vs. no cycle shift case to\n# illustrate a region with reduced block-like artifact with cycle shifting\narrowprops = dict(arrowstyle=\"simple,tail_width=0.1,head_width=0.5\",\n                  connectionstyle=\"arc3\",\n                  color='c')\nfor i in [1, 4]:\n    ax[i].annotate(\"\", xy=(101, 39), xycoords='data',\n                   xytext=(70, 70), textcoords='data',\n                   arrowprops=arrowprops)\n\nplt.show()"
      ]
    }
  ],
  "metadata": {
    "kernelspec": {
      "display_name": "Python 3",
      "language": "python",
      "name": "python3"
    },
    "language_info": {
      "codemirror_mode": {
        "name": "ipython",
        "version": 3
      },
      "file_extension": ".py",
      "mimetype": "text/x-python",
      "name": "python",
      "nbconvert_exporter": "python",
      "pygments_lexer": "ipython3",
      "version": "3.6.8"
    }
  },
  "nbformat": 4,
  "nbformat_minor": 0
}