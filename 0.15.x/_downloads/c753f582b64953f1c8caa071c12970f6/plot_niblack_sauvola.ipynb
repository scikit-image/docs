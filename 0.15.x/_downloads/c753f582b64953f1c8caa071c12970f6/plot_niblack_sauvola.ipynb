{
  "cells": [
    {
      "cell_type": "code",
      "execution_count": null,
      "metadata": {
        "collapsed": false
      },
      "outputs": [],
      "source": [
        "%matplotlib inline"
      ]
    },
    {
      "cell_type": "markdown",
      "metadata": {},
      "source": [
        "\n# Niblack and Sauvola Thresholding\n\n\nNiblack and Sauvola thresholds are local thresholding techniques that are\nuseful for images where the background is not uniform, especially for text\nrecognition [1]_, [2]_. Instead of calculating a single global threshold for\nthe entire image, several thresholds are calculated for every pixel by using\nspecific formulae that take into account the mean and standard deviation of the\nlocal neighborhood (defined by a window centered around the pixel).\n\nHere, we binarize an image using these algorithms compare it to a common global\nthresholding technique. Parameter `window_size` determines the size of the\nwindow that contains the surrounding pixels.\n\n.. [1] Niblack, W (1986), An introduction to Digital Image\n       Processing, Prentice-Hall.\n.. [2] J. Sauvola and M. Pietikainen, \"Adaptive document image\n       binarization,\" Pattern Recognition 33(2),\n       pp. 225-236, 2000.\n       :DOI:`10.1016/S0031-3203(99)00055-2`\n\n"
      ]
    },
    {
      "cell_type": "code",
      "execution_count": null,
      "metadata": {
        "collapsed": false
      },
      "outputs": [],
      "source": [
        "import matplotlib\nimport matplotlib.pyplot as plt\n\nfrom skimage.data import page\nfrom skimage.filters import (threshold_otsu, threshold_niblack,\n                             threshold_sauvola)\n\n\nmatplotlib.rcParams['font.size'] = 9\n\n\nimage = page()\nbinary_global = image > threshold_otsu(image)\n\nwindow_size = 25\nthresh_niblack = threshold_niblack(image, window_size=window_size, k=0.8)\nthresh_sauvola = threshold_sauvola(image, window_size=window_size)\n\nbinary_niblack = image > thresh_niblack\nbinary_sauvola = image > thresh_sauvola\n\nplt.figure(figsize=(8, 7))\nplt.subplot(2, 2, 1)\nplt.imshow(image, cmap=plt.cm.gray)\nplt.title('Original')\nplt.axis('off')\n\nplt.subplot(2, 2, 2)\nplt.title('Global Threshold')\nplt.imshow(binary_global, cmap=plt.cm.gray)\nplt.axis('off')\n\nplt.subplot(2, 2, 3)\nplt.imshow(binary_niblack, cmap=plt.cm.gray)\nplt.title('Niblack Threshold')\nplt.axis('off')\n\nplt.subplot(2, 2, 4)\nplt.imshow(binary_sauvola, cmap=plt.cm.gray)\nplt.title('Sauvola Threshold')\nplt.axis('off')\n\nplt.show()"
      ]
    }
  ],
  "metadata": {
    "kernelspec": {
      "display_name": "Python 3",
      "language": "python",
      "name": "python3"
    },
    "language_info": {
      "codemirror_mode": {
        "name": "ipython",
        "version": 3
      },
      "file_extension": ".py",
      "mimetype": "text/x-python",
      "name": "python",
      "nbconvert_exporter": "python",
      "pygments_lexer": "ipython3",
      "version": "3.6.8"
    }
  },
  "nbformat": 4,
  "nbformat_minor": 0
}