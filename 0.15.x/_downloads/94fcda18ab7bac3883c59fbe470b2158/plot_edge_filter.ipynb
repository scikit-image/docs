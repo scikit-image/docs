{
  "cells": [
    {
      "cell_type": "code",
      "execution_count": null,
      "metadata": {
        "collapsed": false
      },
      "outputs": [],
      "source": [
        "%matplotlib inline"
      ]
    },
    {
      "cell_type": "markdown",
      "metadata": {},
      "source": [
        "\n# Edge operators\n\n\nEdge operators are used in image processing within edge detection algorithms.\nThey are discrete differentiation operators, computing an approximation of the\ngradient of the image intensity function.\n\n\n"
      ]
    },
    {
      "cell_type": "code",
      "execution_count": null,
      "metadata": {
        "collapsed": false
      },
      "outputs": [],
      "source": [
        "import numpy as np\nimport matplotlib.pyplot as plt\n\nfrom skimage.data import camera\nfrom skimage.filters import roberts, sobel, scharr, prewitt\n\n\nimage = camera()\nedge_roberts = roberts(image)\nedge_sobel = sobel(image)\n\nfig, ax = plt.subplots(ncols=2, sharex=True, sharey=True,\n                       figsize=(8, 4))\n\nax[0].imshow(edge_roberts, cmap=plt.cm.gray)\nax[0].set_title('Roberts Edge Detection')\n\nax[1].imshow(edge_sobel, cmap=plt.cm.gray)\nax[1].set_title('Sobel Edge Detection')\n\nfor a in ax:\n    a.axis('off')\n\nplt.tight_layout()\nplt.show()"
      ]
    },
    {
      "cell_type": "markdown",
      "metadata": {},
      "source": [
        "Different operators compute different finite-difference approximations of\nthe gradient. For example, the Scharr filter results in a less rotational\nvariance than the Sobel filter that is in turn better than the Prewitt\nfilter [1]_ [2]_ [3]_. The difference between the Prewitt and Sobel filters\nand the Scharr filter is illustrated below with an image that is the\ndiscretization of a rotation- invariant continuous function. The\ndiscrepancy between the Prewitt and Sobel filters, and the Scharr filter is\nstronger for regions of the image where the direction of the gradient is\nclose to diagonal, and for regions with high spatial frequencies. For the\nexample image the differences between the filter results are very small and\nthe filter results are visually almost indistinguishable.\n\n.. [1] https://en.wikipedia.org/wiki/Sobel_operator#Alternative_operators\n\n.. [2] B. Jaehne, H. Scharr, and S. Koerkel. Principles of filter design.\n       In Handbook of Computer Vision and Applications. Academic Press,\n       1999.\n\n.. [3] https://en.wikipedia.org/wiki/Prewitt_operator\n\n"
      ]
    },
    {
      "cell_type": "code",
      "execution_count": null,
      "metadata": {
        "collapsed": false
      },
      "outputs": [],
      "source": [
        "x, y = np.ogrid[:100, :100]\n# Rotation-invariant image with different spatial frequencies\nimg = np.exp(1j * np.hypot(x, y)**1.3 / 20.).real\n\nedge_sobel = sobel(img)\nedge_scharr = scharr(img)\nedge_prewitt = prewitt(img)\n\ndiff_scharr_prewitt = edge_scharr - edge_prewitt\ndiff_scharr_sobel = edge_scharr - edge_sobel\nmax_diff = np.max(np.maximum(diff_scharr_prewitt, diff_scharr_sobel))\n\nfig, axes = plt.subplots(nrows=2, ncols=2, sharex=True, sharey=True,\n                         figsize=(8, 8))\nax = axes.ravel()\n\nax[0].imshow(img, cmap=plt.cm.gray)\nax[0].set_title('Original image')\n\nax[1].imshow(edge_scharr, cmap=plt.cm.gray)\nax[1].set_title('Scharr Edge Detection')\n\nax[2].imshow(diff_scharr_prewitt, cmap=plt.cm.gray, vmax=max_diff)\nax[2].set_title('Scharr - Prewitt')\n\nax[3].imshow(diff_scharr_sobel, cmap=plt.cm.gray, vmax=max_diff)\nax[3].set_title('Scharr - Sobel')\n\nfor a in ax:\n    a.axis('off')\n\nplt.tight_layout()\nplt.show()"
      ]
    }
  ],
  "metadata": {
    "kernelspec": {
      "display_name": "Python 3",
      "language": "python",
      "name": "python3"
    },
    "language_info": {
      "codemirror_mode": {
        "name": "ipython",
        "version": 3
      },
      "file_extension": ".py",
      "mimetype": "text/x-python",
      "name": "python",
      "nbconvert_exporter": "python",
      "pygments_lexer": "ipython3",
      "version": "3.6.8"
    }
  },
  "nbformat": 4,
  "nbformat_minor": 0
}