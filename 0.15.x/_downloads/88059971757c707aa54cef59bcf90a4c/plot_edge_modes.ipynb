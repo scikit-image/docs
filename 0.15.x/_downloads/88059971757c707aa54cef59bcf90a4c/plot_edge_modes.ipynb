{
  "cells": [
    {
      "cell_type": "code",
      "execution_count": null,
      "metadata": {
        "collapsed": false
      },
      "outputs": [],
      "source": [
        "%matplotlib inline"
      ]
    },
    {
      "cell_type": "markdown",
      "metadata": {},
      "source": [
        "\n=========================\nInterpolation: Edge Modes\n=========================\n\nThis example illustrates the different edge modes available during\ninterpolation in routines such as :py:func:`skimage.transform.rescale`\nand :py:func:`skimage.transform.resize`.\n\n"
      ]
    },
    {
      "cell_type": "code",
      "execution_count": null,
      "metadata": {
        "collapsed": false
      },
      "outputs": [],
      "source": [
        "import numpy as np\nimport matplotlib.pyplot as plt\n\nfrom skimage.util import pad\n\n\nimg = np.zeros((16, 16))\nimg[:8, :8] += 1\nimg[:4, :4] += 1\nimg[:2, :2] += 1\nimg[:1, :1] += 2\nimg[8, 8] = 4\n\nmodes = ['constant', 'edge', 'wrap', 'reflect', 'symmetric']\nfig, axes = plt.subplots(2, 3)\nax = axes.flatten()\n\nfor n, mode in enumerate(modes):\n    img_padded = pad(img, pad_width=img.shape[0], mode=mode)\n    ax[n].imshow(img_padded, cmap=plt.cm.gray, interpolation='nearest')\n    ax[n].plot([15.5, 15.5, 31.5, 31.5, 15.5],\n               [15.5, 31.5, 31.5, 15.5, 15.5], 'y--', linewidth=0.5)\n    ax[n].set_title(mode)\n\nfor a in ax:\n    a.set_axis_off()\n    a.set_aspect('equal')\n\nplt.tight_layout()\nplt.show()"
      ]
    }
  ],
  "metadata": {
    "kernelspec": {
      "display_name": "Python 3",
      "language": "python",
      "name": "python3"
    },
    "language_info": {
      "codemirror_mode": {
        "name": "ipython",
        "version": 3
      },
      "file_extension": ".py",
      "mimetype": "text/x-python",
      "name": "python",
      "nbconvert_exporter": "python",
      "pygments_lexer": "ipython3",
      "version": "3.6.8"
    }
  },
  "nbformat": 4,
  "nbformat_minor": 0
}