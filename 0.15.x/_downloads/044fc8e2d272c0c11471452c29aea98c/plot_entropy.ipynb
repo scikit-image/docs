{
  "cells": [
    {
      "cell_type": "code",
      "execution_count": null,
      "metadata": {
        "collapsed": false
      },
      "outputs": [],
      "source": [
        "%matplotlib inline"
      ]
    },
    {
      "cell_type": "markdown",
      "metadata": {},
      "source": [
        "\n# Entropy\n\n\nIn information theory, information entropy is the log-base-2 of the number of\npossible outcomes for a message.\n\nFor an image, local entropy is related to the complexity contained in a given\nneighborhood, typically defined by a structuring element. The entropy filter can\ndetect subtle variations in the local gray level distribution.\n\nIn the first example, the image is composed of two surfaces with two slightly\ndifferent distributions. The image has a uniform random distribution in the\nrange [-14, +14] in the middle of the image and a uniform random distribution in\nthe range [-15, 15] at the image borders, both centered at a gray value of 128.\nTo detect the central square, we compute the local entropy measure using a\ncircular structuring element of a radius big enough to capture the local gray\nlevel distribution. The second example shows how to detect texture in the camera\nimage using a smaller structuring element.\n\n\n"
      ]
    },
    {
      "cell_type": "code",
      "execution_count": null,
      "metadata": {
        "collapsed": false
      },
      "outputs": [],
      "source": [
        "import matplotlib.pyplot as plt\nimport numpy as np\n\nfrom skimage import data\nfrom skimage.util import img_as_ubyte\nfrom skimage.filters.rank import entropy\nfrom skimage.morphology import disk\n\n# First example: object detection.\n\nnoise_mask = np.full((128, 128), 28, dtype=np.uint8)\nnoise_mask[32:-32, 32:-32] = 30\n\nnoise = (noise_mask * np.random.random(noise_mask.shape) - 0.5 *\n         noise_mask).astype(np.uint8)\nimg = noise + 128\n\nentr_img = entropy(img, disk(10))\n\nfig, (ax0, ax1, ax2) = plt.subplots(nrows=1, ncols=3, figsize=(10, 4))\n\nax0.imshow(noise_mask, cmap='gray')\nax0.set_xlabel(\"Noise mask\")\nax1.imshow(img, cmap='gray')\nax1.set_xlabel(\"Noisy image\")\nax2.imshow(entr_img, cmap='viridis')\nax2.set_xlabel(\"Local entropy\")\n\nfig.tight_layout()\n\n# Second example: texture detection.\n\nimage = img_as_ubyte(data.camera())\n\nfig, (ax0, ax1) = plt.subplots(ncols=2, figsize=(12, 4),\n                               sharex=True, sharey=True)\n\nimg0 = ax0.imshow(image, cmap=plt.cm.gray)\nax0.set_title(\"Image\")\nax0.axis(\"off\")\nfig.colorbar(img0, ax=ax0)\n\nimg1 = ax1.imshow(entropy(image, disk(5)), cmap='gray')\nax1.set_title(\"Entropy\")\nax1.axis(\"off\")\nfig.colorbar(img1, ax=ax1)\n\nfig.tight_layout()\n\nplt.show()"
      ]
    }
  ],
  "metadata": {
    "kernelspec": {
      "display_name": "Python 3",
      "language": "python",
      "name": "python3"
    },
    "language_info": {
      "codemirror_mode": {
        "name": "ipython",
        "version": 3
      },
      "file_extension": ".py",
      "mimetype": "text/x-python",
      "name": "python",
      "nbconvert_exporter": "python",
      "pygments_lexer": "ipython3",
      "version": "3.6.8"
    }
  },
  "nbformat": 4,
  "nbformat_minor": 0
}