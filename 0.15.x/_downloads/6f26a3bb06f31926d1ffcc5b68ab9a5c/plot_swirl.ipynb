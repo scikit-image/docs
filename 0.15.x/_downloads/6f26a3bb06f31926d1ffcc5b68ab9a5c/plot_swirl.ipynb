{
  "cells": [
    {
      "cell_type": "code",
      "execution_count": null,
      "metadata": {
        "collapsed": false
      },
      "outputs": [],
      "source": [
        "%matplotlib inline"
      ]
    },
    {
      "cell_type": "markdown",
      "metadata": {},
      "source": [
        "\n# Swirl\n\n\nImage swirling is a non-linear image deformation that creates a whirlpool\neffect.  This example describes the implementation of this transform in\n``skimage``, as well as the underlying warp mechanism.\n\nImage warping\n-------------\nWhen applying a geometric transformation on an image, we typically make use of\na reverse mapping, i.e., for each pixel in the output image, we compute its\ncorresponding position in the input.  The reason is that, if we were to do it\nthe other way around (map each input pixel to its new output position), some\npixels in the output may be left empty.  On the other hand, each output\ncoordinate has exactly one corresponding location in (or outside) the input\nimage, and even if that position is non-integer, we may use interpolation to\ncompute the corresponding image value.\n\nPerforming a reverse mapping\n----------------------------\nTo perform a geometric warp in ``skimage``, you simply need to provide the\nreverse mapping to the :py:func:`skimage.transform.warp` function. E.g., consider\nthe case where we would like to shift an image 50 pixels to the left. The reverse\nmapping for such a shift would be::\n\n    def shift_left(xy):\n        xy[:, 0] += 50\n        return xy\n\nThe corresponding call to warp is::\n\n    from skimage.transform import warp\n    warp(image, shift_left)\n\nThe swirl transformation\n------------------------\nConsider the coordinate $(x, y)$ in the output image.  The reverse\nmapping for the swirl transformation first computes, relative to a center\n$(x_0, y_0)$, its polar coordinates,\n\n\\begin{align}\\theta = \\arctan(y/x)\n\n    \\rho = \\sqrt{(x - x_0)^2 + (y - y_0)^2},\\end{align}\n\nand then transforms them according to\n\n\\begin{align}r = \\ln(2) \\, \\mathtt{radius} / 5\n\n    \\phi = \\mathtt{rotation}\n\n    s = \\mathtt{strength}\n\n    \\theta' = \\phi + s \\, e^{-\\rho / r + \\theta}\\end{align}\n\nwhere ``strength`` is a parameter for the amount of swirl, ``radius`` indicates\nthe swirl extent in pixels, and ``rotation`` adds a rotation angle.  The\ntransformation of ``radius`` into $r$ is to ensure that the\ntransformation decays to $\\approx 1/1000^{\\mathsf{th}}$ within the\nspecified radius.\n\n\n"
      ]
    },
    {
      "cell_type": "code",
      "execution_count": null,
      "metadata": {
        "collapsed": false
      },
      "outputs": [],
      "source": [
        "import matplotlib.pyplot as plt\n\nfrom skimage import data\nfrom skimage.transform import swirl\n\n\nimage = data.checkerboard()\nswirled = swirl(image, rotation=0, strength=10, radius=120)\n\nfig, (ax0, ax1) = plt.subplots(nrows=1, ncols=2, figsize=(8, 3),\n                               sharex=True, sharey=True)\n\nax0.imshow(image, cmap=plt.cm.gray, interpolation='none')\nax0.axis('off')\nax1.imshow(swirled, cmap=plt.cm.gray, interpolation='none')\nax1.axis('off')\n\nplt.show()"
      ]
    }
  ],
  "metadata": {
    "kernelspec": {
      "display_name": "Python 3",
      "language": "python",
      "name": "python3"
    },
    "language_info": {
      "codemirror_mode": {
        "name": "ipython",
        "version": 3
      },
      "file_extension": ".py",
      "mimetype": "text/x-python",
      "name": "python",
      "nbconvert_exporter": "python",
      "pygments_lexer": "ipython3",
      "version": "3.6.8"
    }
  },
  "nbformat": 4,
  "nbformat_minor": 0
}