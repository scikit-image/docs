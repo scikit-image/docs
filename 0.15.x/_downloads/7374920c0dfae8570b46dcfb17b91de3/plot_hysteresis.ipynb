{
  "cells": [
    {
      "cell_type": "code",
      "execution_count": null,
      "metadata": {
        "collapsed": false
      },
      "outputs": [],
      "source": [
        "%matplotlib inline"
      ]
    },
    {
      "cell_type": "markdown",
      "metadata": {},
      "source": [
        "\n# Hysteresis thresholding\n\n\n*Hysteresis* is the lagging of an effect---a kind of inertia. In the\ncontext of thresholding, it means that areas above some *low* threshold\nare considered to be above the threshold *if* they are also connected\nto areas above a higher, more stringent, threshold. They can thus be\nseen as continuations of these high-confidence areas.\n\nBelow, we compare normal thresholding to hysteresis thresholding.\nNotice how hysteresis allows one to ignore \"noise\" outside of the coin\nedges.\n\n"
      ]
    },
    {
      "cell_type": "code",
      "execution_count": null,
      "metadata": {
        "collapsed": false
      },
      "outputs": [],
      "source": [
        "import matplotlib.pyplot as plt\nfrom skimage import data, filters\n\nfig, ax = plt.subplots(nrows=2, ncols=2)\n\nimage = data.coins()\nedges = filters.sobel(image)\n\nlow = 0.1\nhigh = 0.35\n\nlowt = (edges > low).astype(int)\nhight = (edges > high).astype(int)\nhyst = filters.apply_hysteresis_threshold(edges, low, high)\n\nax[0, 0].imshow(image, cmap='gray')\nax[0, 0].set_title('Original image')\n\nax[0, 1].imshow(edges, cmap='magma')\nax[0, 1].set_title('Sobel edges')\n\nax[1, 0].imshow(lowt, cmap='magma')\nax[1, 0].set_title('Low threshold')\n\nax[1, 1].imshow(hight + hyst, cmap='magma')\nax[1, 1].set_title('Hysteresis threshold')\n\nfor a in ax.ravel():\n    a.axis('off')\n\nplt.tight_layout()\n\nplt.show()"
      ]
    }
  ],
  "metadata": {
    "kernelspec": {
      "display_name": "Python 3",
      "language": "python",
      "name": "python3"
    },
    "language_info": {
      "codemirror_mode": {
        "name": "ipython",
        "version": 3
      },
      "file_extension": ".py",
      "mimetype": "text/x-python",
      "name": "python",
      "nbconvert_exporter": "python",
      "pygments_lexer": "ipython3",
      "version": "3.6.8"
    }
  },
  "nbformat": 4,
  "nbformat_minor": 0
}