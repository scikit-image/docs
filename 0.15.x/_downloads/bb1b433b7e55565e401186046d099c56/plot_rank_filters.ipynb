{
  "cells": [
    {
      "cell_type": "code",
      "execution_count": null,
      "metadata": {
        "collapsed": false
      },
      "outputs": [],
      "source": [
        "%matplotlib inline"
      ]
    },
    {
      "cell_type": "markdown",
      "metadata": {},
      "source": [
        "\n# Rank filters\n\n\nRank filters are non-linear filters using the local gray-level ordering to\ncompute the filtered value [1]_. This ensemble of filters share a common base:\nthe local gray-level histogram is computed on the neighborhood of a pixel\n(defined by a 2-D structuring element). If the filtered value is taken as the\nmiddle value of the histogram, we get the classical median filter.\n\nRank filters can be used for several purposes such as:\n\n* image quality enhancement\n  e.g. image smoothing, sharpening\n\n* image pre-processing\n  e.g. noise reduction, contrast enhancement\n\n* feature extraction\n  e.g. border detection, isolated point detection\n\n* post-processing\n  e.g. small object removal, object grouping, contour smoothing\n\nSome well known filters are specific cases of rank filters [1]_ e.g.\nmorphological dilation, morphological erosion, median filters.\n\nIn this example, we will see how to filter a gray-level image using some of the\nlinear and non-linear filters available in skimage. We use the ``camera`` image\nfrom ``skimage.data`` for all comparisons.\n\n.. [1] Pierre Soille, On morphological operators based on rank filters, Pattern\n       Recognition 35 (2002) 527-535, :DOI:`10.1016/S0031-3203(01)00047-4`\n\n"
      ]
    },
    {
      "cell_type": "code",
      "execution_count": null,
      "metadata": {
        "collapsed": false
      },
      "outputs": [],
      "source": [
        "import numpy as np\nimport matplotlib.pyplot as plt\n\nfrom skimage import img_as_ubyte\nfrom skimage import data\nfrom skimage.exposure import histogram\n\nnoisy_image = img_as_ubyte(data.camera())\nhist, hist_centers = histogram(noisy_image)\n\nfig, ax = plt.subplots(ncols=2, figsize=(10, 5))\n\nax[0].imshow(noisy_image, interpolation='nearest', cmap=plt.cm.gray)\nax[0].axis('off')\n\nax[1].plot(hist_centers, hist, lw=2)\nax[1].set_title('Histogram of grey values')\n\nplt.tight_layout()"
      ]
    },
    {
      "cell_type": "markdown",
      "metadata": {},
      "source": [
        "Noise removal\n=============\n\nSome noise is added to the image, 1% of pixels are randomly set to 255, 1%\nare randomly set to 0. The **median** filter is applied to remove the\nnoise.\n\n"
      ]
    },
    {
      "cell_type": "code",
      "execution_count": null,
      "metadata": {
        "collapsed": false
      },
      "outputs": [],
      "source": [
        "from skimage.filters.rank import median\nfrom skimage.morphology import disk\n\nnoise = np.random.random(noisy_image.shape)\nnoisy_image = img_as_ubyte(data.camera())\nnoisy_image[noise > 0.99] = 255\nnoisy_image[noise < 0.01] = 0\n\nfig, axes = plt.subplots(2, 2, figsize=(10, 10), sharex=True, sharey=True)\nax = axes.ravel()\n\nax[0].imshow(noisy_image, vmin=0, vmax=255, cmap=plt.cm.gray)\nax[0].set_title('Noisy image')\n\nax[1].imshow(median(noisy_image, disk(1)), vmin=0, vmax=255, cmap=plt.cm.gray)\nax[1].set_title('Median $r=1$')\n\nax[2].imshow(median(noisy_image, disk(5)), vmin=0, vmax=255, cmap=plt.cm.gray)\nax[2].set_title('Median $r=5$')\n\nax[3].imshow(median(noisy_image, disk(20)), vmin=0, vmax=255, cmap=plt.cm.gray)\nax[3].set_title('Median $r=20$')\n\nfor a in ax:\n    a.axis('off')\n\nplt.tight_layout()"
      ]
    },
    {
      "cell_type": "markdown",
      "metadata": {},
      "source": [
        "The added noise is efficiently removed, as the image defaults are small (1\npixel wide), a small filter radius is sufficient. As the radius is\nincreasing, objects with bigger sizes are filtered as well, such as the\ncamera tripod. The median filter is often used for noise removal because\nborders are preserved and e.g. salt and pepper noise typically does not\ndistort the gray-level.\n\nImage smoothing\n===============\n\nThe example hereunder shows how a local **mean** filter smooths the camera\nman image.\n\n"
      ]
    },
    {
      "cell_type": "code",
      "execution_count": null,
      "metadata": {
        "collapsed": false
      },
      "outputs": [],
      "source": [
        "from skimage.filters.rank import mean\n\nloc_mean = mean(noisy_image, disk(10))\n\nfig, ax = plt.subplots(ncols=2, figsize=(10, 5), sharex=True, sharey=True)\n\nax[0].imshow(noisy_image, vmin=0, vmax=255, cmap=plt.cm.gray)\nax[0].set_title('Original')\n\nax[1].imshow(loc_mean, vmin=0, vmax=255, cmap=plt.cm.gray)\nax[1].set_title('Local mean $r=10$')\n\nfor a in ax:\n    a.axis('off')\n\nplt.tight_layout()"
      ]
    },
    {
      "cell_type": "markdown",
      "metadata": {},
      "source": [
        "One may be interested in smoothing an image while preserving important\nborders (median filters already achieved this), here we use the\n**bilateral** filter that restricts the local neighborhood to pixel having\na gray-level similar to the central one.\n\n<div class=\"alert alert-info\"><h4>Note</h4><p>A different implementation is available for color images in\n    :py:func:`skimage.filters.denoise_bilateral`.</p></div>\n\n"
      ]
    },
    {
      "cell_type": "code",
      "execution_count": null,
      "metadata": {
        "collapsed": false
      },
      "outputs": [],
      "source": [
        "from skimage.filters.rank import mean_bilateral\n\nnoisy_image = img_as_ubyte(data.camera())\n\nbilat = mean_bilateral(noisy_image.astype(np.uint16), disk(20), s0=10, s1=10)\n\nfig, axes = plt.subplots(nrows=2, ncols=2, figsize=(10, 10),\n                         sharex='row', sharey='row')\nax = axes.ravel()\n\nax[0].imshow(noisy_image, cmap=plt.cm.gray)\nax[0].set_title('Original')\n\nax[1].imshow(bilat, cmap=plt.cm.gray)\nax[1].set_title('Bilateral mean')\n\nax[2].imshow(noisy_image[200:350, 350:450], cmap=plt.cm.gray)\n\nax[3].imshow(bilat[200:350, 350:450], cmap=plt.cm.gray)\n\nfor a in ax:\n    a.axis('off')\n\nplt.tight_layout()"
      ]
    },
    {
      "cell_type": "markdown",
      "metadata": {},
      "source": [
        "One can see that the large continuous part of the image (e.g. sky) is\nsmoothed whereas other details are preserved.\n\nContrast enhancement\n====================\n\nWe compare here how the global histogram equalization is applied locally.\n\nThe equalized image [2]_ has a roughly linear cumulative distribution\nfunction for each pixel neighborhood. The local version [3]_ of the\nhistogram equalization emphasizes every local gray-level variations.\n\n.. [2] https://en.wikipedia.org/wiki/Histogram_equalization\n.. [3] https://en.wikipedia.org/wiki/Adaptive_histogram_equalization\n\n"
      ]
    },
    {
      "cell_type": "code",
      "execution_count": null,
      "metadata": {
        "collapsed": false
      },
      "outputs": [],
      "source": [
        "from skimage import exposure\nfrom skimage.filters import rank\n\nnoisy_image = img_as_ubyte(data.camera())\n\n# equalize globally and locally\nglob = exposure.equalize_hist(noisy_image) * 255\nloc = rank.equalize(noisy_image, disk(20))\n\n# extract histogram for each image\nhist = np.histogram(noisy_image, bins=np.arange(0, 256))\nglob_hist = np.histogram(glob, bins=np.arange(0, 256))\nloc_hist = np.histogram(loc, bins=np.arange(0, 256))\n\nfig, axes = plt.subplots(nrows=3, ncols=2, figsize=(12, 12))\nax = axes.ravel()\n\nax[0].imshow(noisy_image, interpolation='nearest', cmap=plt.cm.gray)\nax[0].axis('off')\n\nax[1].plot(hist[1][:-1], hist[0], lw=2)\nax[1].set_title('Histogram of gray values')\n\nax[2].imshow(glob, interpolation='nearest', cmap=plt.cm.gray)\nax[2].axis('off')\n\nax[3].plot(glob_hist[1][:-1], glob_hist[0], lw=2)\nax[3].set_title('Histogram of gray values')\n\nax[4].imshow(loc, interpolation='nearest', cmap=plt.cm.gray)\nax[4].axis('off')\n\nax[5].plot(loc_hist[1][:-1], loc_hist[0], lw=2)\nax[5].set_title('Histogram of gray values')\n\nplt.tight_layout()"
      ]
    },
    {
      "cell_type": "markdown",
      "metadata": {},
      "source": [
        "Another way to maximize the number of gray-levels used for an image is to\napply a local auto-leveling, i.e. the gray-value of a pixel is\nproportionally remapped between local minimum and local maximum.\n\nThe following example shows how local auto-level enhances the camara man\npicture.\n\n"
      ]
    },
    {
      "cell_type": "code",
      "execution_count": null,
      "metadata": {
        "collapsed": false
      },
      "outputs": [],
      "source": [
        "from skimage.filters.rank import autolevel\n\nnoisy_image = img_as_ubyte(data.camera())\n\nauto = autolevel(noisy_image.astype(np.uint16), disk(20))\n\nfig, ax = plt.subplots(ncols=2, figsize=(10, 5), sharex=True, sharey=True)\n\nax[0].imshow(noisy_image, cmap=plt.cm.gray)\nax[0].set_title('Original')\n\nax[1].imshow(auto, cmap=plt.cm.gray)\nax[1].set_title('Local autolevel')\n\nfor a in ax:\n    a.axis('off')\n\nplt.tight_layout()"
      ]
    },
    {
      "cell_type": "markdown",
      "metadata": {},
      "source": [
        "This filter is very sensitive to local outliers, see the little white spot\nin the left part of the sky. This is due to a local maximum which is very\nhigh comparing to the rest of the neighborhood. One can moderate this using\nthe percentile version of the auto-level filter which uses given\npercentiles (one inferior, one superior) in place of local minimum and\nmaximum. The example below illustrates how the percentile parameters\ninfluence the local auto-level result.\n\n"
      ]
    },
    {
      "cell_type": "code",
      "execution_count": null,
      "metadata": {
        "collapsed": false
      },
      "outputs": [],
      "source": [
        "from skimage.filters.rank import autolevel_percentile\n\nimage = data.camera()\n\nselem = disk(20)\nloc_autolevel = autolevel(image, selem=selem)\nloc_perc_autolevel0 = autolevel_percentile(image, selem=selem, p0=.00, p1=1.0)\nloc_perc_autolevel1 = autolevel_percentile(image, selem=selem, p0=.01, p1=.99)\nloc_perc_autolevel2 = autolevel_percentile(image, selem=selem, p0=.05, p1=.95)\nloc_perc_autolevel3 = autolevel_percentile(image, selem=selem, p0=.1, p1=.9)\n\nfig, axes = plt.subplots(nrows=3, ncols=2, figsize=(10, 10),\n                         sharex=True, sharey=True)\nax = axes.ravel()\n\ntitle_list = ['Original',\n              'auto_level',\n              'auto-level 0%',\n              'auto-level 1%',\n              'auto-level 5%',\n              'auto-level 10%']\nimage_list = [image,\n              loc_autolevel,\n              loc_perc_autolevel0,\n              loc_perc_autolevel1,\n              loc_perc_autolevel2,\n              loc_perc_autolevel3]\n\nfor i in range(0, len(image_list)):\n    ax[i].imshow(image_list[i], cmap=plt.cm.gray, vmin=0, vmax=255)\n    ax[i].set_title(title_list[i])\n    ax[i].axis('off')\n\nplt.tight_layout()"
      ]
    },
    {
      "cell_type": "markdown",
      "metadata": {},
      "source": [
        "The morphological contrast enhancement filter replaces the central pixel by\nthe local maximum if the original pixel value is closest to local maximum,\notherwise by the minimum local.\n\n"
      ]
    },
    {
      "cell_type": "code",
      "execution_count": null,
      "metadata": {
        "collapsed": false
      },
      "outputs": [],
      "source": [
        "from skimage.filters.rank import enhance_contrast\n\nnoisy_image = img_as_ubyte(data.camera())\n\nenh = enhance_contrast(noisy_image, disk(5))\n\nfig, axes = plt.subplots(nrows=2, ncols=2, figsize=(10, 10),\n                         sharex='row', sharey='row')\nax = axes.ravel()\n\nax[0].imshow(noisy_image, cmap=plt.cm.gray)\nax[0].set_title('Original')\n\nax[1].imshow(enh, cmap=plt.cm.gray)\nax[1].set_title('Local morphological contrast enhancement')\n\nax[2].imshow(noisy_image[200:350, 350:450], cmap=plt.cm.gray)\n\nax[3].imshow(enh[200:350, 350:450], cmap=plt.cm.gray)\n\nfor a in ax:\n    a.axis('off')\n\nplt.tight_layout()"
      ]
    },
    {
      "cell_type": "markdown",
      "metadata": {},
      "source": [
        "The percentile version of the local morphological contrast enhancement uses\npercentile *p0* and *p1* instead of the local minimum and maximum.\n\n"
      ]
    },
    {
      "cell_type": "code",
      "execution_count": null,
      "metadata": {
        "collapsed": false
      },
      "outputs": [],
      "source": [
        "from skimage.filters.rank import enhance_contrast_percentile\n\nnoisy_image = img_as_ubyte(data.camera())\n\npenh = enhance_contrast_percentile(noisy_image, disk(5), p0=.1, p1=.9)\n\nfig, axes = plt.subplots(nrows=2, ncols=2, figsize=(10, 10),\n                         sharex='row', sharey='row')\nax = axes.ravel()\n\nax[0].imshow(noisy_image, cmap=plt.cm.gray)\nax[0].set_title('Original')\n\nax[1].imshow(penh, cmap=plt.cm.gray)\nax[1].set_title('Local percentile morphological\\n contrast enhancement')\n\nax[2].imshow(noisy_image[200:350, 350:450], cmap=plt.cm.gray)\n\nax[3].imshow(penh[200:350, 350:450], cmap=plt.cm.gray)\n\nfor a in ax:\n    a.axis('off')\n\nplt.tight_layout()"
      ]
    },
    {
      "cell_type": "markdown",
      "metadata": {},
      "source": [
        "Image threshold\n===============\n\nThe Otsu threshold [4]_ method can be applied locally using the local gray-\nlevel distribution. In the example below, for each pixel, an \"optimal\"\nthreshold is determined by maximizing the variance between two classes of\npixels of the local neighborhood defined by a structuring element.\n\nThe example compares the local threshold with the global threshold\n:py:func:`skimage.filters.threshold_otsu`.\n\n<div class=\"alert alert-info\"><h4>Note</h4><p>Local is much slower than global thresholding. A function for global\n    Otsu thresholding can be found in :\n    :py:func:`skimage.filters.threshold_otsu`.</p></div>\n\n.. [4] https://en.wikipedia.org/wiki/Otsu's_method\n\n"
      ]
    },
    {
      "cell_type": "code",
      "execution_count": null,
      "metadata": {
        "collapsed": false
      },
      "outputs": [],
      "source": [
        "from skimage.filters.rank import otsu\nfrom skimage.filters import threshold_otsu\n\np8 = data.page()\n\nradius = 10\nselem = disk(radius)\n\n# t_loc_otsu is an image\nt_loc_otsu = otsu(p8, selem)\nloc_otsu = p8 >= t_loc_otsu\n\n# t_glob_otsu is a scalar\nt_glob_otsu = threshold_otsu(p8)\nglob_otsu = p8 >= t_glob_otsu\n\nfig, axes = plt.subplots(nrows=2, ncols=2, figsize=(12, 12),\n                         sharex=True, sharey=True)\nax = axes.ravel()\n\nfig.colorbar(ax[0].imshow(p8, cmap=plt.cm.gray), ax=ax[0])\nax[0].set_title('Original')\n\nfig.colorbar(ax[1].imshow(t_loc_otsu, cmap=plt.cm.gray), ax=ax[1])\nax[1].set_title('Local Otsu ($r=%d$)' % radius)\n\nax[2].imshow(p8 >= t_loc_otsu, cmap=plt.cm.gray)\nax[2].set_title('Original >= local Otsu' % t_glob_otsu)\n\nax[3].imshow(glob_otsu, cmap=plt.cm.gray)\nax[3].set_title('Global Otsu ($t=%d$)' % t_glob_otsu)\n\nfor a in ax:\n    a.axis('off')\n\nplt.tight_layout()"
      ]
    },
    {
      "cell_type": "markdown",
      "metadata": {},
      "source": [
        "The following example shows how local Otsu thresholding handles a global\nlevel shift applied to a synthetic image.\n\n"
      ]
    },
    {
      "cell_type": "code",
      "execution_count": null,
      "metadata": {
        "collapsed": false
      },
      "outputs": [],
      "source": [
        "n = 100\ntheta = np.linspace(0, 10 * np.pi, n)\nx = np.sin(theta)\nm = (np.tile(x, (n, 1)) * np.linspace(0.1, 1, n) * 128 + 128).astype(np.uint8)\n\nradius = 10\nt = rank.otsu(m, disk(radius))\n\nfig, ax = plt.subplots(ncols=2, figsize=(10, 5),\n                       sharex=True, sharey=True)\n\nax[0].imshow(m, cmap=plt.cm.gray)\nax[0].set_title('Original')\n\nax[1].imshow(m >= t, interpolation='nearest', cmap=plt.cm.gray)\nax[1].set_title('Local Otsu ($r=%d$)' % radius)\n\nfor a in ax:\n    a.axis('off')\n\nplt.tight_layout()"
      ]
    },
    {
      "cell_type": "markdown",
      "metadata": {},
      "source": [
        "Image morphology\n================\n\nLocal maximum and local minimum are the base operators for gray-level\nmorphology.\n\nHere is an example of the classical morphological gray-level filters:\nopening, closing and morphological gradient.\n\n"
      ]
    },
    {
      "cell_type": "code",
      "execution_count": null,
      "metadata": {
        "collapsed": false
      },
      "outputs": [],
      "source": [
        "from skimage.filters.rank import maximum, minimum, gradient\n\nnoisy_image = img_as_ubyte(data.camera())\n\nclosing = maximum(minimum(noisy_image, disk(5)), disk(5))\nopening = minimum(maximum(noisy_image, disk(5)), disk(5))\ngrad = gradient(noisy_image, disk(5))\n\n# display results\nfig, axes = plt.subplots(nrows=2, ncols=2, figsize=(10, 10),\n                         sharex=True, sharey=True)\nax = axes.ravel()\n\nax[0].imshow(noisy_image, cmap=plt.cm.gray)\nax[0].set_title('Original')\n\nax[1].imshow(closing, cmap=plt.cm.gray)\nax[1].set_title('Gray-level closing')\n\nax[2].imshow(opening, cmap=plt.cm.gray)\nax[2].set_title('Gray-level opening')\n\nax[3].imshow(grad, cmap=plt.cm.gray)\nax[3].set_title('Morphological gradient')\n\nfor a in ax:\n    a.axis('off')\n\nplt.tight_layout()"
      ]
    },
    {
      "cell_type": "markdown",
      "metadata": {},
      "source": [
        "Feature extraction\n===================\n\nLocal histograms can be exploited to compute local entropy, which is\nrelated to the local image complexity. Entropy is computed using base 2\nlogarithm i.e. the filter returns the minimum number of bits needed to\nencode local gray-level distribution.\n\n:py:func:`skimage.rank.entropy` returns the local entropy on a given\nstructuring element. The following example shows applies this filter\non 8- and 16-bit images.\n\n<div class=\"alert alert-info\"><h4>Note</h4><p>to better use the available image bit, the function returns 10x entropy\n    for 8-bit images and 1000x entropy for 16-bit images.</p></div>\n\n"
      ]
    },
    {
      "cell_type": "code",
      "execution_count": null,
      "metadata": {
        "collapsed": false
      },
      "outputs": [],
      "source": [
        "from skimage import data\nfrom skimage.filters.rank import entropy\nfrom skimage.morphology import disk\nimport numpy as np\nimport matplotlib.pyplot as plt\n\nimage = data.camera()\n\nfig, ax = plt.subplots(ncols=2, figsize=(12, 6), sharex=True, sharey=True)\n\nfig.colorbar(ax[0].imshow(image, cmap=plt.cm.gray), ax=ax[0])\nax[0].set_title('Image')\n\nfig.colorbar(ax[1].imshow(entropy(image, disk(5)), cmap=plt.cm.gray), ax=ax[1])\nax[1].set_title('Entropy')\n\nfor a in ax:\n    a.axis('off')\n\nplt.tight_layout()"
      ]
    },
    {
      "cell_type": "markdown",
      "metadata": {},
      "source": [
        "Implementation\n==============\n\nThe central part of the ``skimage.rank`` filters is build on a sliding window\nthat updates the local gray-level histogram. This approach limits the\nalgorithm complexity to O(n) where n is the number of image pixels. The\ncomplexity is also limited with respect to the structuring element size.\n\nIn the following we compare the performance of different implementations\navailable in ``skimage``.\n\n"
      ]
    },
    {
      "cell_type": "code",
      "execution_count": null,
      "metadata": {
        "collapsed": false
      },
      "outputs": [],
      "source": [
        "from time import time\n\nfrom scipy.ndimage import percentile_filter\nfrom skimage.morphology import dilation\nfrom skimage.filters.rank import median, maximum\n\n\ndef exec_and_timeit(func):\n    \"\"\"Decorator that returns both function results and execution time.\"\"\"\n    def wrapper(*arg):\n        t1 = time()\n        res = func(*arg)\n        t2 = time()\n        ms = (t2 - t1) * 1000.0\n        return (res, ms)\n    return wrapper\n\n\n@exec_and_timeit\ndef cr_med(image, selem):\n    return median(image=image, selem=selem)\n\n\n@exec_and_timeit\ndef cr_max(image, selem):\n    return maximum(image=image, selem=selem)\n\n\n@exec_and_timeit\ndef cm_dil(image, selem):\n    return dilation(image=image, selem=selem)\n\n\n@exec_and_timeit\ndef ndi_med(image, n):\n    return percentile_filter(image, 50, size=n * 2 - 1)"
      ]
    },
    {
      "cell_type": "markdown",
      "metadata": {},
      "source": [
        "Comparison between\n\n* ``filters.rank.maximum``\n* ``morphology.dilate``\n\non increasing structuring element size:\n\n"
      ]
    },
    {
      "cell_type": "code",
      "execution_count": null,
      "metadata": {
        "collapsed": false
      },
      "outputs": [],
      "source": [
        "a = data.camera()\n\nrec = []\ne_range = range(1, 20, 2)\nfor r in e_range:\n    elem = disk(r + 1)\n    rc, ms_rc = cr_max(a, elem)\n    rcm, ms_rcm = cm_dil(a, elem)\n    rec.append((ms_rc, ms_rcm))\n\nrec = np.asarray(rec)\n\nfig, ax = plt.subplots(figsize=(10, 10), sharey=True)\nax.set_title('Performance with respect to element size')\nax.set_ylabel('Time (ms)')\nax.set_xlabel('Element radius')\nax.plot(e_range, rec)\nax.legend(['filters.rank.maximum', 'morphology.dilate'])\n\nplt.tight_layout()"
      ]
    },
    {
      "cell_type": "markdown",
      "metadata": {},
      "source": [
        "and increasing image size:\n\n"
      ]
    },
    {
      "cell_type": "code",
      "execution_count": null,
      "metadata": {
        "collapsed": false
      },
      "outputs": [],
      "source": [
        "r = 9\nelem = disk(r + 1)\n\nrec = []\ns_range = range(100, 1000, 100)\nfor s in s_range:\n    a = (np.random.random((s, s)) * 256).astype(np.uint8)\n    (rc, ms_rc) = cr_max(a, elem)\n    (rcm, ms_rcm) = cm_dil(a, elem)\n    rec.append((ms_rc, ms_rcm))\n\nrec = np.asarray(rec)\n\nfig, ax = plt.subplots()\nax.set_title('Performance with respect to image size')\nax.set_ylabel('Time (ms)')\nax.set_xlabel('Image size')\nax.plot(s_range, rec)\nax.legend(['filters.rank.maximum', 'morphology.dilate'])\n\nplt.tight_layout()"
      ]
    },
    {
      "cell_type": "markdown",
      "metadata": {},
      "source": [
        "Comparison between:\n\n* ``filters.rank.median``\n* ``scipy.ndimage.percentile``\n\non increasing structuring element size:\n\n"
      ]
    },
    {
      "cell_type": "code",
      "execution_count": null,
      "metadata": {
        "collapsed": false
      },
      "outputs": [],
      "source": [
        "a = data.camera()\n\nrec = []\ne_range = range(2, 30, 4)\nfor r in e_range:\n    elem = disk(r + 1)\n    rc, ms_rc = cr_med(a, elem)\n    rndi, ms_ndi = ndi_med(a, r)\n    rec.append((ms_rc, ms_ndi))\n\nrec = np.asarray(rec)\n\nfig, ax = plt.subplots()\nax.set_title('Performance with respect to element size')\nax.plot(e_range, rec)\nax.legend(['filters.rank.median', 'scipy.ndimage.percentile'])\nax.set_ylabel('Time (ms)')\nax.set_xlabel('Element radius')"
      ]
    },
    {
      "cell_type": "markdown",
      "metadata": {},
      "source": [
        "Comparison of outcome of the three methods:\n\n"
      ]
    },
    {
      "cell_type": "code",
      "execution_count": null,
      "metadata": {
        "collapsed": false
      },
      "outputs": [],
      "source": [
        "fig, ax = plt.subplots(ncols=2, figsize=(10, 5), sharex=True, sharey=True)\n\nax[0].set_title('filters.rank.median')\nax[0].imshow(rc, cmap=plt.cm.gray)\n\nax[1].set_title('scipy.ndimage.percentile')\nax[1].imshow(rndi, cmap=plt.cm.gray)\n\nfor a in ax:\n    a.axis('off')\n\nplt.tight_layout()"
      ]
    },
    {
      "cell_type": "markdown",
      "metadata": {},
      "source": [
        "and increasing image size:\n\n"
      ]
    },
    {
      "cell_type": "code",
      "execution_count": null,
      "metadata": {
        "collapsed": false
      },
      "outputs": [],
      "source": [
        "r = 9\nelem = disk(r + 1)\n\nrec = []\ns_range = [100, 200, 500, 1000]\nfor s in s_range:\n    a = (np.random.random((s, s)) * 256).astype(np.uint8)\n    (rc, ms_rc) = cr_med(a, elem)\n    rndi, ms_ndi = ndi_med(a, r)\n    rec.append((ms_rc, ms_ndi))\n\nrec = np.asarray(rec)\n\nfig, ax = plt.subplots()\nax.set_title('Performance with respect to image size')\nax.plot(s_range, rec)\nax.legend(['filters.rank.median', 'scipy.ndimage.percentile'])\nax.set_ylabel('Time (ms)')\nax.set_xlabel('Image size')\n\nplt.tight_layout()\n\nplt.show()"
      ]
    }
  ],
  "metadata": {
    "kernelspec": {
      "display_name": "Python 3",
      "language": "python",
      "name": "python3"
    },
    "language_info": {
      "codemirror_mode": {
        "name": "ipython",
        "version": 3
      },
      "file_extension": ".py",
      "mimetype": "text/x-python",
      "name": "python",
      "nbconvert_exporter": "python",
      "pygments_lexer": "ipython3",
      "version": "3.6.8"
    }
  },
  "nbformat": 4,
  "nbformat_minor": 0
}