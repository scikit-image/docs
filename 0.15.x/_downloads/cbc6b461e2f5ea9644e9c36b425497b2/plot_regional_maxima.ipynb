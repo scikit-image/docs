{
  "cells": [
    {
      "cell_type": "code",
      "execution_count": null,
      "metadata": {
        "collapsed": false
      },
      "outputs": [],
      "source": [
        "%matplotlib inline"
      ]
    },
    {
      "cell_type": "markdown",
      "metadata": {},
      "source": [
        "\n# Filtering regional maxima\n\n\nHere, we use morphological reconstruction to create a background image, which\nwe can subtract from the original image to isolate bright features (regional\nmaxima).\n\nFirst we try reconstruction by dilation starting at the edges of the image. We\ninitialize a seed image to the minimum intensity of the image, and set its\nborder to be the pixel values in the original image. These maximal pixels will\nget dilated in order to reconstruct the background image.\n\n\n"
      ]
    },
    {
      "cell_type": "code",
      "execution_count": null,
      "metadata": {
        "collapsed": false
      },
      "outputs": [],
      "source": [
        "import numpy as np\nimport matplotlib.pyplot as plt\n\nfrom scipy.ndimage import gaussian_filter\nfrom skimage import data\nfrom skimage import img_as_float\nfrom skimage.morphology import reconstruction\n\n# Convert to float: Important for subtraction later which won't work with uint8\nimage = img_as_float(data.coins())\nimage = gaussian_filter(image, 1)\n\nseed = np.copy(image)\nseed[1:-1, 1:-1] = image.min()\nmask = image\n\ndilated = reconstruction(seed, mask, method='dilation')"
      ]
    },
    {
      "cell_type": "markdown",
      "metadata": {},
      "source": [
        "Subtracting the dilated image leaves an image with just the coins and a\nflat, black background, as shown below.\n\n"
      ]
    },
    {
      "cell_type": "code",
      "execution_count": null,
      "metadata": {
        "collapsed": false
      },
      "outputs": [],
      "source": [
        "fig, (ax0, ax1, ax2) = plt.subplots(nrows=1,\n                                    ncols=3,\n                                    figsize=(8, 2.5),\n                                    sharex=True,\n                                    sharey=True)\n\nax0.imshow(image, cmap='gray')\nax0.set_title('original image')\nax0.axis('off')\n\nax1.imshow(dilated, vmin=image.min(), vmax=image.max(), cmap='gray')\nax1.set_title('dilated')\nax1.axis('off')\n\nax2.imshow(image - dilated, cmap='gray')\nax2.set_title('image - dilated')\nax2.axis('off')\n\nfig.tight_layout()"
      ]
    },
    {
      "cell_type": "markdown",
      "metadata": {},
      "source": [
        "Although the features (i.e. the coins) are clearly isolated, the coins\nsurrounded by a bright background in the original image are dimmer in the\nsubtracted image. We can attempt to correct this using a different seed\nimage.\n\nInstead of creating a seed image with maxima along the image border, we can\nuse the features of the image itself to seed the reconstruction process.\nHere, the seed image is the original image minus a fixed value, ``h``.\n\n"
      ]
    },
    {
      "cell_type": "code",
      "execution_count": null,
      "metadata": {
        "collapsed": false
      },
      "outputs": [],
      "source": [
        "h = 0.4\nseed = image - h\ndilated = reconstruction(seed, mask, method='dilation')\nhdome = image - dilated"
      ]
    },
    {
      "cell_type": "markdown",
      "metadata": {},
      "source": [
        "To get a feel for the reconstruction process, we plot the intensity of the\nmask, seed, and dilated images along a slice of the image (indicated by red\nline).\n\n"
      ]
    },
    {
      "cell_type": "code",
      "execution_count": null,
      "metadata": {
        "collapsed": false
      },
      "outputs": [],
      "source": [
        "fig, (ax0, ax1, ax2) = plt.subplots(nrows=1, ncols=3, figsize=(8, 2.5))\nyslice = 197\n\nax0.plot(mask[yslice], '0.5', label='mask')\nax0.plot(seed[yslice], 'k', label='seed')\nax0.plot(dilated[yslice], 'r', label='dilated')\nax0.set_ylim(-0.2, 2)\nax0.set_title('image slice')\nax0.set_xticks([])\nax0.legend()\n\nax1.imshow(dilated, vmin=image.min(), vmax=image.max(), cmap='gray')\nax1.axhline(yslice, color='r', alpha=0.4)\nax1.set_title('dilated')\nax1.axis('off')\n\nax2.imshow(hdome, cmap='gray')\nax2.axhline(yslice, color='r', alpha=0.4)\nax2.set_title('image - dilated')\nax2.axis('off')\n\nfig.tight_layout()\nplt.show()"
      ]
    },
    {
      "cell_type": "markdown",
      "metadata": {},
      "source": [
        "As you can see in the image slice, each coin is given a different baseline\nintensity in the reconstructed image; this is because we used the local\nintensity (shifted by ``h``) as a seed value. As a result, the coins in the\nsubtracted image have similar pixel intensities. The final result is known\nas the h-dome of an image since this tends to isolate regional maxima of\nheight ``h``. This operation is particularly useful when your images are\nunevenly illuminated.\n\n"
      ]
    }
  ],
  "metadata": {
    "kernelspec": {
      "display_name": "Python 3",
      "language": "python",
      "name": "python3"
    },
    "language_info": {
      "codemirror_mode": {
        "name": "ipython",
        "version": 3
      },
      "file_extension": ".py",
      "mimetype": "text/x-python",
      "name": "python",
      "nbconvert_exporter": "python",
      "pygments_lexer": "ipython3",
      "version": "3.6.8"
    }
  },
  "nbformat": 4,
  "nbformat_minor": 0
}