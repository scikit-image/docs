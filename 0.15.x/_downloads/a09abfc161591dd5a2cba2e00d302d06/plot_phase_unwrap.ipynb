{
  "cells": [
    {
      "cell_type": "code",
      "execution_count": null,
      "metadata": {
        "collapsed": false
      },
      "outputs": [],
      "source": [
        "%matplotlib inline"
      ]
    },
    {
      "cell_type": "markdown",
      "metadata": {},
      "source": [
        "\n# Phase Unwrapping\n\n\nSome signals can only be observed modulo 2*pi, and this can also apply to\ntwo- and three dimensional images. In these cases phase unwrapping is\nneeded to recover the underlying, unwrapped signal. In this example we will\ndemonstrate an algorithm [1]_ implemented in ``skimage`` at work for such a\nproblem. One-, two- and three dimensional images can all be unwrapped using\nskimage. Here we will demonstrate phase unwrapping in the two dimensional case.\n\n"
      ]
    },
    {
      "cell_type": "code",
      "execution_count": null,
      "metadata": {
        "collapsed": false
      },
      "outputs": [],
      "source": [
        "import numpy as np\nfrom matplotlib import pyplot as plt\nfrom skimage import data, img_as_float, color, exposure\nfrom skimage.restoration import unwrap_phase\n\n\n# Load an image as a floating-point grayscale\nimage = color.rgb2gray(img_as_float(data.chelsea()))\n# Scale the image to [0, 4*pi]\nimage = exposure.rescale_intensity(image, out_range=(0, 4 * np.pi))\n# Create a phase-wrapped image in the interval [-pi, pi)\nimage_wrapped = np.angle(np.exp(1j * image))\n# Perform phase unwrapping\nimage_unwrapped = unwrap_phase(image_wrapped)\n\nfig, ax = plt.subplots(2, 2, sharex=True, sharey=True)\nax1, ax2, ax3, ax4 = ax.ravel()\n\nfig.colorbar(ax1.imshow(image, cmap='gray', vmin=0, vmax=4 * np.pi), ax=ax1)\nax1.set_title('Original')\n\nfig.colorbar(ax2.imshow(image_wrapped, cmap='gray', vmin=-np.pi, vmax=np.pi),\n             ax=ax2)\nax2.set_title('Wrapped phase')\n\nfig.colorbar(ax3.imshow(image_unwrapped, cmap='gray'), ax=ax3)\nax3.set_title('After phase unwrapping')\n\nfig.colorbar(ax4.imshow(image_unwrapped - image, cmap='gray'), ax=ax4)\nax4.set_title('Unwrapped minus original')"
      ]
    },
    {
      "cell_type": "markdown",
      "metadata": {},
      "source": [
        "The unwrapping procedure accepts masked arrays, and can also optionally\nassume cyclic boundaries to connect edges of an image. In the example below,\nwe study a simple phase ramp which has been split in two by masking\na row of the image.\n\n"
      ]
    },
    {
      "cell_type": "code",
      "execution_count": null,
      "metadata": {
        "collapsed": false
      },
      "outputs": [],
      "source": [
        "# Create a simple ramp\nimage = np.ones((100, 100)) * np.linspace(0, 8 * np.pi, 100).reshape((-1, 1))\n# Mask the image to split it in two horizontally\nmask = np.zeros_like(image, dtype=np.bool)\nmask[image.shape[0] // 2, :] = True\n\nimage_wrapped = np.ma.array(np.angle(np.exp(1j * image)), mask=mask)\n# Unwrap image without wrap around\nimage_unwrapped_no_wrap_around = unwrap_phase(image_wrapped,\n                                              wrap_around=(False, False))\n# Unwrap with wrap around enabled for the 0th dimension\nimage_unwrapped_wrap_around = unwrap_phase(image_wrapped,\n                                           wrap_around=(True, False))\n\nfig, ax = plt.subplots(2, 2)\nax1, ax2, ax3, ax4 = ax.ravel()\n\nfig.colorbar(ax1.imshow(np.ma.array(image, mask=mask), cmap='rainbow'), ax=ax1)\nax1.set_title('Original')\n\nfig.colorbar(ax2.imshow(image_wrapped, cmap='rainbow', vmin=-np.pi, vmax=np.pi),\n             ax=ax2)\nax2.set_title('Wrapped phase')\n\nfig.colorbar(ax3.imshow(image_unwrapped_no_wrap_around, cmap='rainbow'),\n             ax=ax3)\nax3.set_title('Unwrapped without wrap_around')\n\nfig.colorbar(ax4.imshow(image_unwrapped_wrap_around, cmap='rainbow'), ax=ax4)\nax4.set_title('Unwrapped with wrap_around')\n\nplt.show()"
      ]
    },
    {
      "cell_type": "markdown",
      "metadata": {},
      "source": [
        "In the figures above, the masked row can be seen as a white line across\nthe image. The difference between the two unwrapped images in the bottom row\nis clear: Without unwrapping (lower left), the regions above and below the\nmasked boundary do not interact at all, resulting in an offset between the\ntwo regions of an arbitrary integer times two pi. We could just as well have\nunwrapped the regions as two separate images. With wrap around enabled for the\nvertical direction (lower right), the situation changes: Unwrapping paths are\nnow allowed to pass from the bottom to the top of the image and vice versa, in\neffect providing a way to determine the offset between the two regions.\n\nReferences\n----------\n\n.. [1] Miguel Arevallilo Herraez, David R. Burton, Michael J. Lalor,\n       and Munther A. Gdeisat, \"Fast two-dimensional phase-unwrapping\n       algorithm based on sorting by reliability following a noncontinuous\n       path\", Journal Applied Optics, Vol. 41, No. 35, pp. 7437, 2002\n\n"
      ]
    }
  ],
  "metadata": {
    "kernelspec": {
      "display_name": "Python 3",
      "language": "python",
      "name": "python3"
    },
    "language_info": {
      "codemirror_mode": {
        "name": "ipython",
        "version": 3
      },
      "file_extension": ".py",
      "mimetype": "text/x-python",
      "name": "python",
      "nbconvert_exporter": "python",
      "pygments_lexer": "ipython3",
      "version": "3.6.8"
    }
  },
  "nbformat": 4,
  "nbformat_minor": 0
}