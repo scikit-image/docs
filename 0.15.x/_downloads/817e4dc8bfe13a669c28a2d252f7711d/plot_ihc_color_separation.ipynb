{
  "cells": [
    {
      "cell_type": "code",
      "execution_count": null,
      "metadata": {
        "collapsed": false
      },
      "outputs": [],
      "source": [
        "%matplotlib inline"
      ]
    },
    {
      "cell_type": "markdown",
      "metadata": {},
      "source": [
        "\n# Immunohistochemical staining colors separation\n\n\nColor deconvolution consists of the separation of features by their colors.\n\nIn this example we separate the immunohistochemical (IHC) staining from the\nhematoxylin counterstaining. The separation is achieved with the method\ndescribed in [1]_, known as \"color deconvolution\".\n\nThe IHC staining expression of the FHL2 protein is here revealed with\nDiaminobenzidine (DAB) which gives a brown color.\n\n\n.. [1] A. C. Ruifrok and D. A. Johnston, \"Quantification of histochemical\n       staining by color deconvolution.,\" Analytical and quantitative\n       cytology and histology / the International Academy of Cytology [and]\n       American Society of Cytology, vol. 23, no. 4, pp. 291-9, Aug. 2001.\n\n\n"
      ]
    },
    {
      "cell_type": "code",
      "execution_count": null,
      "metadata": {
        "collapsed": false
      },
      "outputs": [],
      "source": [
        "import matplotlib.pyplot as plt\n\nfrom skimage import data\nfrom skimage.color import rgb2hed\nfrom matplotlib.colors import LinearSegmentedColormap\n\n# Create an artificial color close to the original one\ncmap_hema = LinearSegmentedColormap.from_list('mycmap', ['white', 'navy'])\ncmap_dab = LinearSegmentedColormap.from_list('mycmap', ['white',\n                                             'saddlebrown'])\ncmap_eosin = LinearSegmentedColormap.from_list('mycmap', ['darkviolet',\n                                               'white'])\n\nihc_rgb = data.immunohistochemistry()\nihc_hed = rgb2hed(ihc_rgb)\n\nfig, axes = plt.subplots(2, 2, figsize=(7, 6), sharex=True, sharey=True)\nax = axes.ravel()\n\nax[0].imshow(ihc_rgb)\nax[0].set_title(\"Original image\")\n\nax[1].imshow(ihc_hed[:, :, 0], cmap=cmap_hema)\nax[1].set_title(\"Hematoxylin\")\n\nax[2].imshow(ihc_hed[:, :, 1], cmap=cmap_eosin)\nax[2].set_title(\"Eosin\")\n\nax[3].imshow(ihc_hed[:, :, 2], cmap=cmap_dab)\nax[3].set_title(\"DAB\")\n\nfor a in ax.ravel():\n    a.axis('off')\n\nfig.tight_layout()"
      ]
    },
    {
      "cell_type": "markdown",
      "metadata": {},
      "source": [
        "Now we can easily manipulate the hematoxylin and DAB \"channels\":\n\n"
      ]
    },
    {
      "cell_type": "code",
      "execution_count": null,
      "metadata": {
        "collapsed": false
      },
      "outputs": [],
      "source": [
        "import numpy as np\nfrom skimage.exposure import rescale_intensity\n\n# Rescale hematoxylin and DAB signals and give them a fluorescence look\nh = rescale_intensity(ihc_hed[:, :, 0], out_range=(0, 1))\nd = rescale_intensity(ihc_hed[:, :, 2], out_range=(0, 1))\nzdh = np.dstack((np.zeros_like(h), d, h))\n\nfig = plt.figure()\naxis = plt.subplot(1, 1, 1, sharex=ax[0], sharey=ax[0])\naxis.imshow(zdh)\naxis.set_title(\"Stain separated image (rescaled)\")\naxis.axis('off')\nplt.show()"
      ]
    }
  ],
  "metadata": {
    "kernelspec": {
      "display_name": "Python 3",
      "language": "python",
      "name": "python3"
    },
    "language_info": {
      "codemirror_mode": {
        "name": "ipython",
        "version": 3
      },
      "file_extension": ".py",
      "mimetype": "text/x-python",
      "name": "python",
      "nbconvert_exporter": "python",
      "pygments_lexer": "ipython3",
      "version": "3.6.8"
    }
  },
  "nbformat": 4,
  "nbformat_minor": 0
}