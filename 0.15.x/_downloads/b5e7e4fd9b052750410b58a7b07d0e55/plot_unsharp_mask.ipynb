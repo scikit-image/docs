{
  "cells": [
    {
      "cell_type": "code",
      "execution_count": null,
      "metadata": {
        "collapsed": false
      },
      "outputs": [],
      "source": [
        "%matplotlib inline"
      ]
    },
    {
      "cell_type": "markdown",
      "metadata": {},
      "source": [
        "\n# Unsharp masking\n\n\nUnsharp masking is a linear image processing technique which sharpens\nthe image. The sharp details are identified as a difference between\nthe original image and its blurred version. These details are then scaled,\nand added back to the original image:\n\n    enhanced image = original + amount * (original - blurred)\n\nThe blurring step could use any image filter method, e.g. median filter,\nbut traditionally a gaussian filter is used. The radius parameter in the\nunsharp masking filter refers to the sigma parameter of the gaussian filter.\n\nThis example shows the effect of different radius and amount parameters.\n\n\n"
      ]
    },
    {
      "cell_type": "code",
      "execution_count": null,
      "metadata": {
        "collapsed": false
      },
      "outputs": [],
      "source": [
        "from skimage import data\nfrom skimage.filters import unsharp_mask\nimport matplotlib.pyplot as plt\n\nimage = data.moon()\nresult_1 = unsharp_mask(image, radius=1, amount=1)\nresult_2 = unsharp_mask(image, radius=5, amount=2)\nresult_3 = unsharp_mask(image, radius=20, amount=1)\n\nfig, axes = plt.subplots(nrows=2, ncols=2,\n                         sharex=True, sharey=True, figsize=(10, 10))\nax = axes.ravel()\n\nax[0].imshow(image, cmap=plt.cm.gray)\nax[0].set_title('Original image')\nax[1].imshow(result_1, cmap=plt.cm.gray)\nax[1].set_title('Enhanced image, radius=1, amount=1.0')\nax[2].imshow(result_2, cmap=plt.cm.gray)\nax[2].set_title('Enhanced image, radius=5, amount=2.0')\nax[3].imshow(result_3, cmap=plt.cm.gray)\nax[3].set_title('Enhanced image, radius=20, amount=1.0')\n\nfor a in ax:\n    a.axis('off')\nfig.tight_layout()\nplt.show()"
      ]
    }
  ],
  "metadata": {
    "kernelspec": {
      "display_name": "Python 3",
      "language": "python",
      "name": "python3"
    },
    "language_info": {
      "codemirror_mode": {
        "name": "ipython",
        "version": 3
      },
      "file_extension": ".py",
      "mimetype": "text/x-python",
      "name": "python",
      "nbconvert_exporter": "python",
      "pygments_lexer": "ipython3",
      "version": "3.6.8"
    }
  },
  "nbformat": 4,
  "nbformat_minor": 0
}