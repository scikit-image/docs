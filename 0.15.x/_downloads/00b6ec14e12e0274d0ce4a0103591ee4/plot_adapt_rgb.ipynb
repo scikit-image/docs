{
  "cells": [
    {
      "cell_type": "code",
      "execution_count": null,
      "metadata": {
        "collapsed": false
      },
      "outputs": [],
      "source": [
        "%matplotlib inline"
      ]
    },
    {
      "cell_type": "markdown",
      "metadata": {},
      "source": [
        "\n# Adapting gray-scale filters to RGB images\n\n\nThere are many filters that are designed to work with gray-scale images but not\nwith color images. To simplify the process of creating functions that can adapt\nto RGB images, scikit-image provides the ``adapt_rgb`` decorator.\n\nTo actually use the ``adapt_rgb`` decorator, you have to decide how you want to\nadapt the RGB image for use with the gray-scale filter. There are two\npre-defined handlers:\n\n``each_channel``\n    Pass each of the RGB channels to the filter one-by-one, and stitch the\n    results back into an RGB image.\n``hsv_value``\n    Convert the RGB image to HSV and pass the value channel to the filter.\n    The filtered result is inserted back into the HSV image and converted\n    back to RGB.\n\nBelow, we demonstrate the use of ``adapt_rgb`` on a couple of gray-scale\nfilters:\n\n"
      ]
    },
    {
      "cell_type": "code",
      "execution_count": null,
      "metadata": {
        "collapsed": false
      },
      "outputs": [],
      "source": [
        "from skimage.color.adapt_rgb import adapt_rgb, each_channel, hsv_value\nfrom skimage import filters\n\n\n@adapt_rgb(each_channel)\ndef sobel_each(image):\n    return filters.sobel(image)\n\n\n@adapt_rgb(hsv_value)\ndef sobel_hsv(image):\n    return filters.sobel(image)"
      ]
    },
    {
      "cell_type": "markdown",
      "metadata": {},
      "source": [
        "We can use these functions as we would normally use them, but now they work\nwith both gray-scale and color images. Let's plot the results with a color\nimage:\n\n"
      ]
    },
    {
      "cell_type": "code",
      "execution_count": null,
      "metadata": {
        "collapsed": false
      },
      "outputs": [],
      "source": [
        "from skimage import data\nfrom skimage.exposure import rescale_intensity\nimport matplotlib.pyplot as plt\n\nimage = data.astronaut()\n\nfig, (ax_each, ax_hsv) = plt.subplots(ncols=2, figsize=(14, 7))\n\n# We use 1 - sobel_each(image) but this won't work if image is not normalized\nax_each.imshow(rescale_intensity(1 - sobel_each(image)))\nax_each.set_xticks([]), ax_each.set_yticks([])\nax_each.set_title(\"Sobel filter computed\\n on individual RGB channels\")\n\n# We use 1 - sobel_hsv(image) but this won't work if image is not normalized\nax_hsv.imshow(rescale_intensity(1 - sobel_hsv(image)))\nax_hsv.set_xticks([]), ax_hsv.set_yticks([])\nax_hsv.set_title(\"Sobel filter computed\\n on (V)alue converted image (HSV)\")"
      ]
    },
    {
      "cell_type": "markdown",
      "metadata": {},
      "source": [
        "Notice that the result for the value-filtered image preserves the color of\nthe original image, but channel filtered image combines in a more\nsurprising way. In other common cases, smoothing for example, the channel\nfiltered image will produce a better result than the value-filtered image.\n\nYou can also create your own handler functions for ``adapt_rgb``. To do so,\njust create a function with the following signature::\n\n    def handler(image_filter, image, *args, **kwargs):\n        # Manipulate RGB image here...\n        image = image_filter(image, *args, **kwargs)\n        # Manipulate filtered image here...\n        return image\n\nNote that ``adapt_rgb`` handlers are written for filters where the image is\nthe first argument.\n\nAs a very simple example, we can just convert any RGB image to grayscale\nand then return the filtered result:\n\n"
      ]
    },
    {
      "cell_type": "code",
      "execution_count": null,
      "metadata": {
        "collapsed": false
      },
      "outputs": [],
      "source": [
        "from skimage.color import rgb2gray\n\n\ndef as_gray(image_filter, image, *args, **kwargs):\n    gray_image = rgb2gray(image)\n    return image_filter(gray_image, *args, **kwargs)"
      ]
    },
    {
      "cell_type": "markdown",
      "metadata": {},
      "source": [
        "It's important to create a signature that uses ``*args`` and ``**kwargs``\nto pass arguments along to the filter so that the decorated function is\nallowed to have any number of positional and keyword arguments.\n\nFinally, we can use this handler with ``adapt_rgb`` just as before:\n\n"
      ]
    },
    {
      "cell_type": "code",
      "execution_count": null,
      "metadata": {
        "collapsed": false
      },
      "outputs": [],
      "source": [
        "@adapt_rgb(as_gray)\ndef sobel_gray(image):\n    return filters.sobel(image)\n\n\nfig, ax = plt.subplots(ncols=1, nrows=1, figsize=(7, 7))\n\n# We use 1 - sobel_gray(image) but this won't work if image is not normalized\nax.imshow(rescale_intensity(1 - sobel_gray(image)), cmap=plt.cm.gray)\nax.set_xticks([]), ax.set_yticks([])\nax.set_title(\"Sobel filter computed\\n on the converted grayscale image\")\n\nplt.show()"
      ]
    },
    {
      "cell_type": "markdown",
      "metadata": {},
      "source": [
        "<div class=\"alert alert-info\"><h4>Note</h4><p>A very simple check of the array shape is used for detecting RGB\n    images, so ``adapt_rgb`` is not recommended for functions that support\n    3D volumes or color images in non-RGB spaces.</p></div>\n\n"
      ]
    }
  ],
  "metadata": {
    "kernelspec": {
      "display_name": "Python 3",
      "language": "python",
      "name": "python3"
    },
    "language_info": {
      "codemirror_mode": {
        "name": "ipython",
        "version": 3
      },
      "file_extension": ".py",
      "mimetype": "text/x-python",
      "name": "python",
      "nbconvert_exporter": "python",
      "pygments_lexer": "ipython3",
      "version": "3.6.8"
    }
  },
  "nbformat": 4,
  "nbformat_minor": 0
}