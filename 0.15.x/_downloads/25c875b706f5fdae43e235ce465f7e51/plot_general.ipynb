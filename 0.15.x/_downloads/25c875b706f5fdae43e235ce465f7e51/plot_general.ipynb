{
  "cells": [
    {
      "cell_type": "code",
      "execution_count": null,
      "metadata": {
        "collapsed": false
      },
      "outputs": [],
      "source": [
        "%matplotlib inline"
      ]
    },
    {
      "cell_type": "markdown",
      "metadata": {},
      "source": [
        "\n# General-purpose images\n\n\nThe title of each image indicates the name of the function.\n\n\n"
      ]
    },
    {
      "cell_type": "code",
      "execution_count": null,
      "metadata": {
        "collapsed": false
      },
      "outputs": [],
      "source": [
        "import matplotlib.pyplot as plt\nimport matplotlib\n\nfrom skimage import data\n\nmatplotlib.rcParams['font.size'] = 18\n\nimages = ('astronaut',\n          'binary_blobs',\n          'camera',\n          'checkerboard',\n          'chelsea',\n          'clock',\n          'coffee',\n          'coins',\n          'horse',\n          'logo',\n          'page',\n          'text',\n          'rocket',\n          )\n\n\nfor name in images:\n    caller = getattr(data, name)\n    image = caller()\n    plt.figure()\n    plt.title(name)\n    if image.ndim == 2:\n        plt.imshow(image, cmap=plt.cm.gray)\n    else:\n        plt.imshow(image)\n\nplt.show()"
      ]
    }
  ],
  "metadata": {
    "kernelspec": {
      "display_name": "Python 3",
      "language": "python",
      "name": "python3"
    },
    "language_info": {
      "codemirror_mode": {
        "name": "ipython",
        "version": 3
      },
      "file_extension": ".py",
      "mimetype": "text/x-python",
      "name": "python",
      "nbconvert_exporter": "python",
      "pygments_lexer": "ipython3",
      "version": "3.6.8"
    }
  },
  "nbformat": 4,
  "nbformat_minor": 0
}