{
  "cells": [
    {
      "cell_type": "code",
      "execution_count": null,
      "metadata": {
        "collapsed": false
      },
      "outputs": [],
      "source": [
        "%matplotlib inline"
      ]
    },
    {
      "cell_type": "markdown",
      "metadata": {},
      "source": [
        "\n# Measure region properties\n\n\nThis example shows how to measure properties of labelled image regions.\n\n\n"
      ]
    },
    {
      "cell_type": "code",
      "execution_count": null,
      "metadata": {
        "collapsed": false
      },
      "outputs": [],
      "source": [
        "import math\nimport matplotlib.pyplot as plt\nimport numpy as np\n\nfrom skimage.draw import ellipse\nfrom skimage.measure import label, regionprops\nfrom skimage.transform import rotate\n\n\nimage = np.zeros((600, 600))\n\nrr, cc = ellipse(300, 350, 100, 220)\nimage[rr, cc] = 1\n\nimage = rotate(image, angle=15, order=0)\n\nlabel_img = label(image)\nregions = regionprops(label_img)\n\nfig, ax = plt.subplots()\nax.imshow(image, cmap=plt.cm.gray)\n\nfor props in regions:\n    y0, x0 = props.centroid\n    orientation = props.orientation\n    x1 = x0 + math.cos(orientation) * 0.5 * props.major_axis_length\n    y1 = y0 - math.sin(orientation) * 0.5 * props.major_axis_length\n    x2 = x0 - math.sin(orientation) * 0.5 * props.minor_axis_length\n    y2 = y0 - math.cos(orientation) * 0.5 * props.minor_axis_length\n\n    ax.plot((x0, x1), (y0, y1), '-r', linewidth=2.5)\n    ax.plot((x0, x2), (y0, y2), '-r', linewidth=2.5)\n    ax.plot(x0, y0, '.g', markersize=15)\n\n    minr, minc, maxr, maxc = props.bbox\n    bx = (minc, maxc, maxc, minc, minc)\n    by = (minr, minr, maxr, maxr, minr)\n    ax.plot(bx, by, '-b', linewidth=2.5)\n\nax.axis((0, 600, 600, 0))\nplt.show()"
      ]
    }
  ],
  "metadata": {
    "kernelspec": {
      "display_name": "Python 3",
      "language": "python",
      "name": "python3"
    },
    "language_info": {
      "codemirror_mode": {
        "name": "ipython",
        "version": 3
      },
      "file_extension": ".py",
      "mimetype": "text/x-python",
      "name": "python",
      "nbconvert_exporter": "python",
      "pygments_lexer": "ipython3",
      "version": "3.6.8"
    }
  },
  "nbformat": 4,
  "nbformat_minor": 0
}