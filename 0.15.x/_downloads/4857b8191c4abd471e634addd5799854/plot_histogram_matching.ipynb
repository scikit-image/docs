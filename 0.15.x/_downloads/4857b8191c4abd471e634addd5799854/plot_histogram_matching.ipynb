{
  "cells": [
    {
      "cell_type": "code",
      "execution_count": null,
      "metadata": {
        "collapsed": false
      },
      "outputs": [],
      "source": [
        "%matplotlib inline"
      ]
    },
    {
      "cell_type": "markdown",
      "metadata": {},
      "source": [
        "\n# Histogram matching\n\n\nThis example demonstrates the feature of histogram matching. It manipulates the\npixels of an input image so that its histogram matches the histogram of the\nreference image. If the images have multiple channels, the matching is done\nindependently for each channel, as long as the number of channels is equal in\nthe input image and the reference.\n\nHistogram matching can be used as a lightweight normalisation for image\nprocessing, such as feature matching, especially in circumstances where the\nimages have been taken from different sources or in different conditions (i.e.\nlighting).\n\n"
      ]
    },
    {
      "cell_type": "code",
      "execution_count": null,
      "metadata": {
        "collapsed": false
      },
      "outputs": [],
      "source": [
        "import matplotlib.pyplot as plt\n\nfrom skimage import data\nfrom skimage import exposure\nfrom skimage.transform import match_histograms\n\nreference = data.coffee()\nimage = data.chelsea()\n\nmatched = match_histograms(image, reference, multichannel=True)\n\nfig, (ax1, ax2, ax3) = plt.subplots(nrows=1, ncols=3, figsize=(8, 3),\n                                    sharex=True, sharey=True)\nfor aa in (ax1, ax2, ax3):\n    aa.set_axis_off()\n\nax1.imshow(image)\nax1.set_title('Source')\nax2.imshow(reference)\nax2.set_title('Reference')\nax3.imshow(matched)\nax3.set_title('Matched')\n\nplt.tight_layout()\nplt.show()"
      ]
    },
    {
      "cell_type": "markdown",
      "metadata": {},
      "source": [
        "To illustrate the effect of the histogram matching, we plot for each\nRGB channel, the histogram and the cumulative histogram. Clearly,\nthe matched image has the same cumulative histogram as the reference\nimage for each channel.\n\n"
      ]
    },
    {
      "cell_type": "code",
      "execution_count": null,
      "metadata": {
        "collapsed": false
      },
      "outputs": [],
      "source": [
        "fig, axes = plt.subplots(nrows=3, ncols=3, figsize=(8, 8))\n\n\nfor i, img in enumerate((image, reference, matched)):\n    for c, c_color in enumerate(('red', 'green', 'blue')):\n        img_hist, bins = exposure.histogram(img[..., c], source_range='dtype')\n        axes[c, i].plot(bins, img_hist / img_hist.max())\n        img_cdf, bins = exposure.cumulative_distribution(img[..., c])\n        axes[c, i].plot(bins, img_cdf)\n        axes[c, 0].set_ylabel(c_color)\n\naxes[0, 0].set_title('Source')\naxes[0, 1].set_title('Reference')\naxes[0, 2].set_title('Matched')\n\nplt.tight_layout()\nplt.show()"
      ]
    }
  ],
  "metadata": {
    "kernelspec": {
      "display_name": "Python 3",
      "language": "python",
      "name": "python3"
    },
    "language_info": {
      "codemirror_mode": {
        "name": "ipython",
        "version": 3
      },
      "file_extension": ".py",
      "mimetype": "text/x-python",
      "name": "python",
      "nbconvert_exporter": "python",
      "pygments_lexer": "ipython3",
      "version": "3.6.8"
    }
  },
  "nbformat": 4,
  "nbformat_minor": 0
}