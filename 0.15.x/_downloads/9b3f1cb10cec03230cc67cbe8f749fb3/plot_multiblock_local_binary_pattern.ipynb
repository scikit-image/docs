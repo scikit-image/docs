{
  "cells": [
    {
      "cell_type": "code",
      "execution_count": null,
      "metadata": {
        "collapsed": false
      },
      "outputs": [],
      "source": [
        "%matplotlib inline"
      ]
    },
    {
      "cell_type": "markdown",
      "metadata": {},
      "source": [
        "\n# Multi-Block Local Binary Pattern for texture classification\n\n\nThis example shows how to compute multi-block local binary pattern (MB-LBP)\nfeatures as well as how to visualize them.\n\nThe features are calculated similarly to local binary patterns (LBPs), except\nthat summed blocks are used instead of individual pixel values.\n\nMB-LBP is an extension of LBP that can be computed on multiple scales in\nconstant time using the integral image. 9 equally-sized rectangles are used to\ncompute a feature. For each rectangle, the sum of the pixel intensities is\ncomputed. Comparisons of these sums to that of the central rectangle determine\nthe feature, similarly to LBP (See `LBP <plot_local_binary_pattern.html>`_).\n\nFirst, we generate an image to illustrate the functioning of MB-LBP: consider\na (9, 9) rectangle and divide it into (3, 3) block, upon which we then apply\nMB-LBP.\n\n\n"
      ]
    },
    {
      "cell_type": "code",
      "execution_count": null,
      "metadata": {
        "collapsed": false
      },
      "outputs": [],
      "source": [
        "from skimage.feature import multiblock_lbp\nimport numpy as np\nfrom numpy.testing import assert_equal\nfrom skimage.transform import integral_image\n\n# Create test matrix where first and fifth rectangles starting\n# from top left clockwise have greater value than the central one.\ntest_img = np.zeros((9, 9), dtype='uint8')\ntest_img[3:6, 3:6] = 1\ntest_img[:3, :3] = 50\ntest_img[6:, 6:] = 50\n\n# First and fifth bits should be filled. This correct value will\n#  be compared to the computed one.\ncorrect_answer = 0b10001000\n\nint_img = integral_image(test_img)\n\nlbp_code = multiblock_lbp(int_img, 0, 0, 3, 3)\n\nassert_equal(correct_answer, lbp_code)"
      ]
    },
    {
      "cell_type": "markdown",
      "metadata": {},
      "source": [
        "Now let's apply the operator to a real image and see how the visualization\nworks.\n\n"
      ]
    },
    {
      "cell_type": "code",
      "execution_count": null,
      "metadata": {
        "collapsed": false
      },
      "outputs": [],
      "source": [
        "from skimage import data\nfrom matplotlib import pyplot as plt\nfrom skimage.feature import draw_multiblock_lbp\n\ntest_img = data.coins()\n\nint_img = integral_image(test_img)\n\nlbp_code = multiblock_lbp(int_img, 0, 0, 90, 90)\n\nimg = draw_multiblock_lbp(test_img, 0, 0, 90, 90,\n                          lbp_code=lbp_code, alpha=0.5)\n\n\nplt.imshow(img, interpolation='nearest')\n\nplt.show()"
      ]
    },
    {
      "cell_type": "markdown",
      "metadata": {},
      "source": [
        "On the above plot we see the result of computing a MB-LBP and visualization\nof the computed feature. The rectangles that have less intensities' sum\nthan the central rectangle are marked in cyan. The ones that have higher\nintensity values are marked in white. The central rectangle is left\nuntouched.\n\n"
      ]
    }
  ],
  "metadata": {
    "kernelspec": {
      "display_name": "Python 3",
      "language": "python",
      "name": "python3"
    },
    "language_info": {
      "codemirror_mode": {
        "name": "ipython",
        "version": 3
      },
      "file_extension": ".py",
      "mimetype": "text/x-python",
      "name": "python",
      "nbconvert_exporter": "python",
      "pygments_lexer": "ipython3",
      "version": "3.6.8"
    }
  },
  "nbformat": 4,
  "nbformat_minor": 0
}