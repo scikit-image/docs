{
  "cells": [
    {
      "cell_type": "code",
      "execution_count": null,
      "metadata": {
        "collapsed": false
      },
      "outputs": [],
      "source": [
        "%matplotlib inline"
      ]
    },
    {
      "cell_type": "markdown",
      "metadata": {},
      "source": [
        "\n# Non-local means denoising for preserving textures\n\n\nIn this example, we denoise a detail of the astronaut image using the non-local\nmeans filter. The non-local means algorithm replaces the value of a pixel by an\naverage of a selection of other pixels values: small patches centered on the\nother pixels are compared to the patch centered on the pixel of interest, and\nthe average is performed only for pixels that have patches close to the current\npatch. As a result, this algorithm can restore well textures, that would be\nblurred by other denoising algorithm.\n\nWhen the ``fast_mode`` argument is ``False``, a spatial Gaussian weighting is\napplied to the patches when computing patch distances.  When ``fast_mode`` is\n``True`` a faster algorithm employing uniform spatial weighting on the patches\nis applied.\n\nFor either of these cases, if the noise standard deviation, ``sigma``, is\nprovided, the expected noise variance is subtracted out when computing patch\ndistances.  This can lead to a modest improvement in image quality.\n\nThe ``estimate_sigma`` function can provide a good starting point for setting\nthe ``h`` (and optionally, ``sigma``) parameters for the non-local means algorithm.\n``h`` is a constant that controls the decay in patch weights as a function of the\ndistance between patches.  Larger ``h`` allows more smoothing between disimilar\npatches.\n\nIn this demo, ``h``, was hand-tuned to give the approximate best-case performance\nof each variant.\n\n\n"
      ]
    },
    {
      "cell_type": "code",
      "execution_count": null,
      "metadata": {
        "collapsed": false
      },
      "outputs": [],
      "source": [
        "import numpy as np\nimport matplotlib.pyplot as plt\n\nfrom skimage import data, img_as_float\nfrom skimage.restoration import denoise_nl_means, estimate_sigma\nfrom skimage.measure import compare_psnr\nfrom skimage.util import random_noise\n\n\nastro = img_as_float(data.astronaut())\nastro = astro[30:180, 150:300]\n\nsigma = 0.08\nnoisy = random_noise(astro, var=sigma**2)\n\n# estimate the noise standard deviation from the noisy image\nsigma_est = np.mean(estimate_sigma(noisy, multichannel=True))\nprint(\"estimated noise standard deviation = {}\".format(sigma_est))\n\npatch_kw = dict(patch_size=5,      # 5x5 patches\n                patch_distance=6,  # 13x13 search area\n                multichannel=True)\n\n# slow algorithm\ndenoise = denoise_nl_means(noisy, h=1.15 * sigma_est, fast_mode=False,\n                           **patch_kw)\n\n# slow algorithm, sigma provided\ndenoise2 = denoise_nl_means(noisy, h=0.8 * sigma_est, sigma=sigma_est,\n                            fast_mode=False, **patch_kw)\n\n# fast algorithm\ndenoise_fast = denoise_nl_means(noisy, h=0.8 * sigma_est, fast_mode=True,\n                                **patch_kw)\n\n# fast algorithm, sigma provided\ndenoise2_fast = denoise_nl_means(noisy, h=0.6 * sigma_est, sigma=sigma_est,\n                                 fast_mode=True, **patch_kw)\n\nfig, ax = plt.subplots(nrows=2, ncols=3, figsize=(8, 6),\n                       sharex=True, sharey=True)\n\nax[0, 0].imshow(noisy)\nax[0, 0].axis('off')\nax[0, 0].set_title('noisy')\nax[0, 1].imshow(denoise)\nax[0, 1].axis('off')\nax[0, 1].set_title('non-local means\\n(slow)')\nax[0, 2].imshow(denoise2)\nax[0, 2].axis('off')\nax[0, 2].set_title('non-local means\\n(slow, using $\\sigma_{est}$)')\nax[1, 0].imshow(astro)\nax[1, 0].axis('off')\nax[1, 0].set_title('original\\n(noise free)')\nax[1, 1].imshow(denoise_fast)\nax[1, 1].axis('off')\nax[1, 1].set_title('non-local means\\n(fast)')\nax[1, 2].imshow(denoise2_fast)\nax[1, 2].axis('off')\nax[1, 2].set_title('non-local means\\n(fast, using $\\sigma_{est}$)')\n\nfig.tight_layout()\n\n# print PSNR metric for each case\npsnr_noisy = compare_psnr(astro, noisy)\npsnr = compare_psnr(astro, denoise)\npsnr2 = compare_psnr(astro, denoise2)\npsnr_fast = compare_psnr(astro, denoise_fast)\npsnr2_fast = compare_psnr(astro, denoise2_fast)\n\nprint(\"PSNR (noisy) = {:0.2f}\".format(psnr_noisy))\nprint(\"PSNR (slow) = {:0.2f}\".format(psnr))\nprint(\"PSNR (slow, using sigma) = {:0.2f}\".format(psnr2))\nprint(\"PSNR (fast) = {:0.2f}\".format(psnr_fast))\nprint(\"PSNR (fast, using sigma) = {:0.2f}\".format(psnr2_fast))\n\nplt.show()"
      ]
    }
  ],
  "metadata": {
    "kernelspec": {
      "display_name": "Python 3",
      "language": "python",
      "name": "python3"
    },
    "language_info": {
      "codemirror_mode": {
        "name": "ipython",
        "version": 3
      },
      "file_extension": ".py",
      "mimetype": "text/x-python",
      "name": "python",
      "nbconvert_exporter": "python",
      "pygments_lexer": "ipython3",
      "version": "3.6.8"
    }
  },
  "nbformat": 4,
  "nbformat_minor": 0
}