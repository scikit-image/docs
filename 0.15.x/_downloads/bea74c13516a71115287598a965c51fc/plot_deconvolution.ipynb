{
  "cells": [
    {
      "cell_type": "code",
      "execution_count": null,
      "metadata": {
        "collapsed": false
      },
      "outputs": [],
      "source": [
        "%matplotlib inline"
      ]
    },
    {
      "cell_type": "markdown",
      "metadata": {},
      "source": [
        "\n# Image Deconvolution\n\nIn this example, we deconvolve an image using Richardson-Lucy\ndeconvolution algorithm ([1]_, [2]_).\n\nThe algorithm is based on a PSF (Point Spread Function),\nwhere PSF is described as the impulse response of the\noptical system. The blurred image is sharpened through a number of\niterations, which needs to be hand-tuned.\n\n.. [1] William Hadley Richardson, \"Bayesian-Based Iterative\n       Method of Image Restoration\",\n       J. Opt. Soc. Am. A 27, 1593-1607 (1972), :DOI:`10.1364/JOSA.62.000055`\n\n.. [2] https://en.wikipedia.org/wiki/Richardson%E2%80%93Lucy_deconvolution\n\n"
      ]
    },
    {
      "cell_type": "code",
      "execution_count": null,
      "metadata": {
        "collapsed": false
      },
      "outputs": [],
      "source": [
        "import numpy as np\nimport matplotlib.pyplot as plt\n\nfrom scipy.signal import convolve2d as conv2\n\nfrom skimage import color, data, restoration\n\nastro = color.rgb2gray(data.astronaut())\n\npsf = np.ones((5, 5)) / 25\nastro = conv2(astro, psf, 'same')\n# Add Noise to Image\nastro_noisy = astro.copy()\nastro_noisy += (np.random.poisson(lam=25, size=astro.shape) - 10) / 255.\n\n# Restore Image using Richardson-Lucy algorithm\ndeconvolved_RL = restoration.richardson_lucy(astro_noisy, psf, iterations=30)\n\nfig, ax = plt.subplots(nrows=1, ncols=3, figsize=(8, 5))\nplt.gray()\n\nfor a in (ax[0], ax[1], ax[2]):\n       a.axis('off')\n\nax[0].imshow(astro)\nax[0].set_title('Original Data')\n\nax[1].imshow(astro_noisy)\nax[1].set_title('Noisy data')\n\nax[2].imshow(deconvolved_RL, vmin=astro_noisy.min(), vmax=astro_noisy.max())\nax[2].set_title('Restoration using\\nRichardson-Lucy')\n\n\nfig.subplots_adjust(wspace=0.02, hspace=0.2,\n                    top=0.9, bottom=0.05, left=0, right=1)\nplt.show()"
      ]
    }
  ],
  "metadata": {
    "kernelspec": {
      "display_name": "Python 3",
      "language": "python",
      "name": "python3"
    },
    "language_info": {
      "codemirror_mode": {
        "name": "ipython",
        "version": 3
      },
      "file_extension": ".py",
      "mimetype": "text/x-python",
      "name": "python",
      "nbconvert_exporter": "python",
      "pygments_lexer": "ipython3",
      "version": "3.6.8"
    }
  },
  "nbformat": 4,
  "nbformat_minor": 0
}