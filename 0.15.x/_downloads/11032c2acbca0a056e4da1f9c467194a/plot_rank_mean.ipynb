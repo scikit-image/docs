{
  "cells": [
    {
      "cell_type": "code",
      "execution_count": null,
      "metadata": {
        "collapsed": false
      },
      "outputs": [],
      "source": [
        "%matplotlib inline"
      ]
    },
    {
      "cell_type": "markdown",
      "metadata": {},
      "source": [
        "\n# Mean filters\n\n\nThis example compares the following mean filters of the rank filter package:\n\n* **local mean**: all pixels belonging to the structuring element to compute\n  average gray level.\n* **percentile mean**: only use values between percentiles p0 and p1\n  (here 10% and 90%).\n* **bilateral mean**: only use pixels of the structuring element having a gray\n  level situated inside g-s0 and g+s1 (here g-500 and g+500)\n\nPercentile and usual mean give here similar results, these filters smooth the\ncomplete image (background and details). Bilateral mean exhibits a high\nfiltering rate for continuous area (i.e. background) while higher image\nfrequencies remain untouched.\n\n"
      ]
    },
    {
      "cell_type": "code",
      "execution_count": null,
      "metadata": {
        "collapsed": false
      },
      "outputs": [],
      "source": [
        "import matplotlib.pyplot as plt\n\nfrom skimage import data\nfrom skimage.morphology import disk\nfrom skimage.filters import rank\n\n\nimage = data.coins()\nselem = disk(20)\n\npercentile_result = rank.mean_percentile(image, selem=selem, p0=.1, p1=.9)\nbilateral_result = rank.mean_bilateral(image, selem=selem, s0=500, s1=500)\nnormal_result = rank.mean(image, selem=selem)\n\nfig, axes = plt.subplots(nrows=2, ncols=2, figsize=(10, 10),\n                         sharex=True, sharey=True)\nax = axes.ravel()\n\ntitles = ['Original', 'Percentile mean', 'Bilateral mean', 'Local mean']\nimgs = [image, percentile_result, bilateral_result, normal_result]\nfor n in range(0, len(imgs)):\n    ax[n].imshow(imgs[n], cmap=plt.cm.gray)\n    ax[n].set_title(titles[n])\n    ax[n].axis('off')\n\nplt.tight_layout()\nplt.show()"
      ]
    }
  ],
  "metadata": {
    "kernelspec": {
      "display_name": "Python 3",
      "language": "python",
      "name": "python3"
    },
    "language_info": {
      "codemirror_mode": {
        "name": "ipython",
        "version": 3
      },
      "file_extension": ".py",
      "mimetype": "text/x-python",
      "name": "python",
      "nbconvert_exporter": "python",
      "pygments_lexer": "ipython3",
      "version": "3.6.8"
    }
  },
  "nbformat": 4,
  "nbformat_minor": 0
}