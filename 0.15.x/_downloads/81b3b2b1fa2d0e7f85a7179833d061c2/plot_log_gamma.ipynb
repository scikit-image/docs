{
  "cells": [
    {
      "cell_type": "code",
      "execution_count": null,
      "metadata": {
        "collapsed": false
      },
      "outputs": [],
      "source": [
        "%matplotlib inline"
      ]
    },
    {
      "cell_type": "markdown",
      "metadata": {},
      "source": [
        "\n# Gamma and log contrast adjustment\n\n\nThis example adjusts image contrast by performing a Gamma and a Logarithmic\ncorrection on the input image.\n\n\n"
      ]
    },
    {
      "cell_type": "code",
      "execution_count": null,
      "metadata": {
        "collapsed": false
      },
      "outputs": [],
      "source": [
        "import matplotlib\nimport matplotlib.pyplot as plt\nimport numpy as np\n\nfrom skimage import data, img_as_float\nfrom skimage import exposure\n\nmatplotlib.rcParams['font.size'] = 8\n\n\ndef plot_img_and_hist(image, axes, bins=256):\n    \"\"\"Plot an image along with its histogram and cumulative histogram.\n\n    \"\"\"\n    image = img_as_float(image)\n    ax_img, ax_hist = axes\n    ax_cdf = ax_hist.twinx()\n\n    # Display image\n    ax_img.imshow(image, cmap=plt.cm.gray)\n    ax_img.set_axis_off()\n\n    # Display histogram\n    ax_hist.hist(image.ravel(), bins=bins, histtype='step', color='black')\n    ax_hist.ticklabel_format(axis='y', style='scientific', scilimits=(0, 0))\n    ax_hist.set_xlabel('Pixel intensity')\n    ax_hist.set_xlim(0, 1)\n    ax_hist.set_yticks([])\n\n    # Display cumulative distribution\n    img_cdf, bins = exposure.cumulative_distribution(image, bins)\n    ax_cdf.plot(bins, img_cdf, 'r')\n    ax_cdf.set_yticks([])\n\n    return ax_img, ax_hist, ax_cdf\n\n\n# Load an example image\nimg = data.moon()\n\n# Gamma\ngamma_corrected = exposure.adjust_gamma(img, 2)\n\n# Logarithmic\nlogarithmic_corrected = exposure.adjust_log(img, 1)\n\n# Display results\nfig = plt.figure(figsize=(8, 5))\naxes = np.zeros((2, 3), dtype=np.object)\naxes[0, 0] = plt.subplot(2, 3, 1)\naxes[0, 1] = plt.subplot(2, 3, 2, sharex=axes[0, 0], sharey=axes[0, 0])\naxes[0, 2] = plt.subplot(2, 3, 3, sharex=axes[0, 0], sharey=axes[0, 0])\naxes[1, 0] = plt.subplot(2, 3, 4)\naxes[1, 1] = plt.subplot(2, 3, 5)\naxes[1, 2] = plt.subplot(2, 3, 6)\n\nax_img, ax_hist, ax_cdf = plot_img_and_hist(img, axes[:, 0])\nax_img.set_title('Low contrast image')\n\ny_min, y_max = ax_hist.get_ylim()\nax_hist.set_ylabel('Number of pixels')\nax_hist.set_yticks(np.linspace(0, y_max, 5))\n\nax_img, ax_hist, ax_cdf = plot_img_and_hist(gamma_corrected, axes[:, 1])\nax_img.set_title('Gamma correction')\n\nax_img, ax_hist, ax_cdf = plot_img_and_hist(logarithmic_corrected, axes[:, 2])\nax_img.set_title('Logarithmic correction')\n\nax_cdf.set_ylabel('Fraction of total intensity')\nax_cdf.set_yticks(np.linspace(0, 1, 5))\n\n# prevent overlap of y-axis labels\nfig.tight_layout()\nplt.show()"
      ]
    }
  ],
  "metadata": {
    "kernelspec": {
      "display_name": "Python 3",
      "language": "python",
      "name": "python3"
    },
    "language_info": {
      "codemirror_mode": {
        "name": "ipython",
        "version": 3
      },
      "file_extension": ".py",
      "mimetype": "text/x-python",
      "name": "python",
      "nbconvert_exporter": "python",
      "pygments_lexer": "ipython3",
      "version": "3.6.8"
    }
  },
  "nbformat": 4,
  "nbformat_minor": 0
}