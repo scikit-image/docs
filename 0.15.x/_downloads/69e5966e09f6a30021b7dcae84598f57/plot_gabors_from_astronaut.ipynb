{
  "cells": [
    {
      "cell_type": "code",
      "execution_count": null,
      "metadata": {
        "collapsed": false
      },
      "outputs": [],
      "source": [
        "%matplotlib inline"
      ]
    },
    {
      "cell_type": "markdown",
      "metadata": {},
      "source": [
        "\n============================================================\nGabors / Primary Visual Cortex \"Simple Cells\" from an Image\n============================================================\n\nHow to build a (bio-plausible) *sparse* dictionary (or 'codebook', or\n'filterbank') for e.g. image classification without any fancy math and\nwith just standard python scientific libraries?\n\nPlease find below a short answer ;-)\n\nThis simple example shows how to get Gabor-like filters [1]_ using just\na simple image. In our example, we use a photograph of the astronaut Eileen\nCollins. Gabor filters are good approximations of the \"Simple Cells\" [2]_\nreceptive fields [3]_ found in the mammalian primary visual cortex (V1)\n(for details, see e.g. the Nobel-prize winning work of Hubel & Wiesel done\nin the 60s [4]_ [5]_).\n\nHere we use McQueen's 'kmeans' algorithm [6]_, as a simple biologically\nplausible hebbian-like learning rule and we apply it (a) to patches of\nthe original image (retinal projection), and (b) to patches of an\nLGN-like [7]_ image using a simple difference of gaussians (DoG)\napproximation.\n\nEnjoy ;-) And keep in mind that getting Gabors on natural image patches\nis not rocket science.\n\n.. [1] https://en.wikipedia.org/wiki/Gabor_filter\n.. [2] https://en.wikipedia.org/wiki/Simple_cell\n.. [3] https://en.wikipedia.org/wiki/Receptive_field\n.. [4] D. H. Hubel and T. N., Wiesel Receptive Fields of Single Neurones\n       in the Cat's Striate Cortex, J. Physiol. pp. 574-591 (148) 1959\n.. [5] D. H. Hubel and T. N., Wiesel Receptive Fields, Binocular\n       Interaction, and Functional Architecture in the Cat's Visual Cortex,\n       J. Physiol. 160 pp.  106-154 1962\n.. [6] https://en.wikipedia.org/wiki/K-means_clustering\n.. [7] https://en.wikipedia.org/wiki/Lateral_geniculate_nucleus\n\n"
      ]
    },
    {
      "cell_type": "code",
      "execution_count": null,
      "metadata": {
        "collapsed": false
      },
      "outputs": [],
      "source": [
        "import numpy as np\nfrom scipy.cluster.vq import kmeans2\nfrom scipy import ndimage as ndi\nimport matplotlib.pyplot as plt\n\nfrom skimage import data\nfrom skimage import color\nfrom skimage.util.shape import view_as_windows\nfrom skimage.util import montage\n\nnp.random.seed(42)\n\npatch_shape = 8, 8\nn_filters = 49\n\nastro = color.rgb2gray(data.astronaut())\n\n# -- filterbank1 on original image\npatches1 = view_as_windows(astro, patch_shape)\npatches1 = patches1.reshape(-1, patch_shape[0] * patch_shape[1])[::8]\nfb1, _ = kmeans2(patches1, n_filters, minit='points')\nfb1 = fb1.reshape((-1,) + patch_shape)\nfb1_montage = montage(fb1, rescale_intensity=True)\n\n# -- filterbank2 LGN-like image\nastro_dog = ndi.gaussian_filter(astro, .5) - ndi.gaussian_filter(astro, 1)\npatches2 = view_as_windows(astro_dog, patch_shape)\npatches2 = patches2.reshape(-1, patch_shape[0] * patch_shape[1])[::8]\nfb2, _ = kmeans2(patches2, n_filters, minit='points')\nfb2 = fb2.reshape((-1,) + patch_shape)\nfb2_montage = montage(fb2, rescale_intensity=True)\n\n# -- plotting\nfig, axes = plt.subplots(2, 2, figsize=(7, 6))\nax = axes.ravel()\n\nax[0].imshow(astro, cmap=plt.cm.gray)\nax[0].set_title(\"Image (original)\")\n\nax[1].imshow(fb1_montage, cmap=plt.cm.gray, interpolation='nearest')\nax[1].set_title(\"K-means filterbank (codebook)\\non original image\")\n\nax[2].imshow(astro_dog, cmap=plt.cm.gray)\nax[2].set_title(\"Image (LGN-like DoG)\")\n\nax[3].imshow(fb2_montage, cmap=plt.cm.gray, interpolation='nearest')\nax[3].set_title(\"K-means filterbank (codebook)\\non LGN-like DoG image\")\n\nfor a in ax.ravel():\n    a.axis('off')\n\nfig.tight_layout()\nplt.show()"
      ]
    }
  ],
  "metadata": {
    "kernelspec": {
      "display_name": "Python 3",
      "language": "python",
      "name": "python3"
    },
    "language_info": {
      "codemirror_mode": {
        "name": "ipython",
        "version": 3
      },
      "file_extension": ".py",
      "mimetype": "text/x-python",
      "name": "python",
      "nbconvert_exporter": "python",
      "pygments_lexer": "ipython3",
      "version": "3.6.8"
    }
  },
  "nbformat": 4,
  "nbformat_minor": 0
}