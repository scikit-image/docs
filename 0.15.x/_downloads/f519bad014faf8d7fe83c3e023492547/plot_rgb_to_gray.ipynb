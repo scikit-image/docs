{
  "cells": [
    {
      "cell_type": "code",
      "execution_count": null,
      "metadata": {
        "collapsed": false
      },
      "outputs": [],
      "source": [
        "%matplotlib inline"
      ]
    },
    {
      "cell_type": "markdown",
      "metadata": {},
      "source": [
        "\n# RGB to grayscale\n\n\nThis example converts an image with RGB channels into an image with a single\ngrayscale channel.\n\nThe value of each grayscale pixel is calculated as the weighted sum of the\ncorresponding red, green and blue pixels as::\n\n        Y = 0.2125 R + 0.7154 G + 0.0721 B\n\nThese weights are used by CRT phosphors as they better represent human\nperception of red, green and blue than equal weights. [1]_\n\nReferences\n----------\n.. [1] http://www.poynton.com/PDFs/ColorFAQ.pdf\n\n\n"
      ]
    },
    {
      "cell_type": "code",
      "execution_count": null,
      "metadata": {
        "collapsed": false
      },
      "outputs": [],
      "source": [
        "import numpy as np\nimport matplotlib.pyplot as plt\n\nfrom skimage import data\nfrom skimage.color import rgb2gray\n\noriginal = data.astronaut()\ngrayscale = rgb2gray(original)\n\nfig, axes = plt.subplots(1, 2, figsize=(8, 4))\nax = axes.ravel()\n\nax[0].imshow(original)\nax[0].set_title(\"Original\")\nax[1].imshow(grayscale, cmap=plt.cm.gray)\nax[1].set_title(\"Grayscale\")\n\nfig.tight_layout()\nplt.show()"
      ]
    }
  ],
  "metadata": {
    "kernelspec": {
      "display_name": "Python 3",
      "language": "python",
      "name": "python3"
    },
    "language_info": {
      "codemirror_mode": {
        "name": "ipython",
        "version": 3
      },
      "file_extension": ".py",
      "mimetype": "text/x-python",
      "name": "python",
      "nbconvert_exporter": "python",
      "pygments_lexer": "ipython3",
      "version": "3.6.8"
    }
  },
  "nbformat": 4,
  "nbformat_minor": 0
}