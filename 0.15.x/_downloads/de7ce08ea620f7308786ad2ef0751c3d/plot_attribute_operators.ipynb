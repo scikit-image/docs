{
  "cells": [
    {
      "cell_type": "code",
      "execution_count": null,
      "metadata": {
        "collapsed": false
      },
      "outputs": [],
      "source": [
        "%matplotlib inline"
      ]
    },
    {
      "cell_type": "markdown",
      "metadata": {},
      "source": [
        "\n# Attribute operators\n\n\nAttribute operators (or connected operators) [1]_ is a family of contour\npreserving filtering operations in mathematical morphology. They can be\nimplemented by max-trees [2]_, a compact hierarchical representation of the\nimage.\n\nHere, we show how to use diameter closing [3]_ [4]_, which is compared to\nmorphological closing. Comparing the two results, we observe that the\ndifference between image and morphological closing also extracts the long line.\nA thin but long line cannot contain the structuring element. The diameter\nclosing stops the filling as soon as a maximal extension is reached. The line\nis therefore not filled and therefore not extracted by the difference.\n\n"
      ]
    },
    {
      "cell_type": "code",
      "execution_count": null,
      "metadata": {
        "collapsed": false
      },
      "outputs": [],
      "source": [
        "import numpy as np\nimport matplotlib.pyplot as plt\nfrom skimage.morphology import diameter_closing\nfrom skimage import data\nfrom skimage.morphology import closing\nfrom skimage.morphology import square\n\ndatasets = {\n    'retina': {'image': data.microaneurysms(),\n               'figsize': (15, 9),\n               'diameter': 10,\n               'vis_factor': 3,\n               'title': 'Detection of microaneurysm'},\n    'page': {'image': data.page(),\n             'figsize': (15, 7),\n             'diameter': 23,\n             'vis_factor': 1,\n             'title': 'Text detection'}\n}\n\nfor dataset in datasets.values():\n    # image with printed letters\n    image = dataset['image']\n    figsize = dataset['figsize']\n    diameter = dataset['diameter']\n\n    fig, ax = plt.subplots(2, 3, figsize=figsize)\n    # Original image\n    ax[0, 0].imshow(image, cmap='gray', aspect='equal',\n                    vmin=0, vmax=255)\n    ax[0, 0].set_title('Original', fontsize=16)\n    ax[0, 0].axis('off')\n\n    ax[1, 0].imshow(image, cmap='gray', aspect='equal',\n                    vmin=0, vmax=255)\n    ax[1, 0].set_title('Original', fontsize=16)\n    ax[1, 0].axis('off')\n\n    # Diameter closing : we remove all dark structures with a maximal\n    # extension of less than <diameter> (12 or 23). I.e. in closed_attr, all\n    # local minima have at least a maximal extension of <diameter>.\n    closed_attr = diameter_closing(image, diameter, connectivity=2)\n\n    # We then calculate the difference to the original image.\n    tophat_attr = closed_attr - image\n\n    ax[0, 1].imshow(closed_attr, cmap='gray', aspect='equal',\n                    vmin=0, vmax=255)\n    ax[0, 1].set_title('Diameter Closing', fontsize=16)\n    ax[0, 1].axis('off')\n\n    ax[0, 2].imshow(dataset['vis_factor'] * tophat_attr, cmap='gray',\n                    aspect='equal', vmin=0, vmax=255)\n    ax[0, 2].set_title('Tophat (Difference)', fontsize=16)\n    ax[0, 2].axis('off')\n\n    # A morphological closing removes all dark structures that cannot\n    # contain a structuring element of a certain size.\n    closed = closing(image, square(diameter))\n\n    # Again we calculate the difference to the original image.\n    tophat = closed - image\n\n    ax[1, 1].imshow(closed, cmap='gray', aspect='equal',\n                    vmin=0, vmax=255)\n    ax[1, 1].set_title('Morphological Closing', fontsize=16)\n    ax[1, 1].axis('off')\n\n    ax[1, 2].imshow(dataset['vis_factor'] * tophat, cmap='gray',\n                    aspect='equal', vmin=0, vmax=255)\n    ax[1, 2].set_title('Tophat (Difference)', fontsize=16)\n    ax[1, 2].axis('off')\n    fig.suptitle(dataset['title'], fontsize=18)\n    fig.tight_layout(rect=(0, 0, 1, 0.88))\n\nplt.show()"
      ]
    },
    {
      "cell_type": "markdown",
      "metadata": {},
      "source": [
        "References\n----------\n.. [1] Salembier, P., Oliveras, A., & Garrido, L. (1998). Antiextensive\n       Connected Operators for Image and Sequence Processing.\n       IEEE Transactions on Image Processing, 7(4), 555-570.\n       :DOI:`10.1109/83.663500`\n.. [2] Carlinet, E., & Geraud, T. (2014). A Comparative Review of\n       Component Tree Computation Algorithms. IEEE Transactions on Image\n       Processing, 23(9), 3885-3895.\n       :DOI:`10.1109/TIP.2014.2336551`\n.. [3] Vincent L., Proc. \"Grayscale area openings and closings,\n       their efficient implementation and applications\",\n       EURASIP Workshop on Mathematical Morphology and its\n       Applications to Signal Processing, Barcelona, Spain, pp.22-27,\n       May 1993.\n.. [4] Walter, T., & Klein, J.-C. (2002). Automatic Detection of\n       Microaneurysms in Color Fundus Images of the Human Retina by Means\n       of the Bounding Box Closing. In A. Colosimo, P. Sirabella,\n       A. Giuliani (Eds.), Medical Data Analysis. Lecture Notes in Computer\n       Science, vol 2526, pp. 210-220. Springer Berlin Heidelberg.\n       :DOI:`10.1007/3-540-36104-9_23`\n\n"
      ]
    }
  ],
  "metadata": {
    "kernelspec": {
      "display_name": "Python 3",
      "language": "python",
      "name": "python3"
    },
    "language_info": {
      "codemirror_mode": {
        "name": "ipython",
        "version": 3
      },
      "file_extension": ".py",
      "mimetype": "text/x-python",
      "name": "python",
      "nbconvert_exporter": "python",
      "pygments_lexer": "ipython3",
      "version": "3.6.8"
    }
  },
  "nbformat": 4,
  "nbformat_minor": 0
}