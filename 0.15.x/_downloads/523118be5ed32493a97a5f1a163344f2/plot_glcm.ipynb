{
  "cells": [
    {
      "cell_type": "code",
      "execution_count": null,
      "metadata": {
        "collapsed": false
      },
      "outputs": [],
      "source": [
        "%matplotlib inline"
      ]
    },
    {
      "cell_type": "markdown",
      "metadata": {},
      "source": [
        "\n# GLCM Texture Features\n\n\nThis example illustrates texture classification using grey level\nco-occurrence matrices (GLCMs). A GLCM is a histogram of co-occurring\ngreyscale values at a given offset over an image.\n\nIn this example, samples of two different textures are extracted from\nan image: grassy areas and sky areas. For each patch, a GLCM with\na horizontal offset of 5 is computed. Next, two features of the\nGLCM matrices are computed: dissimilarity and correlation. These are\nplotted to illustrate that the classes form clusters in feature space.\n\nIn a typical classification problem, the final step (not included in\nthis example) would be to train a classifier, such as logistic\nregression, to label image patches from new images.\n\n\n"
      ]
    },
    {
      "cell_type": "code",
      "execution_count": null,
      "metadata": {
        "collapsed": false
      },
      "outputs": [],
      "source": [
        "import matplotlib.pyplot as plt\n\nfrom skimage.feature import greycomatrix, greycoprops\nfrom skimage import data\n\n\nPATCH_SIZE = 21\n\n# open the camera image\nimage = data.camera()\n\n# select some patches from grassy areas of the image\ngrass_locations = [(474, 291), (440, 433), (466, 18), (462, 236)]\ngrass_patches = []\nfor loc in grass_locations:\n    grass_patches.append(image[loc[0]:loc[0] + PATCH_SIZE,\n                               loc[1]:loc[1] + PATCH_SIZE])\n\n# select some patches from sky areas of the image\nsky_locations = [(54, 48), (21, 233), (90, 380), (195, 330)]\nsky_patches = []\nfor loc in sky_locations:\n    sky_patches.append(image[loc[0]:loc[0] + PATCH_SIZE,\n                             loc[1]:loc[1] + PATCH_SIZE])\n\n# compute some GLCM properties each patch\nxs = []\nys = []\nfor patch in (grass_patches + sky_patches):\n    glcm = greycomatrix(patch, [5], [0], 256, symmetric=True, normed=True)\n    xs.append(greycoprops(glcm, 'dissimilarity')[0, 0])\n    ys.append(greycoprops(glcm, 'correlation')[0, 0])\n\n# create the figure\nfig = plt.figure(figsize=(8, 8))\n\n# display original image with locations of patches\nax = fig.add_subplot(3, 2, 1)\nax.imshow(image, cmap=plt.cm.gray, interpolation='nearest',\n          vmin=0, vmax=255)\nfor (y, x) in grass_locations:\n    ax.plot(x + PATCH_SIZE / 2, y + PATCH_SIZE / 2, 'gs')\nfor (y, x) in sky_locations:\n    ax.plot(x + PATCH_SIZE / 2, y + PATCH_SIZE / 2, 'bs')\nax.set_xlabel('Original Image')\nax.set_xticks([])\nax.set_yticks([])\nax.axis('image')\n\n# for each patch, plot (dissimilarity, correlation)\nax = fig.add_subplot(3, 2, 2)\nax.plot(xs[:len(grass_patches)], ys[:len(grass_patches)], 'go',\n        label='Grass')\nax.plot(xs[len(grass_patches):], ys[len(grass_patches):], 'bo',\n        label='Sky')\nax.set_xlabel('GLCM Dissimilarity')\nax.set_ylabel('GLCM Correlation')\nax.legend()\n\n# display the image patches\nfor i, patch in enumerate(grass_patches):\n    ax = fig.add_subplot(3, len(grass_patches), len(grass_patches)*1 + i + 1)\n    ax.imshow(patch, cmap=plt.cm.gray, interpolation='nearest',\n              vmin=0, vmax=255)\n    ax.set_xlabel('Grass %d' % (i + 1))\n\nfor i, patch in enumerate(sky_patches):\n    ax = fig.add_subplot(3, len(sky_patches), len(sky_patches)*2 + i + 1)\n    ax.imshow(patch, cmap=plt.cm.gray, interpolation='nearest',\n              vmin=0, vmax=255)\n    ax.set_xlabel('Sky %d' % (i + 1))\n\n\n# display the patches and plot\nfig.suptitle('Grey level co-occurrence matrix features', fontsize=14)\nplt.show()"
      ]
    }
  ],
  "metadata": {
    "kernelspec": {
      "display_name": "Python 3",
      "language": "python",
      "name": "python3"
    },
    "language_info": {
      "codemirror_mode": {
        "name": "ipython",
        "version": 3
      },
      "file_extension": ".py",
      "mimetype": "text/x-python",
      "name": "python",
      "nbconvert_exporter": "python",
      "pygments_lexer": "ipython3",
      "version": "3.6.8"
    }
  },
  "nbformat": 4,
  "nbformat_minor": 0
}