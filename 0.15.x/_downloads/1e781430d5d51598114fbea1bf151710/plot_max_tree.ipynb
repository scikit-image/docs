{
  "cells": [
    {
      "cell_type": "code",
      "execution_count": null,
      "metadata": {
        "collapsed": false
      },
      "outputs": [],
      "source": [
        "%matplotlib inline"
      ]
    },
    {
      "cell_type": "markdown",
      "metadata": {},
      "source": [
        "\n# Max-tree\n\n\nThe max-tree is a hierarchical representation of an image that is the basis\nfor a large family of morphological filters.\n\nIf we apply a threshold operation to an image, we obtain a binary image\ncontaining one or several connected components. If we apply a lower\nthreshold, all the connected components from the higher threshold are\ncontained in the connected components from the lower threshold. This\nnaturally defines a hierarchy of nested components that can be\nrepresented by a tree. whenever a connected component A obtained by\nthresholding with threshold t1 is contained in a component B obtained by\nthresholding with threshold t1 < t2, we say that B is the parent of A.\nThe resulting tree structure is called a component tree. The max-tree\nis a compact representation of such a component tree. [1]_, [2]_, [3]_, [4]_\n\nIn this example we give an intuition of what a max-tree is.\n\nReferences\n----------\n.. [1] Salembier, P., Oliveras, A., & Garrido, L. (1998). Antiextensive\n       Connected Operators for Image and Sequence Processing.\n       IEEE Transactions on Image Processing, 7(4), 555-570.\n       :DOI:`10.1109/83.663500`\n.. [2] Berger, C., Geraud, T., Levillain, R., Widynski, N., Baillard, A.,\n       Bertin, E. (2007). Effective Component Tree Computation with\n       Application to Pattern Recognition in Astronomical Imaging.\n       In International Conference on Image Processing (ICIP) (pp. 41-44).\n       :DOI:`10.1109/ICIP.2007.4379949`\n.. [3] Najman, L., & Couprie, M. (2006). Building the component tree in\n       quasi-linear time. IEEE Transactions on Image Processing, 15(11),\n       3531-3539.\n       :DOI:`10.1109/TIP.2006.877518`\n.. [4] Carlinet, E., & Geraud, T. (2014). A Comparative Review of\n       Component Tree Computation Algorithms. IEEE Transactions on Image\n       Processing, 23(9), 3885-3895.\n       :DOI:`10.1109/TIP.2014.2336551`\n\n"
      ]
    },
    {
      "cell_type": "code",
      "execution_count": null,
      "metadata": {
        "collapsed": false
      },
      "outputs": [],
      "source": [
        "import numpy as np\nimport matplotlib.pyplot as plt\nfrom matplotlib.lines import Line2D\nfrom skimage.morphology import max_tree\nimport networkx as nx"
      ]
    },
    {
      "cell_type": "markdown",
      "metadata": {},
      "source": [
        "Before we start : a few helper functions\n\n"
      ]
    },
    {
      "cell_type": "code",
      "execution_count": null,
      "metadata": {
        "collapsed": false
      },
      "outputs": [],
      "source": [
        "def plot_img(ax, image, title, plot_text, image_values):\n    \"\"\"Plot an image, overlaying image values or indices.\"\"\"\n    ax.imshow(image, cmap='gray', aspect='equal', vmin=0, vmax=np.max(image))\n    ax.set_title(title)\n    ax.set_yticks([])\n    ax.set_xticks([])\n\n    for x in np.arange(-0.5, image.shape[0], 1.0):\n        ax.add_artist(Line2D((x, x), (-0.5, image.shape[0] - 0.5),\n                             color='blue', linewidth=2))\n\n    for y in np.arange(-0.5, image.shape[1], 1.0):\n        ax.add_artist(Line2D((-0.5, image.shape[1]), (y, y),\n                             color='blue', linewidth=2))\n\n    if plot_text:\n        for i, j in np.ndindex(*image_values.shape):\n            ax.text(j, i, image_values[i, j], fontsize=8,\n                    horizontalalignment='center',\n                    verticalalignment='center',\n                    color='red')\n    return\n\n\ndef prune(G, node, res):\n    \"\"\"Transform a canonical max tree to a max tree.\"\"\"\n    value = G.nodes[node]['value']\n    res[node] = str(node)\n    preds = [p for p in G.predecessors(node)]\n    for p in preds:\n        if (G.nodes[p]['value'] == value):\n            res[node] += ', %i' % p\n            G.remove_node(p)\n        else:\n            prune(G, p, res)\n    G.nodes[node]['label'] = res[node]\n    return\n\n\ndef accumulate(G, node, res):\n    \"\"\"Transform a max tree to a component tree.\"\"\"\n    total = G.nodes[node]['label']\n    parents = G.predecessors(node)\n    for p in parents:\n        total += ', ' + accumulate(G, p, res)\n    res[node] = total\n    return total\n\n\ndef position_nodes_for_max_tree(G, image_rav, root_x=4, delta_x=1.2):\n    \"\"\"Set the position of nodes of a max-tree.\n\n    This function helps to visually distinguish between nodes at the same\n    level of the hierarchy and nodes at different levels.\n    \"\"\"\n    pos = {}\n    for node in reversed(list(nx.topological_sort(canonical_max_tree))):\n        value = G.nodes[node]['value']\n        if canonical_max_tree.out_degree(node) == 0:\n            # root\n            pos[node] = (root_x, value)\n\n        in_nodes = [y for y in canonical_max_tree.predecessors(node)]\n\n        # place the nodes at the same level\n        level_nodes = [y for y in\n                       filter(lambda x: image_rav[x] == value, in_nodes)]\n        nb_level_nodes = len(level_nodes) + 1\n\n        c = nb_level_nodes // 2\n        i = - c\n        if (len(level_nodes) < 3):\n            hy = 0\n            m = 0\n        else:\n            hy = 0.25\n            m = hy / (c - 1)\n\n        for level_node in level_nodes:\n            if(i == 0):\n                i += 1\n            if (len(level_nodes) < 3):\n                pos[level_node] = (pos[node][0] + i * 0.6 * delta_x, value)\n            else:\n                pos[level_node] = (pos[node][0] + i * 0.6 * delta_x,\n                                   value + m * (2 * np.abs(i) - c - 1))\n            i += 1\n\n        # place the nodes at different levels\n        other_level_nodes = [y for y in\n                             filter(lambda x: image_rav[x] > value, in_nodes)]\n        if (len(other_level_nodes) == 1):\n            i = 0\n        else:\n            i = - len(other_level_nodes) // 2\n        for other_level_node in other_level_nodes:\n            if((len(other_level_nodes) % 2 == 0) and (i == 0)):\n                i += 1\n            pos[other_level_node] = (pos[node][0] + i * delta_x,\n                                     image_rav[other_level_node])\n            i += 1\n\n    return pos\n\n\ndef plot_tree(graph, positions, ax, *, title='', labels=None,\n              font_size=8, text_size=8):\n    \"\"\"Plot max and component trees.\"\"\"\n    nx.draw_networkx(graph, pos=positions, ax=ax,\n                     node_size=40, node_shape='s', node_color='white',\n                     font_size=font_size, labels=labels)\n    xlimit = ax.get_xlim()\n    for v in range(image_rav.min(), image_rav.max() + 1):\n        ax.hlines(v - 0.5, -3, 10, linestyles='dotted')\n        ax.text(-3, v - 0.15, \"val: %i\" % v, fontsize=text_size)\n    ax.hlines(v + 0.5, -3, 10, linestyles='dotted')\n    ax.set_xlim(-3, 10)\n    ax.set_title(title)\n    ax.set_axis_off()"
      ]
    },
    {
      "cell_type": "markdown",
      "metadata": {},
      "source": [
        "Image Definition\n================\nWe define a small test image.\nFor clarity, we choose an example image, where image values cannot be\nconfounded with indices (different range).\n\n"
      ]
    },
    {
      "cell_type": "code",
      "execution_count": null,
      "metadata": {
        "collapsed": false
      },
      "outputs": [],
      "source": [
        "image = np.array([[40, 40, 39, 39, 38],\n                  [40, 41, 39, 39, 39],\n                  [30, 30, 30, 32, 32],\n                  [33, 33, 30, 32, 35],\n                  [30, 30, 30, 33, 36]], dtype=np.uint8)"
      ]
    },
    {
      "cell_type": "markdown",
      "metadata": {},
      "source": [
        "Max-tree\n========\nNext, we calculate the max-tree of this image.\nmax-tree of the image\n\n"
      ]
    },
    {
      "cell_type": "code",
      "execution_count": null,
      "metadata": {
        "collapsed": false
      },
      "outputs": [],
      "source": [
        "P, S = max_tree(image)\n\nP_rav = P.ravel()"
      ]
    },
    {
      "cell_type": "markdown",
      "metadata": {},
      "source": [
        "Image plots\n===========\nThen, we visualize the image and its raveled indices.\nConcretely, we plot the image with the following overlays:\n- the image values\n- the raveled indices (serve as pixel identifiers)\n- the output of the max_tree function\n\n"
      ]
    },
    {
      "cell_type": "code",
      "execution_count": null,
      "metadata": {
        "collapsed": false
      },
      "outputs": [],
      "source": [
        "# raveled image\nimage_rav = image.ravel()\n\n# raveled indices of the example image (for display purpose)\nraveled_indices = np.arange(image.size).reshape(image.shape)\n\nfig, (ax1, ax2, ax3) = plt.subplots(1, 3, sharey=True, figsize=(9, 3))\n\nplot_img(ax1, image - image.min(), 'Image Values',\n         plot_text=True, image_values=image)\nplot_img(ax2, image - image.min(), 'Raveled Indices',\n         plot_text=True, image_values=raveled_indices)\nplot_img(ax3, image - image.min(), 'Max-tree indices',\n         plot_text=True, image_values=P)"
      ]
    },
    {
      "cell_type": "markdown",
      "metadata": {},
      "source": [
        "Visualizing threshold operations\n================================\nNow, we investigate the results of a series of threshold operations.\nThe component tree (and max-tree) provide representations of the\ninclusion relationships between connected components at different\nlevels.\n\n"
      ]
    },
    {
      "cell_type": "code",
      "execution_count": null,
      "metadata": {
        "collapsed": false
      },
      "outputs": [],
      "source": [
        "fig, axes = plt.subplots(3, 3, sharey=True, sharex=True, figsize=(6, 6))\nthresholds = np.unique(image)\nfor k, threshold in enumerate(thresholds):\n    bin_img = image >= threshold\n    plot_img(axes[(k // 3), (k % 3)], bin_img, 'Threshold : %i' % threshold,\n             plot_text=True, image_values=raveled_indices)"
      ]
    },
    {
      "cell_type": "markdown",
      "metadata": {},
      "source": [
        "Max-tree plots\n==============\nNow, we plot the component and max-trees. A component tree relates\nthe different pixel sets resulting from all possible threshold operations\nto each other. There is an arrow in the graph, if a component at one level\nis included in the component of a lower level. The max-tree is just\na different encoding of the pixel sets.\n\n1. the component tree: pixel sets are explicitly written out. We see for\n   instance that {6} (result of applying a threshold at 41) is the parent\n   of {0, 1, 5, 6} (threshold at 40).\n2. the max-tree: only pixels that come into the set at this level\n   are explicitly written out. We therefore will write\n   {6} -> {0,1,5} instead of {6} -> {0, 1, 5, 6}\n3. the canonical max-treeL this is the representation which is given by\n   our implementation. Here, every pixel is a node. Connected components\n   of several pixels are represented by one of the pixels. We thus replace\n   {6} -> {0,1,5} by {6} -> {5}, {1} -> {5}, {0} -> {5}\n   This allows us to represent the graph by an image (top row, third column).\n\n"
      ]
    },
    {
      "cell_type": "code",
      "execution_count": null,
      "metadata": {
        "collapsed": false
      },
      "outputs": [],
      "source": [
        "# the canonical max-tree graph\ncanonical_max_tree = nx.DiGraph()\ncanonical_max_tree.add_nodes_from(S)\nfor node in canonical_max_tree.nodes():\n    canonical_max_tree.nodes[node]['value'] = image_rav[node]\ncanonical_max_tree.add_edges_from([(n, P_rav[n]) for n in S[1:]])\n\n# max-tree from the canonical max-tree\nnx_max_tree = nx.DiGraph(canonical_max_tree)\nlabels = {}\nprune(nx_max_tree, S[0], labels)\n\n# component tree from the max-tree\nlabels_ct = {}\ntotal = accumulate(nx_max_tree, S[0], labels_ct)\n\n# positions of nodes : canonical max-tree (CMT)\npos_cmt = position_nodes_for_max_tree(canonical_max_tree, image_rav)\n\n# positions of nodes : max-tree (MT)\npos_mt = dict(zip(nx_max_tree.nodes, [pos_cmt[node]\n                                      for node in nx_max_tree.nodes]))\n\n# plot the trees with networkx and matplotlib\nfig, (ax1, ax2, ax3) = plt.subplots(1, 3, sharey=True, figsize=(20, 8))\n\nplot_tree(nx_max_tree, pos_mt, ax1, title='Component tree',\n          labels=labels_ct, font_size=6, text_size=8)\n\nplot_tree(nx_max_tree, pos_mt, ax2, title='Max tree', labels=labels)\n\nplot_tree(canonical_max_tree, pos_cmt, ax3, title='Canonical max tree')\n\nfig.tight_layout()\n\nplt.show()"
      ]
    }
  ],
  "metadata": {
    "kernelspec": {
      "display_name": "Python 3",
      "language": "python",
      "name": "python3"
    },
    "language_info": {
      "codemirror_mode": {
        "name": "ipython",
        "version": 3
      },
      "file_extension": ".py",
      "mimetype": "text/x-python",
      "name": "python",
      "nbconvert_exporter": "python",
      "pygments_lexer": "ipython3",
      "version": "3.6.8"
    }
  },
  "nbformat": 4,
  "nbformat_minor": 0
}