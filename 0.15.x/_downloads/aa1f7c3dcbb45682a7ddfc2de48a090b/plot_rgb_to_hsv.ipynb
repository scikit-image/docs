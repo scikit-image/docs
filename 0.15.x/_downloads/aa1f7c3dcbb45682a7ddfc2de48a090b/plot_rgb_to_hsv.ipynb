{
  "cells": [
    {
      "cell_type": "code",
      "execution_count": null,
      "metadata": {
        "collapsed": false
      },
      "outputs": [],
      "source": [
        "%matplotlib inline"
      ]
    },
    {
      "cell_type": "markdown",
      "metadata": {},
      "source": [
        "\n# RGB to HSV\n\n\nThis example illustrates how RGB to HSV (Hue, Saturation, Value) conversion\n[1]_ can be used to facilitate segmentation processes.\n\nUsually, objects in images have distinct colors (hues) and luminosities, so\nthat these features can be used to separate different areas of the image.\nIn the RGB representation the hue and the luminosity are expressed as a linear\ncombination of the R,G,B channels, whereas they correspond to single channels\nof the HSV image (the Hue and the Value channels). A simple segmentation of the\nimage can then be effectively performed by a mere thresholding of the HSV\nchannels.\n\n.. [1] https://en.wikipedia.org/wiki/HSL_and_HSV\n\n\n"
      ]
    },
    {
      "cell_type": "markdown",
      "metadata": {},
      "source": [
        "We first load the RGB image and extract the Hue and Value channels:\n\n"
      ]
    },
    {
      "cell_type": "code",
      "execution_count": null,
      "metadata": {
        "collapsed": false
      },
      "outputs": [],
      "source": [
        "import matplotlib.pyplot as plt\n\nfrom skimage import data\nfrom skimage.color import rgb2hsv\n\nrgb_img = data.coffee()\nhsv_img = rgb2hsv(rgb_img)\nhue_img = hsv_img[:, :, 0]\nvalue_img = hsv_img[:, :, 2]\n\nfig, (ax0, ax1, ax2) = plt.subplots(ncols=3, figsize=(8, 2))\n\nax0.imshow(rgb_img)\nax0.set_title(\"RGB image\")\nax0.axis('off')\nax1.imshow(hue_img, cmap='hsv')\nax1.set_title(\"Hue channel\")\nax1.axis('off')\nax2.imshow(value_img)\nax2.set_title(\"Value channel\")\nax2.axis('off')\n\nfig.tight_layout()"
      ]
    },
    {
      "cell_type": "markdown",
      "metadata": {},
      "source": [
        "We then set a threshold on the Hue channel to separate the cup from the\nbackground:\n\n"
      ]
    },
    {
      "cell_type": "code",
      "execution_count": null,
      "metadata": {
        "collapsed": false
      },
      "outputs": [],
      "source": [
        "hue_threshold = 0.04\nbinary_img = hue_img > hue_threshold\n\nfig, (ax0, ax1) = plt.subplots(ncols=2, figsize=(8, 3))\n\nax0.hist(hue_img.ravel(), 512)\nax0.set_title(\"Histogram of the Hue channel with threshold\")\nax0.axvline(x=hue_threshold, color='r', linestyle='dashed', linewidth=2)\nax0.set_xbound(0, 0.12)\nax1.imshow(binary_img)\nax1.set_title(\"Hue-thresholded image\")\nax1.axis('off')\n\nfig.tight_layout()"
      ]
    },
    {
      "cell_type": "markdown",
      "metadata": {},
      "source": [
        "We finally perform an additional thresholding on the Value channel to partly\nremove the shadow of the cup:\n\n"
      ]
    },
    {
      "cell_type": "code",
      "execution_count": null,
      "metadata": {
        "collapsed": false
      },
      "outputs": [],
      "source": [
        "fig, ax0 = plt.subplots(figsize=(4, 3))\n\nvalue_threshold = 0.10\nbinary_img = (hue_img > hue_threshold) | (value_img < value_threshold)\n\nax0.imshow(binary_img)\nax0.set_title(\"Hue and value thresholded image\")\nax0.axis('off')\n\nfig.tight_layout()\nplt.show()"
      ]
    }
  ],
  "metadata": {
    "kernelspec": {
      "display_name": "Python 3",
      "language": "python",
      "name": "python3"
    },
    "language_info": {
      "codemirror_mode": {
        "name": "ipython",
        "version": 3
      },
      "file_extension": ".py",
      "mimetype": "text/x-python",
      "name": "python",
      "nbconvert_exporter": "python",
      "pygments_lexer": "ipython3",
      "version": "3.6.8"
    }
  },
  "nbformat": 4,
  "nbformat_minor": 0
}