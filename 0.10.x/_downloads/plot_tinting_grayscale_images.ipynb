{
  "nbformat": 3, 
  "nbformat_minor": 0, 
  "worksheets": [
    {
      "cells": [
        {
          "cell_type": "code", 
          "language": "python", 
          "outputs": [], 
          "collapsed": false, 
          "input": [
            "%matplotlib inline"
          ], 
          "metadata": {}
        }, 
        {
          "source": "<div class=\"document\" id=\"tinting-gray-scale-images\">\n<h1 class=\"title\">Tinting gray-scale images</h1>\n<p>It can be useful to artificially tint an image with some color, either to\nhighlight particular regions of an image or maybe just to liven up a grayscale\nimage. This example demonstrates image-tinting by scaling RGB values and by\nadjusting colors in the HSV color-space.</p>\n<p>In 2D, color images are often represented in RGB---3 layers of 2D arrays, where\nthe 3 layers represent (R)ed, (G)reen and (B)lue channels of the image. The\nsimplest way of getting a tinted image is to set each RGB channel to the\ngrayscale image scaled by a different multiplier for each channel. For example,\nmultiplying the green and blue channels by 0 leaves only the red channel and\nproduces a bright red image. Similarly, zeroing-out the blue channel leaves\nonly the red and green channels, which combine to form yellow.</p>\n</div>\n", 
          "cell_type": "markdown", 
          "metadata": {}
        }, 
        {
          "cell_type": "code", 
          "language": "python", 
          "outputs": [], 
          "collapsed": false, 
          "input": "\nimport matplotlib.pyplot as plt\nfrom skimage import data\nfrom skimage import color\nfrom skimage import img_as_float\n\ngrayscale_image = img_as_float(data.camera()[::2, ::2])\nimage = color.gray2rgb(grayscale_image)\n\nred_multiplier = [1, 0, 0]\nyellow_multiplier = [1, 1, 0]\n\nfig, (ax1, ax2) = plt.subplots(ncols=2, figsize=(8, 4))\nax1.imshow(red_multiplier * image)\nax2.imshow(yellow_multiplier * image)", 
          "metadata": {}
        }, 
        {
          "source": "<div class=\"document\">\n<p>In many cases, dealing with RGB values may not be ideal. Because of that, there\nare many other <a href=\"#id1\"><span class=\"problematic\" id=\"id2\">`color spaces`_</span></a> in which you can represent a color image. One\npopular color space is called <a href=\"#id3\"><span class=\"problematic\" id=\"id4\">HSV_</span></a>, which represents hue (~the color),\nsaturation (~colorfulness), and value (~brightness). For example, a color\n(hue) might be green, but its saturation is how intense that green is---where\nolive is on the low end and neon on the high end.</p>\n<p>In some implementations, the hue in HSV goes from 0 to 360, since hues wrap\naround in a circle. In scikit-image, however, hues are float values from 0 to\n1, so that hue, saturation, and value all share the same scale.</p>\n<p>Below, we plot a linear gradient in the hue, with the saturation and value\nturned all the way up:</p>\n<div class=\"system-messages section\">\n<h1>Docutils System Messages</h1>\n<div class=\"system-message\" id=\"id1\">\n<p class=\"system-message-title\">System Message: ERROR/3 (<tt class=\"docutils\">&lt;string&gt;</tt>, line 3); <em><a href=\"#id2\">backlink</a></em></p>\nUnknown target name: &quot;color spaces&quot;.</div>\n<div class=\"system-message\" id=\"id3\">\n<p class=\"system-message-title\">System Message: ERROR/3 (<tt class=\"docutils\">&lt;string&gt;</tt>, line 3); <em><a href=\"#id4\">backlink</a></em></p>\nUnknown target name: &quot;hsv&quot;.</div>\n</div>\n</div>\n", 
          "cell_type": "markdown", 
          "metadata": {}
        }, 
        {
          "cell_type": "code", 
          "language": "python", 
          "outputs": [], 
          "collapsed": false, 
          "input": "import numpy as np\n\nhue_gradient = np.linspace(0, 1)\nhsv = np.ones(shape=(1, len(hue_gradient), 3), dtype=float)\nhsv[:, :, 0] = hue_gradient\n\nall_hues = color.hsv2rgb(hsv)\n\nfig, ax = plt.subplots(figsize=(5, 2))\n# Set image extent so hues go from 0 to 1 and the image is a nice aspect ratio.\nax.imshow(all_hues, extent=(0, 1, 0, 0.2))\nax.set_axis_off()", 
          "metadata": {}
        }, 
        {
          "source": "<div class=\"document\">\n<p>Notice how the colors at the far left and far right are the same. That reflects\nthe fact that the hues wrap around like the color wheel (see <a href=\"#id1\"><span class=\"problematic\" id=\"id2\">HSV_</span></a> for more\ninfo).</p>\n<p>Now, let's create a little utility function to take an RGB image and:</p>\n<ol class=\"arabic simple\">\n<li>Transform the RGB image to HSV</li>\n<li>Set the hue and saturation</li>\n<li>Transform the HSV image back to RGB</li>\n</ol>\n<div class=\"system-messages section\">\n<h1>Docutils System Messages</h1>\n<div class=\"system-message\" id=\"id1\">\n<p class=\"system-message-title\">System Message: ERROR/3 (<tt class=\"docutils\">&lt;string&gt;</tt>, line 3); <em><a href=\"#id2\">backlink</a></em></p>\nUnknown target name: &quot;hsv&quot;.</div>\n</div>\n</div>\n", 
          "cell_type": "markdown", 
          "metadata": {}
        }, 
        {
          "cell_type": "code", 
          "language": "python", 
          "outputs": [], 
          "collapsed": false, 
          "input": "\ndef colorize(image, hue, saturation=1):\n    \"\"\" Add color of the given hue to an RGB image.\n\n    By default, set the saturation to 1 so that the colors pop!\n    \"\"\"\n    hsv = color.rgb2hsv(image)\n    hsv[:, :, 1] = saturation\n    hsv[:, :, 0] = hue\n    return color.hsv2rgb(hsv)", 
          "metadata": {}
        }, 
        {
          "source": "<div class=\"document\">\n<p>Notice that we need to bump up the saturation; images with zero saturation are\ngrayscale, so we need to a non-zero value to actually see the color we've set.</p>\n<p>Using the function above, we plot six images with a linear gradient in the hue\nand a non-zero saturation:</p>\n</div>\n", 
          "cell_type": "markdown", 
          "metadata": {}
        }, 
        {
          "cell_type": "code", 
          "language": "python", 
          "outputs": [], 
          "collapsed": false, 
          "input": "\nhue_rotations = np.linspace(0, 1, 6)\n\nfig, axes = plt.subplots(nrows=2, ncols=3)\n\nfor ax, hue in zip(axes.flat, hue_rotations):\n    # Turn down the saturation to give it that vintage look.\n    tinted_image = colorize(image, hue, saturation=0.3)\n    ax.imshow(tinted_image, vmin=0, vmax=1)\n    ax.set_axis_off()\nfig.tight_layout()", 
          "metadata": {}
        }, 
        {
          "source": "<div class=\"document\">\n<p>You can combine this tinting effect with numpy slicing and fancy-indexing to\nselectively tint your images. In the example below, we set the hue of some\nrectangles using slicing and scale the RGB values of some pixels found by\nthresholding. In practice, you might want to define a region for tinting based\non segmentation results or blob detection methods.</p>\n</div>\n", 
          "cell_type": "markdown", 
          "metadata": {}
        }, 
        {
          "cell_type": "code", 
          "language": "python", 
          "outputs": [], 
          "collapsed": false, 
          "input": "\nfrom skimage.filter import rank\n\n# Square regions defined as slices over the first two dimensions.\ntop_left = (slice(100),) * 2\nbottom_right = (slice(-100, None),) * 2\n\nsliced_image = image.copy()\nsliced_image[top_left] = colorize(image[top_left], 0.82, saturation=0.5)\nsliced_image[bottom_right] = colorize(image[bottom_right], 0.5, saturation=0.5)\n\n# Create a mask selecting regions with interesting texture.\nnoisy = rank.entropy(grayscale_image, np.ones((9, 9)))\ntextured_regions = noisy > 4\n# Note that using `colorize` here is a bit more difficult, since `rgb2hsv`\n# expects an RGB image (height x width x channel), but fancy-indexing returns\n# a set of RGB pixels (# pixels x channel).\nmasked_image = image.copy()\nmasked_image[textured_regions, :] *= red_multiplier\n\nfig, (ax1, ax2) = plt.subplots(ncols=2, figsize=(8, 4))\nax1.imshow(sliced_image)\nax2.imshow(masked_image)\n\nplt.show()", 
          "metadata": {}
        }, 
        {
          "source": "<div class=\"document\">\n<p>For coloring multiple regions, you may also be interested in\n<a class=\"reference external\" href=\"http://scikit-image.org/docs/0.9.x/api/skimage.color.html#label2rgb\">skimage.color.label2rgb</a>.</p>\n</div>\n", 
          "cell_type": "markdown", 
          "metadata": {}
        }
      ], 
      "metadata": {}
    }
  ], 
  "metadata": {
    "name": ""
  }
}