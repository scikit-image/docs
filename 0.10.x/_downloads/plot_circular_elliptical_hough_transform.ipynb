{
  "nbformat": 3, 
  "nbformat_minor": 0, 
  "worksheets": [
    {
      "cells": [
        {
          "cell_type": "code", 
          "language": "python", 
          "outputs": [], 
          "collapsed": false, 
          "input": [
            "%matplotlib inline"
          ], 
          "metadata": {}
        }, 
        {
          "source": "<div class=\"document\" id=\"circular-and-elliptical-hough-transforms\">\n<h1 class=\"title\">Circular and Elliptical Hough Transforms</h1>\n<p>The Hough transform in its simplest form is a <a class=\"reference external\" href=\"http://en.wikipedia.org/wiki/Hough_transform\">method to detect\nstraight lines</a>\nbut it can also be used to detect circles or ellipses.\nThe algorithm assumes that the edge is detected and it is robust against\nnoise or missing points.</p>\n<div class=\"section\" id=\"circle-detection\">\n<h1>Circle detection</h1>\n<p>In the following example, the Hough transform is used to detect\ncoin positions and match their edges. We provide a range of\nplausible radii. For each radius, two circles are extracted and\nwe finally keep the five most prominent candidates.\nThe result shows that coin positions are well-detected.</p>\n<div class=\"section\" id=\"algorithm-overview\">\n<h2>Algorithm overview</h2>\n<p>Given a black circle on a white background, we first guess its\nradius (or a range of radii) to construct a new circle.\nThis circle is applied on each black pixel of the original picture\nand the coordinates of this circle are voting in an accumulator.\nFrom this geometrical construction, the original circle center\nposition receives the highest score.</p>\n<p>Note that the accumulator size is built to be larger than the\noriginal picture in order to detect centers outside the frame.\nIts size is extended by two times the larger radius.</p>\n</div>\n</div>\n</div>\n", 
          "cell_type": "markdown", 
          "metadata": {}
        }, 
        {
          "cell_type": "code", 
          "language": "python", 
          "outputs": [], 
          "collapsed": false, 
          "input": "import numpy as np\nimport matplotlib.pyplot as plt\n\nfrom skimage import data, filter, color\nfrom skimage.transform import hough_circle\nfrom skimage.feature import peak_local_max\nfrom skimage.draw import circle_perimeter\nfrom skimage.util import img_as_ubyte\n\n\n# Load picture and detect edges\nimage = img_as_ubyte(data.coins()[0:95, 70:370])\nedges = filter.canny(image, sigma=3, low_threshold=10, high_threshold=50)\n\nfig, ax = plt.subplots(ncols=1, nrows=1, figsize=(5, 2))\n\n# Detect two radii\nhough_radii = np.arange(15, 30, 2)\nhough_res = hough_circle(edges, hough_radii)\n\ncenters = []\naccums = []\nradii = []\n\nfor radius, h in zip(hough_radii, hough_res):\n    # For each radius, extract two circles\n    peaks = peak_local_max(h, num_peaks=2)\n    centers.extend(peaks)\n    accums.extend(h[peaks[:, 0], peaks[:, 1]])\n    radii.extend([radius, radius])\n\n# Draw the most prominent 5 circles\nimage = color.gray2rgb(image)\nfor idx in np.argsort(accums)[::-1][:5]:\n    center_x, center_y = centers[idx]\n    radius = radii[idx]\n    cx, cy = circle_perimeter(center_y, center_x, radius)\n    image[cy, cx] = (220, 20, 20)\n\nax.imshow(image, cmap=plt.cm.gray)", 
          "metadata": {}
        }, 
        {
          "source": "<div class=\"document\" id=\"ellipse-detection\">\n<h1 class=\"title\">Ellipse detection</h1>\n<p>In this second example, the aim is to detect the edge of a coffee cup.\nBasically, this is a projection of a circle, i.e. an ellipse.\nThe problem to solve is much more difficult because five parameters have to be\ndetermined, instead of three for circles.</p>\n<div class=\"section\" id=\"algorithm-overview\">\n<h1>Algorithm overview</h1>\n<p>The algorithm takes two different points belonging to the ellipse. It assumes\nthat it is the main axis. A loop on all the other points determines how much\nan ellipse passes to them. A good match corresponds to high accumulator values.</p>\n<p>A full description of the algorithm can be found in reference <a class=\"footnote-reference\" href=\"#id2\" id=\"id1\">[1]</a>.</p>\n</div>\n<div class=\"section\" id=\"references\">\n<h1>References</h1>\n<table class=\"docutils footnote\" frame=\"void\" id=\"id2\" rules=\"none\">\n<colgroup><col class=\"label\" /><col /></colgroup>\n<tbody valign=\"top\">\n<tr><td class=\"label\"><a class=\"fn-backref\" href=\"#id1\">[1]</a></td><td>Xie, Yonghong, and Qiang Ji. &quot;A new efficient ellipse detection\nmethod.&quot; Pattern Recognition, 2002. Proceedings. 16th International\nConference on. Vol. 2. IEEE, 2002</td></tr>\n</tbody>\n</table>\n</div>\n</div>\n", 
          "cell_type": "markdown", 
          "metadata": {}
        }, 
        {
          "cell_type": "code", 
          "language": "python", 
          "outputs": [], 
          "collapsed": false, 
          "input": "\nimport matplotlib.pyplot as plt\n\nfrom skimage import data, filter, color\nfrom skimage.transform import hough_ellipse\nfrom skimage.draw import ellipse_perimeter\n\n# Load picture, convert to grayscale and detect edges\nimage_rgb = data.coffee()[0:220, 160:420]\nimage_gray = color.rgb2gray(image_rgb)\nedges = filter.canny(image_gray, sigma=2.0,\n                     low_threshold=0.55, high_threshold=0.8)\n\n# Perform a Hough Transform\n# The accuracy corresponds to the bin size of a major axis.\n# The value is chosen in order to get a single high accumulator.\n# The threshold eliminates low accumulators\nresult = hough_ellipse(edges, accuracy=20, threshold=250,\n                       min_size=100, max_size=120)\nresult.sort(order='accumulator')\n\n# Estimated parameters for the ellipse\nbest = result[-1]\nyc = int(best[1])\nxc = int(best[2])\na = int(best[3])\nb = int(best[4])\norientation = best[5]\n\n# Draw the ellipse on the original image\ncy, cx = ellipse_perimeter(yc, xc, a, b, orientation)\nimage_rgb[cy, cx] = (0, 0, 255)\n# Draw the edge (white) and the resulting ellipse (red)\nedges = color.gray2rgb(edges)\nedges[cy, cx] = (250, 0, 0)\n\nfig2, (ax1, ax2) = plt.subplots(ncols=2, nrows=1, figsize=(8, 4))\n\nax1.set_title('Original picture')\nax1.imshow(image_rgb)\n\nax2.set_title('Edge (white) and result (red)')\nax2.imshow(edges)\n\nplt.show()", 
          "metadata": {}
        }, 
        {
          "source": "<div class=\"document\">\n</div>\n", 
          "cell_type": "markdown", 
          "metadata": {}
        }
      ], 
      "metadata": {}
    }
  ], 
  "metadata": {
    "name": ""
  }
}