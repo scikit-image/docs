{
  "nbformat": 3, 
  "nbformat_minor": 0, 
  "worksheets": [
    {
      "cells": [
        {
          "cell_type": "code", 
          "language": "python", 
          "outputs": [], 
          "collapsed": false, 
          "input": [
            "%matplotlib inline"
          ], 
          "metadata": {}
        }, 
        {
          "source": "<div class=\"document\" id=\"edge-operators\">\n<h1 class=\"title\">Edge operators</h1>\n<p>Edge operators are used in image processing within edge detection algorithms.\nThey are discrete differentiation operators, computing an approximation of the\ngradient of the image intensity function.</p>\n</div>\n", 
          "cell_type": "markdown", 
          "metadata": {}
        }, 
        {
          "cell_type": "code", 
          "language": "python", 
          "outputs": [], 
          "collapsed": false, 
          "input": "import matplotlib.pyplot as plt\n\nfrom skimage.data import camera\nfrom skimage.filter import roberts, sobel\n\n\nimage = camera()\nedge_roberts = roberts(image)\nedge_sobel = sobel(image)\n\nfig, (ax0, ax1) = plt.subplots(ncols=2)\n\nax0.imshow(edge_roberts, cmap=plt.cm.gray)\nax0.set_title('Roberts Edge Detection')\nax0.axis('off')\n\nax1.imshow(edge_sobel, cmap=plt.cm.gray)\nax1.set_title('Sobel Edge Detection')\nax1.axis('off')\n\nplt.show()", 
          "metadata": {}
        }
      ], 
      "metadata": {}
    }
  ], 
  "metadata": {
    "name": ""
  }
}