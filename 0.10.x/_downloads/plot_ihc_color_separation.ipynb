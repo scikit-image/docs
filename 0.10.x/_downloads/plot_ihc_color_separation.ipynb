{
  "nbformat": 3, 
  "nbformat_minor": 0, 
  "worksheets": [
    {
      "cells": [
        {
          "cell_type": "code", 
          "language": "python", 
          "outputs": [], 
          "collapsed": false, 
          "input": [
            "%matplotlib inline"
          ], 
          "metadata": {}
        }, 
        {
          "source": "<div class=\"document\" id=\"immunohistochemical-staining-colors-separation\">\n<h1 class=\"title\">Immunohistochemical staining colors separation</h1>\n<p>In this example we separate the immunohistochemical (IHC) staining from the\nhematoxylin counterstaining. The separation is achieved with the method\ndescribed in <a class=\"footnote-reference\" href=\"#id2\" id=\"id1\">[1]</a>, known as &quot;color deconvolution&quot;.</p>\n<p>The IHC staining expression of the FHL2 protein is here revealed with\nDiaminobenzidine (DAB) which gives a brown color.</p>\n<table class=\"docutils footnote\" frame=\"void\" id=\"id2\" rules=\"none\">\n<colgroup><col class=\"label\" /><col /></colgroup>\n<tbody valign=\"top\">\n<tr><td class=\"label\"><a class=\"fn-backref\" href=\"#id1\">[1]</a></td><td>A. C. Ruifrok and D. A. Johnston, &quot;Quantification of histochemical\nstaining by color deconvolution.,&quot; Analytical and quantitative\ncytology and histology / the International Academy of Cytology [and]\nAmerican Society of Cytology, vol. 23, no. 4, pp. 291-9, Aug. 2001.</td></tr>\n</tbody>\n</table>\n</div>\n", 
          "cell_type": "markdown", 
          "metadata": {}
        }, 
        {
          "cell_type": "code", 
          "language": "python", 
          "outputs": [], 
          "collapsed": false, 
          "input": "import matplotlib.pyplot as plt\n\nfrom skimage import data\nfrom skimage.color import rgb2hed\n\n\nihc_rgb = data.immunohistochemistry()\nihc_hed = rgb2hed(ihc_rgb)\n\nfig, axes = plt.subplots(2, 2, figsize=(7, 6))\nax0, ax1, ax2, ax3 = axes.ravel()\n\nax0.imshow(ihc_rgb)\nax0.set_title(\"Original image\")\n\nax1.imshow(ihc_hed[:, :, 0], cmap=plt.cm.gray)\nax1.set_title(\"Hematoxylin\")\n\nax2.imshow(ihc_hed[:, :, 1], cmap=plt.cm.gray)\nax2.set_title(\"Eosin\")\n\nax3.imshow(ihc_hed[:, :, 2], cmap=plt.cm.gray)\nax3.set_title(\"DAB\")\n\nfor ax in axes.ravel():\n    ax.axis('off')\n\nfig.subplots_adjust(hspace=0.3)", 
          "metadata": {}
        }, 
        {
          "source": "<div class=\"document\">\n<p>Now we can easily manipulate the hematoxylin and DAB &quot;channels&quot;:</p>\n</div>\n", 
          "cell_type": "markdown", 
          "metadata": {}
        }, 
        {
          "cell_type": "code", 
          "language": "python", 
          "outputs": [], 
          "collapsed": false, 
          "input": "import numpy as np\n\nfrom skimage.exposure import rescale_intensity\n\n# Rescale hematoxylin and DAB signals and give them a fluorescence look\nh = rescale_intensity(ihc_hed[:, :, 0], out_range=(0, 1))\nd = rescale_intensity(ihc_hed[:, :, 2], out_range=(0, 1))\nzdh = np.dstack((np.zeros_like(h), d, h))\n\nfig, ax = plt.subplots()\nax.imshow(zdh)\nax.set_title(\"Stain separated image (rescaled)\")\nax.axis('off')\nplt.show()", 
          "metadata": {}
        }, 
        {
          "source": "<div class=\"document\">\n</div>\n", 
          "cell_type": "markdown", 
          "metadata": {}
        }
      ], 
      "metadata": {}
    }
  ], 
  "metadata": {
    "name": ""
  }
}