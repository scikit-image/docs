{
  "nbformat": 3, 
  "nbformat_minor": 0, 
  "worksheets": [
    {
      "cells": [
        {
          "cell_type": "code", 
          "language": "python", 
          "outputs": [], 
          "collapsed": false, 
          "input": [
            "%matplotlib inline"
          ], 
          "metadata": {}
        }, 
        {
          "source": "<div class=\"document\" id=\"adaptive-thresholding\">\n<h1 class=\"title\">Adaptive Thresholding</h1>\n<p>Thresholding is the simplest way to segment objects from a background. If that\nbackground is relatively uniform, then you can use a global threshold value to\nbinarize the image by pixel-intensity. If there's large variation in the\nbackground intensity, however, adaptive thresholding (a.k.a. local or dynamic\nthresholding) may produce better results.</p>\n<p>Here, we binarize an image using the <cite>threshold_adaptive</cite> function, which\ncalculates thresholds in regions of size <cite>block_size</cite> surrounding each pixel\n(i.e. local neighborhoods). Each threshold value is the weighted mean of the\nlocal neighborhood minus an offset value.</p>\n</div>\n", 
          "cell_type": "markdown", 
          "metadata": {}
        }, 
        {
          "cell_type": "code", 
          "language": "python", 
          "outputs": [], 
          "collapsed": false, 
          "input": "import matplotlib.pyplot as plt\n\nfrom skimage import data\nfrom skimage.filter import threshold_otsu, threshold_adaptive\n\n\nimage = data.page()\n\nglobal_thresh = threshold_otsu(image)\nbinary_global = image > global_thresh\n\nblock_size = 40\nbinary_adaptive = threshold_adaptive(image, block_size, offset=10)\n\nfig, axes = plt.subplots(nrows=3, figsize=(7, 8))\nax0, ax1, ax2 = axes\nplt.gray()\n\nax0.imshow(image)\nax0.set_title('Image')\n\nax1.imshow(binary_global)\nax1.set_title('Global thresholding')\n\nax2.imshow(binary_adaptive)\nax2.set_title('Adaptive thresholding')\n\nfor ax in axes:\n    ax.axis('off')\n\nplt.show()", 
          "metadata": {}
        }
      ], 
      "metadata": {}
    }
  ], 
  "metadata": {
    "name": ""
  }
}