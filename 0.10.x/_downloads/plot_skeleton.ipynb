{
  "nbformat": 3, 
  "nbformat_minor": 0, 
  "worksheets": [
    {
      "cells": [
        {
          "cell_type": "code", 
          "language": "python", 
          "outputs": [], 
          "collapsed": false, 
          "input": [
            "%matplotlib inline"
          ], 
          "metadata": {}
        }, 
        {
          "source": "<div class=\"document\" id=\"skeletonize\">\n<h1 class=\"title\">Skeletonize</h1>\n<p>Skeletonization reduces binary objects to 1 pixel wide representations. This\ncan be useful for feature extraction, and/or representing an object's topology.</p>\n<p>The algorithm works by making successive passes of the image. On each pass,\nborder pixels are identified and removed on the condition that they do not\nbreak the connectivity of the corresponding object.</p>\n<p>This module provides an example of calling the routine and displaying the\nresults. The input is a 2D ndarray, with either boolean or integer elements.\nIn the case of boolean, 'True' indicates foreground, and for integer arrays,\nthe foreground is 1's.</p>\n</div>\n", 
          "cell_type": "markdown", 
          "metadata": {}
        }, 
        {
          "cell_type": "code", 
          "language": "python", 
          "outputs": [], 
          "collapsed": false, 
          "input": "from skimage.morphology import skeletonize\nfrom skimage import draw\nimport numpy as np\nimport matplotlib.pyplot as plt\n\n# an empty image\nimage = np.zeros((400, 400))\n\n# foreground object 1\nimage[10:-10, 10:100] = 1\nimage[-100:-10, 10:-10] = 1\nimage[10:-10, -100:-10] = 1\n\n# foreground object 2\nrs, cs = draw.line(250, 150, 10, 280)\nfor i in range(10):\n    image[rs + i, cs] = 1\nrs, cs = draw.line(10, 150, 250, 280)\nfor i in range(20):\n    image[rs + i, cs] = 1\n\n# foreground object 3\nir, ic = np.indices(image.shape)\ncircle1 = (ic - 135)**2 + (ir - 150)**2 < 30**2\ncircle2 = (ic - 135)**2 + (ir - 150)**2 < 20**2\nimage[circle1] = 1\nimage[circle2] = 0\n\n# perform skeletonization\nskeleton = skeletonize(image)\n\n# display results\nfig, (ax1, ax2) = plt.subplots(1, 2, figsize=(8, 4.5))\n\nax1.imshow(image, cmap=plt.cm.gray)\nax1.axis('off')\nax1.set_title('original', fontsize=20)\n\nax2.imshow(skeleton, cmap=plt.cm.gray)\nax2.axis('off')\nax2.set_title('skeleton', fontsize=20)\n\nfig.subplots_adjust(wspace=0.02, hspace=0.02, top=0.98,\n                    bottom=0.02, left=0.02, right=0.98)\n\nplt.show()", 
          "metadata": {}
        }
      ], 
      "metadata": {}
    }
  ], 
  "metadata": {
    "name": ""
  }
}