{
  "nbformat": 3, 
  "nbformat_minor": 0, 
  "worksheets": [
    {
      "cells": [
        {
          "cell_type": "code", 
          "language": "python", 
          "outputs": [], 
          "collapsed": false, 
          "input": [
            "%matplotlib inline"
          ], 
          "metadata": {}
        }, 
        {
          "source": "<div class=\"document\" id=\"block-views-on-images-arrays\">\n<h1 class=\"title\">Block views on images/arrays</h1>\n<p>This example illustrates the use of <cite>view_as_blocks</cite> from\n<cite>skimage.util.shape</cite>.  Block views can be incredibly useful when one\nwants to perform local operations on non-overlapping image patches.</p>\n<p>We use <cite>lena</cite> from <cite>skimage.data</cite> and virtually 'slice' it into square\nblocks.  Then, on each block, we either pool the mean, the max or the\nmedian value of that block. The results are displayed altogether, along\nwith a spline interpolation of order 3 rescaling of the original <cite>lena</cite>\nimage.</p>\n</div>\n", 
          "cell_type": "markdown", 
          "metadata": {}
        }, 
        {
          "cell_type": "code", 
          "language": "python", 
          "outputs": [], 
          "collapsed": false, 
          "input": "import numpy as np\nfrom scipy import ndimage as ndi\nfrom matplotlib import pyplot as plt\nimport matplotlib.cm as cm\n\nfrom skimage import data\nfrom skimage import color\nfrom skimage.util.shape import view_as_blocks\n\n\n# -- get `lena` from skimage.data in grayscale\nl = color.rgb2gray(data.lena())\n\n# -- size of blocks\nblock_shape = (4, 4)\n\n# -- see `lena` as a matrix of blocks (of shape\n#    `block_shape`)\nview = view_as_blocks(l, block_shape)\n\n# -- collapse the last two dimensions in one\nflatten_view = view.reshape(view.shape[0], view.shape[1], -1)\n\n# -- resampling `lena` by taking either the `mean`,\n#    the `max` or the `median` value of each blocks.\nmean_view = np.mean(flatten_view, axis=2)\nmax_view = np.max(flatten_view, axis=2)\nmedian_view = np.median(flatten_view, axis=2)\n\n# -- display resampled images\nfig, axes = plt.subplots(2, 2, figsize=(8, 8))\nax0, ax1, ax2, ax3 = axes.ravel()\n\nax0.set_title(\"Original rescaled with\\n spline interpolation (order=3)\")\nl_resized = ndi.zoom(l, 2, order=3)\nax0.imshow(l_resized, cmap=cm.Greys_r)\n\nax1.set_title(\"Block view with\\n local mean pooling\")\nax1.imshow(mean_view, cmap=cm.Greys_r)\n\nax2.set_title(\"Block view with\\n local max pooling\")\nax2.imshow(max_view, cmap=cm.Greys_r)\n\nax3.set_title(\"Block view with\\n local median pooling\")\nax3.imshow(median_view, cmap=cm.Greys_r)\n\nfig.subplots_adjust(hspace=0.4, wspace=0.4)\nplt.show()", 
          "metadata": {}
        }
      ], 
      "metadata": {}
    }
  ], 
  "metadata": {
    "name": ""
  }
}