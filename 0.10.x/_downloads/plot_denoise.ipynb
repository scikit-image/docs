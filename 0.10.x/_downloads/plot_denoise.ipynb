{
  "nbformat": 3, 
  "nbformat_minor": 0, 
  "worksheets": [
    {
      "cells": [
        {
          "cell_type": "code", 
          "language": "python", 
          "outputs": [], 
          "collapsed": false, 
          "input": [
            "%matplotlib inline"
          ], 
          "metadata": {}
        }, 
        {
          "source": "<div class=\"document\" id=\"denoising-the-picture-of-lena\">\n<h1 class=\"title\">Denoising the picture of Lena</h1>\n<p>In this example, we denoise a noisy version of the picture of Lena using the\ntotal variation and bilateral denoising filter.</p>\n<p>These algorithms typically produce &quot;posterized&quot; images with flat domains\nseparated by sharp edges. It is possible to change the degree of posterization\nby controlling the tradeoff between denoising and faithfulness to the original\nimage.</p>\n<div class=\"section\" id=\"total-variation-filter\">\n<h1>Total variation filter</h1>\n<p>The result of this filter is an image that has a minimal total variation norm,\nwhile being as close to the initial image as possible. The total variation is\nthe L1 norm of the gradient of the image.</p>\n</div>\n<div class=\"section\" id=\"bilateral-filter\">\n<h1>Bilateral filter</h1>\n<p>A bilateral filter is an edge-preserving and noise reducing filter. It averages\npixels based on their spatial closeness and radiometric similarity.</p>\n</div>\n</div>\n", 
          "cell_type": "markdown", 
          "metadata": {}
        }, 
        {
          "cell_type": "code", 
          "language": "python", 
          "outputs": [], 
          "collapsed": false, 
          "input": "import numpy as np\nimport matplotlib.pyplot as plt\n\nfrom skimage import data, img_as_float\nfrom skimage.restoration import denoise_tv_chambolle, denoise_bilateral\n\n\nlena = img_as_float(data.lena())\nlena = lena[220:300, 220:320]\n\nnoisy = lena + 0.6 * lena.std() * np.random.random(lena.shape)\nnoisy = np.clip(noisy, 0, 1)\n\nfig, ax = plt.subplots(nrows=2, ncols=3, figsize=(8, 5))\n\nplt.gray()\n\nax[0, 0].imshow(noisy)\nax[0, 0].axis('off')\nax[0, 0].set_title('noisy')\nax[0, 1].imshow(denoise_tv_chambolle(noisy, weight=0.1, multichannel=True))\nax[0, 1].axis('off')\nax[0, 1].set_title('TV')\nax[0, 2].imshow(denoise_bilateral(noisy, sigma_range=0.05, sigma_spatial=15))\nax[0, 2].axis('off')\nax[0, 2].set_title('Bilateral')\n\nax[1, 0].imshow(denoise_tv_chambolle(noisy, weight=0.2, multichannel=True))\nax[1, 0].axis('off')\nax[1, 0].set_title('(more) TV')\nax[1, 1].imshow(denoise_bilateral(noisy, sigma_range=0.1, sigma_spatial=15))\nax[1, 1].axis('off')\nax[1, 1].set_title('(more) Bilateral')\nax[1, 2].imshow(lena)\nax[1, 2].axis('off')\nax[1, 2].set_title('original')\n\nfig.subplots_adjust(wspace=0.02, hspace=0.2,\n                    top=0.9, bottom=0.05, left=0, right=1)\n\nplt.show()", 
          "metadata": {}
        }
      ], 
      "metadata": {}
    }
  ], 
  "metadata": {
    "name": ""
  }
}