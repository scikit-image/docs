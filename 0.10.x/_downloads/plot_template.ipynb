{
  "nbformat": 3, 
  "nbformat_minor": 0, 
  "worksheets": [
    {
      "cells": [
        {
          "cell_type": "code", 
          "language": "python", 
          "outputs": [], 
          "collapsed": false, 
          "input": [
            "%matplotlib inline"
          ], 
          "metadata": {}
        }, 
        {
          "source": "<div class=\"document\" id=\"template-matching\">\n<h1 class=\"title\">Template Matching</h1>\n<p>In this example, we use template matching to identify the occurrence of an\nimage patch (in this case, a sub-image centered on a single coin). Here, we\nreturn a single match (the exact same coin), so the maximum value in the\n<tt class=\"docutils literal\">match_template</tt> result corresponds to the coin location. The other coins\nlook similar, and thus have local maxima; if you expect multiple matches, you\nshould use a proper peak-finding function.</p>\n<p>The <tt class=\"docutils literal\">match_template</tt> function uses fast, normalized cross-correlation <a class=\"footnote-reference\" href=\"#id2\" id=\"id1\">[1]</a>\nto find instances of the template in the image. Note that the peaks in the\noutput of <tt class=\"docutils literal\">match_template</tt> correspond to the origin (i.e. top-left corner) of\nthe template.</p>\n<table class=\"docutils footnote\" frame=\"void\" id=\"id2\" rules=\"none\">\n<colgroup><col class=\"label\" /><col /></colgroup>\n<tbody valign=\"top\">\n<tr><td class=\"label\"><a class=\"fn-backref\" href=\"#id1\">[1]</a></td><td>J. P. Lewis, &quot;Fast Normalized Cross-Correlation&quot;, Industrial Light and\nMagic.</td></tr>\n</tbody>\n</table>\n</div>\n", 
          "cell_type": "markdown", 
          "metadata": {}
        }, 
        {
          "cell_type": "code", 
          "language": "python", 
          "outputs": [], 
          "collapsed": false, 
          "input": "import numpy as np\nimport matplotlib.pyplot as plt\n\nfrom skimage import data\nfrom skimage.feature import match_template\n\n\nimage = data.coins()\ncoin = image[170:220, 75:130]\n\nresult = match_template(image, coin)\nij = np.unravel_index(np.argmax(result), result.shape)\nx, y = ij[::-1]\n\nfig, (ax1, ax2, ax3) = plt.subplots(ncols=3, figsize=(8, 3))\n\nax1.imshow(coin)\nax1.set_axis_off()\nax1.set_title('template')\n\nax2.imshow(image)\nax2.set_axis_off()\nax2.set_title('image')\n# highlight matched region\nhcoin, wcoin = coin.shape\nrect = plt.Rectangle((x, y), wcoin, hcoin, edgecolor='r', facecolor='none')\nax2.add_patch(rect)\n\nax3.imshow(result)\nax3.set_axis_off()\nax3.set_title('`match_template`\\nresult')\n# highlight matched region\nax3.autoscale(False)\nax3.plot(x, y, 'o', markeredgecolor='r', markerfacecolor='none', markersize=10)\n\nplt.show()", 
          "metadata": {}
        }
      ], 
      "metadata": {}
    }
  ], 
  "metadata": {
    "name": ""
  }
}