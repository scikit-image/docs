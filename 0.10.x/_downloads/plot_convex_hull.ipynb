{
  "nbformat": 3, 
  "nbformat_minor": 0, 
  "worksheets": [
    {
      "cells": [
        {
          "cell_type": "code", 
          "language": "python", 
          "outputs": [], 
          "collapsed": false, 
          "input": [
            "%matplotlib inline"
          ], 
          "metadata": {}
        }, 
        {
          "source": "<div class=\"document\" id=\"convex-hull\">\n<h1 class=\"title\">Convex Hull</h1>\n<p>The convex hull of a binary image is the set of pixels included in the\nsmallest convex polygon that surround all white pixels in the input.</p>\n<p>In this example, we show how the input pixels (white) get filled in by the\nconvex hull (white and grey).</p>\n<p>A good overview of the algorithm is given on <a class=\"reference external\" href=\"http://blogs.mathworks.com/steve/2011/10/04/binary-image-convex-hull-algorithm-notes/\">Steve Eddin's blog</a>.</p>\n</div>\n", 
          "cell_type": "markdown", 
          "metadata": {}
        }, 
        {
          "cell_type": "code", 
          "language": "python", 
          "outputs": [], 
          "collapsed": false, 
          "input": "import numpy as np\nimport matplotlib.pyplot as plt\n\nfrom skimage.morphology import convex_hull_image\n\n\nimage = np.array(\n    [[0, 0, 0, 0, 0, 0, 0, 0, 0],\n     [0, 0, 0, 0, 1, 0, 0, 0, 0],\n     [0, 0, 0, 1, 0, 1, 0, 0, 0],\n     [0, 0, 1, 0, 0, 0, 1, 0, 0],\n     [0, 1, 0, 0, 0, 0, 0, 1, 0],\n     [0, 0, 0, 0, 0, 0, 0, 0, 0]], dtype=float)\n\noriginal_image = np.copy(image)\n\nchull = convex_hull_image(image)\nimage[chull] += 1\n# image is now:\n#[[ 0.  0.  0.  0.  0.  0.  0.  0.  0.]\n# [ 0.  0.  0.  0.  2.  0.  0.  0.  0.]\n# [ 0.  0.  0.  2.  1.  2.  0.  0.  0.]\n# [ 0.  0.  2.  1.  1.  1.  2.  0.  0.]\n# [ 0.  2.  1.  1.  1.  1.  1.  2.  0.]\n# [ 0.  0.  0.  0.  0.  0.  0.  0.  0.]]\n\n\nfig, (ax1, ax2) = plt.subplots(1, 2, figsize=(10, 6))\nax1.set_title('Original picture')\nax1.imshow(original_image, cmap=plt.cm.gray, interpolation='nearest')\nax2.set_title('Transformed picture')\nax2.imshow(image, cmap=plt.cm.gray, interpolation='nearest')\nplt.show()", 
          "metadata": {}
        }
      ], 
      "metadata": {}
    }
  ], 
  "metadata": {
    "name": ""
  }
}