{
  "nbformat": 3, 
  "nbformat_minor": 0, 
  "worksheets": [
    {
      "cells": [
        {
          "cell_type": "code", 
          "language": "python", 
          "outputs": [], 
          "collapsed": false, 
          "input": [
            "%matplotlib inline"
          ], 
          "metadata": {}
        }, 
        {
          "source": "<div class=\"document\" id=\"contour-finding\">\n<h1 class=\"title\">Contour finding</h1>\n<p><tt class=\"docutils literal\">skimage.measure.find_contours</tt> uses a marching squares method to find\nconstant valued contours in an image.  Array values are linearly interpolated\nto provide better precision of the output contours.  Contours which intersect\nthe image edge are open; all others are closed.</p>\n<p>The <a class=\"reference external\" href=\"http://www.essi.fr/~lingrand/MarchingCubes/algo.html\">marching squares algorithm</a> is a special case of\nthe marching cubes algorithm (Lorensen, William and Harvey E. Cline. Marching\nCubes: A High Resolution 3D Surface Construction Algorithm. Computer Graphics\n(SIGGRAPH 87 Proceedings) 21(4) July 1987, p. 163-170).</p>\n</div>\n", 
          "cell_type": "markdown", 
          "metadata": {}
        }, 
        {
          "cell_type": "code", 
          "language": "python", 
          "outputs": [], 
          "collapsed": false, 
          "input": "import numpy as np\nimport matplotlib.pyplot as plt\n\nfrom skimage import measure\n\n\n# Construct some test data\nx, y = np.ogrid[-np.pi:np.pi:100j, -np.pi:np.pi:100j]\nr = np.sin(np.exp((np.sin(x)**3 + np.cos(y)**2)))\n\n# Find contours at a constant value of 0.8\ncontours = measure.find_contours(r, 0.8)\n\n# Display the image and plot all contours found\nfig, ax = plt.subplots()\nax.imshow(r, interpolation='nearest', cmap=plt.cm.gray)\n\nfor n, contour in enumerate(contours):\n    ax.plot(contour[:, 1], contour[:, 0], linewidth=2)\n\nax.axis('image')\nax.set_xticks([])\nax.set_yticks([])\nplt.show()", 
          "metadata": {}
        }
      ], 
      "metadata": {}
    }
  ], 
  "metadata": {
    "name": ""
  }
}