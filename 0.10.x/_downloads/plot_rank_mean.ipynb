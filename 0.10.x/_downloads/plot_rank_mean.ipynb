{
  "nbformat": 3, 
  "nbformat_minor": 0, 
  "worksheets": [
    {
      "cells": [
        {
          "cell_type": "code", 
          "language": "python", 
          "outputs": [], 
          "collapsed": false, 
          "input": [
            "%matplotlib inline"
          ], 
          "metadata": {}
        }, 
        {
          "source": "<div class=\"document\" id=\"mean-filters\">\n<h1 class=\"title\">Mean filters</h1>\n<p>This example compares the following mean filters of the rank filter package:</p>\n<blockquote>\n<ul class=\"simple\">\n<li><strong>local mean</strong>: all pixels belonging to the structuring element to compute\naverage gray level.</li>\n<li><strong>percentile mean</strong>: only use values between percentiles p0 and p1\n(here 10% and 90%).</li>\n<li><strong>bilateral mean</strong>: only use pixels of the structuring element having a gray\nlevel situated inside g-s0 and g+s1 (here g-500 and g+500)</li>\n</ul>\n</blockquote>\n<p>Percentile and usual mean give here similar results, these filters smooth the\ncomplete image (background and details). Bilateral mean exhibits a high\nfiltering rate for continuous area (i.e. background) while higher image\nfrequencies remain untouched.</p>\n</div>\n", 
          "cell_type": "markdown", 
          "metadata": {}
        }, 
        {
          "cell_type": "code", 
          "language": "python", 
          "outputs": [], 
          "collapsed": false, 
          "input": "import numpy as np\nimport matplotlib.pyplot as plt\n\nfrom skimage import data\nfrom skimage.morphology import disk\nfrom skimage.filter import rank\n\n\nimage = (data.coins()).astype(np.uint16) * 16\nselem = disk(20)\n\npercentile_result = rank.mean_percentile(image, selem=selem, p0=.1, p1=.9)\nbilateral_result = rank.mean_bilateral(image, selem=selem, s0=500, s1=500)\nnormal_result = rank.mean(image, selem=selem)\n\n\nfig, axes = plt.subplots(nrows=3, figsize=(8, 10))\nax0, ax1, ax2 = axes\n\nax0.imshow(np.hstack((image, percentile_result)))\nax0.set_title('Percentile mean')\nax0.axis('off')\n\nax1.imshow(np.hstack((image, bilateral_result)))\nax1.set_title('Bilateral mean')\nax1.axis('off')\n\nax2.imshow(np.hstack((image, normal_result)))\nax2.set_title('Local mean')\nax2.axis('off')\n\nplt.show()", 
          "metadata": {}
        }
      ], 
      "metadata": {}
    }
  ], 
  "metadata": {
    "name": ""
  }
}