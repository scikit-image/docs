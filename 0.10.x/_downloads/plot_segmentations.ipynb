{
  "nbformat": 3, 
  "nbformat_minor": 0, 
  "worksheets": [
    {
      "cells": [
        {
          "cell_type": "code", 
          "language": "python", 
          "outputs": [], 
          "collapsed": false, 
          "input": [
            "%matplotlib inline"
          ], 
          "metadata": {}
        }, 
        {
          "source": "<div class=\"document\" id=\"comparison-of-segmentation-and-superpixel-algorithms\">\n<h1 class=\"title\">Comparison of segmentation and superpixel algorithms</h1>\n<p>This example compares three popular low-level image segmentation methods.  As\nit is difficult to obtain good segmentations, and the definition of &quot;good&quot;\noften depends on the application, these methods are usually used for obtaining\nan oversegmentation, also known as superpixels. These superpixels then serve as\na basis for more sophisticated algorithms such as conditional random fields\n(CRF).</p>\n<div class=\"section\" id=\"felzenszwalb-s-efficient-graph-based-segmentation\">\n<h1>Felzenszwalb's efficient graph based segmentation</h1>\n<p>This fast 2D image segmentation algorithm, proposed in <a class=\"footnote-reference\" href=\"#id2\" id=\"id1\">[1]</a> is popular in the\ncomputer vision community.\nThe algorithm has a single <tt class=\"docutils literal\">scale</tt> parameter that influences the segment\nsize. The actual size and number of segments can vary greatly, depending on\nlocal contrast.</p>\n<table class=\"docutils footnote\" frame=\"void\" id=\"id2\" rules=\"none\">\n<colgroup><col class=\"label\" /><col /></colgroup>\n<tbody valign=\"top\">\n<tr><td class=\"label\"><a class=\"fn-backref\" href=\"#id1\">[1]</a></td><td>Efficient graph-based image segmentation, Felzenszwalb, P.F. and\nHuttenlocher, D.P.  International Journal of Computer Vision, 2004</td></tr>\n</tbody>\n</table>\n</div>\n<div class=\"section\" id=\"quickshift-image-segmentation\">\n<h1>Quickshift image segmentation</h1>\n<p>Quickshift is a relatively recent 2D image segmentation algorithm, based on an\napproximation of kernelized mean-shift. Therefore it belongs to the family of\nlocal mode-seeking algorithms and is applied to the 5D space consisting of\ncolor information and image location <a class=\"footnote-reference\" href=\"#id4\" id=\"id3\">[2]</a>.</p>\n<p>One of the benefits of quickshift is that it actually computes a\nhierarchical segmentation on multiple scales simultaneously.</p>\n<p>Quickshift has two main parameters: <tt class=\"docutils literal\">sigma</tt> controls the scale of the local\ndensity approximation, <tt class=\"docutils literal\">max_dist</tt> selects a level in the hierarchical\nsegmentation that is produced. There is also a trade-off between distance in\ncolor-space and distance in image-space, given by <tt class=\"docutils literal\">ratio</tt>.</p>\n<table class=\"docutils footnote\" frame=\"void\" id=\"id4\" rules=\"none\">\n<colgroup><col class=\"label\" /><col /></colgroup>\n<tbody valign=\"top\">\n<tr><td class=\"label\"><a class=\"fn-backref\" href=\"#id3\">[2]</a></td><td>Quick shift and kernel methods for mode seeking,\nVedaldi, A. and Soatto, S.\nEuropean Conference on Computer Vision, 2008</td></tr>\n</tbody>\n</table>\n</div>\n<div class=\"section\" id=\"slic-k-means-based-image-segmentation\">\n<h1>SLIC - K-Means based image segmentation</h1>\n<p>This algorithm simply performs K-means in the 5d space of color information\nand image location and is therefore closely related to quickshift. As the\nclustering method is simpler, it is very efficient. It is essential for this\nalgorithm to work in Lab color space to obtain good results.  The algorithm\nquickly gained momentum and is now widely used. See [3] for details.  The\n<tt class=\"docutils literal\">compactness</tt> parameter trades off color-similarity and proximity, as in the case\nof Quickshift, while <tt class=\"docutils literal\">n_segments</tt> chooses the number of centers for kmeans.</p>\n<table class=\"docutils footnote\" frame=\"void\" id=\"id5\" rules=\"none\">\n<colgroup><col class=\"label\" /><col /></colgroup>\n<tbody valign=\"top\">\n<tr><td class=\"label\">[3]</td><td>Radhakrishna Achanta, Appu Shaji, Kevin Smith, Aurelien Lucchi,\nPascal Fua, and Sabine Suesstrunk, SLIC Superpixels Compared to\nState-of-the-art Superpixel Methods, TPAMI, May 2012.</td></tr>\n</tbody>\n</table>\n</div>\n</div>\n", 
          "cell_type": "markdown", 
          "metadata": {}
        }, 
        {
          "cell_type": "code", 
          "language": "python", 
          "outputs": [], 
          "collapsed": false, 
          "input": "from __future__ import print_function\n\nimport matplotlib.pyplot as plt\nimport numpy as np\n\nfrom skimage.data import lena\nfrom skimage.segmentation import felzenszwalb, slic, quickshift\nfrom skimage.segmentation import mark_boundaries\nfrom skimage.util import img_as_float\n\nimg = img_as_float(lena()[::2, ::2])\nsegments_fz = felzenszwalb(img, scale=100, sigma=0.5, min_size=50)\nsegments_slic = slic(img, n_segments=250, compactness=10, sigma=1)\nsegments_quick = quickshift(img, kernel_size=3, max_dist=6, ratio=0.5)\n\nprint(\"Felzenszwalb's number of segments: %d\" % len(np.unique(segments_fz)))\nprint(\"Slic number of segments: %d\" % len(np.unique(segments_slic)))\nprint(\"Quickshift number of segments: %d\" % len(np.unique(segments_quick)))\n\nfig, ax = plt.subplots(1, 3)\nfig.set_size_inches(8, 3, forward=True)\nfig.subplots_adjust(0.05, 0.05, 0.95, 0.95, 0.05, 0.05)\n\nax[0].imshow(mark_boundaries(img, segments_fz))\nax[0].set_title(\"Felzenszwalbs's method\")\nax[1].imshow(mark_boundaries(img, segments_slic))\nax[1].set_title(\"SLIC\")\nax[2].imshow(mark_boundaries(img, segments_quick))\nax[2].set_title(\"Quickshift\")\nfor a in ax:\n    a.set_xticks(())\n    a.set_yticks(())\nplt.show()", 
          "metadata": {}
        }
      ], 
      "metadata": {}
    }
  ], 
  "metadata": {
    "name": ""
  }
}