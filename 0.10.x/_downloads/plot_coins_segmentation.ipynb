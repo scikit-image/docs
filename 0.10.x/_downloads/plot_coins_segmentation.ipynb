{
  "nbformat": 3, 
  "nbformat_minor": 0, 
  "worksheets": [
    {
      "cells": [
        {
          "cell_type": "code", 
          "language": "python", 
          "outputs": [], 
          "collapsed": false, 
          "input": [
            "%matplotlib inline"
          ], 
          "metadata": {}
        }, 
        {
          "source": "<div class=\"document\" id=\"comparing-edge-based-segmentation-and-region-based-segmentation\">\n<h1 class=\"title\">Comparing edge-based segmentation and region-based segmentation</h1>\n<p>In this example, we will see how to segment objects from a background. We use\nthe <tt class=\"docutils literal\">coins</tt> image from <tt class=\"docutils literal\">skimage.data</tt>, which shows several coins outlined\nagainst a darker background.</p>\n</div>\n", 
          "cell_type": "markdown", 
          "metadata": {}
        }, 
        {
          "cell_type": "code", 
          "language": "python", 
          "outputs": [], 
          "collapsed": false, 
          "input": "\nimport numpy as np\nimport matplotlib.pyplot as plt\n\nfrom skimage import data\n\ncoins = data.coins()\nhist = np.histogram(coins, bins=np.arange(0, 256))\n\nfig, (ax1, ax2) = plt.subplots(1, 2, figsize=(8, 3))\nax1.imshow(coins, cmap=plt.cm.gray, interpolation='nearest')\nax1.axis('off')\nax2.plot(hist[1][:-1], hist[0], lw=2)\nax2.set_title('histogram of grey values')", 
          "metadata": {}
        }, 
        {
          "source": "<div class=\"document\" id=\"thresholding\">\n<h1 class=\"title\">Thresholding</h1>\n<p>A simple way to segment the coins is to choose a threshold based on the\nhistogram of grey values. Unfortunately, thresholding this image gives a binary\nimage that either misses significant parts of the coins or merges parts of the\nbackground with the coins:</p>\n</div>\n", 
          "cell_type": "markdown", 
          "metadata": {}
        }, 
        {
          "cell_type": "code", 
          "language": "python", 
          "outputs": [], 
          "collapsed": false, 
          "input": "\nfig, (ax1, ax2) = plt.subplots(1, 2, figsize=(6, 3))\nax1.imshow(coins > 100, cmap=plt.cm.gray, interpolation='nearest')\nax1.set_title('coins > 100')\nax1.axis('off')\nax2.imshow(coins > 150, cmap=plt.cm.gray, interpolation='nearest')\nax2.set_title('coins > 150')\nax2.axis('off')\nmargins = dict(hspace=0.01, wspace=0.01, top=1, bottom=0, left=0, right=1)\nfig.subplots_adjust(**margins)", 
          "metadata": {}
        }, 
        {
          "source": "<div class=\"document\" id=\"edge-based-segmentation\">\n<h1 class=\"title\">Edge-based segmentation</h1>\n<p>Next, we try to delineate the contours of the coins using edge-based\nsegmentation. To do this, we first get the edges of features using the Canny\nedge-detector.</p>\n</div>\n", 
          "cell_type": "markdown", 
          "metadata": {}
        }, 
        {
          "cell_type": "code", 
          "language": "python", 
          "outputs": [], 
          "collapsed": false, 
          "input": "\nfrom skimage.filter import canny\nedges = canny(coins/255.)\n\nfig, ax = plt.subplots(figsize=(4, 3))\nax.imshow(edges, cmap=plt.cm.gray, interpolation='nearest')\nax.axis('off')\nax.set_title('Canny detector')", 
          "metadata": {}
        }, 
        {
          "source": "<div class=\"document\">\n<p>These contours are then filled using mathematical morphology.</p>\n</div>\n", 
          "cell_type": "markdown", 
          "metadata": {}
        }, 
        {
          "cell_type": "code", 
          "language": "python", 
          "outputs": [], 
          "collapsed": false, 
          "input": "\nfrom scipy import ndimage\n\nfill_coins = ndimage.binary_fill_holes(edges)\n\nfig, ax = plt.subplots(figsize=(4, 3))\nax.imshow(fill_coins, cmap=plt.cm.gray, interpolation='nearest')\nax.axis('off')\nax.set_title('Filling the holes')", 
          "metadata": {}
        }, 
        {
          "source": "<div class=\"document\">\n<p>Small spurious objects are easily removed by setting a minimum size for valid\nobjects.</p>\n</div>\n", 
          "cell_type": "markdown", 
          "metadata": {}
        }, 
        {
          "cell_type": "code", 
          "language": "python", 
          "outputs": [], 
          "collapsed": false, 
          "input": "from skimage import morphology\ncoins_cleaned = morphology.remove_small_objects(fill_coins, 21)\n\nfig, ax = plt.subplots(figsize=(4, 3))\nax.imshow(coins_cleaned, cmap=plt.cm.gray, interpolation='nearest')\nax.axis('off')\nax.set_title('Removing small objects')", 
          "metadata": {}
        }, 
        {
          "source": "<div class=\"document\">\n<p>However, this method is not very robust, since contours that are not perfectly\nclosed are not filled correctly, as is the case for one unfilled coin above.</p>\n<div class=\"section\" id=\"region-based-segmentation\">\n<h1>Region-based segmentation</h1>\n<p>We therefore try a region-based method using the watershed transform. First, we\nfind an elevation map using the Sobel gradient of the image.</p>\n</div>\n</div>\n", 
          "cell_type": "markdown", 
          "metadata": {}
        }, 
        {
          "cell_type": "code", 
          "language": "python", 
          "outputs": [], 
          "collapsed": false, 
          "input": "\nfrom skimage.filter import sobel\n\nelevation_map = sobel(coins)\n\nfig, ax = plt.subplots(figsize=(4, 3))\nax.imshow(elevation_map, cmap=plt.cm.jet, interpolation='nearest')\nax.axis('off')\nax.set_title('elevation_map')", 
          "metadata": {}
        }, 
        {
          "source": "<div class=\"document\">\n<p>Next we find markers of the background and the coins based on the extreme parts\nof the histogram of grey values.</p>\n</div>\n", 
          "cell_type": "markdown", 
          "metadata": {}
        }, 
        {
          "cell_type": "code", 
          "language": "python", 
          "outputs": [], 
          "collapsed": false, 
          "input": "\nmarkers = np.zeros_like(coins)\nmarkers[coins < 30] = 1\nmarkers[coins > 150] = 2\n\nfig, ax = plt.subplots(figsize=(4, 3))\nax.imshow(markers, cmap=plt.cm.spectral, interpolation='nearest')\nax.axis('off')\nax.set_title('markers')", 
          "metadata": {}
        }, 
        {
          "source": "<div class=\"document\">\n<p>Finally, we use the watershed transform to fill regions of the elevation map\nstarting from the markers determined above:</p>\n</div>\n", 
          "cell_type": "markdown", 
          "metadata": {}
        }, 
        {
          "cell_type": "code", 
          "language": "python", 
          "outputs": [], 
          "collapsed": false, 
          "input": "segmentation = morphology.watershed(elevation_map, markers)\n\nfig, ax = plt.subplots(figsize=(4, 3))\nax.imshow(segmentation, cmap=plt.cm.gray, interpolation='nearest')\nax.axis('off')\nax.set_title('segmentation')", 
          "metadata": {}
        }, 
        {
          "source": "<div class=\"document\">\n<p>This last method works even better, and the coins can be segmented and labeled\nindividually.</p>\n</div>\n", 
          "cell_type": "markdown", 
          "metadata": {}
        }, 
        {
          "cell_type": "code", 
          "language": "python", 
          "outputs": [], 
          "collapsed": false, 
          "input": "\nfrom skimage.color import label2rgb\n\nsegmentation = ndimage.binary_fill_holes(segmentation - 1)\nlabeled_coins, _ = ndimage.label(segmentation)\nimage_label_overlay = label2rgb(labeled_coins, image=coins)\n\nfig, (ax1, ax2) = plt.subplots(1, 2, figsize=(6, 3))\nax1.imshow(coins, cmap=plt.cm.gray, interpolation='nearest')\nax1.contour(segmentation, [0.5], linewidths=1.2, colors='y')\nax1.axis('off')\nax2.imshow(image_label_overlay, interpolation='nearest')\nax2.axis('off')\n\nfig.subplots_adjust(**margins)", 
          "metadata": {}
        }, 
        {
          "source": "<div class=\"document\">\n</div>\n", 
          "cell_type": "markdown", 
          "metadata": {}
        }, 
        {
          "cell_type": "code", 
          "language": "python", 
          "outputs": [], 
          "collapsed": false, 
          "input": "\nplt.show()", 
          "metadata": {}
        }
      ], 
      "metadata": {}
    }
  ], 
  "metadata": {
    "name": ""
  }
}