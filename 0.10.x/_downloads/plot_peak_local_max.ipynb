{
  "nbformat": 3, 
  "nbformat_minor": 0, 
  "worksheets": [
    {
      "cells": [
        {
          "cell_type": "code", 
          "language": "python", 
          "outputs": [], 
          "collapsed": false, 
          "input": [
            "%matplotlib inline"
          ], 
          "metadata": {}
        }, 
        {
          "source": "<div class=\"document\" id=\"finding-local-maxima\">\n<h1 class=\"title\">Finding local maxima</h1>\n<p>The <tt class=\"docutils literal\">peak_local_max</tt> function returns the coordinates of local peaks (maxima)\nin an image. A maximum filter is used for finding local maxima. This operation\ndilates the original image and merges neighboring local maxima closer than the\nsize of the dilation. Locations where the original image is equal to the\ndilated image are returned as local maxima.</p>\n</div>\n", 
          "cell_type": "markdown", 
          "metadata": {}
        }, 
        {
          "cell_type": "code", 
          "language": "python", 
          "outputs": [], 
          "collapsed": false, 
          "input": "from scipy import ndimage\nimport matplotlib.pyplot as plt\nfrom skimage.feature import peak_local_max\nfrom skimage import data, img_as_float\n\nim = img_as_float(data.coins())\n\n# image_max is the dilation of im with a 20*20 structuring element\n# It is used within peak_local_max function\nimage_max = ndimage.maximum_filter(im, size=20, mode='constant')\n\n# Comparison between image_max and im to find the coordinates of local maxima\ncoordinates = peak_local_max(im, min_distance=20)\n\n# display results\nfig, ax = plt.subplots(1, 3, figsize=(8, 3))\nax1, ax2, ax3 = ax.ravel()\nax1.imshow(im, cmap=plt.cm.gray)\nax1.axis('off')\nax1.set_title('Original')\n\nax2.imshow(image_max, cmap=plt.cm.gray)\nax2.axis('off')\nax2.set_title('Maximum filter')\n\nax3.imshow(im, cmap=plt.cm.gray)\nax3.autoscale(False)\nax3.plot(coordinates[:, 1], coordinates[:, 0], 'r.')\nax3.axis('off')\nax3.set_title('Peak local max')\n\nfig.subplots_adjust(wspace=0.02, hspace=0.02, top=0.9,\n                    bottom=0.02, left=0.02, right=0.98)\n\nplt.show()", 
          "metadata": {}
        }
      ], 
      "metadata": {}
    }
  ], 
  "metadata": {
    "name": ""
  }
}