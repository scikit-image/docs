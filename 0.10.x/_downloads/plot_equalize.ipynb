{
  "nbformat": 3, 
  "nbformat_minor": 0, 
  "worksheets": [
    {
      "cells": [
        {
          "cell_type": "code", 
          "language": "python", 
          "outputs": [], 
          "collapsed": false, 
          "input": [
            "%matplotlib inline"
          ], 
          "metadata": {}
        }, 
        {
          "source": "<div class=\"document\" id=\"histogram-equalization\">\n<h1 class=\"title\">Histogram Equalization</h1>\n<p>This examples enhances an image with low contrast, using a method called\n<em>histogram equalization</em>, which &quot;spreads out the most frequent intensity\nvalues&quot; in an image <a class=\"footnote-reference\" href=\"#id3\" id=\"id1\">[1]</a>. The equalized image has a roughly linear cumulative\ndistribution function.</p>\n<p>While histogram equalization has the advantage that it requires no parameters,\nit sometimes yields unnatural looking images.  An alternative method is\n<em>contrast stretching</em>, where the image is rescaled to include all intensities\nthat fall within the 2nd and 98th percentiles <a class=\"footnote-reference\" href=\"#id4\" id=\"id2\">[2]</a>.</p>\n<table class=\"docutils footnote\" frame=\"void\" id=\"id3\" rules=\"none\">\n<colgroup><col class=\"label\" /><col /></colgroup>\n<tbody valign=\"top\">\n<tr><td class=\"label\"><a class=\"fn-backref\" href=\"#id1\">[1]</a></td><td><a class=\"reference external\" href=\"http://en.wikipedia.org/wiki/Histogram_equalization\">http://en.wikipedia.org/wiki/Histogram_equalization</a></td></tr>\n</tbody>\n</table>\n<table class=\"docutils footnote\" frame=\"void\" id=\"id4\" rules=\"none\">\n<colgroup><col class=\"label\" /><col /></colgroup>\n<tbody valign=\"top\">\n<tr><td class=\"label\"><a class=\"fn-backref\" href=\"#id2\">[2]</a></td><td><a class=\"reference external\" href=\"http://homepages.inf.ed.ac.uk/rbf/HIPR2/stretch.htm\">http://homepages.inf.ed.ac.uk/rbf/HIPR2/stretch.htm</a></td></tr>\n</tbody>\n</table>\n</div>\n", 
          "cell_type": "markdown", 
          "metadata": {}
        }, 
        {
          "cell_type": "code", 
          "language": "python", 
          "outputs": [], 
          "collapsed": false, 
          "input": "\nimport matplotlib\nimport matplotlib.pyplot as plt\nimport numpy as np\n\nfrom skimage import data, img_as_float\nfrom skimage import exposure\n\n\nmatplotlib.rcParams['font.size'] = 8\n\n\ndef plot_img_and_hist(img, axes, bins=256):\n    \"\"\"Plot an image along with its histogram and cumulative histogram.\n\n    \"\"\"\n    img = img_as_float(img)\n    ax_img, ax_hist = axes\n    ax_cdf = ax_hist.twinx()\n\n    # Display image\n    ax_img.imshow(img, cmap=plt.cm.gray)\n    ax_img.set_axis_off()\n\n    # Display histogram\n    ax_hist.hist(img.ravel(), bins=bins, histtype='step', color='black')\n    ax_hist.ticklabel_format(axis='y', style='scientific', scilimits=(0, 0))\n    ax_hist.set_xlabel('Pixel intensity')\n    ax_hist.set_xlim(0, 1)\n    ax_hist.set_yticks([])\n\n    # Display cumulative distribution\n    img_cdf, bins = exposure.cumulative_distribution(img, bins)\n    ax_cdf.plot(bins, img_cdf, 'r')\n    ax_cdf.set_yticks([])\n\n    return ax_img, ax_hist, ax_cdf\n\n\n# Load an example image\nimg = data.moon()\n\n# Contrast stretching\np2, p98 = np.percentile(img, (2, 98))\nimg_rescale = exposure.rescale_intensity(img, in_range=(p2, p98))\n\n# Equalization\nimg_eq = exposure.equalize_hist(img)\n\n# Adaptive Equalization\nimg_adapteq = exposure.equalize_adapthist(img, clip_limit=0.03)\n\n# Display results\nfig, axes = plt.subplots(nrows=2, ncols=4, figsize=(8, 5))\n\nax_img, ax_hist, ax_cdf = plot_img_and_hist(img, axes[:, 0])\nax_img.set_title('Low contrast image')\n\ny_min, y_max = ax_hist.get_ylim()\nax_hist.set_ylabel('Number of pixels')\nax_hist.set_yticks(np.linspace(0, y_max, 5))\n\nax_img, ax_hist, ax_cdf = plot_img_and_hist(img_rescale, axes[:, 1])\nax_img.set_title('Contrast stretching')\n\nax_img, ax_hist, ax_cdf = plot_img_and_hist(img_eq, axes[:, 2])\nax_img.set_title('Histogram equalization')\n\nax_img, ax_hist, ax_cdf = plot_img_and_hist(img_adapteq, axes[:, 3])\nax_img.set_title('Adaptive equalization')\n\nax_cdf.set_ylabel('Fraction of total intensity')\nax_cdf.set_yticks(np.linspace(0, 1, 5))\n\n# prevent overlap of y-axis labels\nfig.subplots_adjust(wspace=0.4)\nplt.show()", 
          "metadata": {}
        }
      ], 
      "metadata": {}
    }
  ], 
  "metadata": {
    "name": ""
  }
}