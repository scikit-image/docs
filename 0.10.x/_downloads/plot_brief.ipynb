{
  "nbformat": 3, 
  "nbformat_minor": 0, 
  "worksheets": [
    {
      "cells": [
        {
          "cell_type": "code", 
          "language": "python", 
          "outputs": [], 
          "collapsed": false, 
          "input": [
            "%matplotlib inline"
          ], 
          "metadata": {}
        }, 
        {
          "source": "<div class=\"document\" id=\"brief-binary-descriptor\">\n<h1 class=\"title\">BRIEF binary descriptor</h1>\n<p>This example demonstrates the BRIEF binary description algorithm.</p>\n<p>The descriptor consists of relatively few bits and can be computed using\na set of intensity difference tests. The short binary descriptor results\nin low memory footprint and very efficient matching based on the Hamming\ndistance metric.</p>\n<p>BRIEF does not provide rotation-invariance. Scale-invariance can be achieved by\ndetecting and extracting features at different scales.</p>\n</div>\n", 
          "cell_type": "markdown", 
          "metadata": {}
        }, 
        {
          "cell_type": "code", 
          "language": "python", 
          "outputs": [], 
          "collapsed": false, 
          "input": "from skimage import data\nfrom skimage import transform as tf\nfrom skimage.feature import (match_descriptors, corner_peaks, corner_harris,\n                             plot_matches, BRIEF)\nfrom skimage.color import rgb2gray\nimport matplotlib.pyplot as plt\n\n\nimg1 = rgb2gray(data.lena())\ntform = tf.AffineTransform(scale=(1.2, 1.2), translation=(0, -100))\nimg2 = tf.warp(img1, tform)\nimg3 = tf.rotate(img1, 25)\n\nkeypoints1 = corner_peaks(corner_harris(img1), min_distance=5)\nkeypoints2 = corner_peaks(corner_harris(img2), min_distance=5)\nkeypoints3 = corner_peaks(corner_harris(img3), min_distance=5)\n\nextractor = BRIEF()\n\nextractor.extract(img1, keypoints1)\nkeypoints1 = keypoints1[extractor.mask]\ndescriptors1 = extractor.descriptors\n\nextractor.extract(img2, keypoints2)\nkeypoints2 = keypoints2[extractor.mask]\ndescriptors2 = extractor.descriptors\n\nextractor.extract(img3, keypoints3)\nkeypoints3 = keypoints3[extractor.mask]\ndescriptors3 = extractor.descriptors\n\nmatches12 = match_descriptors(descriptors1, descriptors2, cross_check=True)\nmatches13 = match_descriptors(descriptors1, descriptors3, cross_check=True)\n\nfig, ax = plt.subplots(nrows=2, ncols=1)\n\nplt.gray()\n\nplot_matches(ax[0], img1, img2, keypoints1, keypoints2, matches12)\nax[0].axis('off')\n\nplot_matches(ax[1], img1, img3, keypoints1, keypoints3, matches13)\nax[1].axis('off')\n\nplt.show()", 
          "metadata": {}
        }
      ], 
      "metadata": {}
    }
  ], 
  "metadata": {
    "name": ""
  }
}