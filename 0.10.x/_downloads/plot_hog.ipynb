{
  "nbformat": 3, 
  "nbformat_minor": 0, 
  "worksheets": [
    {
      "cells": [
        {
          "cell_type": "code", 
          "language": "python", 
          "outputs": [], 
          "collapsed": false, 
          "input": [
            "%matplotlib inline"
          ], 
          "metadata": {}
        }, 
        {
          "source": "<div class=\"document\" id=\"histogram-of-oriented-gradients\">\n<h1 class=\"title\">Histogram of Oriented Gradients</h1>\n<p>The <a class=\"reference external\" href=\"http://en.wikipedia.org/wiki/Histogram_of_oriented_gradients\">Histogram of Oriented Gradient</a> (HOG) feature\ndescriptor <a class=\"footnote-reference\" href=\"#id3\" id=\"id1\">[1]</a> is popular for object detection.</p>\n<p>In the following example, we compute the HOG descriptor and display\na visualisation.</p>\n<div class=\"section\" id=\"algorithm-overview\">\n<h1>Algorithm overview</h1>\n<p>Compute a Histogram of Oriented Gradients (HOG) by</p>\n<blockquote>\n<ol class=\"arabic simple\">\n<li>(optional) global image normalisation</li>\n<li>computing the gradient image in x and y</li>\n<li>computing gradient histograms</li>\n<li>normalising across blocks</li>\n<li>flattening into a feature vector</li>\n</ol>\n</blockquote>\n<p>The first stage applies an optional global image normalisation\nequalisation that is designed to reduce the influence of illumination\neffects. In practice we use gamma (power law) compression, either\ncomputing the square root or the log of each colour channel.\nImage texture strength is typically proportional to the local surface\nillumination so this compression helps to reduce the effects of local\nshadowing and illumination variations.</p>\n<p>The second stage computes first order image gradients. These capture\ncontour, silhouette and some texture information, while providing\nfurther resistance to illumination variations. The locally dominant\ncolour channel is used, which provides colour invariance to a large\nextent. Variant methods may also include second order image derivatives,\nwhich act as primitive bar detectors - a useful feature for capturing,\ne.g. bar like structures in bicycles and limbs in humans.</p>\n<p>The third stage aims to produce an encoding that is sensitive to\nlocal image content while remaining resistant to small changes in\npose or appearance. The adopted method pools gradient orientation\ninformation locally in the same way as the SIFT <a class=\"footnote-reference\" href=\"#id4\" id=\"id2\">[2]</a>\nfeature. The image window is divided into small spatial regions,\ncalled &quot;cells&quot;. For each cell we accumulate a local 1-D histogram\nof gradient or edge orientations over all the pixels in the\ncell. This combined cell-level 1-D histogram forms the basic\n&quot;orientation histogram&quot; representation. Each orientation histogram\ndivides the gradient angle range into a fixed number of\npredetermined bins. The gradient magnitudes of the pixels in the\ncell are used to vote into the orientation histogram.</p>\n<p>The fourth stage computes normalisation, which takes local groups of\ncells and contrast normalises their overall responses before passing\nto next stage. Normalisation introduces better invariance to illumination,\nshadowing, and edge contrast. It is performed by accumulating a measure\nof local histogram &quot;energy&quot; over local groups of cells that we call\n&quot;blocks&quot;. The result is used to normalise each cell in the block.\nTypically each individual cell is shared between several blocks, but\nits normalisations are block dependent and thus different. The cell\nthus appears several times in the final output vector with different\nnormalisations. This may seem redundant but it improves the performance.\nWe refer to the normalised block descriptors as Histogram of Oriented\nGradient (HOG) descriptors.</p>\n<p>The final step collects the HOG descriptors from all blocks of a dense\noverlapping grid of blocks covering the detection window into a combined\nfeature vector for use in the window classifier.</p>\n</div>\n<div class=\"section\" id=\"references\">\n<h1>References</h1>\n<table class=\"docutils footnote\" frame=\"void\" id=\"id3\" rules=\"none\">\n<colgroup><col class=\"label\" /><col /></colgroup>\n<tbody valign=\"top\">\n<tr><td class=\"label\"><a class=\"fn-backref\" href=\"#id1\">[1]</a></td><td>Dalal, N. and Triggs, B., &quot;Histograms of Oriented Gradients for\nHuman Detection,&quot; IEEE Computer Society Conference on Computer\nVision and Pattern Recognition, 2005, San Diego, CA, USA.</td></tr>\n</tbody>\n</table>\n<table class=\"docutils footnote\" frame=\"void\" id=\"id4\" rules=\"none\">\n<colgroup><col class=\"label\" /><col /></colgroup>\n<tbody valign=\"top\">\n<tr><td class=\"label\"><a class=\"fn-backref\" href=\"#id2\">[2]</a></td><td>David G. Lowe, &quot;Distinctive image features from scale-invariant\nkeypoints,&quot; International Journal of Computer Vision, 60, 2 (2004),\npp. 91-110.</td></tr>\n</tbody>\n</table>\n</div>\n</div>\n", 
          "cell_type": "markdown", 
          "metadata": {}
        }, 
        {
          "cell_type": "code", 
          "language": "python", 
          "outputs": [], 
          "collapsed": false, 
          "input": "import matplotlib.pyplot as plt\n\nfrom skimage.feature import hog\nfrom skimage import data, color, exposure\n\n\nimage = color.rgb2gray(data.lena())\n\nfd, hog_image = hog(image, orientations=8, pixels_per_cell=(16, 16),\n                    cells_per_block=(1, 1), visualise=True)\n\nfig, (ax1, ax2) = plt.subplots(1, 2, figsize=(8, 4))\n\nax1.axis('off')\nax1.imshow(image, cmap=plt.cm.gray)\nax1.set_title('Input image')\n\n# Rescale histogram for better display\nhog_image_rescaled = exposure.rescale_intensity(hog_image, in_range=(0, 0.02))\n\nax2.axis('off')\nax2.imshow(hog_image_rescaled, cmap=plt.cm.gray)\nax2.set_title('Histogram of Oriented Gradients')\nplt.show()", 
          "metadata": {}
        }
      ], 
      "metadata": {}
    }
  ], 
  "metadata": {
    "name": ""
  }
}