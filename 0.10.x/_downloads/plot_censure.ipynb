{
  "nbformat": 3, 
  "nbformat_minor": 0, 
  "worksheets": [
    {
      "cells": [
        {
          "cell_type": "code", 
          "language": "python", 
          "outputs": [], 
          "collapsed": false, 
          "input": [
            "%matplotlib inline"
          ], 
          "metadata": {}
        }, 
        {
          "source": "<div class=\"document\" id=\"censure-feature-detector\">\n<h1 class=\"title\">CENSURE feature detector</h1>\n<p>The CENSURE feature detector is a scale-invariant center-surround detector\n(CENSURE) that claims to outperform other detectors and is capable of real-time\nimplementation.</p>\n</div>\n", 
          "cell_type": "markdown", 
          "metadata": {}
        }, 
        {
          "cell_type": "code", 
          "language": "python", 
          "outputs": [], 
          "collapsed": false, 
          "input": "from skimage import data\nfrom skimage import transform as tf\nfrom skimage.feature import CENSURE\nfrom skimage.color import rgb2gray\nimport matplotlib.pyplot as plt\n\n\nimg1 = rgb2gray(data.lena())\ntform = tf.AffineTransform(scale=(1.5, 1.5), rotation=0.5,\n                           translation=(150, -200))\nimg2 = tf.warp(img1, tform)\n\ndetector = CENSURE()\n\nfig, ax = plt.subplots(nrows=1, ncols=2)\n\nplt.gray()\n\ndetector.detect(img1)\n\nax[0].imshow(img1)\nax[0].axis('off')\nax[0].scatter(detector.keypoints[:, 1], detector.keypoints[:, 0],\n              2 ** detector.scales, facecolors='none', edgecolors='r')\n\ndetector.detect(img2)\n\nax[1].imshow(img2)\nax[1].axis('off')\nax[1].scatter(detector.keypoints[:, 1], detector.keypoints[:, 0],\n              2 ** detector.scales, facecolors='none', edgecolors='r')\n\nplt.show()", 
          "metadata": {}
        }
      ], 
      "metadata": {}
    }
  ], 
  "metadata": {
    "name": ""
  }
}