{
  "nbformat": 3, 
  "nbformat_minor": 0, 
  "worksheets": [
    {
      "cells": [
        {
          "cell_type": "code", 
          "language": "python", 
          "outputs": [], 
          "collapsed": false, 
          "input": [
            "%matplotlib inline"
          ], 
          "metadata": {}
        }, 
        {
          "source": "<div class=\"document\" id=\"phase-unwrapping\">\n<h1 class=\"title\">Phase Unwrapping</h1>\n<p>Some signals can only be observed modulo 2*pi, and this can also apply to\ntwo- and three dimensional images. In these cases phase unwrapping is\nneeded to recover the underlying, unwrapped signal. In this example we will\ndemonstrate an algorithm <a href=\"#id2\"><span class=\"problematic\" id=\"id3\"><span id=\"id1\"></span>[1]_</span></a> implemented in <tt class=\"docutils literal\">skimage</tt> at work for such a\nproblem. One-, two- and three dimensional images can all be unwrapped using\nskimage. Here we will demonstrate phase unwrapping in the two dimensional case.</p>\n<div class=\"system-messages section\">\n<h1>Docutils System Messages</h1>\n<div class=\"system-message\" id=\"id2\">\n<p class=\"system-message-title\">System Message: ERROR/3 (<tt class=\"docutils\">&lt;string&gt;</tt>, line 6); <em><a href=\"#id3\">backlink</a></em></p>\nUnknown target name: &quot;1&quot;.</div>\n</div>\n</div>\n", 
          "cell_type": "markdown", 
          "metadata": {}
        }, 
        {
          "cell_type": "code", 
          "language": "python", 
          "outputs": [], 
          "collapsed": false, 
          "input": "\nimport numpy as np\nfrom matplotlib import pyplot as plt\nfrom skimage import data, img_as_float, color, exposure\nfrom skimage.restoration import unwrap_phase\n\n\n# Load an image as a floating-point grayscale\nimage = color.rgb2gray(img_as_float(data.chelsea()))\n# Scale the image to [0, 4*pi]\nimage = exposure.rescale_intensity(image, out_range=(0, 4 * np.pi))\n# Create a phase-wrapped image in the interval [-pi, pi)\nimage_wrapped = np.angle(np.exp(1j * image))\n# Perform phase unwrapping\nimage_unwrapped = unwrap_phase(image_wrapped)\n\nfig, ax = plt.subplots(2, 2)\nax1, ax2, ax3, ax4 = ax.ravel()\n\nfig.colorbar(ax1.imshow(image, cmap='gray', vmin=0, vmax=4 * np.pi), ax=ax1)\nax1.set_title('Original')\n\nfig.colorbar(ax2.imshow(image_wrapped, cmap='gray', vmin=-np.pi, vmax=np.pi), ax=ax2)\nax2.set_title('Wrapped phase')\n\nfig.colorbar(ax3.imshow(image_unwrapped, cmap='gray'), ax=ax3)\nax3.set_title('After phase unwrapping')\n\nfig.colorbar(ax4.imshow(image_unwrapped - image, cmap='gray'), ax=ax4)\nax4.set_title('Unwrapped minus original')", 
          "metadata": {}
        }, 
        {
          "source": "<div class=\"document\">\n<p>The unwrapping procedure accepts masked arrays, and can also optionally\nassume cyclic boundaries to connect edges of an image. In the example below,\nwe study a simple phase ramp which has been split in two by masking\na row of the image.</p>\n</div>\n", 
          "cell_type": "markdown", 
          "metadata": {}
        }, 
        {
          "cell_type": "code", 
          "language": "python", 
          "outputs": [], 
          "collapsed": false, 
          "input": "\n# Create a simple ramp\nimage = np.ones((100, 100)) * np.linspace(0, 8 * np.pi, 100).reshape((-1, 1))\n# Mask the image to split it in two horizontally\nmask = np.zeros_like(image, dtype=np.bool)\nmask[image.shape[0] // 2, :] = True\n\nimage_wrapped = np.ma.array(np.angle(np.exp(1j * image)), mask=mask)\n# Unwrap image without wrap around\nimage_unwrapped_no_wrap_around = unwrap_phase(image_wrapped,\n                                              wrap_around=(False, False))\n# Unwrap with wrap around enabled for the 0th dimension\nimage_unwrapped_wrap_around = unwrap_phase(image_wrapped,\n                                           wrap_around=(True, False))\n\nfig, ax = plt.subplots(2, 2)\nax1, ax2, ax3, ax4 = ax.ravel()\n\nfig.colorbar(ax1.imshow(np.ma.array(image, mask=mask), cmap='jet'), ax=ax1)\nax1.set_title('Original')\n\nfig.colorbar(ax2.imshow(image_wrapped, cmap='jet', vmin=-np.pi, vmax=np.pi),\n           ax=ax2)\nax2.set_title('Wrapped phase')\n\nfig.colorbar(ax3.imshow(image_unwrapped_no_wrap_around, cmap='jet'),\n           ax=ax3)\nax3.set_title('Unwrapped without wrap_around')\n\nfig.colorbar(ax4.imshow(image_unwrapped_wrap_around, cmap='jet'), ax=ax4)\nax4.set_title('Unwrapped with wrap_around')\n\nplt.show()", 
          "metadata": {}
        }, 
        {
          "source": "<div class=\"document\">\n<p>In the figures above, the masked row can be seen as a white line across\nthe image. The difference between the two unwrapped images in the bottom row\nis clear: Without unwrapping (lower left), the regions above and below the\nmasked boundary do not interact at all, resulting in an offset between the\ntwo regions of an arbitrary integer times two pi. We could just as well have\nunwrapped the regions as two separate images. With wrap around enabled for the\nvertical direction (lower rigth), the situation changes: Unwrapping paths are\nnow allowed to pass from the bottom to the top of the image and vice versa, in\neffect providing a way to determine the offset between the two regions.</p>\n<div class=\"section\" id=\"references\">\n<h1>References</h1>\n<table class=\"docutils footnote\" frame=\"void\" id=\"id1\" rules=\"none\">\n<colgroup><col class=\"label\" /><col /></colgroup>\n<tbody valign=\"top\">\n<tr><td class=\"label\">[1]</td><td>Miguel Arevallilo Herraez, David R. Burton, Michael J. Lalor,\nand Munther A. Gdeisat, &quot;Fast two-dimensional phase-unwrapping\nalgorithm based on sorting by reliability following a noncontinuous\npath&quot;, Journal Applied Optics, Vol. 41, No. 35, pp. 7437, 2002</td></tr>\n</tbody>\n</table>\n</div>\n</div>\n", 
          "cell_type": "markdown", 
          "metadata": {}
        }
      ], 
      "metadata": {}
    }
  ], 
  "metadata": {
    "name": ""
  }
}