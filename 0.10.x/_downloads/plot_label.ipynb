{
  "nbformat": 3, 
  "nbformat_minor": 0, 
  "worksheets": [
    {
      "cells": [
        {
          "cell_type": "code", 
          "language": "python", 
          "outputs": [], 
          "collapsed": false, 
          "input": [
            "%matplotlib inline"
          ], 
          "metadata": {}
        }, 
        {
          "source": "<div class=\"document\" id=\"label-image-regions\">\n<h1 class=\"title\">Label image regions</h1>\n<p>This example shows how to segment an image with image labelling. The following\nsteps are applied:</p>\n<ol class=\"arabic simple\">\n<li>Thresholding with automatic Otsu method</li>\n<li>Close small holes with binary closing</li>\n<li>Remove artifacts touching image border</li>\n<li>Measure image regions to filter small objects</li>\n</ol>\n</div>\n", 
          "cell_type": "markdown", 
          "metadata": {}
        }, 
        {
          "cell_type": "code", 
          "language": "python", 
          "outputs": [], 
          "collapsed": false, 
          "input": "import numpy as np\nimport matplotlib.pyplot as plt\nimport matplotlib.patches as mpatches\n\nfrom skimage import data\nfrom skimage.filter import threshold_otsu\nfrom skimage.segmentation import clear_border\nfrom skimage.morphology import label, closing, square\nfrom skimage.measure import regionprops\nfrom skimage.color import label2rgb\n\n\nimage = data.coins()[50:-50, 50:-50]\n\n# apply threshold\nthresh = threshold_otsu(image)\nbw = closing(image > thresh, square(3))\n\n# remove artifacts connected to image border\ncleared = bw.copy()\nclear_border(cleared)\n\n# label image regions\nlabel_image = label(cleared)\nborders = np.logical_xor(bw, cleared)\nlabel_image[borders] = -1\nimage_label_overlay = label2rgb(label_image, image=image)\n\nfig, ax = plt.subplots(ncols=1, nrows=1, figsize=(6, 6))\nax.imshow(image_label_overlay)\n\nfor region in regionprops(label_image):\n\n    # skip small images\n    if region.area < 100:\n        continue\n\n    # draw rectangle around segmented coins\n    minr, minc, maxr, maxc = region.bbox\n    rect = mpatches.Rectangle((minc, minr), maxc - minc, maxr - minr,\n                              fill=False, edgecolor='red', linewidth=2)\n    ax.add_patch(rect)\n\nplt.show()", 
          "metadata": {}
        }
      ], 
      "metadata": {}
    }
  ], 
  "metadata": {
    "name": ""
  }
}