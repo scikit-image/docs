{
  "nbformat": 3, 
  "nbformat_minor": 0, 
  "worksheets": [
    {
      "cells": [
        {
          "cell_type": "code", 
          "language": "python", 
          "outputs": [], 
          "collapsed": false, 
          "input": [
            "%matplotlib inline"
          ], 
          "metadata": {}
        }, 
        {
          "source": "<div class=\"document\" id=\"shapes\">\n<h1 class=\"title\">Shapes</h1>\n<p>This example shows how to draw several different shapes:</p>\n<blockquote>\n<ul class=\"simple\">\n<li>line</li>\n<li>Bezier curve</li>\n<li>polygon</li>\n<li>circle</li>\n<li>ellipse</li>\n</ul>\n</blockquote>\n<p>Anti-aliased drawing for:</p>\n<blockquote>\n<ul class=\"simple\">\n<li>line</li>\n<li>circle</li>\n</ul>\n</blockquote>\n</div>\n", 
          "cell_type": "markdown", 
          "metadata": {}
        }, 
        {
          "cell_type": "code", 
          "language": "python", 
          "outputs": [], 
          "collapsed": false, 
          "input": "import math\nimport numpy as np\nimport matplotlib.pyplot as plt\n\nfrom skimage.draw import (line, polygon, circle,\n                          circle_perimeter,\n                          ellipse, ellipse_perimeter,\n                          bezier_curve)\n\n\nfig, (ax1, ax2) = plt.subplots(ncols=2, nrows=1, figsize=(10, 6))\n\n\nimg = np.zeros((500, 500, 3), dtype=np.double)\n\n# draw line\nrr, cc = line(120, 123, 20, 400)\nimg[rr, cc, 0] = 255\n\n# fill polygon\npoly = np.array((\n    (300, 300),\n    (480, 320),\n    (380, 430),\n    (220, 590),\n    (300, 300),\n))\nrr, cc = polygon(poly[:, 0], poly[:, 1], img.shape)\nimg[rr, cc, 1] = 1\n\n# fill circle\nrr, cc = circle(200, 200, 100, img.shape)\nimg[rr, cc, :] = (1, 1, 0)\n\n# fill ellipse\nrr, cc = ellipse(300, 300, 100, 200, img.shape)\nimg[rr, cc, 2] = 1\n\n# circle\nrr, cc = circle_perimeter(120, 400, 15)\nimg[rr, cc, :] = (1, 0, 0)\n\n# Bezier curve\nrr, cc = bezier_curve(70, 100, 10, 10, 150, 100, 1)\nimg[rr, cc, :] = (1, 0, 0)\n\n# ellipses\nrr, cc = ellipse_perimeter(120, 400, 60, 20, orientation=math.pi / 4.)\nimg[rr, cc, :] = (1, 0, 1)\nrr, cc = ellipse_perimeter(120, 400, 60, 20, orientation=-math.pi / 4.)\nimg[rr, cc, :] = (0, 0, 1)\nrr, cc = ellipse_perimeter(120, 400, 60, 20, orientation=math.pi / 2.)\nimg[rr, cc, :] = (1, 1, 1)\n\nax1.imshow(img)\nax1.set_title('No anti-aliasing')\nax1.axis('off')\n\n\nfrom skimage.draw import line_aa, circle_perimeter_aa\n\n\nimg = np.zeros((100, 100), dtype=np.double)\n\n# anti-aliased line\nrr, cc, val = line_aa(12, 12, 20, 50)\nimg[rr, cc] = val\n\n# anti-aliased circle\nrr, cc, val = circle_perimeter_aa(60, 40, 30)\nimg[rr, cc] = val\n\n\nax2.imshow(img, cmap=plt.cm.gray, interpolation='nearest')\nax2.set_title('Anti-aliasing')\nax2.axis('off')\n\nplt.show()", 
          "metadata": {}
        }
      ], 
      "metadata": {}
    }
  ], 
  "metadata": {
    "name": ""
  }
}