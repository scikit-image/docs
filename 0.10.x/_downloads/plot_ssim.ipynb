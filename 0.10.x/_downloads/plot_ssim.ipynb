{
  "nbformat": 3, 
  "nbformat_minor": 0, 
  "worksheets": [
    {
      "cells": [
        {
          "cell_type": "code", 
          "language": "python", 
          "outputs": [], 
          "collapsed": false, 
          "input": [
            "%matplotlib inline"
          ], 
          "metadata": {}
        }, 
        {
          "source": "<div class=\"document\" id=\"structural-similarity-index\">\n<h1 class=\"title\">Structural similarity index</h1>\n<p>When comparing images, the mean squared error (MSE)--while simple to\nimplement--is not highly indicative of perceived similarity.  Structural\nsimilarity aims to address this shortcoming by taking texture into account\n<a class=\"footnote-reference\" href=\"#id3\" id=\"id1\">[1]</a>, <a class=\"footnote-reference\" href=\"#id4\" id=\"id2\">[2]</a>.</p>\n<p>The example shows two modifications of the input image, each with the same MSE,\nbut with very different mean structural similarity indices.</p>\n<table class=\"docutils footnote\" frame=\"void\" id=\"id3\" rules=\"none\">\n<colgroup><col class=\"label\" /><col /></colgroup>\n<tbody valign=\"top\">\n<tr><td class=\"label\"><a class=\"fn-backref\" href=\"#id1\">[1]</a></td><td>Zhou Wang; Bovik, A.C.; ,&quot;Mean squared error: Love it or leave it? A new\nlook at Signal Fidelity Measures,&quot; Signal Processing Magazine, IEEE,\nvol. 26, no. 1, pp. 98-117, Jan. 2009.</td></tr>\n</tbody>\n</table>\n<table class=\"docutils footnote\" frame=\"void\" id=\"id4\" rules=\"none\">\n<colgroup><col class=\"label\" /><col /></colgroup>\n<tbody valign=\"top\">\n<tr><td class=\"label\"><a class=\"fn-backref\" href=\"#id2\">[2]</a></td><td>Z. Wang, A. C. Bovik, H. R. Sheikh and E. P. Simoncelli, &quot;Image quality\nassessment: From error visibility to structural similarity,&quot; IEEE\nTransactions on Image Processing, vol. 13, no. 4, pp. 600-612,\nApr. 2004.</td></tr>\n</tbody>\n</table>\n</div>\n", 
          "cell_type": "markdown", 
          "metadata": {}
        }, 
        {
          "cell_type": "code", 
          "language": "python", 
          "outputs": [], 
          "collapsed": false, 
          "input": "import numpy as np\nimport matplotlib\nimport matplotlib.pyplot as plt\n\nfrom skimage import data, img_as_float\nfrom skimage.measure import structural_similarity as ssim\n\n\nmatplotlib.rcParams['font.size'] = 9\n\n\nimg = img_as_float(data.camera())\nrows, cols = img.shape\n\nnoise = np.ones_like(img) * 0.2 * (img.max() - img.min())\nnoise[np.random.random(size=noise.shape) > 0.5] *= -1\n\n\ndef mse(x, y):\n    return np.linalg.norm(x - y)\n\nimg_noise = img + noise\nimg_const = img + abs(noise)\n\nfig, (ax0, ax1, ax2) = plt.subplots(nrows=1, ncols=3, figsize=(8, 4))\n\nmse_none = mse(img, img)\nssim_none = ssim(img, img, dynamic_range=img.max() - img.min())\n\nmse_noise = mse(img, img_noise)\nssim_noise = ssim(img, img_noise, dynamic_range=img_const.max() - img_const.min())\n\nmse_const = mse(img, img_const)\nssim_const = ssim(img, img_const, dynamic_range=img_noise.max() - img_noise.min())\n\nlabel = 'MSE: %2.f, SSIM: %.2f'\n\nax0.imshow(img, cmap=plt.cm.gray, vmin=0, vmax=1)\nax0.set_xlabel(label % (mse_none, ssim_none))\nax0.set_title('Original image')\n\nax1.imshow(img_noise, cmap=plt.cm.gray, vmin=0, vmax=1)\nax1.set_xlabel(label % (mse_noise, ssim_noise))\nax1.set_title('Image with noise')\n\nax2.imshow(img_const, cmap=plt.cm.gray, vmin=0, vmax=1)\nax2.set_xlabel(label % (mse_const, ssim_const))\nax2.set_title('Image plus constant')\n\nplt.show()", 
          "metadata": {}
        }
      ], 
      "metadata": {}
    }
  ], 
  "metadata": {
    "name": ""
  }
}