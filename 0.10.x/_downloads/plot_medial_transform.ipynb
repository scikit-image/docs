{
  "nbformat": 3, 
  "nbformat_minor": 0, 
  "worksheets": [
    {
      "cells": [
        {
          "cell_type": "code", 
          "language": "python", 
          "outputs": [], 
          "collapsed": false, 
          "input": [
            "%matplotlib inline"
          ], 
          "metadata": {}
        }, 
        {
          "source": "<div class=\"document\" id=\"medial-axis-skeletonization\">\n<h1 class=\"title\">Medial axis skeletonization</h1>\n<p>The medial axis of an object is the set of all points having more than one\nclosest point on the object's boundary. It is often called the <strong>topological\nskeleton</strong>, because it is a 1-pixel wide skeleton of the object, with the same\nconnectivity as the original object.</p>\n<p>Here, we use the medial axis transform to compute the width of the foreground\nobjects. As the function <tt class=\"docutils literal\">medial_axis</tt> (<tt class=\"docutils literal\">skimage.morphology.medial_axis</tt>)\nreturns the distance transform in addition to the medial axis (with the keyword\nargument <tt class=\"docutils literal\">return_distance=True</tt>), it is possible to compute the distance to\nthe background for all points of the medial axis with this function. This gives\nan estimate of the local width of the objects.</p>\n<p>For a skeleton with fewer branches, there exists another skeletonization\nalgorithm in <tt class=\"docutils literal\">skimage</tt>: <tt class=\"docutils literal\">skimage.morphology.skeletonize</tt>, that computes\na skeleton by iterative morphological thinnings.</p>\n</div>\n", 
          "cell_type": "markdown", 
          "metadata": {}
        }, 
        {
          "cell_type": "code", 
          "language": "python", 
          "outputs": [], 
          "collapsed": false, 
          "input": "import numpy as np\nfrom scipy import ndimage\nfrom skimage.morphology import medial_axis\nimport matplotlib.pyplot as plt\n\n\ndef microstructure(l=256):\n    \"\"\"\n    Synthetic binary data: binary microstructure with blobs.\n\n    Parameters\n    ----------\n\n    l: int, optional\n        linear size of the returned image\n\n    \"\"\"\n    n = 5\n    x, y = np.ogrid[0:l, 0:l]\n    mask_outer = (x - l/2)**2 + (y - l/2)**2 < (l/2)**2\n    mask = np.zeros((l, l))\n    generator = np.random.RandomState(1)\n    points = l * generator.rand(2, n**2)\n    mask[(points[0]).astype(np.int), (points[1]).astype(np.int)] = 1\n    mask = ndimage.gaussian_filter(mask, sigma=l/(4.*n))\n    return mask > mask.mean()\n\ndata = microstructure(l=64)\n\n# Compute the medial axis (skeleton) and the distance transform\nskel, distance = medial_axis(data, return_distance=True)\n\n# Distance to the background for pixels of the skeleton\ndist_on_skel = distance * skel\n\nfig, (ax1, ax2) = plt.subplots(1, 2, figsize=(8, 4))\nax1.imshow(data, cmap=plt.cm.gray, interpolation='nearest')\nax1.axis('off')\nax2.imshow(dist_on_skel, cmap=plt.cm.spectral, interpolation='nearest')\nax2.contour(data, [0.5], colors='w')\nax2.axis('off')\n\nfig.subplots_adjust(hspace=0.01, wspace=0.01, top=1, bottom=0, left=0, right=1)\nplt.show()", 
          "metadata": {}
        }
      ], 
      "metadata": {}
    }
  ], 
  "metadata": {
    "name": ""
  }
}