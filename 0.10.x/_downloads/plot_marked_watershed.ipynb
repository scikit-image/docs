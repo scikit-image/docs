{
  "nbformat": 3, 
  "nbformat_minor": 0, 
  "worksheets": [
    {
      "cells": [
        {
          "cell_type": "code", 
          "language": "python", 
          "outputs": [], 
          "collapsed": false, 
          "input": [
            "%matplotlib inline"
          ], 
          "metadata": {}
        }, 
        {
          "source": "<div class=\"document\" id=\"markers-for-watershed-transform\">\n<h1 class=\"title\">Markers for watershed transform</h1>\n<p>The watershed is a classical algorithm used for <strong>segmentation</strong>, that\nis, for separating different objects in an image.</p>\n<p>Here a marker image is build from the region of low gradient inside the image.</p>\n<p>See <a class=\"reference external\" href=\"http://en.wikipedia.org/wiki/Watershed_(image_processing)\">Wikipedia</a> for more details on the algorithm.</p>\n</div>\n", 
          "cell_type": "markdown", 
          "metadata": {}
        }, 
        {
          "cell_type": "code", 
          "language": "python", 
          "outputs": [], 
          "collapsed": false, 
          "input": "\nfrom scipy import ndimage\nimport matplotlib.pyplot as plt\n\nfrom skimage.morphology import watershed, disk\nfrom skimage import data\nfrom skimage.filter import rank\nfrom skimage.util import img_as_ubyte\n\n\nimage = img_as_ubyte(data.camera())\n\n# denoise image\ndenoised = rank.median(image, disk(2))\n\n# find continuous region (low gradient) --> markers\nmarkers = rank.gradient(denoised, disk(5)) < 10\nmarkers = ndimage.label(markers)[0]\n\n#local gradient\ngradient = rank.gradient(denoised, disk(2))\n\n# process the watershed\nlabels = watershed(gradient, markers)\n\n# display results\nfig, axes = plt.subplots(ncols=4, figsize=(8, 2.7))\nax0, ax1, ax2, ax3 = axes\n\nax0.imshow(image, cmap=plt.cm.gray, interpolation='nearest')\nax1.imshow(gradient, cmap=plt.cm.spectral, interpolation='nearest')\nax2.imshow(markers, cmap=plt.cm.spectral, interpolation='nearest')\nax3.imshow(image, cmap=plt.cm.gray, interpolation='nearest')\nax3.imshow(labels, cmap=plt.cm.spectral, interpolation='nearest', alpha=.7)\n\nfor ax in axes:\n    ax.axis('off')\n\nfig.subplots_adjust(hspace=0.01, wspace=0.01, top=1, bottom=0, left=0, right=1)\nplt.show()", 
          "metadata": {}
        }
      ], 
      "metadata": {}
    }
  ], 
  "metadata": {
    "name": ""
  }
}