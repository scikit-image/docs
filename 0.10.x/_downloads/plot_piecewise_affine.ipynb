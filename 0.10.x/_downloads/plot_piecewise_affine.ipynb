{
  "nbformat": 3, 
  "nbformat_minor": 0, 
  "worksheets": [
    {
      "cells": [
        {
          "cell_type": "code", 
          "language": "python", 
          "outputs": [], 
          "collapsed": false, 
          "input": [
            "%matplotlib inline"
          ], 
          "metadata": {}
        }, 
        {
          "source": "<div class=\"document\" id=\"piecewise-affine-transformation\">\n<h1 class=\"title\">Piecewise Affine Transformation</h1>\n<p>This example shows how to use the Piecewise Affine Transformation.</p>\n</div>\n", 
          "cell_type": "markdown", 
          "metadata": {}
        }, 
        {
          "cell_type": "code", 
          "language": "python", 
          "outputs": [], 
          "collapsed": false, 
          "input": "import numpy as np\nimport matplotlib.pyplot as plt\nfrom skimage.transform import PiecewiseAffineTransform, warp\nfrom skimage import data\n\n\nimage = data.lena()\nrows, cols = image.shape[0], image.shape[1]\n\nsrc_cols = np.linspace(0, cols, 20)\nsrc_rows = np.linspace(0, rows, 10)\nsrc_rows, src_cols = np.meshgrid(src_rows, src_cols)\nsrc = np.dstack([src_cols.flat, src_rows.flat])[0]\n\n# add sinusoidal oscillation to row coordinates\ndst_rows = src[:, 1] - np.sin(np.linspace(0, 3 * np.pi, src.shape[0])) * 50\ndst_cols = src[:, 0]\ndst_rows *= 1.5\ndst_rows -= 1.5 * 50\ndst = np.vstack([dst_cols, dst_rows]).T\n\n\ntform = PiecewiseAffineTransform()\ntform.estimate(src, dst)\n\nout_rows = image.shape[0] - 1.5 * 50\nout_cols = cols\nout = warp(image, tform, output_shape=(out_rows, out_cols))\n\nfig, ax = plt.subplots()\nax.imshow(out)\nax.plot(tform.inverse(src)[:, 0], tform.inverse(src)[:, 1], '.b')\nax.axis((0, out_cols, out_rows, 0))\nplt.show()", 
          "metadata": {}
        }
      ], 
      "metadata": {}
    }
  ], 
  "metadata": {
    "name": ""
  }
}