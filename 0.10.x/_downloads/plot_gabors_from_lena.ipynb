{
  "nbformat": 3, 
  "nbformat_minor": 0, 
  "worksheets": [
    {
      "cells": [
        {
          "cell_type": "code", 
          "language": "python", 
          "outputs": [], 
          "collapsed": false, 
          "input": [
            "%matplotlib inline"
          ], 
          "metadata": {}
        }, 
        {
          "source": "<div class=\"document\" id=\"gabors-primary-visual-cortex-simple-cells-from-lena\">\n<h1 class=\"title\">Gabors / Primary Visual Cortex &quot;Simple Cells&quot; from Lena</h1>\n<p>How to build a (bio-plausible) &quot;sparse&quot; dictionary (or 'codebook', or\n'filterbank') for e.g. image classification without any fancy math and\nwith just standard python scientific libraries?</p>\n<p>Please find below a short answer ;-)</p>\n<p>This simple example shows how to get Gabor-like filters <a class=\"footnote-reference\" href=\"#id8\" id=\"id1\">[1]</a> using just\nthe famous Lena image. Gabor filters are good approximations of the\n&quot;Simple Cells&quot; <a class=\"footnote-reference\" href=\"#id9\" id=\"id2\">[2]</a> receptive fields <a class=\"footnote-reference\" href=\"#id10\" id=\"id3\">[3]</a> found in the mammalian primary\nvisual cortex (V1) (for details, see e.g. the Nobel-prize winning work\nof Hubel &amp; Wiesel done in the 60s <a class=\"footnote-reference\" href=\"#id11\" id=\"id4\">[4]</a> <a class=\"footnote-reference\" href=\"#id12\" id=\"id5\">[5]</a>).</p>\n<p>Here we use McQueen's 'kmeans' algorithm <a class=\"footnote-reference\" href=\"#id13\" id=\"id6\">[6]</a>, as a simple biologically\nplausible hebbian-like learning rule and we apply it (a) to patches of\nthe original Lena image (retinal projection), and (b) to patches of an\nLGN-like <a class=\"footnote-reference\" href=\"#id14\" id=\"id7\">[7]</a> Lena image using a simple difference of gaussians (DoG)\napproximation.</p>\n<p>Enjoy ;-) And keep in mind that getting Gabors on natural image patches\nis not rocket science.</p>\n<table class=\"docutils footnote\" frame=\"void\" id=\"id8\" rules=\"none\">\n<colgroup><col class=\"label\" /><col /></colgroup>\n<tbody valign=\"top\">\n<tr><td class=\"label\"><a class=\"fn-backref\" href=\"#id1\">[1]</a></td><td><a class=\"reference external\" href=\"http://en.wikipedia.org/wiki/Gabor_filter\">http://en.wikipedia.org/wiki/Gabor_filter</a></td></tr>\n</tbody>\n</table>\n<table class=\"docutils footnote\" frame=\"void\" id=\"id9\" rules=\"none\">\n<colgroup><col class=\"label\" /><col /></colgroup>\n<tbody valign=\"top\">\n<tr><td class=\"label\"><a class=\"fn-backref\" href=\"#id2\">[2]</a></td><td><a class=\"reference external\" href=\"http://en.wikipedia.org/wiki/Simple_cell\">http://en.wikipedia.org/wiki/Simple_cell</a></td></tr>\n</tbody>\n</table>\n<table class=\"docutils footnote\" frame=\"void\" id=\"id10\" rules=\"none\">\n<colgroup><col class=\"label\" /><col /></colgroup>\n<tbody valign=\"top\">\n<tr><td class=\"label\"><a class=\"fn-backref\" href=\"#id3\">[3]</a></td><td><a class=\"reference external\" href=\"http://en.wikipedia.org/wiki/Receptive_field\">http://en.wikipedia.org/wiki/Receptive_field</a></td></tr>\n</tbody>\n</table>\n<table class=\"docutils footnote\" frame=\"void\" id=\"id11\" rules=\"none\">\n<colgroup><col class=\"label\" /><col /></colgroup>\n<tbody valign=\"top\">\n<tr><td class=\"label\"><a class=\"fn-backref\" href=\"#id4\">[4]</a></td><td><a class=\"reference external\" href=\"http://en.wikipedia.org/wiki/K-means_clustering\">http://en.wikipedia.org/wiki/K-means_clustering</a></td></tr>\n</tbody>\n</table>\n<table class=\"docutils footnote\" frame=\"void\" id=\"id12\" rules=\"none\">\n<colgroup><col class=\"label\" /><col /></colgroup>\n<tbody valign=\"top\">\n<tr><td class=\"label\"><a class=\"fn-backref\" href=\"#id5\">[5]</a></td><td><a class=\"reference external\" href=\"http://en.wikipedia.org/wiki/Lateral_geniculate_nucleus\">http://en.wikipedia.org/wiki/Lateral_geniculate_nucleus</a></td></tr>\n</tbody>\n</table>\n<table class=\"docutils footnote\" frame=\"void\" id=\"id13\" rules=\"none\">\n<colgroup><col class=\"label\" /><col /></colgroup>\n<tbody valign=\"top\">\n<tr><td class=\"label\"><a class=\"fn-backref\" href=\"#id6\">[6]</a></td><td>D. H. Hubel and T. N., Wiesel Receptive Fields of Single Neurones\nin the Cat's Striate Cortex, J. Physiol. pp. 574-591 (148) 1959</td></tr>\n</tbody>\n</table>\n<table class=\"docutils footnote\" frame=\"void\" id=\"id14\" rules=\"none\">\n<colgroup><col class=\"label\" /><col /></colgroup>\n<tbody valign=\"top\">\n<tr><td class=\"label\"><a class=\"fn-backref\" href=\"#id7\">[7]</a></td><td>D. H. Hubel and T. N., Wiesel Receptive Fields, Binocular\nInteraction, and Functional Architecture in the Cat's Visual Cortex,\nJ. Physiol. 160 pp.  106-154 1962</td></tr>\n</tbody>\n</table>\n</div>\n", 
          "cell_type": "markdown", 
          "metadata": {}
        }, 
        {
          "cell_type": "code", 
          "language": "python", 
          "outputs": [], 
          "collapsed": false, 
          "input": "import numpy as np\nfrom scipy.cluster.vq import kmeans2\nfrom scipy import ndimage as ndi\nimport matplotlib.pyplot as plt\n\nfrom skimage import data\nfrom skimage import color\nfrom skimage.util.shape import view_as_windows\nfrom skimage.util.montage import montage2d\n\nnp.random.seed(42)\n\npatch_shape = 8, 8\nn_filters = 49\n\nlena = color.rgb2gray(data.lena())\n\n# -- filterbank1 on original Lena\npatches1 = view_as_windows(lena, patch_shape)\npatches1 = patches1.reshape(-1, patch_shape[0] * patch_shape[1])[::8]\nfb1, _ = kmeans2(patches1, n_filters, minit='points')\nfb1 = fb1.reshape((-1,) + patch_shape)\nfb1_montage = montage2d(fb1, rescale_intensity=True)\n\n# -- filterbank2 LGN-like Lena\nlena_dog = ndi.gaussian_filter(lena, .5) - ndi.gaussian_filter(lena, 1)\npatches2 = view_as_windows(lena_dog, patch_shape)\npatches2 = patches2.reshape(-1, patch_shape[0] * patch_shape[1])[::8]\nfb2, _ = kmeans2(patches2, n_filters, minit='points')\nfb2 = fb2.reshape((-1,) + patch_shape)\nfb2_montage = montage2d(fb2, rescale_intensity=True)\n\n# --\nfig, axes = plt.subplots(2, 2, figsize=(7, 6))\nax0, ax1, ax2, ax3 = axes.ravel()\n\nax0.imshow(lena, cmap=plt.cm.gray)\nax0.set_title(\"Lena (original)\")\n\nax1.imshow(fb1_montage, cmap=plt.cm.gray, interpolation='nearest')\nax1.set_title(\"K-means filterbank (codebook)\\non Lena (original)\")\n\nax2.imshow(lena_dog, cmap=plt.cm.gray)\nax2.set_title(\"Lena (LGN-like DoG)\")\n\nax3.imshow(fb2_montage, cmap=plt.cm.gray, interpolation='nearest')\nax3.set_title(\"K-means filterbank (codebook)\\non Lena (LGN-like DoG)\")\n\nfor ax in axes.ravel():\n    ax.axis('off')\n\nfig.subplots_adjust(hspace=0.3)\nplt.show()", 
          "metadata": {}
        }
      ], 
      "metadata": {}
    }
  ], 
  "metadata": {
    "name": ""
  }
}