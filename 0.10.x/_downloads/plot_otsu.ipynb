{
  "nbformat": 3, 
  "nbformat_minor": 0, 
  "worksheets": [
    {
      "cells": [
        {
          "cell_type": "code", 
          "language": "python", 
          "outputs": [], 
          "collapsed": false, 
          "input": [
            "%matplotlib inline"
          ], 
          "metadata": {}
        }, 
        {
          "source": "<div class=\"document\" id=\"thresholding\">\n<h1 class=\"title\">Thresholding</h1>\n<p>Thresholding is used to create a binary image. This example uses Otsu's method\nto calculate the threshold value.</p>\n<p>Otsu's method calculates an &quot;optimal&quot; threshold (marked by a red line in the\nhistogram below) by maximizing the variance between two classes of pixels,\nwhich are separated by the threshold. Equivalently, this threshold minimizes\nthe intra-class variance.</p>\n<table class=\"docutils footnote\" frame=\"void\" id=\"id1\" rules=\"none\">\n<colgroup><col class=\"label\" /><col /></colgroup>\n<tbody valign=\"top\">\n<tr><td class=\"label\">[1]</td><td><a class=\"reference external\" href=\"http://en.wikipedia.org/wiki/Otsu's_method\">http://en.wikipedia.org/wiki/Otsu's_method</a></td></tr>\n</tbody>\n</table>\n</div>\n", 
          "cell_type": "markdown", 
          "metadata": {}
        }, 
        {
          "cell_type": "code", 
          "language": "python", 
          "outputs": [], 
          "collapsed": false, 
          "input": "import matplotlib\nimport matplotlib.pyplot as plt\n\nfrom skimage.data import camera\nfrom skimage.filter import threshold_otsu\n\n\nmatplotlib.rcParams['font.size'] = 9\n\n\nimage = camera()\nthresh = threshold_otsu(image)\nbinary = image > thresh\n\nfig, (ax1, ax2, ax3) = plt.subplots(1, 3, figsize=(8, 2.5))\nax1.imshow(image, cmap=plt.cm.gray)\nax1.set_title('Original')\nax1.axis('off')\n\nax2.hist(image)\nax2.set_title('Histogram')\nax2.axvline(thresh, color='r')\n\nax3.imshow(binary, cmap=plt.cm.gray)\nax3.set_title('Thresholded')\nax3.axis('off')\n\nplt.show()", 
          "metadata": {}
        }
      ], 
      "metadata": {}
    }
  ], 
  "metadata": {
    "name": ""
  }
}