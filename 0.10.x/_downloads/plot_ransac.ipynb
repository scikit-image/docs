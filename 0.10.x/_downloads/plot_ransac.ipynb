{
  "nbformat": 3, 
  "nbformat_minor": 0, 
  "worksheets": [
    {
      "cells": [
        {
          "cell_type": "code", 
          "language": "python", 
          "outputs": [], 
          "collapsed": false, 
          "input": [
            "%matplotlib inline"
          ], 
          "metadata": {}
        }, 
        {
          "source": "<div class=\"document\" id=\"robust-line-model-estimation-using-ransac\">\n<h1 class=\"title\">Robust line model estimation using RANSAC</h1>\n<p>In this example we see how to robustly fit a line model to faulty data using\nthe RANSAC algorithm.</p>\n</div>\n", 
          "cell_type": "markdown", 
          "metadata": {}
        }, 
        {
          "cell_type": "code", 
          "language": "python", 
          "outputs": [], 
          "collapsed": false, 
          "input": "import numpy as np\nfrom matplotlib import pyplot as plt\n\nfrom skimage.measure import LineModel, ransac\n\n\nnp.random.seed(seed=1)\n\n# generate coordinates of line\nx = np.arange(-200, 200)\ny = 0.2 * x + 20\ndata = np.column_stack([x, y])\n\n# add faulty data\nfaulty = np.array(30 * [(180., -100)])\nfaulty += 5 * np.random.normal(size=faulty.shape)\ndata[:faulty.shape[0]] = faulty\n\n# add gaussian noise to coordinates\nnoise = np.random.normal(size=data.shape)\ndata += 0.5 * noise\ndata[::2] += 5 * noise[::2]\ndata[::4] += 20 * noise[::4]\n\n# fit line using all data\nmodel = LineModel()\nmodel.estimate(data)\n\n# robustly fit line only using inlier data with RANSAC algorithm\nmodel_robust, inliers = ransac(data, LineModel, min_samples=2,\n                               residual_threshold=1, max_trials=1000)\noutliers = inliers == False\n\n# generate coordinates of estimated models\nline_x = np.arange(-250, 250)\nline_y = model.predict_y(line_x)\nline_y_robust = model_robust.predict_y(line_x)\n\nfig, ax = plt.subplots()\nax.plot(data[inliers, 0], data[inliers, 1], '.b', alpha=0.6,\n        label='Inlier data')\nax.plot(data[outliers, 0], data[outliers, 1], '.r', alpha=0.6,\n        label='Outlier data')\nax.plot(line_x, line_y, '-k', label='Line model from all data')\nax.plot(line_x, line_y_robust, '-b', label='Robust line model')\nax.legend(loc='lower left')\nplt.show()", 
          "metadata": {}
        }
      ], 
      "metadata": {}
    }
  ], 
  "metadata": {
    "name": ""
  }
}