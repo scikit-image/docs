{
  "nbformat": 3, 
  "nbformat_minor": 0, 
  "worksheets": [
    {
      "cells": [
        {
          "cell_type": "code", 
          "language": "python", 
          "outputs": [], 
          "collapsed": false, 
          "input": [
            "%matplotlib inline"
          ], 
          "metadata": {}
        }, 
        {
          "source": "<div class=\"document\" id=\"local-binary-pattern-for-texture-classification\">\n<h1 class=\"title\">Local Binary Pattern for texture classification</h1>\n<p>In this example, we will see how to classify textures based on LBP (Local\nBinary Pattern). LBP looks at points surrounding a central point and tests\nwhether the surrounding points are greater than or less than the central point\n(i.e. gives a binary result).</p>\n<p>Before trying out LBP on an image, it helps to look at a schematic of LBPs.\nThe below code is just used to plot the schematic.</p>\n</div>\n", 
          "cell_type": "markdown", 
          "metadata": {}
        }, 
        {
          "cell_type": "code", 
          "language": "python", 
          "outputs": [], 
          "collapsed": false, 
          "input": "from __future__ import print_function\nimport numpy as np\nimport matplotlib.pyplot as plt\n\n\nMETHOD = 'uniform'\nplt.rcParams['font.size'] = 9\n\n\ndef plot_circle(ax, center, radius, color):\n    circle = plt.Circle(center, radius, facecolor=color, edgecolor='0.5')\n    ax.add_patch(circle)\n\n\ndef plot_lbp_model(ax, binary_values):\n    \"\"\"Draw the schematic for a local binary pattern.\"\"\"\n    # Geometry spec\n    theta = np.deg2rad(45)\n    R = 1\n    r = 0.15\n    w = 1.5\n    gray = '0.5'\n\n    # Draw the central pixel.\n    plot_circle(ax, (0, 0), radius=r, color=gray)\n    # Draw the surrounding pixels.\n    for i, facecolor in enumerate(binary_values):\n        x = R * np.cos(i * theta)\n        y = R * np.sin(i * theta)\n        plot_circle(ax, (x, y), radius=r, color=str(facecolor))\n\n    # Draw the pixel grid.\n    for x in np.linspace(-w, w, 4):\n        ax.axvline(x, color=gray)\n        ax.axhline(x, color=gray)\n\n    # Tweak the layout.\n    ax.axis('image')\n    ax.axis('off')\n    size = w + 0.2\n    ax.set_xlim(-size, size)\n    ax.set_ylim(-size, size)\n\n\nfig, axes = plt.subplots(ncols=5, figsize=(7, 2))\n\ntitles = ['flat', 'flat', 'edge', 'corner', 'non-uniform']\n\nbinary_patterns = [np.zeros(8),\n                   np.ones(8),\n                   np.hstack([np.ones(4), np.zeros(4)]),\n                   np.hstack([np.zeros(3), np.ones(5)]),\n                   [1, 0, 0, 1, 1, 1, 0, 0]]\n\nfor ax, values, name in zip(axes, binary_patterns, titles):\n    plot_lbp_model(ax, values)\n    ax.set_title(name)", 
          "metadata": {}
        }, 
        {
          "source": "<div class=\"document\">\n<p>The figure above shows example results with black (or white) representing\npixels that are less (or more) intense than the central pixel. When surrounding\npixels are all black or all white, then that image region is flat (i.e.\nfeatureless). Groups of continuous black or white pixels are considered\n&quot;uniform&quot; patterns that can be interpreted as corners or edges. If pixels\nswitch back-and-forth between black and white pixels, the pattern is considered\n&quot;non-uniform&quot;.</p>\n<p>When using LBP to detect texture, you measure a collection of LBPs over an\nimage patch and look at the distribution of these LBPs. Lets apply LBP to\na brick texture.</p>\n</div>\n", 
          "cell_type": "markdown", 
          "metadata": {}
        }, 
        {
          "cell_type": "code", 
          "language": "python", 
          "outputs": [], 
          "collapsed": false, 
          "input": "\nfrom skimage.transform import rotate\nfrom skimage.feature import local_binary_pattern\nfrom skimage import data\nfrom skimage.color import label2rgb\n\n# settings for LBP\nradius = 3\nn_points = 8 * radius\n\n\ndef overlay_labels(image, lbp, labels):\n    mask = np.logical_or.reduce([lbp == each for each in labels])\n    return label2rgb(mask, image=image, bg_label=0, alpha=0.5)\n\n\ndef highlight_bars(bars, indexes):\n    for i in indexes:\n        bars[i].set_facecolor('r')\n\n\nimage = data.load('brick.png')\nlbp = local_binary_pattern(image, n_points, radius, METHOD)\n\ndef hist(ax, lbp):\n    n_bins = lbp.max() + 1\n    return ax.hist(lbp.ravel(), normed=True, bins=n_bins, range=(0, n_bins),\n                   facecolor='0.5')\n\n# plot histograms of LBP of textures\nfig, (ax_img, ax_hist) = plt.subplots(nrows=2, ncols=3, figsize=(9, 6))\nplt.gray()\n\ntitles = ('edge', 'flat', 'corner')\nw = width = radius - 1\nedge_labels = range(n_points // 2 - w, n_points // 2 + w + 1)\nflat_labels = list(range(0, w + 1)) + list(range(n_points - w, n_points + 2))\ni_14 = n_points // 4            # 1/4th of the histogram\ni_34 = 3 * (n_points // 4)      # 3/4th of the histogram\ncorner_labels = (list(range(i_14 - w, i_14 + w + 1)) +\n                 list(range(i_34 - w, i_34 + w + 1)))\n\nlabel_sets = (edge_labels, flat_labels, corner_labels)\n\nfor ax, labels in zip(ax_img, label_sets):\n    ax.imshow(overlay_labels(image, lbp, labels))\n\nfor ax, labels, name in zip(ax_hist, label_sets, titles):\n    counts, _, bars = hist(ax, lbp)\n    highlight_bars(bars, labels)\n    ax.set_ylim(ymax=np.max(counts[:-1]))\n    ax.set_xlim(xmax=n_points + 2)\n    ax.set_title(name)\n\nax_hist[0].set_ylabel('Percentage')\nfor ax in ax_img:\n    ax.axis('off')", 
          "metadata": {}
        }, 
        {
          "source": "<div class=\"document\">\n<p>The above plot highlights flat, edge-like, and corner-like regions of the\nimage.</p>\n<p>The histogram of the LBP result is a good measure to classify textures. Here,\nwe test the histogram distributions against each other using the\nKullback-Leibler-Divergence.</p>\n</div>\n", 
          "cell_type": "markdown", 
          "metadata": {}
        }, 
        {
          "cell_type": "code", 
          "language": "python", 
          "outputs": [], 
          "collapsed": false, 
          "input": "\n# settings for LBP\nradius = 2\nn_points = 8 * radius\n\n\ndef kullback_leibler_divergence(p, q):\n    p = np.asarray(p)\n    q = np.asarray(q)\n    filt = np.logical_and(p != 0, q != 0)\n    return np.sum(p[filt] * np.log2(p[filt] / q[filt]))\n\n\ndef match(refs, img):\n    best_score = 10\n    best_name = None\n    lbp = local_binary_pattern(img, n_points, radius, METHOD)\n    n_bins = lbp.max() + 1\n    hist, _ = np.histogram(lbp, normed=True, bins=n_bins, range=(0, n_bins))\n    for name, ref in refs.items():\n        ref_hist, _ = np.histogram(ref, normed=True, bins=n_bins,\n                                   range=(0, n_bins))\n        score = kullback_leibler_divergence(hist, ref_hist)\n        if score < best_score:\n            best_score = score\n            best_name = name\n    return best_name\n\n\nbrick = data.load('brick.png')\ngrass = data.load('grass.png')\nwall = data.load('rough-wall.png')\n\nrefs = {\n    'brick': local_binary_pattern(brick, n_points, radius, METHOD),\n    'grass': local_binary_pattern(grass, n_points, radius, METHOD),\n    'wall': local_binary_pattern(wall, n_points, radius, METHOD)\n}\n\n# classify rotated textures\nprint('Rotated images matched against references using LBP:')\nprint('original: brick, rotated: 30deg, match result: ',\n      match(refs, rotate(brick, angle=30, resize=False)))\nprint('original: brick, rotated: 70deg, match result: ',\n      match(refs, rotate(brick, angle=70, resize=False)))\nprint('original: grass, rotated: 145deg, match result: ',\n      match(refs, rotate(grass, angle=145, resize=False)))\n\n# plot histograms of LBP of textures\nfig, ((ax1, ax2, ax3), (ax4, ax5, ax6)) = plt.subplots(nrows=2, ncols=3,\n                                                       figsize=(9, 6))\nplt.gray()\n\nax1.imshow(brick)\nax1.axis('off')\nhist(ax4, refs['brick'])\nax4.set_ylabel('Percentage')\n\nax2.imshow(grass)\nax2.axis('off')\nhist(ax5, refs['grass'])\nax5.set_xlabel('Uniform LBP values')\n\nax3.imshow(wall)\nax3.axis('off')\nhist(ax6, refs['wall'])", 
          "metadata": {}
        }, 
        {
          "source": "<div class=\"document\">\n</div>\n", 
          "cell_type": "markdown", 
          "metadata": {}
        }, 
        {
          "cell_type": "code", 
          "language": "python", 
          "outputs": [], 
          "collapsed": false, 
          "input": "\nplt.show()", 
          "metadata": {}
        }
      ], 
      "metadata": {}
    }
  ], 
  "metadata": {
    "name": ""
  }
}