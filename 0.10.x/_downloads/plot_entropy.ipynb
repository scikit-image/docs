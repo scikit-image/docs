{
  "nbformat": 3, 
  "nbformat_minor": 0, 
  "worksheets": [
    {
      "cells": [
        {
          "cell_type": "code", 
          "language": "python", 
          "outputs": [], 
          "collapsed": false, 
          "input": [
            "%matplotlib inline"
          ], 
          "metadata": {}
        }, 
        {
          "source": "<div class=\"document\" id=\"entropy\">\n<h1 class=\"title\">Entropy</h1>\n<p>Image entropy is a quantity which is used to describe the amount of information\ncoded in an image.</p>\n</div>\n", 
          "cell_type": "markdown", 
          "metadata": {}
        }, 
        {
          "cell_type": "code", 
          "language": "python", 
          "outputs": [], 
          "collapsed": false, 
          "input": "import matplotlib.pyplot as plt\n\nfrom skimage import data\nfrom skimage.filter.rank import entropy\nfrom skimage.morphology import disk\nfrom skimage.util import img_as_ubyte\n\n\nimage = img_as_ubyte(data.camera())\n\nfig, (ax0, ax1) = plt.subplots(ncols=2, figsize=(10, 4))\n\nimg0 = ax0.imshow(image, cmap=plt.cm.gray)\nax0.set_title('Image')\nax0.axis('off')\nfig.colorbar(img0, ax=ax0)\n\nimg1 = ax1.imshow(entropy(image, disk(5)), cmap=plt.cm.jet)\nax1.set_title('Entropy')\nax1.axis('off')\nfig.colorbar(img1, ax=ax1)\n\nplt.show()", 
          "metadata": {}
        }
      ], 
      "metadata": {}
    }
  ], 
  "metadata": {
    "name": ""
  }
}