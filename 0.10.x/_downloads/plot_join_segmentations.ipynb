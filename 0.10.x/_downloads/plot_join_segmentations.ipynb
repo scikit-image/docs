{
  "nbformat": 3, 
  "nbformat_minor": 0, 
  "worksheets": [
    {
      "cells": [
        {
          "cell_type": "code", 
          "language": "python", 
          "outputs": [], 
          "collapsed": false, 
          "input": [
            "%matplotlib inline"
          ], 
          "metadata": {}
        }, 
        {
          "source": "<div class=\"document\" id=\"find-the-intersection-of-two-segmentations\">\n<h1 class=\"title\">Find the intersection of two segmentations</h1>\n<p>When segmenting an image, you may want to combine multiple alternative\nsegmentations. The <cite>skimage.segmentation.join_segmentations</cite> function\ncomputes the join of two segmentations, in which a pixel is placed in\nthe same segment if and only if it is in the same segment in _both_\nsegmentations.</p>\n</div>\n", 
          "cell_type": "markdown", 
          "metadata": {}
        }, 
        {
          "cell_type": "code", 
          "language": "python", 
          "outputs": [], 
          "collapsed": false, 
          "input": "import numpy as np\nfrom scipy import ndimage as nd\nimport matplotlib.pyplot as plt\n\nfrom skimage.filter import sobel\nfrom skimage.segmentation import slic, join_segmentations\nfrom skimage.morphology import watershed\nfrom skimage.color import label2rgb\nfrom skimage import data, img_as_float\n\ncoins = img_as_float(data.coins())\n\n# make segmentation using edge-detection and watershed\nedges = sobel(coins)\nmarkers = np.zeros_like(coins)\nforeground, background = 1, 2\nmarkers[coins < 30.0 / 255] = background\nmarkers[coins > 150.0 / 255] = foreground\n\nws = watershed(edges, markers)\nseg1 = nd.label(ws == foreground)[0]\n\n# make segmentation using SLIC superpixels\nseg2 = slic(coins, n_segments=117, max_iter=160, sigma=1, compactness=0.75,\n            multichannel=False)\n\n# combine the two\nsegj = join_segmentations(seg1, seg2)\n\n# show the segmentations\nfig, axes = plt.subplots(ncols=4, figsize=(9, 2.5))\naxes[0].imshow(coins, cmap=plt.cm.gray, interpolation='nearest')\naxes[0].set_title('Image')\n\ncolor1 = label2rgb(seg1, image=coins, bg_label=0)\naxes[1].imshow(color1, interpolation='nearest')\naxes[1].set_title('Sobel+Watershed')\n\ncolor2 = label2rgb(seg2, image=coins, image_alpha=0.5)\naxes[2].imshow(color2, interpolation='nearest')\naxes[2].set_title('SLIC superpixels')\n\ncolor3 = label2rgb(segj, image=coins, image_alpha=0.5)\naxes[3].imshow(color3, interpolation='nearest')\naxes[3].set_title('Join')\n\nfor ax in axes:\n    ax.axis('off')\nfig.subplots_adjust(hspace=0.01, wspace=0.01, top=1, bottom=0, left=0, right=1)\nplt.show()", 
          "metadata": {}
        }
      ], 
      "metadata": {}
    }
  ], 
  "metadata": {
    "name": ""
  }
}