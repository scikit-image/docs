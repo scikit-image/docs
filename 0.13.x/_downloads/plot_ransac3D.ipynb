{
  "cells": [
    {
      "cell_type": "code",
      "execution_count": null,
      "metadata": {
        "collapsed": false
      },
      "outputs": [],
      "source": [
        "%matplotlib inline"
      ]
    },
    {
      "cell_type": "markdown",
      "metadata": {},
      "source": [
        "\n# Robust 3D line model estimation using RANSAC\n\n\nIn this example we see how to robustly fit a 3D line model to faulty data using\nthe RANSAC algorithm.\n\n\n"
      ]
    },
    {
      "cell_type": "code",
      "execution_count": null,
      "metadata": {
        "collapsed": false
      },
      "outputs": [],
      "source": [
        "import numpy as np\nfrom matplotlib import pyplot as plt\nfrom mpl_toolkits.mplot3d import Axes3D\nfrom skimage.measure import LineModelND, ransac\n\nnp.random.seed(seed=1)\n\n# generate coordinates of line\npoint = np.array([0, 0, 0], dtype='float')\ndirection = np.array([1, 1, 1], dtype='float') / np.sqrt(3)\nxyz = point + 10 * np.arange(-100, 100)[..., np.newaxis] * direction\n\n# add gaussian noise to coordinates\nnoise = np.random.normal(size=xyz.shape)\nxyz += 0.5 * noise\nxyz[::2] += 20 * noise[::2]\nxyz[::4] += 100 * noise[::4]\n\n# robustly fit line only using inlier data with RANSAC algorithm\nmodel_robust, inliers = ransac(xyz, LineModelND, min_samples=2,\n                               residual_threshold=1, max_trials=1000)\noutliers = inliers == False\n\nfig = plt.figure()\nax = fig.add_subplot(111, projection='3d')\nax.scatter(xyz[inliers][:, 0], xyz[inliers][:, 1], xyz[inliers][:, 2], c='b',\n           marker='o', label='Inlier data')\nax.scatter(xyz[outliers][:, 0], xyz[outliers][:, 1], xyz[outliers][:, 2], c='r',\n           marker='o', label='Outlier data')\nax.legend(loc='lower left')\nplt.show()"
      ]
    }
  ],
  "metadata": {
    "kernelspec": {
      "display_name": "Python 3",
      "language": "python",
      "name": "python3"
    },
    "language_info": {
      "codemirror_mode": {
        "name": "ipython",
        "version": 3
      },
      "file_extension": ".py",
      "mimetype": "text/x-python",
      "name": "python",
      "nbconvert_exporter": "python",
      "pygments_lexer": "ipython3",
      "version": "3.6.0"
    }
  },
  "nbformat": 4,
  "nbformat_minor": 0
}