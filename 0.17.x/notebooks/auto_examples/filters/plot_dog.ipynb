{
  "cells": [
    {
      "cell_type": "code",
      "execution_count": null,
      "metadata": {
        "collapsed": false
      },
      "outputs": [],
      "source": [
        "%matplotlib inline"
      ]
    },
    {
      "cell_type": "markdown",
      "metadata": {},
      "source": [
        "\n# Band-pass filtering by Difference of Gaussians\n\n\nBand-pass filters attenuate signal frequencies outside of a range (band) of\ninterest. In image analysis, they can be used to denoise images while\nat the same time reducing low-frequency artifacts such a uneven illumination.\nBand-pass filters can be used to find image features such as blobs and edges.\n\nOne method for applying band-pass filters to images is to subtract an image\nblurred with a Gaussian kernel from a less-blurred image. This example shows\ntwo applications of the Difference of Gaussians approach for band-pass\nfiltering.\n"
      ]
    },
    {
      "cell_type": "markdown",
      "metadata": {},
      "source": [
        "Denoise image and reduce shadows\n================================\n\n"
      ]
    },
    {
      "cell_type": "code",
      "execution_count": null,
      "metadata": {
        "collapsed": false
      },
      "outputs": [],
      "source": [
        "import matplotlib.pyplot as plt\nimport numpy as np\nfrom skimage.data import gravel\nfrom skimage.filters import difference_of_gaussians, window\nfrom scipy.fftpack import fftn, fftshift\n\nimage = gravel()\nwimage = image * window('hann', image.shape)  # window image to improve FFT\nfiltered_image = difference_of_gaussians(image, 1, 12)\nfiltered_wimage = filtered_image * window('hann', image.shape)\nim_f_mag = fftshift(np.abs(fftn(wimage)))\nfim_f_mag = fftshift(np.abs(fftn(filtered_wimage)))\n\nfig, ax = plt.subplots(nrows=2, ncols=2, figsize=(8, 8))\nax[0, 0].imshow(image, cmap='gray')\nax[0, 0].set_title('Original Image')\nax[0, 1].imshow(np.log(im_f_mag), cmap='magma')\nax[0, 1].set_title('Original FFT Magnitude (log)')\nax[1, 0].imshow(filtered_image, cmap='gray')\nax[1, 0].set_title('Filtered Image')\nax[1, 1].imshow(np.log(fim_f_mag), cmap='magma')\nax[1, 1].set_title('Filtered FFT Magnitude (log)')\nplt.show()"
      ]
    },
    {
      "cell_type": "markdown",
      "metadata": {},
      "source": [
        "Enhance edges in an image\n=========================\n\n"
      ]
    },
    {
      "cell_type": "code",
      "execution_count": null,
      "metadata": {
        "collapsed": false
      },
      "outputs": [],
      "source": [
        "from skimage.data import camera\n\nimage = camera()\nwimage = image * window('hann', image.shape)  # window image to improve FFT\nfiltered_image = difference_of_gaussians(image, 1.5)\nfiltered_wimage = filtered_image * window('hann', image.shape)\nim_f_mag = fftshift(np.abs(fftn(wimage)))\nfim_f_mag = fftshift(np.abs(fftn(filtered_wimage)))\n\nfig, ax = plt.subplots(nrows=2, ncols=2, figsize=(8, 8))\nax[0, 0].imshow(image, cmap='gray')\nax[0, 0].set_title('Original Image')\nax[0, 1].imshow(np.log(im_f_mag), cmap='magma')\nax[0, 1].set_title('Original FFT Magnitude (log)')\nax[1, 0].imshow(filtered_image, cmap='gray')\nax[1, 0].set_title('Filtered Image')\nax[1, 1].imshow(np.log(fim_f_mag), cmap='magma')\nax[1, 1].set_title('Filtered FFT Magnitude (log)')\nplt.show()"
      ]
    }
  ],
  "metadata": {
    "kernelspec": {
      "display_name": "Python 3",
      "language": "python",
      "name": "python3"
    },
    "language_info": {
      "codemirror_mode": {
        "name": "ipython",
        "version": 3
      },
      "file_extension": ".py",
      "mimetype": "text/x-python",
      "name": "python",
      "nbconvert_exporter": "python",
      "pygments_lexer": "ipython3",
      "version": "3.7.3"
    }
  },
  "nbformat": 4,
  "nbformat_minor": 0
}