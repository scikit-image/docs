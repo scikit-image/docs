{
  "cells": [
    {
      "cell_type": "code",
      "execution_count": null,
      "metadata": {
        "collapsed": false
      },
      "outputs": [],
      "source": [
        "%matplotlib inline"
      ]
    },
    {
      "cell_type": "markdown",
      "metadata": {},
      "source": [
        "\n# Full tutorial on calibrating Denoisers Using J-Invariance\n\n\nIn this example, we show how to find an optimally calibrated\nversion of any denoising algorithm.\n\nThe calibration method is based on the `noise2self` algorithm of [1]_.\n\n.. [1] J. Batson & L. Royer. Noise2Self: Blind Denoising by Self-Supervision,\n       International Conference on Machine Learning, p. 524-533 (2019).\n\n.. seealso::\n   A simple example of the method is given in\n   `sphx_glr_auto_examples_filters_plot_j_invariant.py`.\n"
      ]
    },
    {
      "cell_type": "markdown",
      "metadata": {},
      "source": [
        "Calibrating a wavelet denoiser\n\n"
      ]
    },
    {
      "cell_type": "code",
      "execution_count": null,
      "metadata": {
        "collapsed": false
      },
      "outputs": [],
      "source": [
        "import numpy as np\nfrom matplotlib import pyplot as plt\nfrom matplotlib import gridspec\n\nfrom skimage.data import chelsea, hubble_deep_field\nfrom skimage.metrics import mean_squared_error as mse\nfrom skimage.metrics import peak_signal_noise_ratio as psnr\nfrom skimage.restoration import (calibrate_denoiser,\n                                 denoise_wavelet,\n                                 denoise_tv_chambolle, denoise_nl_means,\n                                 estimate_sigma)\nfrom skimage.util import img_as_float, random_noise\nfrom skimage.color import rgb2gray\nfrom functools import partial\n\n_denoise_wavelet = partial(denoise_wavelet, rescale_sigma=True)\n\nimage = img_as_float(chelsea())\nsigma = 0.3\nnoisy = random_noise(image, var=sigma ** 2)\n\n# Parameters to test when calibrating the denoising algorithm\nsigma_range = np.arange(0.05, 0.5, 0.05)\n\nparameter_ranges = {'sigma': np.arange(0.1, 0.3, 0.02),\n                    'wavelet': ['db1', 'db2'],\n                    'convert2ycbcr': [True, False],\n                    'multichannel': [True]}\n\n# Denoised image using default parameters of `denoise_wavelet`\ndefault_output = denoise_wavelet(noisy, multichannel=True, rescale_sigma=True)\n\n# Calibrate denoiser\ncalibrated_denoiser = calibrate_denoiser(noisy,\n                                         _denoise_wavelet,\n                                         denoise_parameters=parameter_ranges\n                                         )\n\n# Denoised image using calibrated denoiser\ncalibrated_output = calibrated_denoiser(noisy)\n\nfig, axes = plt.subplots(1, 3, sharex=True, sharey=True, figsize=(15, 5))\n\nfor ax, img, title in zip(axes,\n                          [noisy, default_output, calibrated_output],\n                          ['Noisy Image', 'Denoised (Default)',\n                           'Denoised (Calibrated)']):\n    ax.imshow(img)\n    ax.set_title(title)\n    ax.set_yticks([])\n    ax.set_xticks([])"
      ]
    },
    {
      "cell_type": "markdown",
      "metadata": {},
      "source": [
        "The Self-Supervised Loss and J-Invariance\n=========================================\nThe key to this calibration method is the notion of J-invariance. A denoising\nfunction is J-invariant if the prediction it makes for each pixel does\nnot depend on the value of that pixel in the original image. The prediction\nfor each pixel may instead use all the relevant information contained in the\nrest of the image, which is typically quite significant. Any function\ncan be converted into a J-invariant one using a simple masking procedure,\nas described in [1].\n\nThe pixel-wise error of a J-invariant denoiser is uncorrelated\nto the noise, so long as the noise in each pixel is independent.\nConsequently, the average difference between the denoised image and the\nnoisy image, the *self-supervised loss*, is the same as the\ndifference between the denoised image and the original clean image, the\n*ground-truth loss* (up to a constant).\n\nThis means that the best J-invariant denoiser for a given image can\nbe found using the noisy data alone, by selecting the denoiser minimizing\nthe self-supervised loss. Below, we demonstrate this\nfor a family of wavelet denoisers with varying `sigma` parameter. The\nself-supervised loss (solid blue line) and the ground-truth loss (dashed\nblue line) have the same shape and the same minimizer.\n\n\n"
      ]
    },
    {
      "cell_type": "code",
      "execution_count": null,
      "metadata": {
        "collapsed": false
      },
      "outputs": [],
      "source": [
        "from skimage.restoration.j_invariant import _invariant_denoise\n\nsigma_range = np.arange(0.12, 0.26, 0.03)\n\nparameters_tested = [{'sigma': sigma, 'convert2ycbcr': True, 'wavelet': 'db2',\n                      'multichannel': True}\n                     for sigma in sigma_range]\n\ndenoised_invariant = [_invariant_denoise(noisy, _denoise_wavelet,\n                                         denoiser_kwargs=params)\n                      for params in parameters_tested]\n\nself_supervised_loss = [mse(img, noisy) for img in denoised_invariant]\nground_truth_loss = [mse(img, image) for img in denoised_invariant]\n\nopt_idx = np.argmin(self_supervised_loss)\nplot_idx = [0, 2, 4]\n\nget_inset = lambda x: x[25:225, 100:300]\n\nplt.figure(figsize=(10, 12))\n\ngs = gridspec.GridSpec(3, 3)\nax1 = plt.subplot(gs[0, :])\nax2 = plt.subplot(gs[1, :])\nax_image = [plt.subplot(gs[2, i]) for i in range(3)]\n\nax1.plot(sigma_range, self_supervised_loss, color='C0',\n         label='Self-Supervised Loss')\nax1.scatter(sigma_range[opt_idx], self_supervised_loss[opt_idx] + 0.0003,\n            marker='v', color='red', label='optimal sigma')\n\nax1.set_ylabel('MSE')\nax1.set_xticks([])\nax1.legend()\nax1.set_title('Self-Supervised Loss')\n\nax2.plot(sigma_range, ground_truth_loss, color='C0', linestyle='--',\n         label='Ground Truth Loss')\nax2.scatter(sigma_range[opt_idx], ground_truth_loss[opt_idx] + 0.0003,\n            marker='v', color='red', label='optimal sigma')\nax2.set_ylabel('MSE')\nax2.legend()\nax2.set_xlabel('sigma')\nax2.set_title('Ground-Truth Loss')\n\nfor i in range(3):\n    ax = ax_image[i]\n    ax.set_xticks([])\n    ax.set_yticks([])\n    ax.imshow(get_inset(denoised_invariant[plot_idx[i]]))\n    ax.set_xlabel('sigma = ' + str(np.round(sigma_range[plot_idx[i]], 2)))\n\nfor spine in ax_image[1].spines.values():\n    spine.set_edgecolor('red')\n    spine.set_linewidth(5)"
      ]
    },
    {
      "cell_type": "markdown",
      "metadata": {},
      "source": [
        "Conversion to J-invariance\n=========================================\nThe function `_invariant_denoise` acts as a J-invariant version of a\ngiven denoiser. It works by masking a fraction of the pixels, interpolating\nthem, running the original denoiser, and extracting the values returned in\nthe masked pixels. Iterating over the image results in a fully J-invariant\noutput.\n\nFor any given set of parameters, the J-invariant version of a denoiser\nis different from the original denoiser, but it is not necessarily better\nor worse. In the plot below, we see that, for the test image of a cat,\nthe J-invariant version of a wavelet denoiser is significantly better\nthan the original at small values of variance-reduction `sigma` and\nimperceptibly worse at larger values.\n\n\n"
      ]
    },
    {
      "cell_type": "code",
      "execution_count": null,
      "metadata": {
        "collapsed": false
      },
      "outputs": [],
      "source": [
        "parameters_tested = [{'sigma': sigma, 'convert2ycbcr': True,\n                      'wavelet': 'db2', 'multichannel': True}\n                     for sigma in sigma_range]\n\ndenoised_original = [_denoise_wavelet(noisy, **params)\n                     for params in parameters_tested]\n\nground_truth_loss_invariant = [mse(img, image) for img in denoised_invariant]\nground_truth_loss_original = [mse(img, image) for img in denoised_original]\n\nfig, ax = plt.subplots(figsize=(10, 4))\n\nax.plot(sigma_range, ground_truth_loss_invariant, color='C0', linestyle='--',\n        label='J-invariant')\nax.plot(sigma_range, ground_truth_loss_original, color='C1', linestyle='--',\n        label='Original')\nax.scatter(sigma_range[opt_idx], ground_truth_loss[opt_idx] + 0.001,\n           marker='v', color='red')\nax.legend()\nax.set_title(\n    'J-Invariant Denoiser Has Comparable Or '\n    'Better Performance At Same Parameters'\n)\nax.set_ylabel('MSE')\nax.set_xlabel('sigma')"
      ]
    },
    {
      "cell_type": "markdown",
      "metadata": {},
      "source": [
        "Comparing Different Classes of Denoiser\n=========================================\nThe self-supervised loss can be used to compare different classes of\ndenoiser in addition to choosing parameters for a single class.\nThis allows the user to, in an unbiased way, choose the best parameters\nfor the best class of denoiser for a given image.\n\nBelow, we show this for an image of the hubble deep field with significant\nspeckle noise added. In this case, the J-invariant calibrated denoiser is\nbetter than the default denoiser in each of three families of denoisers --\nNon-local means, wavelet, and TV norm. Additionally, the self-supervised\nloss shows that the TV norm denoiser is the best for this noisy image.\n\n\n"
      ]
    },
    {
      "cell_type": "code",
      "execution_count": null,
      "metadata": {
        "collapsed": false
      },
      "outputs": [],
      "source": [
        "image = rgb2gray(img_as_float(hubble_deep_field()[100:250, 50:300]))\n\nsigma = 0.4\nnoisy = random_noise(image, mode='speckle', var=sigma ** 2)\n\nparameter_ranges_tv = {'weight': np.arange(0.01, 0.3, 0.02)}\n_, (parameters_tested_tv, losses_tv) = calibrate_denoiser(\n                                    noisy,\n                                    denoise_tv_chambolle,\n                                    denoise_parameters=parameter_ranges_tv,\n                                    extra_output=True)\nprint(f'Minimum self-supervised loss TV: {np.min(losses_tv):.4f}')\n\nbest_parameters_tv = parameters_tested_tv[np.argmin(losses_tv)]\ndenoised_calibrated_tv = _invariant_denoise(noisy, denoise_tv_chambolle,\n                                            denoiser_kwargs=best_parameters_tv)\ndenoised_default_tv = denoise_tv_chambolle(noisy, **best_parameters_tv)\n\npsnr_calibrated_tv = psnr(image, denoised_calibrated_tv)\npsnr_default_tv = psnr(image, denoised_default_tv)\n\nparameter_ranges_wavelet = {'sigma': np.arange(0.01, 0.3, 0.03)}\n_, (parameters_tested_wavelet, losses_wavelet) = calibrate_denoiser(\n                                                noisy,\n                                                _denoise_wavelet,\n                                                parameter_ranges_wavelet,\n                                                extra_output=True)\nprint(f'Minimum self-supervised loss wavelet: {np.min(losses_wavelet):.4f}')\n\nbest_parameters_wavelet = parameters_tested_wavelet[np.argmin(losses_wavelet)]\ndenoised_calibrated_wavelet = _invariant_denoise(\n        noisy, _denoise_wavelet,\n        denoiser_kwargs=best_parameters_wavelet)\ndenoised_default_wavelet = _denoise_wavelet(noisy, **best_parameters_wavelet)\n\npsnr_calibrated_wavelet = psnr(image, denoised_calibrated_wavelet)\npsnr_default_wavelet = psnr(image, denoised_default_wavelet)\n\nsigma_est = estimate_sigma(noisy)\n\nparameter_ranges_nl = {'sigma': np.arange(0.6, 1.4, 0.2) * sigma_est,\n                       'h': np.arange(0.6, 1.2, 0.2) * sigma_est}\n\nparameter_ranges_nl = {'sigma': np.arange(0.01, 0.3, 0.03)}\n_, (parameters_tested_nl, losses_nl) = calibrate_denoiser(noisy,\n                                                        denoise_nl_means,\n                                                        parameter_ranges_nl,\n                                                        extra_output=True)\nprint(f'Minimum self-supervised loss NL means: {np.min(losses_nl):.4f}')\n\nbest_parameters_nl = parameters_tested_nl[np.argmin(losses_nl)]\ndenoised_calibrated_nl = _invariant_denoise(noisy, denoise_nl_means,\n                                            denoiser_kwargs=best_parameters_nl)\ndenoised_default_nl = denoise_nl_means(noisy, **best_parameters_nl)\n\npsnr_calibrated_nl = psnr(image, denoised_calibrated_nl)\npsnr_default_nl = psnr(image, denoised_default_nl)\n\nprint(f'                       PSNR')\nprint(f'NL means (Default)   : {psnr_default_nl:.1f}')\nprint(f'NL means (Calibrated): {psnr_calibrated_nl:.1f}')\nprint(f'Wavelet  (Default)   : {psnr_default_wavelet:.1f}')\nprint(f'Wavelet  (Calibrated): {psnr_calibrated_wavelet:.1f}')\nprint(f'TV norm  (Default)   : {psnr_default_tv:.1f}')\nprint(f'TV norm  (Calibrated): {psnr_calibrated_tv:.1f}')\n\nplt.subplots(figsize=(10, 12))\nplt.imshow(noisy, cmap='Greys_r')\nplt.xticks([])\nplt.yticks([])\nplt.title('Noisy Image')\n\nget_inset = lambda x: x[0:100, -140:]\n\nfig, axes = plt.subplots(ncols=3, nrows=2, figsize=(15, 8))\n\nfor ax in axes.ravel():\n    ax.set_xticks([])\n    ax.set_yticks([])\n\naxes[0, 0].imshow(get_inset(denoised_default_nl), cmap='Greys_r')\naxes[0, 0].set_title('NL Means Default')\naxes[1, 0].imshow(get_inset(denoised_calibrated_nl), cmap='Greys_r')\naxes[1, 0].set_title('NL Means Calibrated')\naxes[0, 1].imshow(get_inset(denoised_default_wavelet), cmap='Greys_r')\naxes[0, 1].set_title('Wavelet Default')\naxes[1, 1].imshow(get_inset(denoised_calibrated_wavelet), cmap='Greys_r')\naxes[1, 1].set_title('Wavelet Calibrated')\naxes[0, 2].imshow(get_inset(denoised_default_tv), cmap='Greys_r')\naxes[0, 2].set_title('TV Norm Default')\naxes[1, 2].imshow(get_inset(denoised_calibrated_tv), cmap='Greys_r')\naxes[1, 2].set_title('TV Norm Calibrated')\n\nfor spine in axes[1, 2].spines.values():\n    spine.set_edgecolor('red')\n    spine.set_linewidth(5)\n\nplt.show()"
      ]
    }
  ],
  "metadata": {
    "kernelspec": {
      "display_name": "Python 3",
      "language": "python",
      "name": "python3"
    },
    "language_info": {
      "codemirror_mode": {
        "name": "ipython",
        "version": 3
      },
      "file_extension": ".py",
      "mimetype": "text/x-python",
      "name": "python",
      "nbconvert_exporter": "python",
      "pygments_lexer": "ipython3",
      "version": "3.7.3"
    }
  },
  "nbformat": 4,
  "nbformat_minor": 0
}