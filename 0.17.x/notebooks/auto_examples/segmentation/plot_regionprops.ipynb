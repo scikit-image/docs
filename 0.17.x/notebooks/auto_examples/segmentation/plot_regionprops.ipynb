{
  "cells": [
    {
      "cell_type": "code",
      "execution_count": null,
      "metadata": {
        "collapsed": false
      },
      "outputs": [],
      "source": [
        "%matplotlib inline"
      ]
    },
    {
      "cell_type": "markdown",
      "metadata": {},
      "source": [
        "\n# Measure region properties\n\n\nThis example shows how to measure properties of labelled image regions. We\nanalyze an image with two ellipses.\n"
      ]
    },
    {
      "cell_type": "code",
      "execution_count": null,
      "metadata": {
        "collapsed": false
      },
      "outputs": [],
      "source": [
        "import math\nimport matplotlib.pyplot as plt\nimport numpy as np\nimport pandas as pd\n\nfrom skimage.draw import ellipse\nfrom skimage.measure import label, regionprops, regionprops_table\nfrom skimage.transform import rotate\n\n\nimage = np.zeros((600, 600))\n\nrr, cc = ellipse(300, 350, 100, 220)\nimage[rr, cc] = 1\n\nimage = rotate(image, angle=15, order=0)\n\nrr, cc = ellipse(100, 100, 60, 50)\nimage[rr, cc] = 1\n\nlabel_img = label(image)\nregions = regionprops(label_img)"
      ]
    },
    {
      "cell_type": "markdown",
      "metadata": {},
      "source": [
        "We use the :py:func:`skimage.measure.regionprops` result to draw certain\nproperties on each region. For example, in red, we plot the major and minor\naxes of each ellipse.\n\n"
      ]
    },
    {
      "cell_type": "code",
      "execution_count": null,
      "metadata": {
        "collapsed": false
      },
      "outputs": [],
      "source": [
        "fig, ax = plt.subplots()\nax.imshow(image, cmap=plt.cm.gray)\n\nfor props in regions:\n    y0, x0 = props.centroid\n    orientation = props.orientation\n    x1 = x0 + math.cos(orientation) * 0.5 * props.minor_axis_length\n    y1 = y0 - math.sin(orientation) * 0.5 * props.minor_axis_length\n    x2 = x0 - math.sin(orientation) * 0.5 * props.major_axis_length\n    y2 = y0 - math.cos(orientation) * 0.5 * props.major_axis_length\n\n    ax.plot((x0, x1), (y0, y1), '-r', linewidth=2.5)\n    ax.plot((x0, x2), (y0, y2), '-r', linewidth=2.5)\n    ax.plot(x0, y0, '.g', markersize=15)\n\n    minr, minc, maxr, maxc = props.bbox\n    bx = (minc, maxc, maxc, minc, minc)\n    by = (minr, minr, maxr, maxr, minr)\n    ax.plot(bx, by, '-b', linewidth=2.5)\n\nax.axis((0, 600, 600, 0))\nplt.show()"
      ]
    },
    {
      "cell_type": "markdown",
      "metadata": {},
      "source": [
        "We use the :py:func:`skimage.measure.regionprops_table` to compute\n(selected) properties for each region. Note that\n``skimage.measure.regionprops_table`` actually computes the properties,\nwhereas ``skimage.measure.regionprops`` computes them when they come in use\n(lazy evaluation).\n\n"
      ]
    },
    {
      "cell_type": "code",
      "execution_count": null,
      "metadata": {
        "collapsed": false
      },
      "outputs": [],
      "source": [
        "props = regionprops_table(label_img, properties=('centroid',\n                                                 'orientation',\n                                                 'major_axis_length',\n                                                 'minor_axis_length'))"
      ]
    },
    {
      "cell_type": "markdown",
      "metadata": {},
      "source": [
        "We now display a table of these selected properties (one region per row),\nthe ``skimage.measure.regionprops_table`` result being a pandas-compatible\ndict.\n\n"
      ]
    },
    {
      "cell_type": "code",
      "execution_count": null,
      "metadata": {
        "collapsed": false
      },
      "outputs": [],
      "source": [
        "pd.DataFrame(props)"
      ]
    }
  ],
  "metadata": {
    "kernelspec": {
      "display_name": "Python 3",
      "language": "python",
      "name": "python3"
    },
    "language_info": {
      "codemirror_mode": {
        "name": "ipython",
        "version": 3
      },
      "file_extension": ".py",
      "mimetype": "text/x-python",
      "name": "python",
      "nbconvert_exporter": "python",
      "pygments_lexer": "ipython3",
      "version": "3.7.3"
    }
  },
  "nbformat": 4,
  "nbformat_minor": 0
}