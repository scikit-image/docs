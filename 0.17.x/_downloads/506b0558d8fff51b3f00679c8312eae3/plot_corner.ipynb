{
  "cells": [
    {
      "cell_type": "code",
      "execution_count": null,
      "metadata": {
        "collapsed": false
      },
      "outputs": [],
      "source": [
        "%matplotlib inline"
      ]
    },
    {
      "cell_type": "markdown",
      "metadata": {},
      "source": [
        "\n# Corner detection\n\n\nDetect corner points using the Harris corner detector and determine the\nsubpixel position of corners ([1]_, [2]_).\n\n.. [1] https://en.wikipedia.org/wiki/Corner_detection\n.. [2] https://en.wikipedia.org/wiki/Interest_point_detection\n"
      ]
    },
    {
      "cell_type": "code",
      "execution_count": null,
      "metadata": {
        "collapsed": false
      },
      "outputs": [],
      "source": [
        "from matplotlib import pyplot as plt\n\nfrom skimage import data\nfrom skimage.feature import corner_harris, corner_subpix, corner_peaks\nfrom skimage.transform import warp, AffineTransform\nfrom skimage.draw import ellipse\n\n# Sheared checkerboard\ntform = AffineTransform(scale=(1.3, 1.1), rotation=1, shear=0.7,\n                        translation=(110, 30))\nimage = warp(data.checkerboard()[:90, :90], tform.inverse,\n             output_shape=(200, 310))\n# Ellipse\nrr, cc = ellipse(160, 175, 10, 100)\nimage[rr, cc] = 1\n# Two squares\nimage[30:80, 200:250] = 1\nimage[80:130, 250:300] = 1\n\ncoords = corner_peaks(corner_harris(image), min_distance=5, threshold_rel=0.02)\ncoords_subpix = corner_subpix(image, coords, window_size=13)\n\nfig, ax = plt.subplots()\nax.imshow(image, cmap=plt.cm.gray)\nax.plot(coords[:, 1], coords[:, 0], color='cyan', marker='o',\n        linestyle='None', markersize=6)\nax.plot(coords_subpix[:, 1], coords_subpix[:, 0], '+r', markersize=15)\nax.axis((0, 310, 200, 0))\nplt.show()"
      ]
    }
  ],
  "metadata": {
    "kernelspec": {
      "display_name": "Python 3",
      "language": "python",
      "name": "python3"
    },
    "language_info": {
      "codemirror_mode": {
        "name": "ipython",
        "version": 3
      },
      "file_extension": ".py",
      "mimetype": "text/x-python",
      "name": "python",
      "nbconvert_exporter": "python",
      "pygments_lexer": "ipython3",
      "version": "3.7.3"
    }
  },
  "nbformat": 4,
  "nbformat_minor": 0
}