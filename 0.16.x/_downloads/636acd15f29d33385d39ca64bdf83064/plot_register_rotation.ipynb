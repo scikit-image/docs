{
  "cells": [
    {
      "cell_type": "code",
      "execution_count": null,
      "metadata": {
        "collapsed": false
      },
      "outputs": [],
      "source": [
        "%matplotlib inline"
      ]
    },
    {
      "cell_type": "markdown",
      "metadata": {},
      "source": [
        "\n# Polar and Log-Polar Transformations\n\n\nRotation differences between two images can be converted to translation\ndifferences along the angular coordinate ($\\theta$) axis of the\npolar-transformed images. Scaling differences can be converted to translation\ndifferences along the radial coordinate ($\\rho$) axis if it\nis first log transformed (i.e., $\\rho = \\ln\\sqrt{x^2 + y^2}$). Thus,\nin this example, we use phase correlation (``feature.register_translation``)\nto recover rotation and scaling differences between two images that share a\ncenter point.\n\n"
      ]
    },
    {
      "cell_type": "markdown",
      "metadata": {},
      "source": [
        "Recover rotation difference with a polar transform\n==================================================\n\n"
      ]
    },
    {
      "cell_type": "code",
      "execution_count": null,
      "metadata": {
        "collapsed": false
      },
      "outputs": [],
      "source": [
        "import numpy as np\nimport matplotlib.pyplot as plt\n\nfrom skimage import data\nfrom skimage.feature import register_translation\nfrom skimage.transform import warp_polar, rotate\nfrom skimage.util import img_as_float\n\nradius = 705\nangle = 35\nimage = data.retina()\nimage = img_as_float(image)\nrotated = rotate(image, angle)\nimage_polar = warp_polar(image, radius=radius, multichannel=True)\nrotated_polar = warp_polar(rotated, radius=radius, multichannel=True)\n\nfig, axes = plt.subplots(2, 2, figsize=(8, 8))\nax = axes.ravel()\nax[0].set_title(\"Original\")\nax[0].imshow(image)\nax[1].set_title(\"Rotated\")\nax[1].imshow(rotated)\nax[2].set_title(\"Polar-Transformed Original\")\nax[2].imshow(image_polar)\nax[3].set_title(\"Polar-Transformed Rotated\")\nax[3].imshow(rotated_polar)\nplt.show()\n\nshifts, error, phasediff = register_translation(image_polar, rotated_polar)\nprint(\"Expected value for counterclockwise rotation in degrees: \"\n      f\"{angle}\")\nprint(\"Recovered value for counterclockwise rotation: \"\n      f\"{shifts[0]}\")"
      ]
    },
    {
      "cell_type": "markdown",
      "metadata": {},
      "source": [
        "Recover rotation and scaling differences with log-polar transform\n=================================================================\n\n"
      ]
    },
    {
      "cell_type": "code",
      "execution_count": null,
      "metadata": {
        "collapsed": false
      },
      "outputs": [],
      "source": [
        "from skimage.transform import rescale\n\n# radius must be large enough to capture useful info in larger image\nradius = 1500\nangle = 53.7\nscale = 2.2\nimage = data.retina()\nimage = img_as_float(image)\nrotated = rotate(image, angle)\nrescaled = rescale(rotated, scale, multichannel=True)\nimage_polar = warp_polar(image, radius=radius,\n                         scaling='log', multichannel=True)\nrescaled_polar = warp_polar(rescaled, radius=radius,\n                            scaling='log', multichannel=True)\n\nfig, axes = plt.subplots(2, 2, figsize=(8, 8))\nax = axes.ravel()\nax[0].set_title(\"Original\")\nax[0].imshow(image)\nax[1].set_title(\"Rotated and Rescaled\")\nax[1].imshow(rescaled)\nax[2].set_title(\"Log-Polar-Transformed Original\")\nax[2].imshow(image_polar)\nax[3].set_title(\"Log-Polar-Transformed Rotated and Rescaled\")\nax[3].imshow(rescaled_polar)\nplt.show()\n\n# setting `upsample_factor` can increase precision\ntparams = register_translation(image_polar, rescaled_polar, upsample_factor=20)\nshifts, error, phasediff = tparams\nshiftr, shiftc = shifts[:2]\n\n# Calculate scale factor from translation\nklog = radius / np.log(radius)\nshift_scale = 1 / (np.exp(shiftc / klog))\n\nprint(f\"Expected value for cc rotation in degrees: {angle}\")\nprint(f\"Recovered value for cc rotation: {shiftr}\")\nprint()\nprint(f\"Expected value for scaling difference: {scale}\")\nprint(f\"Recovered value for scaling difference: {shift_scale}\")"
      ]
    }
  ],
  "metadata": {
    "kernelspec": {
      "display_name": "Python 3",
      "language": "python",
      "name": "python3"
    },
    "language_info": {
      "codemirror_mode": {
        "name": "ipython",
        "version": 3
      },
      "file_extension": ".py",
      "mimetype": "text/x-python",
      "name": "python",
      "nbconvert_exporter": "python",
      "pygments_lexer": "ipython3",
      "version": "3.6.5"
    }
  },
  "nbformat": 4,
  "nbformat_minor": 0
}