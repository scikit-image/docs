{
  "cells": [
    {
      "cell_type": "code",
      "execution_count": null,
      "metadata": {
        "collapsed": false
      },
      "outputs": [],
      "source": [
        "%matplotlib inline"
      ]
    },
    {
      "cell_type": "markdown",
      "metadata": {},
      "source": [
        "\n# Separate colors in immunohistochemical staining\n\nColor deconvolution consists in the separation of features by their colors.\n\nIn this example we separate the immunohistochemical (IHC) staining from the\nhematoxylin counterstaining. The separation is achieved with the method\ndescribed in [1]_ and known as \"color deconvolution\".\n\nThe IHC staining expression of the FHL2 protein is here revealed with\ndiaminobenzidine (DAB) which gives a brown color.\n\n\n.. [1] A. C. Ruifrok and D. A. Johnston, \"Quantification of histochemical\n       staining by color deconvolution,\" Analytical and quantitative\n       cytology and histology / the International Academy of Cytology [and]\n       American Society of Cytology, vol. 23, no. 4, pp. 291-9, Aug. 2001.\n       PMID: 11531144\n"
      ]
    },
    {
      "cell_type": "code",
      "execution_count": null,
      "metadata": {
        "collapsed": false
      },
      "outputs": [],
      "source": [
        "import numpy as np\nimport matplotlib.pyplot as plt\n\nfrom skimage import data\nfrom skimage.color import rgb2hed, hed2rgb\n\n# Example IHC image\nihc_rgb = data.immunohistochemistry()\n\n# Separate the stains from the IHC image\nihc_hed = rgb2hed(ihc_rgb)\n\n# Create an RGB image for each of the stains\nnull = np.zeros_like(ihc_hed[:, :, 0])\nihc_h = hed2rgb(np.stack((ihc_hed[:, :, 0], null, null), axis=-1))\nihc_e = hed2rgb(np.stack((null, ihc_hed[:, :, 1], null), axis=-1))\nihc_d = hed2rgb(np.stack((null, null, ihc_hed[:, :, 2]), axis=-1))\n\n# Display\nfig, axes = plt.subplots(2, 2, figsize=(7, 6), sharex=True, sharey=True)\nax = axes.ravel()\n\nax[0].imshow(ihc_rgb)\nax[0].set_title(\"Original image\")\n\nax[1].imshow(ihc_h)\nax[1].set_title(\"Hematoxylin\")\n\nax[2].imshow(ihc_e)\nax[2].set_title(\"Eosin\")  # Note that there is no Eosin stain in this image\n\nax[3].imshow(ihc_d)\nax[3].set_title(\"DAB\")\n\nfor a in ax.ravel():\n    a.axis('off')\n\nfig.tight_layout()"
      ]
    },
    {
      "cell_type": "markdown",
      "metadata": {},
      "source": [
        "Now we can easily manipulate the hematoxylin and DAB channels:\n\n"
      ]
    },
    {
      "cell_type": "code",
      "execution_count": null,
      "metadata": {
        "collapsed": false
      },
      "outputs": [],
      "source": [
        "from skimage.exposure import rescale_intensity\n\n# Rescale hematoxylin and DAB channels and give them a fluorescence look\nh = rescale_intensity(ihc_hed[:, :, 0], out_range=(0, 1),\n                      in_range=(0, np.percentile(ihc_hed[:, :, 0], 99)))\nd = rescale_intensity(ihc_hed[:, :, 2], out_range=(0, 1),\n                      in_range=(0, np.percentile(ihc_hed[:, :, 2], 99)))\n\n# Cast the two channels into an RGB image, as the blue and green channels\n# respectively\nzdh = np.dstack((null, d, h))\n\nfig = plt.figure()\naxis = plt.subplot(1, 1, 1, sharex=ax[0], sharey=ax[0])\naxis.imshow(zdh)\naxis.set_title('Stain-separated image (rescaled)')\naxis.axis('off')\nplt.show()"
      ]
    }
  ],
  "metadata": {
    "kernelspec": {
      "display_name": "Python 3",
      "language": "python",
      "name": "python3"
    },
    "language_info": {
      "codemirror_mode": {
        "name": "ipython",
        "version": 3
      },
      "file_extension": ".py",
      "mimetype": "text/x-python",
      "name": "python",
      "nbconvert_exporter": "python",
      "pygments_lexer": "ipython3",
      "version": "3.8.10"
    }
  },
  "nbformat": 4,
  "nbformat_minor": 0
}