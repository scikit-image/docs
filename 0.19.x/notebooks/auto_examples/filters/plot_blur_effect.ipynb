{
  "cells": [
    {
      "cell_type": "code",
      "execution_count": null,
      "metadata": {
        "collapsed": false
      },
      "outputs": [],
      "source": [
        "%matplotlib inline"
      ]
    },
    {
      "cell_type": "markdown",
      "metadata": {},
      "source": [
        "\n# Estimate strength of blur\n\nThis example shows how the metric implemented in ``measure.blur_effect``\nbehaves, both as a function of the strength of blur and of the size of the\nre-blurring filter. This no-reference perceptual blur metric is described in\n[1]_.\n\n.. [1] Frederique Crete, Thierry Dolmiere, Patricia Ladret, and Marina\n   Nicolas \"The blur effect: perception and estimation with a new\n   no-reference perceptual blur metric\" Proc. SPIE 6492, Human Vision and\n   Electronic Imaging XII, 64920I (2007)\n   https://hal.archives-ouvertes.fr/hal-00232709\n   :DOI:`10.1117/12.702790`\n"
      ]
    },
    {
      "cell_type": "code",
      "execution_count": null,
      "metadata": {
        "collapsed": false
      },
      "outputs": [],
      "source": [
        "import matplotlib.pyplot as plt\nimport numpy as np\nimport pandas as pd\nimport scipy.ndimage as ndi\n\nimport plotly\nimport plotly.express as px\nfrom skimage import (\n    color, data, measure\n)"
      ]
    },
    {
      "cell_type": "markdown",
      "metadata": {},
      "source": [
        "## Generate series of increasingly blurred images\nLet us load an image available through scikit-image\u2019s data registry. The\nblur metric applies to single-channel images.\n\n"
      ]
    },
    {
      "cell_type": "code",
      "execution_count": null,
      "metadata": {
        "collapsed": false
      },
      "outputs": [],
      "source": [
        "image = data.astronaut()\nimage = color.rgb2gray(image)"
      ]
    },
    {
      "cell_type": "markdown",
      "metadata": {},
      "source": [
        "Let us blur this image with a series of uniform filters of increasing size.\n\n"
      ]
    },
    {
      "cell_type": "code",
      "execution_count": null,
      "metadata": {
        "collapsed": false
      },
      "outputs": [],
      "source": [
        "blurred_images = [ndi.uniform_filter(image, size=k) for k in range(2, 32, 2)]\nimg_stack = np.stack(blurred_images)\n\nfig = px.imshow(\n    img_stack,\n    animation_frame=0,\n    binary_string=True,\n    labels={'animation_frame': 'blur strength ~'}\n)\nplotly.io.show(fig)"
      ]
    },
    {
      "cell_type": "markdown",
      "metadata": {},
      "source": [
        "## Plot blur metric\nLet us compute the blur metric for all blurred images: We expect it to\nincrease towards 1 with increasing blur strength. We compute it for three\ndifferent values of re-blurring filter: 3, 11 (default), and 30.\n\n"
      ]
    },
    {
      "cell_type": "code",
      "execution_count": null,
      "metadata": {
        "collapsed": false
      },
      "outputs": [],
      "source": [
        "B = pd.DataFrame(\n    data=np.zeros((len(blurred_images), 3)),\n    columns=['h_size = 3', 'h_size = 11', 'h_size = 30']\n)\nfor ind, im in enumerate(blurred_images):\n    B.loc[ind, 'h_size = 3'] = measure.blur_effect(im, h_size=3)\n    B.loc[ind, 'h_size = 11'] = measure.blur_effect(im, h_size=11)\n    B.loc[ind, 'h_size = 30'] = measure.blur_effect(im, h_size=30)\n\nB.plot().set(xlabel='blur strength (half the size of uniform filter)',\n             ylabel='blur metric');\n\nplt.show()"
      ]
    },
    {
      "cell_type": "markdown",
      "metadata": {},
      "source": [
        "We can see that as soon as the blur is stronger than (reaches the scale of)\nthe size of the uniform filter, the metric gets close to 1 and, hence, tends\nasymptotically to 1 with increasing blur strength.\nThe value of 11 pixels gives a blur metric which correlates best with human\nperception. That's why it's the default value in the implementation of the\nperceptual blur metric ``measure.blur_effect``.\n\n"
      ]
    }
  ],
  "metadata": {
    "kernelspec": {
      "display_name": "Python 3",
      "language": "python",
      "name": "python3"
    },
    "language_info": {
      "codemirror_mode": {
        "name": "ipython",
        "version": 3
      },
      "file_extension": ".py",
      "mimetype": "text/x-python",
      "name": "python",
      "nbconvert_exporter": "python",
      "pygments_lexer": "ipython3",
      "version": "3.8.10"
    }
  },
  "nbformat": 4,
  "nbformat_minor": 0
}