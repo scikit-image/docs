{
  "cells": [
    {
      "cell_type": "code",
      "execution_count": null,
      "metadata": {
        "collapsed": false
      },
      "outputs": [],
      "source": [
        "%matplotlib inline"
      ]
    },
    {
      "cell_type": "markdown",
      "metadata": {},
      "source": [
        "\n# Datasets with 3 or more spatial dimensions\n\nMost scikit-image functions are compatible with 3D datasets, i.e., images with\n3 spatial dimensions (to be distinguished from 2D multichannel images, which \nare also arrays with\nthree axes). :func:`skimage.data.cells3d` returns a 3D fluorescence microscopy\nimage of cells. The returned dataset is a 3D multichannel image with dimensions\nprovided in ``(z, c, y, x)`` order. Channel 0 contains cell membranes, while channel\n1 contains nuclei.\n\nThe example below shows how to explore this dataset. This 3D image can be used\nto test the various functions of scikit-image.\n"
      ]
    },
    {
      "cell_type": "code",
      "execution_count": null,
      "metadata": {
        "collapsed": false
      },
      "outputs": [],
      "source": [
        "from skimage import data\nimport plotly\nimport plotly.express as px\n\nimg = data.cells3d()[20:]\nfig = px.imshow(img, facet_col=1, animation_frame=0,\n                binary_string=True, binary_format='jpg')\nfig.layout.annotations[0]['text'] = 'Cell membranes'\nfig.layout.annotations[1]['text'] = 'Nuclei'\nplotly.io.show(fig)"
      ]
    }
  ],
  "metadata": {
    "kernelspec": {
      "display_name": "Python 3",
      "language": "python",
      "name": "python3"
    },
    "language_info": {
      "codemirror_mode": {
        "name": "ipython",
        "version": 3
      },
      "file_extension": ".py",
      "mimetype": "text/x-python",
      "name": "python",
      "nbconvert_exporter": "python",
      "pygments_lexer": "ipython3",
      "version": "3.8.10"
    }
  },
  "nbformat": 4,
  "nbformat_minor": 0
}