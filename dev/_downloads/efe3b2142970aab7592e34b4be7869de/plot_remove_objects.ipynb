{
  "cells": [
    {
      "cell_type": "markdown",
      "metadata": {},
      "source": [
        "\n# Removing objects\n\nscikit-image has several ways of removing objects from N-dimensional images.\nHere, \"objects\" (and \"holes\") are defined as groups of samples with the same\nlabel value which distinct from the background and other objects.\n\nThis example shows how to remove objects based on their size, or their\ndistances from other objects.\n"
      ]
    },
    {
      "cell_type": "code",
      "execution_count": null,
      "metadata": {
        "collapsed": false
      },
      "outputs": [],
      "source": [
        "import matplotlib.pyplot as plt\nimport skimage as ski\n\n# Extract foreground by thresholding an image taken by the Hubble Telescope\nimage = ski.color.rgb2gray(ski.data.hubble_deep_field())\nforeground = image > ski.filters.threshold_li(image)\nobjects = ski.measure.label(foreground)\n\n# Separate objects into regions larger and smaller than 100 pixels\nlarge_objects = ski.morphology.remove_small_objects(objects, min_size=100)\nsmall_objects = objects ^ large_objects\n\n# Remove objects until remaining ones are at least 100 pixels apart.\n# By default, larger ones take precedence.\nspaced_objects = ski.morphology.remove_objects_by_distance(objects, min_distance=100)\n\n# Plot the results\nfig, ax = plt.subplots(2, 2, figsize=(10, 10), sharex=True, sharey=True)\nax[0, 0].set_title(\"labeled objects\")\nax[0, 0].imshow(ski.color.label2rgb(objects, image=image, bg_label=0))\nax[0, 1].set_title(\"large objects\")\nax[0, 1].imshow(ski.color.label2rgb(large_objects, bg_label=0))\nax[1, 1].set_title(\"small objects\")\nax[1, 1].imshow(ski.color.label2rgb(small_objects, bg_label=0))\nax[1, 0].set_title(\"spaced objects (nearest removed)\")\nax[1, 0].imshow(ski.color.label2rgb(spaced_objects, bg_label=0))\nplt.show()"
      ]
    }
  ],
  "metadata": {
    "kernelspec": {
      "display_name": "Python 3",
      "language": "python",
      "name": "python3"
    },
    "language_info": {
      "codemirror_mode": {
        "name": "ipython",
        "version": 3
      },
      "file_extension": ".py",
      "mimetype": "text/x-python",
      "name": "python",
      "nbconvert_exporter": "python",
      "pygments_lexer": "ipython3",
      "version": "3.12.4"
    }
  },
  "nbformat": 4,
  "nbformat_minor": 0
}