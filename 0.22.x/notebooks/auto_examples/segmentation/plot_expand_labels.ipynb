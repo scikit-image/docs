{
  "cells": [
    {
      "cell_type": "markdown",
      "metadata": {},
      "source": [
        "\n# Expand segmentation labels without overlap\n\nGiven several connected components represented by a label image, these\nconnected components can be expanded into background regions using\n:py:func:`skimage.segmentation.expand_labels`.\nIn contrast to :py:func:`skimage.morphology.dilation` this method will\nnot let connected components expand into neighboring connected components\nwith lower label number.\n"
      ]
    },
    {
      "cell_type": "code",
      "execution_count": null,
      "metadata": {
        "collapsed": false
      },
      "outputs": [],
      "source": [
        "import matplotlib.pyplot as plt\nimport numpy as np\nfrom skimage import data\nfrom skimage.color import label2rgb\nfrom skimage.filters import sobel\nfrom skimage.measure import label\nfrom skimage.segmentation import expand_labels, watershed\n\ncoins = data.coins()\n\n# Make segmentation using edge-detection and watershed.\nedges = sobel(coins)\n\n# Identify some background and foreground pixels from the intensity values.\n# These pixels are used as seeds for watershed.\nmarkers = np.zeros_like(coins)\nforeground, background = 1, 2\nmarkers[coins < 30.0] = background\nmarkers[coins > 150.0] = foreground\n\nws = watershed(edges, markers)\nseg1 = label(ws == foreground)\n\nexpanded = expand_labels(seg1, distance=10)\n\n# Show the segmentations.\nfig, axes = plt.subplots(\n    nrows=1,\n    ncols=3,\n    figsize=(9, 5),\n    sharex=True,\n    sharey=True,\n)\n\naxes[0].imshow(coins, cmap=\"Greys_r\")\naxes[0].set_title(\"Original\")\n\ncolor1 = label2rgb(seg1, image=coins, bg_label=0)\naxes[1].imshow(color1)\naxes[1].set_title(\"Sobel+Watershed\")\n\ncolor2 = label2rgb(expanded, image=coins, bg_label=0)\naxes[2].imshow(color2)\naxes[2].set_title(\"Expanded labels\")\n\nfor a in axes:\n    a.axis(\"off\")\nfig.tight_layout()\nplt.show()"
      ]
    }
  ],
  "metadata": {
    "kernelspec": {
      "display_name": "Python 3",
      "language": "python",
      "name": "python3"
    },
    "language_info": {
      "codemirror_mode": {
        "name": "ipython",
        "version": 3
      },
      "file_extension": ".py",
      "mimetype": "text/x-python",
      "name": "python",
      "nbconvert_exporter": "python",
      "pygments_lexer": "ipython3",
      "version": "3.9.18"
    }
  },
  "nbformat": 4,
  "nbformat_minor": 0
}