{
  "cells": [
    {
      "cell_type": "markdown",
      "metadata": {},
      "source": [
        "\n# Ridge operators\n\nRidge filters can be used to detect ridge-like structures, such as neurites\n[1]_, tubes [2]_, vessels [3]_, wrinkles [4]_ or rivers.\n\nDifferent ridge filters may be suited for detecting different structures,\ne.g., depending on contrast or noise level.\n\nThe present class of ridge filters relies on the eigenvalues of\nthe Hessian matrix of image intensities to detect ridge structures where the\nintensity changes perpendicular but not along the structure.\n\n## References\n\n.. [1] Meijering, E., Jacob, M., Sarria, J. C., Steiner, P., Hirling, H.,\n       Unser, M. (2004). Design and validation of a tool for neurite tracing\n       and analysis in fluorescence microscopy images. Cytometry Part A, 58(2),\n       167-176.\n       :DOI:`10.1002/cyto.a.20022`\n\n.. [2] Sato, Y., Nakajima, S., Shiraga, N., Atsumi, H., Yoshida, S.,\n       Koller, T., ..., Kikinis, R. (1998). Three-dimensional multi-scale line\n       filter for segmentation and visualization of curvilinear structures in\n       medical images. Medical image analysis, 2(2), 143-168.\n       :DOI:`10.1016/S1361-8415(98)80009-1`\n\n.. [3] Frangi, A. F., Niessen, W. J., Vincken, K. L., & Viergever, M. A. (1998,\n       October). Multiscale vessel enhancement filtering. In International\n       Conference on Medical Image Computing and Computer-Assisted Intervention\n       (pp. 130-137). Springer Berlin Heidelberg.\n       :DOI:`10.1007/BFb0056195`\n\n.. [4] Ng, C. C., Yap, M. H., Costen, N., & Li, B. (2014, November). Automatic\n       wrinkle detection using hybrid Hessian filter. In Asian Conference on\n       Computer Vision (pp. 609-622). Springer International Publishing.\n       :DOI:`10.1007/978-3-319-16811-1_40`\n"
      ]
    },
    {
      "cell_type": "code",
      "execution_count": null,
      "metadata": {
        "collapsed": false
      },
      "outputs": [],
      "source": [
        "from skimage import data\nfrom skimage import color\nfrom skimage.filters import meijering, sato, frangi, hessian\nimport matplotlib.pyplot as plt\n\n\ndef original(image, **kwargs):\n    \"\"\"Return the original image, ignoring any kwargs.\"\"\"\n    return image\n\n\nimage = color.rgb2gray(data.retina())[300:700, 700:900]\ncmap = plt.cm.gray\n\nplt.rcParams[\"axes.titlesize\"] = \"medium\"\naxes = plt.figure(figsize=(10, 4)).subplots(2, 9)\nfor i, black_ridges in enumerate([True, False]):\n    for j, (func, sigmas) in enumerate([\n            (original, None),\n            (meijering, [1]),\n            (meijering, range(1, 5)),\n            (sato, [1]),\n            (sato, range(1, 5)),\n            (frangi, [1]),\n            (frangi, range(1, 5)),\n            (hessian, [1]),\n            (hessian, range(1, 5)),\n    ]):\n        result = func(image, black_ridges=black_ridges, sigmas=sigmas)\n        axes[i, j].imshow(result, cmap=cmap)\n        if i == 0:\n            title = func.__name__\n            if sigmas:\n                title += f\"\\n\\N{GREEK SMALL LETTER SIGMA} = {list(sigmas)}\"\n            axes[i, j].set_title(title)\n        if j == 0:\n            axes[i, j].set_ylabel(f'{black_ridges = }')\n        axes[i, j].set_xticks([])\n        axes[i, j].set_yticks([])\n\nplt.tight_layout()\nplt.show()"
      ]
    }
  ],
  "metadata": {
    "kernelspec": {
      "display_name": "Python 3",
      "language": "python",
      "name": "python3"
    },
    "language_info": {
      "codemirror_mode": {
        "name": "ipython",
        "version": 3
      },
      "file_extension": ".py",
      "mimetype": "text/x-python",
      "name": "python",
      "nbconvert_exporter": "python",
      "pygments_lexer": "ipython3",
      "version": "3.9.18"
    }
  },
  "nbformat": 4,
  "nbformat_minor": 0
}