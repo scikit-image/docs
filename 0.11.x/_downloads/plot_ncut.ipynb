{
  "metadata": {
    "name": ""
  },
  "worksheets": [
    {
      "metadata": {},
      "cells": [
        {
          "input": [
            "%matplotlib inline"
          ],
          "language": "python",
          "cell_type": "code",
          "outputs": [],
          "metadata": {},
          "collapsed": false
        },
        {
          "metadata": {},
          "cell_type": "markdown",
          "source": "<div class=\"document\" id=\"normalized-cut\">\n<h1 class=\"title\">Normalized Cut</h1>\n<p>This example constructs a Region Adjacency Graph (RAG) and recursively performs\na Normalized Cut on it.</p>\n<div class=\"section\" id=\"references\">\n<h1>References</h1>\n<table class=\"docutils footnote\" frame=\"void\" id=\"id1\" rules=\"none\">\n<colgroup><col class=\"label\" /><col /></colgroup>\n<tbody valign=\"top\">\n<tr><td class=\"label\">[1]</td><td>Shi, J.; Malik, J., &quot;Normalized cuts and image segmentation&quot;,\nPattern Analysis and Machine Intelligence,\nIEEE Transactions on, vol. 22, no. 8, pp. 888-905, August 2000.</td></tr>\n</tbody>\n</table>\n</div>\n</div>\n"
        },
        {
          "input": "from skimage import data, io, segmentation, color\nfrom skimage.future import graph\nfrom matplotlib import pyplot as plt\n\n\nimg = data.coffee()\n\nlabels1 = segmentation.slic(img, compactness=30, n_segments=400)\nout1 = color.label2rgb(labels1, img, kind='avg')\n\ng = graph.rag_mean_color(img, labels1, mode='similarity')\nlabels2 = graph.cut_normalized(labels1, g)\nout2 = color.label2rgb(labels2, img, kind='avg')\n\nplt.figure()\nio.imshow(out1)\nplt.figure()\nio.imshow(out2)\nio.show()\n",
          "language": "python",
          "cell_type": "code",
          "outputs": [],
          "metadata": {},
          "collapsed": false
        }
      ]
    }
  ],
  "nbformat": 3,
  "nbformat_minor": 0
}