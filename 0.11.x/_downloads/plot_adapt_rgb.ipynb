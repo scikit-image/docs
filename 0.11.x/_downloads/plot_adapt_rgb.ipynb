{
  "metadata": {
    "name": ""
  },
  "worksheets": [
    {
      "metadata": {},
      "cells": [
        {
          "input": [
            "%matplotlib inline"
          ],
          "language": "python",
          "cell_type": "code",
          "outputs": [],
          "metadata": {},
          "collapsed": false
        },
        {
          "metadata": {},
          "cell_type": "markdown",
          "source": "<div class=\"document\" id=\"adapting-gray-scale-filters-to-rgb-images\">\n<h1 class=\"title\">Adapting gray-scale filters to RGB images</h1>\n<p>There are many filters that are designed work with gray-scale images but not\ncolor images. To simplify the process of creating functions that can adapt to\nRGB images, scikit-image provides the <tt class=\"docutils literal\">adapt_rgb</tt> decorator.</p>\n<p>To actually use the <tt class=\"docutils literal\">adapt_rgb</tt> decorator, you have to decide how you want to\nadapt the RGB image for use with the gray-scale filter. There are two\npre-defined handlers:</p>\n<dl class=\"docutils\">\n<dt><tt class=\"docutils literal\">each_channel</tt></dt>\n<dd>Pass each of the RGB channels to the filter one-by-one, and stitch the\nresults back into an RGB image.</dd>\n<dt><tt class=\"docutils literal\">hsv_value</tt></dt>\n<dd>Convert the RGB image to HSV and pass the value channel to the filter.\nThe filtered result is inserted back into the HSV image and converted\nback to RGB.</dd>\n</dl>\n<p>Below, we demonstrate the use of <tt class=\"docutils literal\">adapt_rgb</tt> on a couple of gray-scale\nfilters:</p>\n</div>\n"
        },
        {
          "input": "from skimage.color.adapt_rgb import adapt_rgb, each_channel, hsv_value\nfrom skimage import filters\n\n\n@adapt_rgb(each_channel)\ndef sobel_each(image):\n    return filters.sobel(image)\n\n\n@adapt_rgb(hsv_value)\ndef sobel_hsv(image):\n    return filters.sobel(image)\n\n",
          "language": "python",
          "cell_type": "code",
          "outputs": [],
          "metadata": {},
          "collapsed": false
        },
        {
          "metadata": {},
          "cell_type": "markdown",
          "source": "<div class=\"document\">\n<p>We can use these functions as we would normally use them, but now they work\nwith both gray-scale and color images. Let's plot the results with a color\nimage:</p>\n</div>\n"
        },
        {
          "input": "\nfrom skimage import data\nimport matplotlib.pyplot as plt\n\nimage = data.lena()\n\nfig, (ax_each, ax_hsv) = plt.subplots(ncols=2)\nax_each.imshow(sobel_each(image))\nax_hsv.imshow(sobel_hsv(image))\n\n",
          "language": "python",
          "cell_type": "code",
          "outputs": [],
          "metadata": {},
          "collapsed": false
        },
        {
          "metadata": {},
          "cell_type": "markdown",
          "source": "<div class=\"document\">\n<p>Notice that the result for the value-filtered image preserves the color of the\noriginal image, but channel filtered image combines in a more surprising way.\nIn other common cases, smoothing for example, the channel filtered image will\nproduce a better result than the value-filtered image.</p>\n<p>You can also create your own handler functions for <tt class=\"docutils literal\">adapt_rgb</tt>. To do so,\njust create a function with the following signature:</p>\n<pre class=\"literal-block\">\ndef handler(image_filter, image, *args, **kwargs):\n    # Manipulate RGB image here...\n    image = image_filter(image, *args, **kwargs)\n    # Manipulate filtered image here...\n    return image\n</pre>\n<p>Note that <tt class=\"docutils literal\">adapt_rgb</tt> handlers are written for filters where the image is the\nfirst argument.</p>\n<p>As a very simple example, we can just convert any RGB image to grayscale and\nthen return the filtered result:</p>\n</div>\n"
        },
        {
          "input": "from skimage.color import rgb2gray\n\n\ndef as_gray(image_filter, image, *args, **kwargs):\n    gray_image = rgb2gray(image)\n    return image_filter(gray_image, *args, **kwargs)\n\n",
          "language": "python",
          "cell_type": "code",
          "outputs": [],
          "metadata": {},
          "collapsed": false
        },
        {
          "metadata": {},
          "cell_type": "markdown",
          "source": "<div class=\"document\">\n<p>It's important to create a signature that uses <tt class=\"docutils literal\">*args</tt> and <tt class=\"docutils literal\">**kwargs</tt> to\npass arguments along to the filter so that the decorated function is allowed to\nhave any number of positional and keyword arguments.</p>\n<p>Finally, we can use this handler with <tt class=\"docutils literal\">adapt_rgb</tt> just as before:</p>\n</div>\n"
        },
        {
          "input": "\n\n@adapt_rgb(as_gray)\ndef sobel_gray(image):\n    return filters.sobel(image)\n\nfig, ax = plt.subplots()\nax.imshow(sobel_gray(image), cmap=plt.cm.gray)\n\nplt.show()\n\n",
          "language": "python",
          "cell_type": "code",
          "outputs": [],
          "metadata": {},
          "collapsed": false
        },
        {
          "metadata": {},
          "cell_type": "markdown",
          "source": "<div class=\"document\">\n<div class=\"note\">\n<p class=\"first admonition-title\">Note</p>\n<p class=\"last\">A very simple check of the array shape is used for detecting RGB images, so\n<tt class=\"docutils literal\">adapt_rgb</tt> is not recommended for functions that support 3D volumes or\ncolor images in non-RGB spaces.</p>\n</div>\n</div>\n"
        }
      ]
    }
  ],
  "nbformat": 3,
  "nbformat_minor": 0
}