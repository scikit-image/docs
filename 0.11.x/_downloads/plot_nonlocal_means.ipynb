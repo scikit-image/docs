{
  "metadata": {
    "name": ""
  },
  "worksheets": [
    {
      "metadata": {},
      "cells": [
        {
          "input": [
            "%matplotlib inline"
          ],
          "language": "python",
          "cell_type": "code",
          "outputs": [],
          "metadata": {},
          "collapsed": false
        },
        {
          "metadata": {},
          "cell_type": "markdown",
          "source": "<div class=\"document\" id=\"non-local-means-denoising-for-preserving-textures\">\n<h1 class=\"title\">Non-local means denoising for preserving textures</h1>\n<p>In this example, we denoise a detail of the astronaut image using the non-local\nmeans filter. The non-local means algorithm replaces the value of a pixel by an\naverage of a selection of other pixels values: small patches centered on the\nother pixels are compared to the patch centered on the pixel of interest, and\nthe average is performed only for pixels that have patches close to the current\npatch. As a result, this algorithm can restore well textures, that would be\nblurred by other denoising algoritm.</p>\n</div>\n"
        },
        {
          "input": "import numpy as np\nimport matplotlib.pyplot as plt\n\nfrom skimage import data, img_as_float\nfrom skimage.restoration import nl_means_denoising\n\n\nastro = img_as_float(data.astronaut())\nastro = astro[30:180, 150:300]\n\nnoisy = astro + 0.3 * np.random.random(astro.shape)\nnoisy = np.clip(noisy, 0, 1)\n\ndenoise = nl_means_denoising(noisy, 7, 9, 0.08)\n\nfig, ax = plt.subplots(ncols=2, figsize=(8, 4))\n\nax[0].imshow(noisy)\nax[0].axis('off')\nax[0].set_title('noisy')\nax[1].imshow(denoise)\nax[1].axis('off')\nax[1].set_title('non-local means')\n\nfig.subplots_adjust(wspace=0.02, hspace=0.2,\n                    top=0.9, bottom=0.05, left=0, right=1)\n\nplt.show()\n",
          "language": "python",
          "cell_type": "code",
          "outputs": [],
          "metadata": {},
          "collapsed": false
        }
      ]
    }
  ],
  "nbformat": 3,
  "nbformat_minor": 0
}