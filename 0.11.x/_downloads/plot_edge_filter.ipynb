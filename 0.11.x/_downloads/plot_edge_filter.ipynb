{
  "metadata": {
    "name": ""
  },
  "worksheets": [
    {
      "metadata": {},
      "cells": [
        {
          "input": [
            "%matplotlib inline"
          ],
          "language": "python",
          "cell_type": "code",
          "outputs": [],
          "metadata": {},
          "collapsed": false
        },
        {
          "metadata": {},
          "cell_type": "markdown",
          "source": "<div class=\"document\" id=\"edge-operators\">\n<h1 class=\"title\">Edge operators</h1>\n<p>Edge operators are used in image processing within edge detection algorithms.\nThey are discrete differentiation operators, computing an approximation of the\ngradient of the image intensity function.</p>\n</div>\n"
        },
        {
          "input": "import numpy as np\nimport matplotlib.pyplot as plt\n\nfrom skimage.data import camera\nfrom skimage.filters import roberts, sobel, scharr\n\n\nimage = camera()\nedge_roberts = roberts(image)\nedge_sobel = sobel(image)\n\nfig, (ax0, ax1) = plt.subplots(ncols=2)\n\nax0.imshow(edge_roberts, cmap=plt.cm.gray)\nax0.set_title('Roberts Edge Detection')\nax0.axis('off')\n\nax1.imshow(edge_sobel, cmap=plt.cm.gray)\nax1.set_title('Sobel Edge Detection')\nax1.axis('off')\n\nplt.tight_layout()\n\n",
          "language": "python",
          "cell_type": "code",
          "outputs": [],
          "metadata": {},
          "collapsed": false
        },
        {
          "metadata": {},
          "cell_type": "markdown",
          "source": "<div class=\"document\">\n<p>Different operators compute different finite-difference approximations of the\ngradient. For example, the Scharr filter results in a better rotational\nvariance than other filters such as the Sobel filter <a class=\"footnote-reference\" href=\"#id2\" id=\"id1\">[1]</a> [2]. The difference\nbetween the two filters is illustrated below on an image that is the\ndiscretization of a rotation-invariant continuous function. The discrepancy\nbetween the two filters is stronger for regions of the image where the\ndirection of the gradient is close to diagonal, and for regions with high\nspatial frequencies.</p>\n<table class=\"docutils footnote\" frame=\"void\" id=\"id2\" rules=\"none\">\n<colgroup><col class=\"label\" /><col /></colgroup>\n<tbody valign=\"top\">\n<tr><td class=\"label\"><a class=\"fn-backref\" href=\"#id1\">[1]</a></td><td><a class=\"reference external\" href=\"http://en.wikipedia.org/wiki/Sobel_operator#Alternative_operators\">http://en.wikipedia.org/wiki/Sobel_operator#Alternative_operators</a></td></tr>\n</tbody>\n</table>\n<table class=\"docutils footnote\" frame=\"void\" id=\"id3\" rules=\"none\">\n<colgroup><col class=\"label\" /><col /></colgroup>\n<tbody valign=\"top\">\n<tr><td class=\"label\">[2]</td><td>B. Jaehne, H. Scharr, and S. Koerkel. Principles of filter design. In\nHandbook of Computer Vision and Applications. Academic Press, 1999.</td></tr>\n</tbody>\n</table>\n</div>\n"
        },
        {
          "input": "\nx, y = np.ogrid[:100, :100]\n# Rotation-invariant image with different spatial frequencies\nimg = np.exp(1j * np.hypot(x, y)**1.3 / 20.).real\n\nedge_sobel = sobel(img)\nedge_scharr = scharr(img)\n\nfig, ((ax0, ax1), (ax2, ax3)) = plt.subplots(nrows=2, ncols=2)\n\nax0.imshow(edge_sobel, cmap=plt.cm.gray)\nax0.set_title('Sobel Edge Detection')\nax0.axis('off')\n\nax1.imshow(edge_scharr, cmap=plt.cm.gray)\nax1.set_title('Scharr Edge Detection')\nax1.axis('off')\n\nax2.imshow(img, cmap=plt.cm.gray)\nax2.set_title('Original image')\nax2.axis('off')\n\nax3.imshow(edge_scharr - edge_sobel, cmap=plt.cm.jet)\nax3.set_title('difference (Scharr - Sobel)')\nax3.axis('off')\n\nplt.tight_layout()\n\nplt.show()\n\n",
          "language": "python",
          "cell_type": "code",
          "outputs": [],
          "metadata": {},
          "collapsed": false
        },
        {
          "metadata": {},
          "cell_type": "markdown",
          "source": "<div class=\"document\">\n</div>\n"
        }
      ]
    }
  ],
  "nbformat": 3,
  "nbformat_minor": 0
}