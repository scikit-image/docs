{
  "metadata": {
    "name": ""
  },
  "worksheets": [
    {
      "metadata": {},
      "cells": [
        {
          "input": [
            "%matplotlib inline"
          ],
          "language": "python",
          "cell_type": "code",
          "outputs": [],
          "metadata": {},
          "collapsed": false
        },
        {
          "metadata": {},
          "cell_type": "markdown",
          "source": "<div class=\"document\" id=\"drawing-region-adjacency-graphs-rags\">\n<h1 class=\"title\">Drawing Region Adjacency Graphs (RAGs)</h1>\n<p>This example constructs a Region Adjacency Graph (RAG) and draws it with\nthe <cite>rag_draw</cite> method.</p>\n</div>\n"
        },
        {
          "input": "from skimage import data, segmentation\nfrom skimage.future import graph\nfrom matplotlib import pyplot as plt, colors\n\n\nimg = data.coffee()\nlabels = segmentation.slic(img, compactness=30, n_segments=400)\ng = graph.rag_mean_color(img, labels)\n\nout = graph.draw_rag(labels, g, img)\nplt.figure()\nplt.title(\"RAG with all edges shown in green.\")\nplt.imshow(out)\n\n# The color palette used was taken from\n# http://www.colorcombos.com/color-schemes/2/ColorCombo2.html\ncmap = colors.ListedColormap(['#6599FF', '#ff9900'])\nout = graph.draw_rag(labels, g, img, node_color=\"#ffde00\", colormap=cmap,\n                     thresh=30, desaturate=True)\nplt.figure()\nplt.title(\"RAG with edge weights less than 30, color \"\n          \"mapped between blue and orange.\")\nplt.imshow(out)\n\nplt.figure()\nplt.title(\"All edges drawn with cubehelix colormap\")\ncmap = plt.get_cmap('cubehelix')\nout = graph.draw_rag(labels, g, img, colormap=cmap,\n                     desaturate=True)\n\nplt.imshow(out)\nplt.show()\n",
          "language": "python",
          "cell_type": "code",
          "outputs": [],
          "metadata": {},
          "collapsed": false
        }
      ]
    }
  ],
  "nbformat": 3,
  "nbformat_minor": 0
}