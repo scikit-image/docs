{
  "metadata": {
    "name": ""
  },
  "worksheets": [
    {
      "metadata": {},
      "cells": [
        {
          "input": [
            "%matplotlib inline"
          ],
          "language": "python",
          "cell_type": "code",
          "outputs": [],
          "metadata": {},
          "collapsed": false
        },
        {
          "input": "# -*- coding: utf-8 -*-\n",
          "language": "python",
          "cell_type": "code",
          "outputs": [],
          "metadata": {},
          "collapsed": false
        },
        {
          "metadata": {},
          "cell_type": "markdown",
          "source": "<div class=\"document\" id=\"image-deconvolution\">\n<h1 class=\"title\">Image Deconvolution</h1>\n<p>In this example, we deconvolve a noisy version of an image using Wiener\nand unsupervised Wiener algorithms. This algorithms are based on\nlinear models that can't restore sharp edge as much as non-linear\nmethods (like TV restoration) but are much faster.</p>\n<div class=\"section\" id=\"wiener-filter\">\n<h1>Wiener filter</h1>\n<p>The inverse filter based on the PSF (Point Spread Function),\nthe prior regularisation (penalisation of high frequency) and the\ntradeoff between the data and prior adequacy. The regularization\nparameter must be hand tuned.</p>\n</div>\n<div class=\"section\" id=\"unsupervised-wiener\">\n<h1>Unsupervised Wiener</h1>\n<p>This algorithm has a self-tuned regularisation parameters based on\ndata learning. This is not common and based on the following\npublication. The algorithm is based on a iterative Gibbs sampler that\ndraw alternatively samples of posterior conditionnal law of the image,\nthe noise power and the image frequency power.</p>\n<table class=\"docutils footnote\" frame=\"void\" id=\"id1\" rules=\"none\">\n<colgroup><col class=\"label\" /><col /></colgroup>\n<tbody valign=\"top\">\n<tr><td class=\"label\">[1]</td><td>Fran\u00e7ois Orieux, Jean-Fran\u00e7ois Giovannelli, and Thomas\nRodet, &quot;Bayesian estimation of regularization and point\nspread function parameters for Wiener-Hunt deconvolution&quot;,\nJ. Opt. Soc. Am. A 27, 1593-1607 (2010)</td></tr>\n</tbody>\n</table>\n</div>\n</div>\n"
        },
        {
          "input": "import numpy as np\nimport matplotlib.pyplot as plt\n\nfrom skimage import color, data, restoration\n\nastro = color.rgb2gray(data.astronaut())\nfrom scipy.signal import convolve2d as conv2\npsf = np.ones((5, 5)) / 25\nastro = conv2(astro, psf, 'same')\nastro += 0.1 * astro.std() * np.random.standard_normal(astro.shape)\n\ndeconvolved, _ = restoration.unsupervised_wiener(astro, psf)\n\nfig, ax = plt.subplots(nrows=1, ncols=2, figsize=(8, 5))\n\nplt.gray()\n\nax[0].imshow(astro, vmin=deconvolved.min(), vmax=deconvolved.max())\nax[0].axis('off')\nax[0].set_title('Data')\n\nax[1].imshow(deconvolved)\nax[1].axis('off')\nax[1].set_title('Self tuned restoration')\n\nfig.subplots_adjust(wspace=0.02, hspace=0.2,\n                    top=0.9, bottom=0.05, left=0, right=1)\n\nplt.show()\n",
          "language": "python",
          "cell_type": "code",
          "outputs": [],
          "metadata": {},
          "collapsed": false
        }
      ]
    }
  ],
  "nbformat": 3,
  "nbformat_minor": 0
}