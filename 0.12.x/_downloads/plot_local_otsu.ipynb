{
  "nbformat": 3, 
  "nbformat_minor": 0, 
  "worksheets": [
    {
      "cells": [
        {
          "cell_type": "code", 
          "language": "python", 
          "outputs": [], 
          "collapsed": false, 
          "input": [
            "%matplotlib inline"
          ], 
          "metadata": {}
        }, 
        {
          "source": "<div class=\"document\" id=\"local-otsu-threshold\">\n<h1 class=\"title\">Local Otsu Threshold</h1>\n<p>This example shows how Otsu's threshold <a class=\"footnote-reference\" href=\"#id2\" id=\"id1\">[1]</a> method can be applied locally. For\neach pixel, an &quot;optimal&quot; threshold is determined by maximizing the variance\nbetween two classes of pixels of the local neighborhood defined by a\nstructuring element.</p>\n<p>The example compares the local threshold with the global threshold.</p>\n<!-- note: local is much slower than global thresholding -->\n<table class=\"docutils footnote\" frame=\"void\" id=\"id2\" rules=\"none\">\n<colgroup><col class=\"label\" /><col /></colgroup>\n<tbody valign=\"top\">\n<tr><td class=\"label\"><a class=\"fn-backref\" href=\"#id1\">[1]</a></td><td><a class=\"reference external\" href=\"http://en.wikipedia.org/wiki/Otsu's_method\">http://en.wikipedia.org/wiki/Otsu's_method</a></td></tr>\n</tbody>\n</table>\n</div>\n", 
          "cell_type": "markdown", 
          "metadata": {}
        }, 
        {
          "cell_type": "code", 
          "language": "python", 
          "outputs": [], 
          "collapsed": false, 
          "input": "\nfrom skimage import data\nfrom skimage.morphology import disk\nfrom skimage.filters import threshold_otsu, rank\nfrom skimage.util import img_as_ubyte\n\nimport matplotlib\nimport matplotlib.pyplot as plt\n\nmatplotlib.rcParams['font.size'] = 9\nimg = img_as_ubyte(data.page())\n\nradius = 15\nselem = disk(radius)\n\nlocal_otsu = rank.otsu(img, selem)\nthreshold_global_otsu = threshold_otsu(img)\nglobal_otsu = img >= threshold_global_otsu\n\nfig, ax = plt.subplots(2, 2, figsize=(8, 5), sharex=True, sharey=True,\n                       subplot_kw={'adjustable': 'box-forced'})\nax0, ax1, ax2, ax3 = ax.ravel()\nplt.tight_layout()\n\nfig.colorbar(ax0.imshow(img, cmap=plt.cm.gray),\n             ax=ax0, orientation='horizontal')\nax0.set_title('Original')\nax0.axis('off')\n\nfig.colorbar(ax1.imshow(local_otsu, cmap=plt.cm.gray),\n             ax=ax1, orientation='horizontal')\nax1.set_title('Local Otsu (radius=%d)' % radius)\nax1.axis('off')\n\nax2.imshow(img >= local_otsu, cmap=plt.cm.gray)\nax2.set_title('Original >= Local Otsu' % threshold_global_otsu)\nax2.axis('off')\n\nax3.imshow(global_otsu, cmap=plt.cm.gray)\nax3.set_title('Global Otsu (threshold = %d)' % threshold_global_otsu)\nax3.axis('off')\n\nplt.show()\n", 
          "metadata": {}
        }
      ], 
      "metadata": {}
    }
  ], 
  "metadata": {
    "name": ""
  }
}