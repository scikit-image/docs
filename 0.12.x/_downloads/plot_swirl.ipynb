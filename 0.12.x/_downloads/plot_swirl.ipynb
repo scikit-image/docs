{
  "nbformat": 3, 
  "nbformat_minor": 0, 
  "worksheets": [
    {
      "cells": [
        {
          "cell_type": "code", 
          "language": "python", 
          "outputs": [], 
          "collapsed": false, 
          "input": [
            "%matplotlib inline"
          ], 
          "metadata": {}
        }, 
        {
          "source": "<div class=\"document\" id=\"swirl\">\n<h1 class=\"title\">Swirl</h1>\n<p>Image swirling is a non-linear image deformation that creates a whirlpool\neffect.  This example describes the implementation of this transform in\n<tt class=\"docutils literal\">skimage</tt>, as well as the underlying warp mechanism.</p>\n<div class=\"section\" id=\"image-warping\">\n<h1>Image warping</h1>\n<p>When applying a geometric transformation on an image, we typically make use of\na reverse mapping, i.e., for each pixel in the output image, we compute its\ncorresponding position in the input.  The reason is that, if we were to do it\nthe other way around (map each input pixel to its new output position), some\npixels in the output may be left empty.  On the other hand, each output\ncoordinate has exactly one corresponding location in (or outside) the input\nimage, and even if that position is non-integer, we may use interpolation to\ncompute the corresponding image value.</p>\n</div>\n<div class=\"section\" id=\"performing-a-reverse-mapping\">\n<h1>Performing a reverse mapping</h1>\n<p>To perform a geometric warp in <tt class=\"docutils literal\">skimage</tt>, you simply need to provide the\nreverse mapping to the <tt class=\"docutils literal\">skimage.transform.warp</tt> function.  E.g., consider the\ncase where we would like to shift an image 50 pixels to the left.  The reverse\nmapping for such a shift would be:</p>\n<pre class=\"literal-block\">\ndef shift_left(xy):\n    xy[:, 0] += 50\n    return xy\n</pre>\n<p>The corresponding call to warp is:</p>\n<pre class=\"literal-block\">\nfrom skimage.transform import warp\nwarp(image, shift_left)\n</pre>\n</div>\n<div class=\"section\" id=\"the-swirl-transformation\">\n<h1>The swirl transformation</h1>\n<p>Consider the coordinate $(x, y)$ in the output image.  The reverse\nmapping for the swirl transformation first computes, relative to a center\n$(x_0, y_0)$, its polar coordinates,</p>\n<blockquote>\n<p>\\theta = \\arctan(y/x)</p>\n<p>\\rho = sqrt{(x - x_0)^2 + (y - y_0)^2},</p>\n</blockquote>\n<p>and then transforms them according to</p>\n<blockquote>\n<p>r = ln(2) , mathtt{radius} / 5</p>\n<p>phi = mathtt{rotation}</p>\n<p>s = mathtt{strength}</p>\n<p>\\theta' = phi + s , e^{-\\rho / r + \\theta}</p>\n</blockquote>\n<p>where <tt class=\"docutils literal\">strength</tt> is a parameter for the amount of swirl, <tt class=\"docutils literal\">radius</tt> indicates\nthe swirl extent in pixels, and <tt class=\"docutils literal\">rotation</tt> adds a rotation angle.  The\ntransformation of <tt class=\"docutils literal\">radius</tt> into $r$ is to ensure that the\ntransformation decays to $\\approx 1/1000^{mathsf{th}}$ within the\nspecified radius.</p>\n</div>\n</div>\n", 
          "cell_type": "markdown", 
          "metadata": {}
        }, 
        {
          "cell_type": "code", 
          "language": "python", 
          "outputs": [], 
          "collapsed": false, 
          "input": "import matplotlib.pyplot as plt\n\nfrom skimage import data\nfrom skimage.transform import swirl\n\n\nimage = data.checkerboard()\nswirled = swirl(image, rotation=0, strength=10, radius=120)\n\nfig, (ax0, ax1) = plt.subplots(nrows=1, ncols=2, figsize=(8, 3),\n                               sharex=True, sharey=True,\n                               subplot_kw={'adjustable':'box-forced'})\n\nax0.imshow(image, cmap=plt.cm.gray, interpolation='none')\nax0.axis('off')\nax1.imshow(swirled, cmap=plt.cm.gray, interpolation='none')\nax1.axis('off')\n\nplt.show()\n", 
          "metadata": {}
        }
      ], 
      "metadata": {}
    }
  ], 
  "metadata": {
    "name": ""
  }
}