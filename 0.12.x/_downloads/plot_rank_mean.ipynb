{
  "nbformat": 3, 
  "nbformat_minor": 0, 
  "worksheets": [
    {
      "cells": [
        {
          "cell_type": "code", 
          "language": "python", 
          "outputs": [], 
          "collapsed": false, 
          "input": [
            "%matplotlib inline"
          ], 
          "metadata": {}
        }, 
        {
          "source": "<div class=\"document\" id=\"mean-filters\">\n<h1 class=\"title\">Mean filters</h1>\n<p>This example compares the following mean filters of the rank filter package:</p>\n<ul class=\"simple\">\n<li><strong>local mean</strong>: all pixels belonging to the structuring element to compute\naverage gray level.</li>\n<li><strong>percentile mean</strong>: only use values between percentiles p0 and p1\n(here 10% and 90%).</li>\n<li><strong>bilateral mean</strong>: only use pixels of the structuring element having a gray\nlevel situated inside g-s0 and g+s1 (here g-500 and g+500)</li>\n</ul>\n<p>Percentile and usual mean give here similar results, these filters smooth the\ncomplete image (background and details). Bilateral mean exhibits a high\nfiltering rate for continuous area (i.e. background) while higher image\nfrequencies remain untouched.</p>\n</div>\n", 
          "cell_type": "markdown", 
          "metadata": {}
        }, 
        {
          "cell_type": "code", 
          "language": "python", 
          "outputs": [], 
          "collapsed": false, 
          "input": "import numpy as np\nimport matplotlib.pyplot as plt\n\nfrom skimage import data\nfrom skimage.morphology import disk\nfrom skimage.filters import rank\n\n\nimage = data.coins()\nselem = disk(20)\n\npercentile_result = rank.mean_percentile(image, selem=selem, p0=.1, p1=.9)\nbilateral_result = rank.mean_bilateral(image, selem=selem, s0=500, s1=500)\nnormal_result = rank.mean(image, selem=selem)\n\n\nfig, axes = plt.subplots(nrows=2, ncols=2, figsize=(8, 10),\n                         sharex=True, sharey=True)\nax = axes.ravel()\n\ntitles = ['Original', 'Percentile mean', 'Bilateral mean', 'Local mean']\nimgs = [image, percentile_result, bilateral_result, normal_result]\nfor n in range(0, len(imgs)):\n    ax[n].imshow(imgs[n])\n    ax[n].set_title(titles[n])\n    ax[n].set_adjustable('box-forced')\n    ax[n].axis('off')\n\nplt.show()\n", 
          "metadata": {}
        }
      ], 
      "metadata": {}
    }
  ], 
  "metadata": {
    "name": ""
  }
}