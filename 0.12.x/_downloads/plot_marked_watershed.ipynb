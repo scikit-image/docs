{
  "nbformat": 3, 
  "nbformat_minor": 0, 
  "worksheets": [
    {
      "cells": [
        {
          "cell_type": "code", 
          "language": "python", 
          "outputs": [], 
          "collapsed": false, 
          "input": [
            "%matplotlib inline"
          ], 
          "metadata": {}
        }, 
        {
          "source": "<div class=\"document\" id=\"markers-for-watershed-transform\">\n<h1 class=\"title\">Markers for watershed transform</h1>\n<p>The watershed is a classical algorithm used for <strong>segmentation</strong>, that\nis, for separating different objects in an image.</p>\n<p>Here a marker image is built from the region of low gradient inside the image.\nIn a gradient image, the areas of high values provide barriers that help to\nsegment the image.\nUsing markers on the lower values will ensure that the segmented objects are\nfound.</p>\n<p>See <a class=\"reference external\" href=\"http://en.wikipedia.org/wiki/Watershed_(image_processing)\">Wikipedia</a> for more details on the algorithm.</p>\n</div>\n", 
          "cell_type": "markdown", 
          "metadata": {}
        }, 
        {
          "cell_type": "code", 
          "language": "python", 
          "outputs": [], 
          "collapsed": false, 
          "input": "\nfrom scipy import ndimage as ndi\nimport matplotlib.pyplot as plt\n\nfrom skimage.morphology import watershed, disk\nfrom skimage import data\nfrom skimage.filters import rank\nfrom skimage.util import img_as_ubyte\n\n\nimage = img_as_ubyte(data.camera())\n\n# denoise image\ndenoised = rank.median(image, disk(2))\n\n# find continuous region (low gradient -\n# where less than 10 for this image) --> markers\n# disk(5) is used here to get a more smooth image\nmarkers = rank.gradient(denoised, disk(5)) < 10\nmarkers = ndi.label(markers)[0]\n\n# local gradient (disk(2) is used to keep edges thin)\ngradient = rank.gradient(denoised, disk(2))\n\n# process the watershed\nlabels = watershed(gradient, markers)\n\n# display results\nfig, axes = plt.subplots(nrows=2, ncols=2, figsize=(8, 8), sharex=True, sharey=True, subplot_kw={'adjustable':'box-forced'})\naxes = axes.ravel()\nax0, ax1, ax2, ax3 = axes\n\nax0.imshow(image, cmap=plt.cm.gray, interpolation='nearest')\nax0.set_title(\"Original\")\nax1.imshow(gradient, cmap=plt.cm.spectral, interpolation='nearest')\nax1.set_title(\"Local Gradient\")\nax2.imshow(markers, cmap=plt.cm.spectral, interpolation='nearest')\nax2.set_title(\"Markers\")\nax3.imshow(image, cmap=plt.cm.gray, interpolation='nearest')\nax3.imshow(labels, cmap=plt.cm.spectral, interpolation='nearest', alpha=.7)\nax3.set_title(\"Segmented\")\n\nfor ax in axes:\n    ax.axis('off')\n\nfig.tight_layout()\nplt.show()\n", 
          "metadata": {}
        }
      ], 
      "metadata": {}
    }
  ], 
  "metadata": {
    "name": ""
  }
}