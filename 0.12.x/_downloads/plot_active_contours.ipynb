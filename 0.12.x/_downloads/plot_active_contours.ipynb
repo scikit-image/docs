{
  "nbformat": 3, 
  "nbformat_minor": 0, 
  "worksheets": [
    {
      "cells": [
        {
          "cell_type": "code", 
          "language": "python", 
          "outputs": [], 
          "collapsed": false, 
          "input": [
            "%matplotlib inline"
          ], 
          "metadata": {}
        }, 
        {
          "source": "<div class=\"document\" id=\"active-contour-model\">\n<h1 class=\"title\">Active Contour Model</h1>\n<p>The active contour model is a method to fit open or closed splines to lines or\nedges in an image. It works by minimising an energy that is in part defined by\nthe image and part by the spline's shape: length and smoothness. The\nminimization is done implicitly in the shape energy and explicitly in the\nimage energy.</p>\n<p>In the following two examples the active contour model is used (1) to segment\nthe face of a person from the rest of an image by fitting a closed curve\nto the edges of the face and (2) to find the darkest curve between two fixed\npoints while obeying smoothness considerations. Typically it is a good idea to\nsmooth images a bit before analyzing, as done in the following examples.</p>\n<table class=\"docutils footnote\" frame=\"void\" id=\"id1\" rules=\"none\">\n<colgroup><col class=\"label\" /><col /></colgroup>\n<tbody valign=\"top\">\n<tr><td class=\"label\">[1]</td><td><em>Snakes: Active contour models</em>. Kass, M.; Witkin, A.; Terzopoulos, D.\nInternational Journal of Computer Vision 1 (4): 321 (1988).</td></tr>\n</tbody>\n</table>\n<p>We initialize a circle around the astronaut's face and use the default boundary\ncondition <tt class=\"docutils literal\"><span class=\"pre\">bc='periodic'</span></tt> to fit a closed curve. The default parameters\n<tt class=\"docutils literal\">w_line=0, w_edge=1</tt> will make the curve search towards edges, such as the\nboundaries of the face.</p>\n</div>\n", 
          "cell_type": "markdown", 
          "metadata": {}
        }, 
        {
          "cell_type": "code", 
          "language": "python", 
          "outputs": [], 
          "collapsed": false, 
          "input": "\nimport numpy as np\nimport matplotlib.pyplot as plt\nfrom skimage.color import rgb2gray\nfrom skimage import data\nfrom skimage.filters import gaussian\nfrom skimage.segmentation import active_contour\n\n# Test scipy version, since active contour is only possible\n# with recent scipy version\nimport scipy\nscipy_version = list(map(int, scipy.__version__.split('.')))\nnew_scipy = scipy_version[0] > 0 or \\\n            (scipy_version[0] == 0 and scipy_version[1] >= 14)\n\nimg = data.astronaut()\nimg = rgb2gray(img)\n\ns = np.linspace(0, 2*np.pi, 400)\nx = 220 + 100*np.cos(s)\ny = 100 + 100*np.sin(s)\ninit = np.array([x, y]).T\n\nif not new_scipy:\n    print('You are using an old version of scipy. '\n          'Active contours is implemented for scipy versions '\n          '0.14.0 and above.')\n\nif new_scipy:\n    snake = active_contour(gaussian(img, 3),\n                           init, alpha=0.015, beta=10, gamma=0.001)\n\n    fig = plt.figure(figsize=(7, 7))\n    ax = fig.add_subplot(111)\n    plt.gray()\n    ax.imshow(img)\n    ax.plot(init[:, 0], init[:, 1], '--r', lw=3)\n    ax.plot(snake[:, 0], snake[:, 1], '-b', lw=3)\n    ax.set_xticks([]), ax.set_yticks([])\n    ax.axis([0, img.shape[1], img.shape[0], 0])\n\n", 
          "metadata": {}
        }, 
        {
          "source": "<div class=\"document\">\n<p>Here we initialize a straight line between two points, <cite>(5, 136)</cite> and\n<cite>(424, 50)</cite>, and require that the spline has its end points there by giving\nthe boundary condition <cite>bc='fixed'</cite>. We furthermore make the algorithm search\nfor dark lines by giving a negative <cite>w_line</cite> value.</p>\n</div>\n", 
          "cell_type": "markdown", 
          "metadata": {}
        }, 
        {
          "cell_type": "code", 
          "language": "python", 
          "outputs": [], 
          "collapsed": false, 
          "input": "\nimg = data.text()\n\nx = np.linspace(5, 424, 100)\ny = np.linspace(136, 50, 100)\ninit = np.array([x, y]).T\n\nif new_scipy:\n    snake = active_contour(gaussian(img, 1), init, bc='fixed',\n                           alpha=0.1, beta=1.0, w_line=-5, w_edge=0, gamma=0.1)\n\n    fig = plt.figure(figsize=(9, 5))\n    ax = fig.add_subplot(111)\n    plt.gray()\n    ax.imshow(img)\n    ax.plot(init[:, 0], init[:, 1], '--r', lw=3)\n    ax.plot(snake[:, 0], snake[:, 1], '-b', lw=3)\n    ax.set_xticks([]), ax.set_yticks([])\n    ax.axis([0, img.shape[1], img.shape[0], 0])\n\nplt.show()\n\n", 
          "metadata": {}
        }, 
        {
          "source": "<div class=\"document\">\n</div>\n", 
          "cell_type": "markdown", 
          "metadata": {}
        }
      ], 
      "metadata": {}
    }
  ], 
  "metadata": {
    "name": ""
  }
}