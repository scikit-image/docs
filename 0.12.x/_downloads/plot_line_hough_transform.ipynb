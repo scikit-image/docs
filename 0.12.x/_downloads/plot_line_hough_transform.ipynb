{
  "nbformat": 3, 
  "nbformat_minor": 0, 
  "worksheets": [
    {
      "cells": [
        {
          "cell_type": "code", 
          "language": "python", 
          "outputs": [], 
          "collapsed": false, 
          "input": [
            "%matplotlib inline"
          ], 
          "metadata": {}
        }, 
        {
          "source": "<div class=\"document\" id=\"straight-line-hough-transform\">\n<h1 class=\"title\">Straight line Hough transform</h1>\n<p>The Hough transform in its simplest form is a <a class=\"reference external\" href=\"http://en.wikipedia.org/wiki/Hough_transform\">method to detect straight lines</a>.</p>\n<p>In the following example, we construct an image with a line intersection. We\nthen use the Hough transform to explore a parameter space for straight lines\nthat may run through the image.</p>\n<div class=\"section\" id=\"algorithm-overview\">\n<h1>Algorithm overview</h1>\n<p>Usually, lines are parameterised as $y = mx + c$, with a gradient\n$m$ and y-intercept <cite>c</cite>. However, this would mean that $m$ goes to\ninfinity for vertical lines. Instead, we therefore construct a segment\nperpendicular to the line, leading to the origin. The line is represented by\nthe length of that segment, $r$, and the angle it makes with the x-axis,\n$theta$.</p>\n<p>The Hough transform constructs a histogram array representing the parameter\nspace (i.e., an $M times N$ matrix, for $M$ different values of\nthe radius and $N$ different values of $theta$).  For each\nparameter combination, $r$ and $theta$, we then find the number of\nnon-zero pixels in the input image that would fall close to the corresponding\nline, and increment the array at position $(r, theta)$ appropriately.</p>\n<p>We can think of each non-zero pixel &quot;voting&quot; for potential line candidates. The\nlocal maxima in the resulting histogram indicates the parameters of the most\nprobably lines. In our example, the maxima occur at 45 and 135 degrees,\ncorresponding to the normal vector angles of each line.</p>\n<p>Another approach is the Progressive Probabilistic Hough Transform [1]. It is\nbased on the assumption that using a random subset of voting points give a good\napproximation to the actual result, and that lines can be extracted during the\nvoting process by walking along connected components. This returns the\nbeginning and end of each line segment, which is useful.</p>\n<p>The function <cite>probabilistic_hough</cite> has three parameters: a general threshold\nthat is applied to the Hough accumulator, a minimum line length and the line\ngap that influences line merging. In the example below, we find lines longer\nthan 10 with a gap less than 3 pixels.</p>\n</div>\n<div class=\"section\" id=\"references\">\n<h1>References</h1>\n<table class=\"docutils footnote\" frame=\"void\" id=\"id1\" rules=\"none\">\n<colgroup><col class=\"label\" /><col /></colgroup>\n<tbody valign=\"top\">\n<tr><td class=\"label\">[1]</td><td>C. Galamhos, J. Matas and J. Kittler,&quot;Progressive probabilistic\nHough transform for line detection&quot;, in IEEE Computer Society\nConference on Computer Vision and Pattern Recognition, 1999.</td></tr>\n</tbody>\n</table>\n<table class=\"docutils footnote\" frame=\"void\" id=\"id2\" rules=\"none\">\n<colgroup><col class=\"label\" /><col /></colgroup>\n<tbody valign=\"top\">\n<tr><td class=\"label\">[2]</td><td>Duda, R. O. and P. E. Hart, &quot;Use of the Hough Transformation to\nDetect Lines and Curves in Pictures,&quot; Comm. ACM, Vol. 15,\npp. 11-15 (January, 1972)</td></tr>\n</tbody>\n</table>\n</div>\n</div>\n", 
          "cell_type": "markdown", 
          "metadata": {}
        }, 
        {
          "cell_type": "code", 
          "language": "python", 
          "outputs": [], 
          "collapsed": false, 
          "input": "\nfrom matplotlib import cm\nfrom skimage.transform import (hough_line, hough_line_peaks,\n                               probabilistic_hough_line)\nfrom skimage.feature import canny\nfrom skimage import data\n\nimport numpy as np\nimport matplotlib.pyplot as plt\n\n# Constructing test image.\nimage = np.zeros((100, 100))\nidx = np.arange(25, 75)\nimage[idx[::-1], idx] = 255\nimage[idx, idx] = 255\n\n# Classic straight-line Hough transform.\nh, theta, d = hough_line(image)\n\n# Generating figure 1.\nfig, (ax0, ax1, ax2) = plt.subplots(1, 3, figsize=(12, 6))\nplt.tight_layout()\n\nax0.imshow(image, cmap=cm.gray)\nax0.set_title('Input image')\nax0.set_axis_off()\n\nax1.imshow(np.log(1 + h), extent=[np.rad2deg(theta[-1]), np.rad2deg(theta[0]),\n           d[-1], d[0]], cmap=cm.gray, aspect=1/1.5)\nax1.set_title('Hough transform')\nax1.set_xlabel('Angles (degrees)')\nax1.set_ylabel('Distance (pixels)')\nax1.axis('image')\n\nax2.imshow(image, cmap=cm.gray)\nrow1, col1 = image.shape\nfor _, angle, dist in zip(*hough_line_peaks(h, theta, d)):\n    y0 = (dist - 0 * np.cos(angle)) / np.sin(angle)\n    y1 = (dist - col1 * np.cos(angle)) / np.sin(angle)\n    ax2.plot((0, col1), (y0, y1), '-r')\nax2.axis((0, col1, row1, 0))\nax2.set_title('Detected lines')\nax2.set_axis_off()\n\n# Line finding using the Probabilistic Hough Transform.\nimage = data.camera()\nedges = canny(image, 2, 1, 25)\nlines = probabilistic_hough_line(edges, threshold=10, line_length=5,\n                                 line_gap=3)\n\n# Generating figure 2.\nfig, (ax0, ax1, ax2) = plt.subplots(1, 3, figsize=(16, 6), sharex=True,\n                                    sharey=True)\nplt.tight_layout()\n\nax0.imshow(image, cmap=cm.gray)\nax0.set_title('Input image')\nax0.set_axis_off()\nax0.set_adjustable('box-forced')\n\nax1.imshow(edges, cmap=cm.gray)\nax1.set_title('Canny edges')\nax1.set_axis_off()\nax1.set_adjustable('box-forced')\n\nax2.imshow(edges * 0)\nfor line in lines:\n    p0, p1 = line\n    ax2.plot((p0[0], p1[0]), (p0[1], p1[1]))\n\nrow2, col2 = image.shape\nax2.axis((0, col2, row2, 0))\n\nax2.set_title('Probabilistic Hough')\nax2.set_axis_off()\nax2.set_adjustable('box-forced')\n\nplt.show()\n", 
          "metadata": {}
        }
      ], 
      "metadata": {}
    }
  ], 
  "metadata": {
    "name": ""
  }
}