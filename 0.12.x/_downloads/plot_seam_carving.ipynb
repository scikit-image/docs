{
  "nbformat": 3, 
  "nbformat_minor": 0, 
  "worksheets": [
    {
      "cells": [
        {
          "cell_type": "code", 
          "language": "python", 
          "outputs": [], 
          "collapsed": false, 
          "input": [
            "%matplotlib inline"
          ], 
          "metadata": {}
        }, 
        {
          "source": "<div class=\"document\" id=\"seam-carving\">\n<h1 class=\"title\">Seam Carving</h1>\n<p>This example demonstrates how images can be resized using seam carving [1].\nResizing to a new aspect ratio distorts image contents. Seam carving attempts\nto resize <em>without</em> distortion, by removing regions of an image which are less\nimportant. In this example we are using the Sobel filter to signify the\nimportance of each pixel.</p>\n<table class=\"docutils footnote\" frame=\"void\" id=\"id1\" rules=\"none\">\n<colgroup><col class=\"label\" /><col /></colgroup>\n<tbody valign=\"top\">\n<tr><td class=\"label\">[1]</td><td>Shai Avidan and Ariel Shamir\n&quot;Seam Carving for Content-Aware Image Resizing&quot;\n<a class=\"reference external\" href=\"http://www.cs.jhu.edu/~misha/ReadingSeminar/Papers/Avidan07.pdf\">http://www.cs.jhu.edu/~misha/ReadingSeminar/Papers/Avidan07.pdf</a></td></tr>\n</tbody>\n</table>\n</div>\n", 
          "cell_type": "markdown", 
          "metadata": {}
        }, 
        {
          "cell_type": "code", 
          "language": "python", 
          "outputs": [], 
          "collapsed": false, 
          "input": "from skimage import data, draw\nfrom skimage import transform, util\nimport numpy as np\nfrom skimage import filters, color\nfrom matplotlib import pyplot as plt\n\n\nhl_color = np.array([0, 1, 0])\n\nimg = data.rocket()\nimg = util.img_as_float(img)\neimg = filters.sobel(color.rgb2gray(img))\n\nplt.title('Original Image')\nplt.imshow(img)\n\n", 
          "metadata": {}
        }, 
        {
          "source": "<div class=\"document\">\n</div>\n", 
          "cell_type": "markdown", 
          "metadata": {}
        }, 
        {
          "cell_type": "code", 
          "language": "python", 
          "outputs": [], 
          "collapsed": false, 
          "input": "\nresized = transform.resize(img, (img.shape[0], img.shape[1] - 200))\nplt.figure()\nplt.title('Resized Image')\nplt.imshow(resized)\n\n", 
          "metadata": {}
        }, 
        {
          "source": "<div class=\"document\">\n</div>\n", 
          "cell_type": "markdown", 
          "metadata": {}
        }, 
        {
          "cell_type": "code", 
          "language": "python", 
          "outputs": [], 
          "collapsed": false, 
          "input": "\nout = transform.seam_carve(img, eimg, 'vertical', 200)\nplt.figure()\nplt.title('Resized using Seam Carving')\nplt.imshow(out)\n\n", 
          "metadata": {}
        }, 
        {
          "source": "<div class=\"document\">\n<p>Resizing distorts the rocket and surrounding objects, whereas seam carving\nremoves empty spaces and preserves object proportions.</p>\n<div class=\"section\" id=\"object-removal\">\n<h1>Object Removal</h1>\n<p>Seam carving can also be used to remove artifacts from images.\nThis requires weighting the artifact with low values. Recall lower weights are\npreferentially removed in seam carving. The following code masks the rocket's\nregion with low weights, indicating it should be removed.</p>\n</div>\n</div>\n", 
          "cell_type": "markdown", 
          "metadata": {}
        }, 
        {
          "cell_type": "code", 
          "language": "python", 
          "outputs": [], 
          "collapsed": false, 
          "input": "\nmasked_img = img.copy()\n\npoly = [(404, 281), (404, 360), (359, 364), (338, 337), (145, 337), (120, 322),\n        (145, 304), (340, 306), (362, 284)]\npr = np.array([p[0] for p in poly])\npc = np.array([p[1] for p in poly])\nrr, cc = draw.polygon(pr, pc)\n\nmasked_img[rr, cc, :] = masked_img[rr, cc, :]*0.5 + hl_color*.5\nplt.figure()\nplt.title('Object Marked')\n\nplt.imshow(masked_img)\n\n", 
          "metadata": {}
        }, 
        {
          "source": "<div class=\"document\">\n</div>\n", 
          "cell_type": "markdown", 
          "metadata": {}
        }, 
        {
          "cell_type": "code", 
          "language": "python", 
          "outputs": [], 
          "collapsed": false, 
          "input": "\neimg[rr, cc] -= 1000\n\nplt.figure()\nplt.title('Object Removed')\nout = transform.seam_carve(img, eimg, 'vertical', 90)\nresized = transform.resize(img, out.shape)\nplt.imshow(out)\nplt.show()\n\n", 
          "metadata": {}
        }, 
        {
          "source": "<div class=\"document\">\n</div>\n", 
          "cell_type": "markdown", 
          "metadata": {}
        }
      ], 
      "metadata": {}
    }
  ], 
  "metadata": {
    "name": ""
  }
}