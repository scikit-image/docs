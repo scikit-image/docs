{
  "nbformat": 3, 
  "nbformat_minor": 0, 
  "worksheets": [
    {
      "cells": [
        {
          "cell_type": "code", 
          "language": "python", 
          "outputs": [], 
          "collapsed": false, 
          "input": [
            "%matplotlib inline"
          ], 
          "metadata": {}
        }, 
        {
          "source": "<div class=\"document\" id=\"robust-3d-line-model-estimation-using-ransac\">\n<h1 class=\"title\">Robust 3D line model estimation using RANSAC</h1>\n<p>In this example we see how to robustly fit a 3D line model to faulty data using\nthe RANSAC algorithm.</p>\n</div>\n", 
          "cell_type": "markdown", 
          "metadata": {}
        }, 
        {
          "cell_type": "code", 
          "language": "python", 
          "outputs": [], 
          "collapsed": false, 
          "input": "import numpy as np\nfrom matplotlib import pyplot as plt\nfrom mpl_toolkits.mplot3d import Axes3D\nfrom skimage.measure import LineModelND, ransac\n\nnp.random.seed(seed=1)\n\n# generate coordinates of line\npoint = np.array([0, 0, 0], dtype='float')\ndirection = np.array([1, 1, 1], dtype='float') / np.sqrt(3)\nxyz = point + 10 * np.arange(-100, 100)[..., np.newaxis] * direction\n\n# add gaussian noise to coordinates\nnoise = np.random.normal(size=xyz.shape)\nxyz += 0.5 * noise\nxyz[::2] += 20 * noise[::2]\nxyz[::4] += 100 * noise[::4]\n\n# robustly fit line only using inlier data with RANSAC algorithm\nmodel_robust, inliers = ransac(xyz, LineModelND, min_samples=2,\n                               residual_threshold=1, max_trials=1000)\noutliers = inliers == False\n\nfig = plt.figure()\nax = fig.add_subplot(111, projection='3d')\nax.scatter(xyz[inliers][:, 0], xyz[inliers][:, 1], xyz[inliers][:, 2], c='b',\n           marker='o', label='Inlier data')\nax.scatter(xyz[outliers][:, 0], xyz[outliers][:, 1], xyz[outliers][:, 2], c='r',\n           marker='o', label='Outlier data')\nax.legend(loc='lower left')\nplt.show()\n", 
          "metadata": {}
        }
      ], 
      "metadata": {}
    }
  ], 
  "metadata": {
    "name": ""
  }
}