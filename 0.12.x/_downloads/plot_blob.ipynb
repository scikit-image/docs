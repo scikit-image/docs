{
  "nbformat": 3, 
  "nbformat_minor": 0, 
  "worksheets": [
    {
      "cells": [
        {
          "cell_type": "code", 
          "language": "python", 
          "outputs": [], 
          "collapsed": false, 
          "input": [
            "%matplotlib inline"
          ], 
          "metadata": {}
        }, 
        {
          "source": "<div class=\"document\" id=\"blob-detection\">\n<h1 class=\"title\">Blob Detection</h1>\n<p>Blobs are bright on dark or dark on bright regions in an image. In\nthis example, blobs are detected using 3 algorithms. The image used\nin this case is the Hubble eXtreme Deep Field. Each bright dot in the\nimage is a star or a galaxy.</p>\n<div class=\"section\" id=\"laplacian-of-gaussian-log\">\n<h1>Laplacian of Gaussian (LoG)</h1>\n<p>This is the most accurate and slowest approach. It computes the Laplacian\nof Gaussian images with successively increasing standard deviation and\nstacks them up in a cube. Blobs are local maximas in this cube. Detecting\nlarger blobs is especially slower because of larger kernel sizes during\nconvolution. Only bright blobs on dark backgrounds are detected. See\n<tt class=\"py-meth docutils literal\">skimage.feature.blob_log</tt> for usage.</p>\n</div>\n<div class=\"section\" id=\"difference-of-gaussian-dog\">\n<h1>Difference of Gaussian (DoG)</h1>\n<p>This is a faster approximation of LoG approach. In this case the image is\nblurred with increasing standard deviations and the difference between\ntwo successively blurred images are stacked up in a cube. This method\nsuffers from the same disadvantage as LoG approach for detecting larger\nblobs. Blobs are again assumed to be bright on dark. See\n<tt class=\"py-meth docutils literal\">skimage.feature.blob_dog</tt> for usage.</p>\n</div>\n<div class=\"section\" id=\"determinant-of-hessian-doh\">\n<h1>Determinant of Hessian (DoH)</h1>\n<p>This is the fastest approach. It detects blobs by finding maximas in the\nmatrix of the Determinant of Hessian of the image. The detection speed is\nindependent of the size of blobs as internally the implementation uses\nbox filters instead of convolutions. Bright on dark as well as dark on\nbright blobs are detected. The downside is that small blobs (&lt;3px) are not\ndetected accurately. See <tt class=\"py-meth docutils literal\">skimage.feature.blob_doh</tt> for usage.</p>\n</div>\n</div>\n", 
          "cell_type": "markdown", 
          "metadata": {}
        }, 
        {
          "cell_type": "code", 
          "language": "python", 
          "outputs": [], 
          "collapsed": false, 
          "input": "\nfrom skimage import data\nfrom skimage.feature import blob_dog, blob_log, blob_doh\nfrom math import sqrt\nfrom skimage.color import rgb2gray\n\nimport matplotlib.pyplot as plt\n\nimage = data.hubble_deep_field()[0:500, 0:500]\nimage_gray = rgb2gray(image)\n\nblobs_log = blob_log(image_gray, max_sigma=30, num_sigma=10, threshold=.1)\n\n# Compute radii in the 3rd column.\nblobs_log[:, 2] = blobs_log[:, 2] * sqrt(2)\n\nblobs_dog = blob_dog(image_gray, max_sigma=30, threshold=.1)\nblobs_dog[:, 2] = blobs_dog[:, 2] * sqrt(2)\n\nblobs_doh = blob_doh(image_gray, max_sigma=30, threshold=.01)\n\nblobs_list = [blobs_log, blobs_dog, blobs_doh]\ncolors = ['yellow', 'lime', 'red']\ntitles = ['Laplacian of Gaussian', 'Difference of Gaussian',\n          'Determinant of Hessian']\nsequence = zip(blobs_list, colors, titles)\n\nfig, axes = plt.subplots(1, 3, figsize=(14, 4), sharex=True, sharey=True,\n                         subplot_kw={'adjustable': 'box-forced'})\nplt.tight_layout()\n\naxes = axes.ravel()\nfor blobs, color, title in sequence:\n    ax = axes[0]\n    axes = axes[1:]\n    ax.set_title(title)\n    ax.imshow(image, interpolation='nearest')\n    ax.set_axis_off()\n    for blob in blobs:\n        y, x, r = blob\n        c = plt.Circle((x, y), r, color=color, linewidth=2, fill=False)\n        ax.add_patch(c)\n\nplt.show()\n", 
          "metadata": {}
        }
      ], 
      "metadata": {}
    }
  ], 
  "metadata": {
    "name": ""
  }
}