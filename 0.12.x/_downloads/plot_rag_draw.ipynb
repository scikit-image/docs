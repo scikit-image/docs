{
  "nbformat": 3, 
  "nbformat_minor": 0, 
  "worksheets": [
    {
      "cells": [
        {
          "cell_type": "code", 
          "language": "python", 
          "outputs": [], 
          "collapsed": false, 
          "input": [
            "%matplotlib inline"
          ], 
          "metadata": {}
        }, 
        {
          "source": "<div class=\"document\" id=\"drawing-region-adjacency-graphs-rags\">\n<h1 class=\"title\">Drawing Region Adjacency Graphs (RAGs)</h1>\n<p>This example constructs a Region Adjacency Graph (RAG) and draws it with\nthe <cite>rag_draw</cite> method.</p>\n</div>\n", 
          "cell_type": "markdown", 
          "metadata": {}
        }, 
        {
          "cell_type": "code", 
          "language": "python", 
          "outputs": [], 
          "collapsed": false, 
          "input": "from skimage import data, segmentation\nfrom skimage.future import graph\nfrom skimage.util.colormap import viridis\nfrom matplotlib import pyplot as plt, colors\n\n\nimg = data.coffee()\nlabels = segmentation.slic(img, compactness=30, n_segments=400)\ng = graph.rag_mean_color(img, labels)\n\nout = graph.draw_rag(labels, g, img)\nplt.figure()\nplt.title(\"RAG with all edges shown in green.\")\nplt.imshow(out)\n\n# The color palette used was taken from\n# http://www.colorcombos.com/color-schemes/2/ColorCombo2.html\ncmap = colors.ListedColormap(['#6599FF', '#ff9900'])\nout = graph.draw_rag(labels, g, img, node_color=\"#ffde00\", colormap=cmap,\n                     thresh=30, desaturate=True)\nplt.figure()\nplt.title(\"RAG with edge weights less than 30, color \"\n          \"mapped between blue and orange.\")\nplt.imshow(out)\n\nplt.figure()\nplt.title(\"All edges drawn with viridis colormap\")\nout = graph.draw_rag(labels, g, img, colormap=viridis,\n                     desaturate=True)\n\nplt.imshow(out)\nplt.show()\n", 
          "metadata": {}
        }
      ], 
      "metadata": {}
    }
  ], 
  "metadata": {
    "name": ""
  }
}