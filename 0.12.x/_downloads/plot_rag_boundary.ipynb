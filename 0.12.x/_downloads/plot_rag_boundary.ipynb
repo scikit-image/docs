{
  "nbformat": 3, 
  "nbformat_minor": 0, 
  "worksheets": [
    {
      "cells": [
        {
          "cell_type": "code", 
          "language": "python", 
          "outputs": [], 
          "collapsed": false, 
          "input": [
            "%matplotlib inline"
          ], 
          "metadata": {}
        }, 
        {
          "source": "<div class=\"document\" id=\"region-boundary-based-rags\">\n<h1 class=\"title\">Region Boundary based RAGs</h1>\n<p>This example demonstrates construction of region boundary based RAGs with the\n<cite>rag_boundary</cite> function.</p>\n</div>\n", 
          "cell_type": "markdown", 
          "metadata": {}
        }, 
        {
          "cell_type": "code", 
          "language": "python", 
          "outputs": [], 
          "collapsed": false, 
          "input": "from skimage.future import graph\nfrom skimage import data, segmentation, color, filters, io\nfrom skimage.util.colormap import viridis\n\n\nimg = data.coffee()\ngimg = color.rgb2gray(img)\n\nlabels = segmentation.slic(img, compactness=30, n_segments=400)\nedges = filters.sobel(gimg)\nedges_rgb = color.gray2rgb(edges)\n\ng = graph.rag_boundary(labels, edges)\n\nout = graph.draw_rag(labels, g, edges_rgb, node_color=\"#999999\",\n                     colormap=viridis)\n\nio.imshow(out)\nio.show()\n", 
          "metadata": {}
        }
      ], 
      "metadata": {}
    }
  ], 
  "metadata": {
    "name": ""
  }
}