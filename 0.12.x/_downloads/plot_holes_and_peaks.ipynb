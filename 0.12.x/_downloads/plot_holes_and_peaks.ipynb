{
  "nbformat": 3, 
  "nbformat_minor": 0, 
  "worksheets": [
    {
      "cells": [
        {
          "cell_type": "code", 
          "language": "python", 
          "outputs": [], 
          "collapsed": false, 
          "input": [
            "%matplotlib inline"
          ], 
          "metadata": {}
        }, 
        {
          "source": "<div class=\"document\" id=\"filling-holes-and-finding-peaks\">\n<h1 class=\"title\">Filling holes and finding peaks</h1>\n<p>In this example, we fill holes (i.e. isolated, dark spots) in an image using\nmorphological reconstruction by erosion. Erosion expands the minimal values of\nthe seed image until it encounters a mask image. Thus, the seed image and mask\nimage represent the maximum and minimum possible values of the reconstructed\nimage.</p>\n<p>We start with an image containing both peaks and holes:</p>\n</div>\n", 
          "cell_type": "markdown", 
          "metadata": {}
        }, 
        {
          "cell_type": "code", 
          "language": "python", 
          "outputs": [], 
          "collapsed": false, 
          "input": "import matplotlib.pyplot as plt\n\nfrom skimage import data\nfrom skimage.exposure import rescale_intensity\n\nimage = data.moon()\n# Rescale image intensity so that we can see dim features.\nimage = rescale_intensity(image, in_range=(50, 200))\n\nfig,ax = plt.subplots(2, 2, figsize=(5, 4), sharex=True, sharey=True, subplot_kw={'adjustable':'box-forced'})\nax = ax.ravel()\n\n\nax[0].imshow(image)\nax[0].set_title('Original image')\nax[0].axis('off')\n\n", 
          "metadata": {}
        }, 
        {
          "source": "<div class=\"document\">\n<p>Now we need to create the seed image, where the minima represent the starting\npoints for erosion.  To fill holes, we initialize the seed image to the maximum\nvalue of the original image. Along the borders, however, we use the original\nvalues of the image. These border pixels will be the starting points for the\nerosion process. We then limit the erosion by setting the mask to the values\nof the original image.</p>\n</div>\n", 
          "cell_type": "markdown", 
          "metadata": {}
        }, 
        {
          "cell_type": "code", 
          "language": "python", 
          "outputs": [], 
          "collapsed": false, 
          "input": "\nimport numpy as np\nfrom skimage.morphology import reconstruction\n\nseed = np.copy(image)\nseed[1:-1, 1:-1] = image.max()\nmask = image\n\nfilled = reconstruction(seed, mask, method='erosion')\n\nax[1].imshow(filled)\nax[1].set_title('after filling holes')\nax[1].axis('off')\n", 
          "metadata": {}
        }, 
        {
          "source": "<div class=\"document\">\n<p>As shown above, eroding inward from the edges removes holes, since (by\ndefinition) holes are surrounded by pixels of brighter value. Finally, we can\nisolate the dark regions by subtracting the reconstructed image from the\noriginal image.</p>\n</div>\n", 
          "cell_type": "markdown", 
          "metadata": {}
        }, 
        {
          "cell_type": "code", 
          "language": "python", 
          "outputs": [], 
          "collapsed": false, 
          "input": "\nax[2].imshow(image-filled)\nax[2].set_title('holes')\nax[2].axis('off')\n\n", 
          "metadata": {}
        }, 
        {
          "source": "<div class=\"document\">\n<p>Alternatively, we can find bright spots in an image using morphological\nreconstruction by dilation. Dilation is the inverse of erosion and expands the\n<em>maximal</em> values of the seed image until it encounters a mask image. Since this\nis an inverse operation, we initialize the seed image to the minimum image\nintensity instead of the maximum. The remainder of the process is the same.</p>\n</div>\n", 
          "cell_type": "markdown", 
          "metadata": {}
        }, 
        {
          "cell_type": "code", 
          "language": "python", 
          "outputs": [], 
          "collapsed": false, 
          "input": "\nseed = np.copy(image)\nseed[1:-1, 1:-1] = image.min()\nrec = reconstruction(seed, mask, method='dilation')\n\nax[3].imshow(image-rec)\nax[3].set_title('peaks')\nax[3].axis('off')\nplt.show()\n\n", 
          "metadata": {}
        }, 
        {
          "source": "<div class=\"document\">\n</div>\n", 
          "cell_type": "markdown", 
          "metadata": {}
        }
      ], 
      "metadata": {}
    }
  ], 
  "metadata": {
    "name": ""
  }
}