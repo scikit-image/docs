{
  "nbformat": 3, 
  "nbformat_minor": 0, 
  "worksheets": [
    {
      "cells": [
        {
          "cell_type": "code", 
          "language": "python", 
          "outputs": [], 
          "collapsed": false, 
          "input": [
            "%matplotlib inline"
          ], 
          "metadata": {}
        }, 
        {
          "source": "<div class=\"document\" id=\"using-simple-numpy-operations-for-manipulating-images\">\n<h1 class=\"title\">Using simple NumPy operations for manipulating images</h1>\n<p>This script illustrates how to use basic NumPy operations, such as slicing,\nmasking and fancy indexing, in order to modify the pixel values of an image.</p>\n</div>\n", 
          "cell_type": "markdown", 
          "metadata": {}
        }, 
        {
          "cell_type": "code", 
          "language": "python", 
          "outputs": [], 
          "collapsed": false, 
          "input": "\nimport numpy as np\nfrom skimage import data\nimport matplotlib.pyplot as plt\n\ncamera = data.camera()\ncamera[:10] = 0\nmask = camera < 87\ncamera[mask] = 255\ninds_x = np.arange(len(camera))\ninds_y = (4 * inds_x) % len(camera)\ncamera[inds_x, inds_y] = 0\n\nl_x, l_y = camera.shape[0], camera.shape[1]\nX, Y = np.ogrid[:l_x, :l_y]\nouter_disk_mask = (X - l_x / 2)**2 + (Y - l_y / 2)**2 > (l_x / 2)**2\ncamera[outer_disk_mask] = 0\n\nplt.figure(figsize=(4, 4))\nplt.imshow(camera, cmap='gray', interpolation='nearest')\nplt.axis('off')\nplt.show()\n", 
          "metadata": {}
        }
      ], 
      "metadata": {}
    }
  ], 
  "metadata": {
    "name": ""
  }
}