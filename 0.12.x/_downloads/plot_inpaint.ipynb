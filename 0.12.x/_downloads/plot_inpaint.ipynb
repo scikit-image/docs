{
  "nbformat": 3, 
  "nbformat_minor": 0, 
  "worksheets": [
    {
      "cells": [
        {
          "cell_type": "code", 
          "language": "python", 
          "outputs": [], 
          "collapsed": false, 
          "input": [
            "%matplotlib inline"
          ], 
          "metadata": {}
        }, 
        {
          "source": "<div class=\"document\" id=\"inpainting\">\n<h1 class=\"title\">Inpainting</h1>\n<p>Inpainting [1] is the process of reconstructing lost or deteriorated\nparts of images and videos.</p>\n<p>The reconstruction is supposed to be performed in fully automatic way by\nexploiting the information presented in non-damaged regions.</p>\n<p>In this example, we show how the masked pixels get inpainted by\ninpainting algorithm based on 'biharmonic equation'-assumption [2] [3].</p>\n<table class=\"docutils footnote\" frame=\"void\" id=\"id1\" rules=\"none\">\n<colgroup><col class=\"label\" /><col /></colgroup>\n<tbody valign=\"top\">\n<tr><td class=\"label\">[1]</td><td>Wikipedia. Inpainting\n<a class=\"reference external\" href=\"https://en.wikipedia.org/wiki/Inpainting\">https://en.wikipedia.org/wiki/Inpainting</a></td></tr>\n</tbody>\n</table>\n<table class=\"docutils footnote\" frame=\"void\" id=\"id2\" rules=\"none\">\n<colgroup><col class=\"label\" /><col /></colgroup>\n<tbody valign=\"top\">\n<tr><td class=\"label\">[2]</td><td>Wikipedia. Biharmonic equation\n<a class=\"reference external\" href=\"https://en.wikipedia.org/wiki/Biharmonic_equation\">https://en.wikipedia.org/wiki/Biharmonic_equation</a></td></tr>\n</tbody>\n</table>\n<table class=\"docutils footnote\" frame=\"void\" id=\"id3\" rules=\"none\">\n<colgroup><col class=\"label\" /><col /></colgroup>\n<tbody valign=\"top\">\n<tr><td class=\"label\">[3]</td><td>N.S.Hoang, S.B.Damelin, &quot;On surface completion and image\ninpainting by biharmonic functions: numerical aspects&quot;,\n<a class=\"reference external\" href=\"http://www.ima.umn.edu/~damelin/biharmonic\">http://www.ima.umn.edu/~damelin/biharmonic</a></td></tr>\n</tbody>\n</table>\n</div>\n", 
          "cell_type": "markdown", 
          "metadata": {}
        }, 
        {
          "cell_type": "code", 
          "language": "python", 
          "outputs": [], 
          "collapsed": false, 
          "input": "\nimport numpy as np\nimport matplotlib.pyplot as plt\n\nfrom skimage import data, color\nfrom skimage.restoration import inpaint\n\nimage_orig = data.astronaut()[0:200, 0:200]\n\n# Create mask with three defect regions: left, middle, right respectively\nmask = np.zeros(image_orig.shape[:-1])\nmask[20:60, 0:20] = 1\nmask[160:180, 70:155] = 1\nmask[30:60, 170:195] = 1\n\n# Defect image over the same region in each color channel\nimage_defect = image_orig.copy()\nfor layer in range(image_defect.shape[-1]):\n    image_defect[np.where(mask)] = 0\n\nimage_result = inpaint.inpaint_biharmonic(image_defect, mask, multichannel=True)\n\nfig, axes = plt.subplots(ncols=2, nrows=2)\nax0, ax1, ax2, ax3 = axes.ravel()\n\nax0.set_title('Original image')\nax0.imshow(image_orig)\nax0.axis('off')\n\nax1.set_title('Mask')\nax1.imshow(mask, cmap=plt.cm.gray)\nax1.axis('off')\n\nax2.set_title('Defected image')\nax2.imshow(image_defect)\nax2.axis('off')\n\nax3.set_title('Inpainted image')\nax3.imshow(image_result)\nax3.axis('off')\n\nfig.tight_layout()\nplt.show()\n", 
          "metadata": {}
        }
      ], 
      "metadata": {}
    }
  ], 
  "metadata": {
    "name": ""
  }
}