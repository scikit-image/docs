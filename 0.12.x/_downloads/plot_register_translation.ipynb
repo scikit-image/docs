{
  "nbformat": 3, 
  "nbformat_minor": 0, 
  "worksheets": [
    {
      "cells": [
        {
          "cell_type": "code", 
          "language": "python", 
          "outputs": [], 
          "collapsed": false, 
          "input": [
            "%matplotlib inline"
          ], 
          "metadata": {}
        }, 
        {
          "source": "<div class=\"document\" id=\"cross-correlation-phase-correlation\">\n<h1 class=\"title\">Cross-Correlation (Phase Correlation)</h1>\n<p>In this example, we use phase correlation to identify the relative shift\nbetween two similar-sized images.</p>\n<p>The <tt class=\"docutils literal\">register_translation</tt> function uses cross-correlation in Fourier space,\noptionally employing an upsampled matrix-multiplication DFT to achieve\narbitrary subpixel precision. [1]</p>\n<table class=\"docutils footnote\" frame=\"void\" id=\"id1\" rules=\"none\">\n<colgroup><col class=\"label\" /><col /></colgroup>\n<tbody valign=\"top\">\n<tr><td class=\"label\">[1]</td><td>Manuel Guizar-Sicairos, Samuel T. Thurman, and James R. Fienup,\n&quot;Efficient subpixel image registration algorithms,&quot; Optics Letters 33,\n156-158 (2008).</td></tr>\n</tbody>\n</table>\n</div>\n", 
          "cell_type": "markdown", 
          "metadata": {}
        }, 
        {
          "cell_type": "code", 
          "language": "python", 
          "outputs": [], 
          "collapsed": false, 
          "input": "import numpy as np\nimport matplotlib.pyplot as plt\n\nfrom skimage import data\nfrom skimage.feature import register_translation\nfrom skimage.feature.register_translation import _upsampled_dft\nfrom scipy.ndimage import fourier_shift\n\nimage = data.camera()\nshift = (-2.4, 1.32)\n# (-2.4, 1.32) pixel offset relative to reference coin\noffset_image = fourier_shift(np.fft.fftn(image), shift)\noffset_image = np.fft.ifftn(offset_image)\nprint(\"Known offset (y, x):\")\nprint(shift)\n\n# pixel precision first\nshift, error, diffphase = register_translation(image, offset_image)\n\nfig = plt.figure(figsize=(8, 3))\nax1 = plt.subplot(1, 3, 1, adjustable='box-forced')\nax2 = plt.subplot(1, 3, 2, sharex=ax1, sharey=ax1, adjustable='box-forced')\nax3 = plt.subplot(1, 3, 3)\n\nax1.imshow(image)\nax1.set_axis_off()\nax1.set_title('Reference image')\n\nax2.imshow(offset_image.real)\nax2.set_axis_off()\nax2.set_title('Offset image')\n\n# View the output of a cross-correlation to show what the algorithm is\n#    doing behind the scenes\nimage_product = np.fft.fft2(image) * np.fft.fft2(offset_image).conj()\ncc_image = np.fft.fftshift(np.fft.ifft2(image_product))\nax3.imshow(cc_image.real)\nax3.set_axis_off()\nax3.set_title(\"Cross-correlation\")\n\nplt.show()\n\nprint(\"Detected pixel offset (y, x):\")\nprint(shift)\n\n# subpixel precision\nshift, error, diffphase = register_translation(image, offset_image, 100)\n\nfig = plt.figure(figsize=(8, 3))\nax1 = plt.subplot(1, 3, 1, adjustable='box-forced')\nax2 = plt.subplot(1, 3, 2, sharex=ax1, sharey=ax1, adjustable='box-forced')\nax3 = plt.subplot(1, 3, 3)\n\nax1.imshow(image)\nax1.set_axis_off()\nax1.set_title('Reference image')\n\nax2.imshow(offset_image.real)\nax2.set_axis_off()\nax2.set_title('Offset image')\n\n# Calculate the upsampled DFT, again to show what the algorithm is doing\n#    behind the scenes.  Constants correspond to calculated values in routine.\n#    See source code for details.\ncc_image = _upsampled_dft(image_product, 150, 100, (shift*100)+75).conj()\nax3.imshow(cc_image.real)\nax3.set_axis_off()\nax3.set_title(\"Supersampled XC sub-area\")\n\n\nplt.show()\n\nprint(\"Detected subpixel offset (y, x):\")\nprint(shift)\n", 
          "metadata": {}
        }
      ], 
      "metadata": {}
    }
  ], 
  "metadata": {
    "name": ""
  }
}