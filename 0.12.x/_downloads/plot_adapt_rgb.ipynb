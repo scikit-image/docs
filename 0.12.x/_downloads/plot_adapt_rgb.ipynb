{
  "nbformat": 3, 
  "nbformat_minor": 0, 
  "worksheets": [
    {
      "cells": [
        {
          "cell_type": "code", 
          "language": "python", 
          "outputs": [], 
          "collapsed": false, 
          "input": [
            "%matplotlib inline"
          ], 
          "metadata": {}
        }, 
        {
          "source": "<div class=\"document\" id=\"adapting-gray-scale-filters-to-rgb-images\">\n<h1 class=\"title\">Adapting gray-scale filters to RGB images</h1>\n<p>There are many filters that are designed to work with gray-scale images but not\nwith color images. To simplify the process of creating functions that can adapt\nto RGB images, scikit-image provides the <tt class=\"docutils literal\">adapt_rgb</tt> decorator.</p>\n<p>To actually use the <tt class=\"docutils literal\">adapt_rgb</tt> decorator, you have to decide how you want to\nadapt the RGB image for use with the gray-scale filter. There are two\npre-defined handlers:</p>\n<dl class=\"docutils\">\n<dt><tt class=\"docutils literal\">each_channel</tt></dt>\n<dd>Pass each of the RGB channels to the filter one-by-one, and stitch the\nresults back into an RGB image.</dd>\n<dt><tt class=\"docutils literal\">hsv_value</tt></dt>\n<dd>Convert the RGB image to HSV and pass the value channel to the filter.\nThe filtered result is inserted back into the HSV image and converted\nback to RGB.</dd>\n</dl>\n<p>Below, we demonstrate the use of <tt class=\"docutils literal\">adapt_rgb</tt> on a couple of gray-scale\nfilters:</p>\n</div>\n", 
          "cell_type": "markdown", 
          "metadata": {}
        }, 
        {
          "cell_type": "code", 
          "language": "python", 
          "outputs": [], 
          "collapsed": false, 
          "input": "from skimage.color.adapt_rgb import adapt_rgb, each_channel, hsv_value\nfrom skimage import filters\n\n\n@adapt_rgb(each_channel)\ndef sobel_each(image):\n    return filters.sobel(image)\n\n\n@adapt_rgb(hsv_value)\ndef sobel_hsv(image):\n    return filters.sobel(image)\n\n", 
          "metadata": {}
        }, 
        {
          "source": "<div class=\"document\">\n<p>We can use these functions as we would normally use them, but now they work\nwith both gray-scale and color images. Let's plot the results with a color\nimage:</p>\n</div>\n", 
          "cell_type": "markdown", 
          "metadata": {}
        }, 
        {
          "cell_type": "code", 
          "language": "python", 
          "outputs": [], 
          "collapsed": false, 
          "input": "\nfrom skimage import data\nfrom skimage.exposure import rescale_intensity\nimport matplotlib.pyplot as plt\n\nimage = data.astronaut()\n\nfig = plt.figure(figsize=(14, 7))\nax_each = fig.add_subplot(121, adjustable='box-forced')\nax_hsv = fig.add_subplot(122, sharex=ax_each, sharey=ax_each,\n                         adjustable='box-forced')\n\n# We use 1 - sobel_each(image)\n# but this will not work if image is not normalized\nax_each.imshow(rescale_intensity(1 - sobel_each(image)))\nax_each.set_xticks([]), ax_each.set_yticks([])\nax_each.set_title(\"Sobel filter computed\\n on individual RGB channels\")\n\n# We use 1 - sobel_hsv(image) but this will not work if image is not normalized\nax_hsv.imshow(rescale_intensity(1 - sobel_hsv(image)))\nax_hsv.set_xticks([]), ax_hsv.set_yticks([])\nax_hsv.set_title(\"Sobel filter computed\\n on (V)alue converted image (HSV)\")\n\n", 
          "metadata": {}
        }, 
        {
          "source": "<div class=\"document\">\n<p>Notice that the result for the value-filtered image preserves the color of the\noriginal image, but channel filtered image combines in a more surprising way.\nIn other common cases, smoothing for example, the channel filtered image will\nproduce a better result than the value-filtered image.</p>\n<p>You can also create your own handler functions for <tt class=\"docutils literal\">adapt_rgb</tt>. To do so,\njust create a function with the following signature:</p>\n<pre class=\"literal-block\">\ndef handler(image_filter, image, *args, **kwargs):\n    # Manipulate RGB image here...\n    image = image_filter(image, *args, **kwargs)\n    # Manipulate filtered image here...\n    return image\n</pre>\n<p>Note that <tt class=\"docutils literal\">adapt_rgb</tt> handlers are written for filters where the image is the\nfirst argument.</p>\n<p>As a very simple example, we can just convert any RGB image to grayscale and\nthen return the filtered result:</p>\n</div>\n", 
          "cell_type": "markdown", 
          "metadata": {}
        }, 
        {
          "cell_type": "code", 
          "language": "python", 
          "outputs": [], 
          "collapsed": false, 
          "input": "from skimage.color import rgb2gray\n\n\ndef as_gray(image_filter, image, *args, **kwargs):\n    gray_image = rgb2gray(image)\n    return image_filter(gray_image, *args, **kwargs)\n\n", 
          "metadata": {}
        }, 
        {
          "source": "<div class=\"document\">\n<p>It's important to create a signature that uses <tt class=\"docutils literal\">*args</tt> and <tt class=\"docutils literal\">**kwargs</tt> to\npass arguments along to the filter so that the decorated function is allowed to\nhave any number of positional and keyword arguments.</p>\n<p>Finally, we can use this handler with <tt class=\"docutils literal\">adapt_rgb</tt> just as before:</p>\n</div>\n", 
          "cell_type": "markdown", 
          "metadata": {}
        }, 
        {
          "cell_type": "code", 
          "language": "python", 
          "outputs": [], 
          "collapsed": false, 
          "input": "\n\n@adapt_rgb(as_gray)\ndef sobel_gray(image):\n    return filters.sobel(image)\n\nfig = plt.figure(figsize=(7, 7))\nax = fig.add_subplot(111, sharex=ax_each, sharey=ax_each,\n                     adjustable='box-forced')\n\n# We use 1 - sobel_gray(image)\n# but this will not work if image is not normalized\nax.imshow(rescale_intensity(1 - sobel_gray(image)), cmap=plt.cm.gray)\nax.set_xticks([]), ax.set_yticks([])\nax.set_title(\"Sobel filter computed\\n on the converted grayscale image\")\n\nplt.show()\n\n", 
          "metadata": {}
        }, 
        {
          "source": "<div class=\"document\">\n<div class=\"note\">\n<p class=\"first admonition-title\">Note</p>\n<p class=\"last\">A very simple check of the array shape is used for detecting RGB images, so\n<tt class=\"docutils literal\">adapt_rgb</tt> is not recommended for functions that support 3D volumes or\ncolor images in non-RGB spaces.</p>\n</div>\n</div>\n", 
          "cell_type": "markdown", 
          "metadata": {}
        }
      ], 
      "metadata": {}
    }
  ], 
  "metadata": {
    "name": ""
  }
}