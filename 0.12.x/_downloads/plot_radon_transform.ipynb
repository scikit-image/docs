{
  "nbformat": 3, 
  "nbformat_minor": 0, 
  "worksheets": [
    {
      "cells": [
        {
          "cell_type": "code", 
          "language": "python", 
          "outputs": [], 
          "collapsed": false, 
          "input": [
            "%matplotlib inline"
          ], 
          "metadata": {}
        }, 
        {
          "source": "<div class=\"document\" id=\"radon-transform\">\n<h1 class=\"title\">Radon transform</h1>\n<p>In computed tomography, the tomography reconstruction problem is to obtain\na tomographic slice image from a set of projections [1]. A projection is\nformed by drawing a set of parallel rays through the 2D object of interest,\nassigning the integral of the object's contrast along each ray to a single\npixel in the projection. A single projection of a 2D object is one dimensional.\nTo enable computed tomography reconstruction of the object, several projections\nmust be acquired, each of them corresponding to a different angle between the\nrays with respect to the object. A collection of projections at several angles\nis called a sinogram, which is a linear transform of the original image.</p>\n<p>The inverse Radon transform is used in computed tomography to reconstruct\na 2D image from the measured projections (the sinogram). A practical, exact\nimplementation of the inverse Radon transform does not exist, but there are\nseveral good approximate algorithms available.</p>\n<p>As the inverse Radon transform reconstructs the object from a set of\nprojections, the (forward) Radon transform can be used to simulate a\ntomography experiment.</p>\n<p>This script performs the Radon transform to simulate a tomography experiment\nand reconstructs the input image based on the resulting sinogram formed by\nthe simulation. Two methods for performing the inverse Radon transform\nand reconstructing the original image are compared: The Filtered Back\nProjection (FBP) and the Simultaneous Algebraic Reconstruction\nTechnique (SART).</p>\n<p>For further information on tomographic reconstruction, see</p>\n<ul class=\"simple\">\n<li>AC Kak, M Slaney, &quot;Principles of Computerized Tomographic Imaging&quot;,\n<a class=\"reference external\" href=\"http://www.slaney.org/pct/pct-toc.html\">http://www.slaney.org/pct/pct-toc.html</a></li>\n<li><a class=\"reference external\" href=\"http://en.wikipedia.org/wiki/Radon_transform\">http://en.wikipedia.org/wiki/Radon_transform</a></li>\n</ul>\n<div class=\"section\" id=\"the-forward-transform\">\n<h1>The forward transform</h1>\n<p>As our original image, we will use the Shepp-Logan phantom. When calculating\nthe Radon transform, we need to decide how many projection angles we wish\nto use. As a rule of thumb, the number of projections should be about the\nsame as the number of pixels there are across the object (to see why this\nis so, consider how many unknown pixel values must be determined in the\nreconstruction process and compare this to the number of measurements\nprovided by the projections), and we follow that rule here. Below is the\noriginal image and its Radon transform, often known as its _sinogram_:</p>\n</div>\n</div>\n", 
          "cell_type": "markdown", 
          "metadata": {}
        }, 
        {
          "cell_type": "code", 
          "language": "python", 
          "outputs": [], 
          "collapsed": false, 
          "input": "\nfrom __future__ import print_function, division\n\nimport numpy as np\nimport matplotlib.pyplot as plt\n\nfrom skimage.io import imread\nfrom skimage import data_dir\nfrom skimage.transform import radon, rescale\n\nimage = imread(data_dir + \"/phantom.png\", as_grey=True)\nimage = rescale(image, scale=0.4)\n\nfig, (ax1, ax2) = plt.subplots(1, 2, figsize=(8, 4.5))\n\nax1.set_title(\"Original\")\nax1.imshow(image, cmap=plt.cm.Greys_r)\n\ntheta = np.linspace(0., 180., max(image.shape), endpoint=False)\nsinogram = radon(image, theta=theta, circle=True)\nax2.set_title(\"Radon transform\\n(Sinogram)\")\nax2.set_xlabel(\"Projection angle (deg)\")\nax2.set_ylabel(\"Projection position (pixels)\")\nax2.imshow(sinogram, cmap=plt.cm.Greys_r,\n           extent=(0, 180, 0, sinogram.shape[0]), aspect='auto')\n\nfig.tight_layout()\nplt.show()\n\n", 
          "metadata": {}
        }, 
        {
          "source": "<div class=\"document\" id=\"reconstruction-with-the-filtered-back-projection-fbp\">\n<h1 class=\"title\">Reconstruction with the Filtered Back Projection (FBP)</h1>\n<p>The mathematical foundation of the filtered back projection is the Fourier\nslice theorem [2]. It uses Fourier transform of the projection and\ninterpolation in Fourier space to obtain the 2D Fourier transform of the image,\nwhich is then inverted to form the reconstructed image. The filtered back\nprojection is among the fastest methods of performing the inverse Radon\ntransform. The only tunable parameter for the FBP is the filter, which is\napplied to the Fourier transformed projections. It may be used to suppress\nhigh frequency noise in the reconstruction. <tt class=\"docutils literal\">skimage</tt> provides a few\ndifferent options for the filter.</p>\n</div>\n", 
          "cell_type": "markdown", 
          "metadata": {}
        }, 
        {
          "cell_type": "code", 
          "language": "python", 
          "outputs": [], 
          "collapsed": false, 
          "input": "\nfrom skimage.transform import iradon\n\nreconstruction_fbp = iradon(sinogram, theta=theta, circle=True)\nerror = reconstruction_fbp - image\nprint('FBP rms reconstruction error: %.3g' % np.sqrt(np.mean(error**2)))\n\nimkwargs = dict(vmin=-0.2, vmax=0.2)\nfig, (ax1, ax2) = plt.subplots(1, 2, figsize=(8, 4.5),\n                               sharex=True, sharey=True,\n                               subplot_kw={'adjustable': 'box-forced'})\nax1.set_title(\"Reconstruction\\nFiltered back projection\")\nax1.imshow(reconstruction_fbp, cmap=plt.cm.Greys_r)\nax2.set_title(\"Reconstruction error\\nFiltered back projection\")\nax2.imshow(reconstruction_fbp - image, cmap=plt.cm.Greys_r, **imkwargs)\nplt.show()\n\n", 
          "metadata": {}
        }, 
        {
          "source": "<div class=\"document\" id=\"reconstruction-with-the-simultaneous-algebraic-reconstruction-technique\">\n<h1 class=\"title\">Reconstruction with the Simultaneous Algebraic Reconstruction Technique</h1>\n<p>Algebraic reconstruction techniques for tomography are based on a\nstraightforward idea: for a pixelated image the value of a single ray in a\nparticular projection is simply a sum of all the pixels the ray passes through\non its way through the object. This is a way of expressing the forward Radon\ntransform. The inverse Radon transform can then be formulated as a (large) set\nof linear equations. As each ray passes through a small fraction of the pixels\nin the image, this set of equations is sparse, allowing iterative solvers for\nsparse linear systems to tackle the system of equations. One iterative method\nhas been particularly popular, namely Kaczmarz' method [3], which has the\nproperty that the solution will approach a least-squares solution of the\nequation set.</p>\n<p>The combination of the formulation of the reconstruction problem as a set\nof linear equations and an iterative solver makes algebraic techniques\nrelatively flexible, hence some forms of prior knowledge can be incorporated\nwith relative ease.</p>\n<p><tt class=\"docutils literal\">skimage</tt> provides one of the more popular variations of the algebraic\nreconstruction techniques: the Simultaneous Algebraic Reconstruction Technique\n(SART) [1] [4]. It uses Kaczmarz' method [3] as the iterative solver. A good\nreconstruction is normally obtained in a single iteration, making the method\ncomputationally effective. Running one or more extra iterations will normally\nimprove the reconstruction of sharp, high frequency features and reduce the\nmean squared error at the expense of increased high frequency noise (the user\nwill need to decide on what number of iterations is best suited to the problem\nat hand. The implementation in <tt class=\"docutils literal\">skimage</tt> allows prior information of the\nform of a lower and upper threshold on the reconstructed values to be supplied\nto the reconstruction.</p>\n</div>\n", 
          "cell_type": "markdown", 
          "metadata": {}
        }, 
        {
          "cell_type": "code", 
          "language": "python", 
          "outputs": [], 
          "collapsed": false, 
          "input": "\nfrom skimage.transform import iradon_sart\n\nreconstruction_sart = iradon_sart(sinogram, theta=theta)\nerror = reconstruction_sart - image\nprint('SART (1 iteration) rms reconstruction error: %.3g'\n      % np.sqrt(np.mean(error**2)))\n\nfig, ax = plt.subplots(2, 2, figsize=(8, 8.5), sharex=True, sharey=True,\n                       subplot_kw={'adjustable': 'box-forced'})\nax1, ax2, ax3, ax4 = ax.ravel()\nax1.set_title(\"Reconstruction\\nSART\")\nax1.imshow(reconstruction_sart, cmap=plt.cm.Greys_r)\nax2.set_title(\"Reconstruction error\\nSART\")\nax2.imshow(reconstruction_sart - image, cmap=plt.cm.Greys_r, **imkwargs)\n\n# Run a second iteration of SART by supplying the reconstruction\n# from the first iteration as an initial estimate\nreconstruction_sart2 = iradon_sart(sinogram, theta=theta,\n                                   image=reconstruction_sart)\nerror = reconstruction_sart2 - image\nprint('SART (2 iterations) rms reconstruction error: %.3g'\n      % np.sqrt(np.mean(error**2)))\n\nax3.set_title(\"Reconstruction\\nSART, 2 iterations\")\nax3.imshow(reconstruction_sart2, cmap=plt.cm.Greys_r)\nax4.set_title(\"Reconstruction error\\nSART, 2 iterations\")\nax4.imshow(reconstruction_sart2 - image, cmap=plt.cm.Greys_r, **imkwargs)\nplt.show()\n\n", 
          "metadata": {}
        }, 
        {
          "source": "<div class=\"document\">\n<table class=\"docutils footnote\" frame=\"void\" id=\"id1\" rules=\"none\">\n<colgroup><col class=\"label\" /><col /></colgroup>\n<tbody valign=\"top\">\n<tr><td class=\"label\">[1]</td><td>AC Kak, M Slaney, &quot;Principles of Computerized Tomographic Imaging&quot;,\nIEEE Press 1988. <a class=\"reference external\" href=\"http://www.slaney.org/pct/pct-toc.html\">http://www.slaney.org/pct/pct-toc.html</a></td></tr>\n</tbody>\n</table>\n<table class=\"docutils footnote\" frame=\"void\" id=\"id2\" rules=\"none\">\n<colgroup><col class=\"label\" /><col /></colgroup>\n<tbody valign=\"top\">\n<tr><td class=\"label\">[2]</td><td>Wikipedia, Radon transform,\n<a class=\"reference external\" href=\"http://en.wikipedia.org/wiki/Radon_transform#Relationship_with_the_Fourier_transform\">http://en.wikipedia.org/wiki/Radon_transform#Relationship_with_the_Fourier_transform</a></td></tr>\n</tbody>\n</table>\n<table class=\"docutils footnote\" frame=\"void\" id=\"id3\" rules=\"none\">\n<colgroup><col class=\"label\" /><col /></colgroup>\n<tbody valign=\"top\">\n<tr><td class=\"label\">[3]</td><td>S Kaczmarz, &quot;Angenaeherte Aufloesung von Systemen linearer\nGleichungen&quot;, Bulletin International de l'Academie Polonaise des\nSciences et des Lettres 35 pp 355--357 (1937)</td></tr>\n</tbody>\n</table>\n<table class=\"docutils footnote\" frame=\"void\" id=\"id4\" rules=\"none\">\n<colgroup><col class=\"label\" /><col /></colgroup>\n<tbody valign=\"top\">\n<tr><td class=\"label\">[4]</td><td>AH Andersen, AC Kak, &quot;Simultaneous algebraic reconstruction technique\n(SART): a superior implementation of the ART algorithm&quot;, Ultrasonic\nImaging 6 pp 81--94 (1984)</td></tr>\n</tbody>\n</table>\n</div>\n", 
          "cell_type": "markdown", 
          "metadata": {}
        }
      ], 
      "metadata": {}
    }
  ], 
  "metadata": {
    "name": ""
  }
}