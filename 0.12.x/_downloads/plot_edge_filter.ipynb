{
  "nbformat": 3, 
  "nbformat_minor": 0, 
  "worksheets": [
    {
      "cells": [
        {
          "cell_type": "code", 
          "language": "python", 
          "outputs": [], 
          "collapsed": false, 
          "input": [
            "%matplotlib inline"
          ], 
          "metadata": {}
        }, 
        {
          "source": "<div class=\"document\" id=\"edge-operators\">\n<h1 class=\"title\">Edge operators</h1>\n<p>Edge operators are used in image processing within edge detection algorithms.\nThey are discrete differentiation operators, computing an approximation of the\ngradient of the image intensity function.</p>\n</div>\n", 
          "cell_type": "markdown", 
          "metadata": {}
        }, 
        {
          "cell_type": "code", 
          "language": "python", 
          "outputs": [], 
          "collapsed": false, 
          "input": "import numpy as np\nimport matplotlib.pyplot as plt\n\nfrom skimage.data import camera\nfrom skimage.filters import roberts, sobel, scharr, prewitt\n\n\nimage = camera()\nedge_roberts = roberts(image)\nedge_sobel = sobel(image)\n\nfig, (ax0, ax1) = plt.subplots(ncols=2, sharex=True, sharey=True, subplot_kw={'adjustable':'box-forced'})\n\nax0.imshow(edge_roberts, cmap=plt.cm.gray)\nax0.set_title('Roberts Edge Detection')\nax0.axis('off')\n\nax1.imshow(edge_sobel, cmap=plt.cm.gray)\nax1.set_title('Sobel Edge Detection')\nax1.axis('off')\n\nplt.tight_layout()\n\n", 
          "metadata": {}
        }, 
        {
          "source": "<div class=\"document\">\n<p>Different operators compute different finite-difference approximations of the\ngradient. For example, the Scharr filter results in a less rotational variance\nthan the Sobel filter that is in turn better than the Prewitt filter <a class=\"footnote-reference\" href=\"#id3\" id=\"id1\">[1]</a> [2]\n<a class=\"footnote-reference\" href=\"#id5\" id=\"id2\">[3]</a>. The difference between the Prewitt and Sobel filters and the Scharr filter\nis illustrated below with an image that is the discretization of a rotation-\ninvariant continuous function. The discrepancy between the Prewitt and Sobel\nfilters, and the Scharr filter is stronger for regions of the image where the\ndirection of the gradient is close to diagonal, and for regions with high\nspatial frequencies. For the example image the differences between the filter\nresults are very small and the filter results are visually almost\nindistinguishable.</p>\n<table class=\"docutils footnote\" frame=\"void\" id=\"id3\" rules=\"none\">\n<colgroup><col class=\"label\" /><col /></colgroup>\n<tbody valign=\"top\">\n<tr><td class=\"label\"><a class=\"fn-backref\" href=\"#id1\">[1]</a></td><td><a class=\"reference external\" href=\"https://en.wikipedia.org/wiki/Sobel_operator#Alternative_operators\">https://en.wikipedia.org/wiki/Sobel_operator#Alternative_operators</a></td></tr>\n</tbody>\n</table>\n<table class=\"docutils footnote\" frame=\"void\" id=\"id4\" rules=\"none\">\n<colgroup><col class=\"label\" /><col /></colgroup>\n<tbody valign=\"top\">\n<tr><td class=\"label\">[2]</td><td>B. Jaehne, H. Scharr, and S. Koerkel. Principles of filter design. In\nHandbook of Computer Vision and Applications. Academic Press, 1999.</td></tr>\n</tbody>\n</table>\n<table class=\"docutils footnote\" frame=\"void\" id=\"id5\" rules=\"none\">\n<colgroup><col class=\"label\" /><col /></colgroup>\n<tbody valign=\"top\">\n<tr><td class=\"label\"><a class=\"fn-backref\" href=\"#id2\">[3]</a></td><td><a class=\"reference external\" href=\"https://en.wikipedia.org/wiki/Prewitt_operator\">https://en.wikipedia.org/wiki/Prewitt_operator</a></td></tr>\n</tbody>\n</table>\n</div>\n", 
          "cell_type": "markdown", 
          "metadata": {}
        }, 
        {
          "cell_type": "code", 
          "language": "python", 
          "outputs": [], 
          "collapsed": false, 
          "input": "\nx, y = np.ogrid[:100, :100]\n# Rotation-invariant image with different spatial frequencies\nimg = np.exp(1j * np.hypot(x, y)**1.3 / 20.).real\n\nedge_sobel = sobel(img)\nedge_scharr = scharr(img)\nedge_prewitt = prewitt(img)\n\ndiff_scharr_prewitt = edge_scharr - edge_prewitt\ndiff_scharr_sobel = edge_scharr - edge_sobel\nmax_diff = np.max(np.maximum(diff_scharr_prewitt, diff_scharr_sobel))\n\nfig, ((ax0, ax1), (ax2, ax3)) = plt.subplots(nrows=2, ncols=2, sharex=True, sharey=True, subplot_kw={'adjustable':'box-forced'})\n\nax0.imshow(img, cmap=plt.cm.gray)\nax0.set_title('Original image')\nax0.axis('off')\n\nax1.imshow(edge_scharr, cmap=plt.cm.gray)\nax1.set_title('Scharr Edge Detection')\nax1.axis('off')\n\nax2.imshow(diff_scharr_prewitt, cmap=plt.cm.gray, vmax=max_diff)\nax2.set_title('Scharr - Prewitt')\nax2.axis('off')\n\nax3.imshow(diff_scharr_sobel, cmap=plt.cm.gray, vmax=max_diff)\nax3.set_title('Scharr - Sobel')\nax3.axis('off')\n\nplt.tight_layout()\nplt.show()\n\n", 
          "metadata": {}
        }, 
        {
          "source": "<div class=\"document\">\n</div>\n", 
          "cell_type": "markdown", 
          "metadata": {}
        }
      ], 
      "metadata": {}
    }
  ], 
  "metadata": {
    "name": ""
  }
}