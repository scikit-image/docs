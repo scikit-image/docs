{
  "cells": [
    {
      "cell_type": "code",
      "execution_count": null,
      "metadata": {
        "collapsed": false
      },
      "outputs": [],
      "source": [
        "%matplotlib inline"
      ]
    },
    {
      "cell_type": "markdown",
      "metadata": {},
      "source": [
        "\n# Types of homographies\n\n\n`Homographies <https://en.wikipedia.org/wiki/Homography>`_\nare transformations of a Euclidean space that preserve the alignment of points.\nSpecific cases of homographies correspond to the conservation of more\nproperties, such as parallelism (affine transformation), shape (similar\ntransformation) or distances (Euclidean transformation).\n\nHomographies on a 2D Euclidean space (i.e., for 2D grayscale or multichannel\nimages) are defined by a 3x3 matrix. All types of homographies can be defined\nby passing either the transformation matrix, or the parameters of the simpler\ntransformations (rotation, scaling, ...) which compose the full transformation.\n\nThe different types of homographies available in scikit-image are\nshown here, by increasing order of complexity (i.e. by reducing the number of\nconstraints). While we focus here on the mathematical properties of\ntransformations, tutorial\n`sphx_glr_auto_examples_transform_plot_geometric.py` explains how to use\nsuch transformations for various tasks such as image warping or parameter\nestimation.\n"
      ]
    },
    {
      "cell_type": "code",
      "execution_count": null,
      "metadata": {
        "collapsed": false
      },
      "outputs": [],
      "source": [
        "import math\nimport numpy as np\nimport matplotlib.pyplot as plt\n\nfrom skimage import data\nfrom skimage import transform\nfrom skimage import img_as_float"
      ]
    },
    {
      "cell_type": "markdown",
      "metadata": {},
      "source": [
        "Euclidean (rigid) transformation\n=================================\n\nA `Euclidean transformation <https://en.wikipedia.org/wiki/Rigid_transformation>`_,\nalso called rigid transformation, preserves the Euclidean distance between\npairs of points. It can be described as a rotation about the origin\nfollowed by a translation.\n\n"
      ]
    },
    {
      "cell_type": "code",
      "execution_count": null,
      "metadata": {
        "collapsed": false
      },
      "outputs": [],
      "source": [
        "tform = transform.EuclideanTransform(\n    rotation=np.pi / 12.,\n    translation = (100, -20)\n    )\nprint(tform.params)"
      ]
    },
    {
      "cell_type": "markdown",
      "metadata": {},
      "source": [
        "Now let's apply this transformation to an image. Because we are trying\nto reconstruct the *image* after transformation, it is not useful to see\nwhere a *coordinate* from the input image ends up in the output, which is\nwhat the transform gives us. Instead, for every pixel (coordinate) in the\noutput image, we want to figure out where in the input image it comes from.\nTherefore, we need to use the inverse of ``tform``, rather than ``tform``\ndirectly.\n\n"
      ]
    },
    {
      "cell_type": "code",
      "execution_count": null,
      "metadata": {
        "collapsed": false
      },
      "outputs": [],
      "source": [
        "img = img_as_float(data.chelsea())\ntf_img = transform.warp(img, tform.inverse)\nfig, ax = plt.subplots()\nax.imshow(tf_img)\n_ = ax.set_title('Euclidean transformation')"
      ]
    },
    {
      "cell_type": "markdown",
      "metadata": {},
      "source": [
        "For a rotation around the center of the image, one can \ncompose a translation to change the origin, a rotation, and finally\nthe inverse of the first translation.\n\n"
      ]
    },
    {
      "cell_type": "code",
      "execution_count": null,
      "metadata": {
        "collapsed": false
      },
      "outputs": [],
      "source": [
        "rotation = transform.EuclideanTransform(rotation=np.pi/3)\nshift = transform.EuclideanTransform(translation=-np.array(img.shape[:2]) / 2)\n# Compose transforms by multiplying their matrices\nmatrix = np.linalg.inv(shift.params) @ rotation.params @ shift.params\ntform = transform.EuclideanTransform(matrix)\ntf_img = transform.warp(img, tform.inverse)\nfig, ax = plt.subplots()\n_ = ax.imshow(tf_img)"
      ]
    },
    {
      "cell_type": "markdown",
      "metadata": {},
      "source": [
        "Similarity transformation\n=================================\n\nA `similarity transformation <https://en.wikipedia.org/wiki/Similarity_(geometry)>`_\npreserves the shape of objects. It combines scaling, translation and rotation.\n\n"
      ]
    },
    {
      "cell_type": "code",
      "execution_count": null,
      "metadata": {
        "collapsed": false
      },
      "outputs": [],
      "source": [
        "tform = transform.SimilarityTransform(\n    scale=0.5,\n    rotation=np.pi/12,\n    translation=(100, 50))\nprint(tform.params)\ntf_img = transform.warp(img, tform.inverse)\nfig, ax = plt.subplots()\nax.imshow(tf_img)\n_ = ax.set_title('Similarity transformation')"
      ]
    },
    {
      "cell_type": "markdown",
      "metadata": {},
      "source": [
        "Affine transformation\n=================================\n\nAn `affine transformation <https://en.wikipedia.org/wiki/Affine_transformation>`_\npreserves lines (hence the alignment of objects), as well as parallelism\nbetween lines. It can be decomposed into a similarity transform and a\n`shear transformation <https://en.wikipedia.org/wiki/Shear_mapping>`_.\n\n"
      ]
    },
    {
      "cell_type": "code",
      "execution_count": null,
      "metadata": {
        "collapsed": false
      },
      "outputs": [],
      "source": [
        "tform = transform.AffineTransform(\n        shear=np.pi/6,\n        )\nprint(tform.params)\ntf_img = transform.warp(img, tform.inverse)\nfig, ax = plt.subplots()\nax.imshow(tf_img)\n_ = ax.set_title('Affine transformation')"
      ]
    },
    {
      "cell_type": "markdown",
      "metadata": {},
      "source": [
        "Projective transformation (homographies)\n========================================\n\nA `homography <https://en.wikipedia.org/wiki/Homography>`_, also called\nprojective transformation, preserves lines but not necessarily\nparallelism.\n\n"
      ]
    },
    {
      "cell_type": "code",
      "execution_count": null,
      "metadata": {
        "collapsed": false
      },
      "outputs": [],
      "source": [
        "matrix = np.array([[1, -0.5, 100],\n                   [0.1, 0.9, 50],\n                   [0.0015, 0.0015, 1]])\ntform = transform.ProjectiveTransform(matrix=matrix)\ntf_img = transform.warp(img, tform.inverse)\nfig, ax = plt.subplots()\nax.imshow(tf_img)\nax.set_title('Projective transformation')\n\nplt.show()"
      ]
    },
    {
      "cell_type": "markdown",
      "metadata": {},
      "source": [
        "See also\n========================================\n\n* `sphx_glr_auto_examples_transform_plot_geometric.py` for composing\n  transformations or estimating their parameters\n* `sphx_glr_auto_examples_transform_plot_rescale.py` for simple\n  rescaling and resizing operations\n* :func:`skimage.transform.rotate` for rotating an image around its center\n\n\n"
      ]
    }
  ],
  "metadata": {
    "kernelspec": {
      "display_name": "Python 3",
      "language": "python",
      "name": "python3"
    },
    "language_info": {
      "codemirror_mode": {
        "name": "ipython",
        "version": 3
      },
      "file_extension": ".py",
      "mimetype": "text/x-python",
      "name": "python",
      "nbconvert_exporter": "python",
      "pygments_lexer": "ipython3",
      "version": "3.8.2"
    }
  },
  "nbformat": 4,
  "nbformat_minor": 0
}