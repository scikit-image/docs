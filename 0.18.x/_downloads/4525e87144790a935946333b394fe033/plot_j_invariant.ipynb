{
  "cells": [
    {
      "cell_type": "code",
      "execution_count": null,
      "metadata": {
        "collapsed": false
      },
      "outputs": [],
      "source": [
        "%matplotlib inline"
      ]
    },
    {
      "cell_type": "markdown",
      "metadata": {},
      "source": [
        "\n# Calibrating Denoisers Using J-Invariance\n\n\nIn this example, we show how to find an optimally calibrated\nversion of any denoising algorithm.\n\nThe calibration method is based on the `noise2self` algorithm of [1]_.\n\n.. [1] J. Batson & L. Royer. Noise2Self: Blind Denoising by Self-Supervision,\n       International Conference on Machine Learning, p. 524-533 (2019).\n\n.. seealso::\n   More details about the method are given in the full tutorial\n   `sphx_glr_auto_examples_filters_plot_j_invariant_tutorial.py`.\n"
      ]
    },
    {
      "cell_type": "markdown",
      "metadata": {},
      "source": [
        "Calibrating a wavelet denoiser\n\n"
      ]
    },
    {
      "cell_type": "code",
      "execution_count": null,
      "metadata": {
        "collapsed": false
      },
      "outputs": [],
      "source": [
        "import numpy as np\nfrom matplotlib import pyplot as plt\n\nfrom skimage.data import chelsea\nfrom skimage.restoration import calibrate_denoiser, denoise_wavelet\n\nfrom skimage.util import img_as_float, random_noise\nfrom functools import partial\n\n# rescale_sigma=True required to silence deprecation warnings\n_denoise_wavelet = partial(denoise_wavelet, rescale_sigma=True)\n\nimage = img_as_float(chelsea())\nsigma = 0.3\nnoisy = random_noise(image, var=sigma ** 2)\n\n# Parameters to test when calibrating the denoising algorithm\nparameter_ranges = {'sigma': np.arange(0.1, 0.3, 0.02),\n                    'wavelet': ['db1', 'db2'],\n                    'convert2ycbcr': [True, False],\n                    'multichannel': [True]}\n\n# Denoised image using default parameters of `denoise_wavelet`\ndefault_output = denoise_wavelet(noisy, multichannel=True, rescale_sigma=True)\n\n# Calibrate denoiser\ncalibrated_denoiser = calibrate_denoiser(noisy,\n                                         _denoise_wavelet,\n                                         denoise_parameters=parameter_ranges)\n\n# Denoised image using calibrated denoiser\ncalibrated_output = calibrated_denoiser(noisy)\n\nfig, axes = plt.subplots(1, 3, sharex=True, sharey=True, figsize=(15, 5))\n\nfor ax, img, title in zip(\n        axes,\n        [noisy, default_output, calibrated_output],\n        ['Noisy Image', 'Denoised (Default)', 'Denoised (Calibrated)']\n):\n    ax.imshow(img)\n    ax.set_title(title)\n    ax.set_yticks([])\n    ax.set_xticks([])\n\nplt.show()"
      ]
    }
  ],
  "metadata": {
    "kernelspec": {
      "display_name": "Python 3",
      "language": "python",
      "name": "python3"
    },
    "language_info": {
      "codemirror_mode": {
        "name": "ipython",
        "version": 3
      },
      "file_extension": ".py",
      "mimetype": "text/x-python",
      "name": "python",
      "nbconvert_exporter": "python",
      "pygments_lexer": "ipython3",
      "version": "3.8.2"
    }
  },
  "nbformat": 4,
  "nbformat_minor": 0
}