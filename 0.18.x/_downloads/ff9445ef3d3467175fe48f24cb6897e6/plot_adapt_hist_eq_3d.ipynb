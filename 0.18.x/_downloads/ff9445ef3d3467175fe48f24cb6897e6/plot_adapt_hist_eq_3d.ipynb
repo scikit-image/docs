{
  "cells": [
    {
      "cell_type": "code",
      "execution_count": null,
      "metadata": {
        "collapsed": false
      },
      "outputs": [],
      "source": [
        "%matplotlib inline"
      ]
    },
    {
      "cell_type": "markdown",
      "metadata": {},
      "source": [
        "\n# 3D adaptive histogram equalization\n\nAdaptive histogram equalization (AHE) can be used to improve the local\ncontrast of an image [1]_. Specifically, AHE can be useful for normalizing\nintensities across images. This example compares the results of applying\nglobal histogram equalization and AHE to a 3D image and a synthetically\ndegraded version of it.\n\n.. [1] https://en.wikipedia.org/wiki/Histogram_equalization\n"
      ]
    },
    {
      "cell_type": "code",
      "execution_count": null,
      "metadata": {
        "collapsed": false
      },
      "outputs": [],
      "source": [
        "import matplotlib.pyplot as plt\nimport matplotlib.patches as patches\nfrom matplotlib import cm, colors\nfrom mpl_toolkits.mplot3d import Axes3D\n\nimport numpy as np\nfrom skimage import exposure, util\nimport imageio as io\n\n\n# Prepare data and apply histogram equalization\n\nfrom skimage.data import cells3d\n\nim_orig = util.img_as_float(cells3d()[:, 1, :, :])  # grab just the nuclei\n\n# Reorder axis order from (z, y, x) to (x, y, z)\nim_orig = im_orig.transpose()\n\n# Rescale image data to range [0, 1]\nim_orig = np.clip(im_orig,\n                  np.percentile(im_orig, 5),\n                  np.percentile(im_orig, 95))\nim_orig = (im_orig - im_orig.min()) / (im_orig.max() - im_orig.min())\n\n# Degrade image by applying exponential intensity decay along x\nsigmoid = np.exp(-3 * np.linspace(0, 1, im_orig.shape[0]))\nim_degraded = (im_orig.T * sigmoid).T\n\n# Set parameters for AHE\n# Determine kernel sizes in each dim relative to image shape\nkernel_size = (im_orig.shape[0] // 5,\n               im_orig.shape[1] // 5,\n               im_orig.shape[2] // 2)\nkernel_size = np.array(kernel_size)\nclip_limit = 0.9\n\n# Perform histogram equalization\nim_orig_he, im_degraded_he = \\\n    [exposure.equalize_hist(im)\n     for im in [im_orig, im_degraded]]\n\nim_orig_ahe, im_degraded_ahe = \\\n    [exposure.equalize_adapthist(im,\n                                 kernel_size=kernel_size,\n                                 clip_limit=clip_limit)\n     for im in [im_orig, im_degraded]]\n\n\n# Define functions to help plot the data\n\ndef scalars_to_rgba(scalars, cmap, vmin=0., vmax=1., alpha=0.2):\n    \"\"\"\n    Convert array of scalars into array of corresponding RGBA values.\n    \"\"\"\n    norm = colors.Normalize(vmin=vmin, vmax=vmax)\n    scalar_map = cm.ScalarMappable(norm=norm, cmap=cmap)\n    rgbas = scalar_map.to_rgba(scalars)\n    rgbas[:, 3] = alpha\n    return rgbas\n\n\ndef plt_render_volume(vol, fig_ax, cmap,\n                      vmin=0, vmax=1,\n                      bin_widths=None, n_levels=20):\n    \"\"\"\n    Render a volume in a 3D matplotlib scatter plot.\n    Better would be to use napari.\n    \"\"\"\n    vol = np.clip(vol, vmin, vmax)\n\n    xs, ys, zs = np.mgrid[0:vol.shape[0]:bin_widths[0],\n                          0:vol.shape[1]:bin_widths[1],\n                          0:vol.shape[2]:bin_widths[2]]\n    vol_scaled = vol[::bin_widths[0],\n                     ::bin_widths[1],\n                     ::bin_widths[2]].flatten()\n\n    # Define alpha transfer function\n    levels = np.linspace(vmin, vmax, n_levels)\n    alphas = np.linspace(0, .7, n_levels)\n    alphas = alphas ** 11\n    alphas = (alphas - alphas.min()) / (alphas.max() - alphas.min())\n    alphas *= 0.8\n\n    # Group pixels by intensity and plot separately,\n    # as 3D scatter does not accept arrays of alpha values\n    for il in range(1, len(levels)):\n        sel = (vol_scaled >= levels[il - 1])\n        sel *= (vol_scaled <= levels[il])\n        if not np.max(sel):\n            continue\n        c = scalars_to_rgba(vol_scaled[sel], cmap,\n                            vmin=vmin, vmax=vmax, alpha=alphas[il - 1])\n        fig_ax.scatter(xs.flatten()[sel],\n                       ys.flatten()[sel],\n                       zs.flatten()[sel],\n                       c=c, s=0.5 * np.mean(bin_widths),\n                       marker='o', linewidth=0)\n\n\n# Create figure with subplots\n\ncmap = 'Blues'\n\nfig = plt.figure(figsize=(10, 6))\naxs = [fig.add_subplot(2, 3, i + 1,\n                       projection=Axes3D.name, facecolor=\"none\")\n       for i in range(6)]\nims = [im_orig, im_orig_he, im_orig_ahe,\n       im_degraded, im_degraded_he, im_degraded_ahe]\n\n# Prepare lines for the various boxes to be plotted\nverts = np.array([[i, j, k] for i in [0, 1]\n                  for j in [0, 1] for k in [0, 1]]).astype(np.float32)\nlines = [np.array([i, j]) for i in verts\n         for j in verts if np.allclose(np.linalg.norm(i - j), 1)]\n\n# \"render\" volumetric data\nfor iax, ax in enumerate(axs[:]):\n    plt_render_volume(ims[iax], ax, cmap, 0, 1, [2, 2, 2], 20)\n\n    # plot 3D box\n    rect_shape = np.array(im_orig.shape) + 2\n    for line in lines:\n        ax.plot((line * rect_shape)[:, 0] - 1,\n                (line * rect_shape)[:, 1] - 1,\n                (line * rect_shape)[:, 2] - 1,\n                linewidth=1, color='grey')\n\n# Add boxes illustrating the kernels\nns = np.array(im_orig.shape) // kernel_size - 1\nfor axis_ind, vertex_ind, box_shape in zip([1] + [2] * 4,\n                                [[0, 0, 0],\n                                 [ns[0] - 1, ns[1], ns[2] - 1],\n                                 [ns[0], ns[1] - 1, ns[2] - 1],\n                                 [ns[0], ns[1], ns[2] - 1],\n                                 [ns[0], ns[1], ns[2]]],\n                                [np.array(im_orig.shape)]\n                                + [kernel_size] * 4):\n\n    for line in lines:\n        axs[axis_ind].plot(((line + vertex_ind) * box_shape)[:, 0],\n                           ((line + vertex_ind) * box_shape)[:, 1],\n                           ((line + vertex_ind) * box_shape)[:, 2],\n                           linewidth=1.2, color='crimson')\n\n# Plot degradation function\naxs[3].scatter(xs=np.arange(len(sigmoid)),\n               ys=np.zeros(len(sigmoid)) + im_orig.shape[1],\n               zs=sigmoid * im_orig.shape[2],\n               s=5,\n               c=scalars_to_rgba(sigmoid,\n                                 cmap=cmap, vmin=0, vmax=1, alpha=1.)[:, :3])\n\n# Subplot aesthetics (optimized for matplotlib 3.3)\nfor iax, ax in enumerate(axs[:]):\n\n    # Get rid of panes and axis lines\n    for dim_ax in [ax.xaxis, ax.yaxis, ax.zaxis]:\n        dim_ax.set_pane_color((1., 1., 1., 0.))\n        dim_ax.line.set_color((1., 1., 1., 0.))\n\n    # Define 3D axes limits, see https://github.com/\n    # matplotlib/matplotlib/issues/17172#issuecomment-617546105\n    xyzlim = np.array([ax.get_xlim3d(),\n                       ax.get_ylim3d(),\n                       ax.get_zlim3d()]).T\n    XYZlim = np.asarray([min(xyzlim[0]), max(xyzlim[1])])\n    ax.set_xlim3d(XYZlim)\n    ax.set_ylim3d(XYZlim)\n    ax.set_zlim3d(XYZlim * 0.5)\n\n    try:\n        ax.set_aspect('equal')\n    except NotImplementedError:\n        pass\n\n    ax.set_xlabel('x', labelpad=-20)\n    ax.set_ylabel('y', labelpad=-20)\n    ax.text2D(0.63, 0.2, \"z\", transform=ax.transAxes)\n    ax.set_xticks([])\n    ax.set_yticks([])\n    ax.set_zticks([])\n    ax.grid(False)\n    ax.elev = 30\n\nplt.subplots_adjust(left=0.05,\n                    bottom=-0.1,\n                    right=1.01,\n                    top=1.1,\n                    wspace=-0.1,\n                    hspace=-0.45)\n\n# Highlight AHE\nrect_ax = fig.add_axes([0, 0, 1, 1], facecolor='none')\nrect_ax.set_axis_off()\nrect = patches.Rectangle((0.68, 0.01), 0.315, 0.98,\n                         edgecolor='grey', facecolor='none',\n                         linewidth=2, linestyle='--')\nrect_ax.add_patch(rect)\n\n# Add text\nrect_ax.text(0.19, 0.34, '$I_{degr}(x,y,z) = e^{-x}I_{orig}(x,y,z)$',\n             fontsize=9, rotation=-15,\n             color=scalars_to_rgba([0.8], cmap='Blues', alpha=1.)[0])\n\nfc = {'size': 14}\nrect_ax.text(0.03, 0.58, r'$\\it{Original}$' + '\\ninput image',\n             rotation=90, fontdict=fc, horizontalalignment='center')\nrect_ax.text(0.03, 0.16, r'$\\it{Degraded}$' + '\\ninput image',\n             rotation=90, fontdict=fc, horizontalalignment='center')\nrect_ax.text(0.13, 0.91, 'Input volume:\\n3D cell image', fontdict=fc)\nrect_ax.text(0.51, 0.91, r'$\\it{Global}$' + '\\nhistogram equalization',\n             fontdict=fc, horizontalalignment='center')\nrect_ax.text(0.84, 0.91,\n             r'$\\it{Adaptive}$' + '\\nhistogram equalization (AHE)',\n             fontdict=fc, horizontalalignment='center')\nrect_ax.text(0.58, 0.82, 'non-local', fontsize=12, color='crimson')\nrect_ax.text(0.87, 0.82, 'local kernel', fontsize=12, color='crimson')\n\n# Add colorbar\ncbar_ax = fig.add_axes([0.12, 0.43, 0.008, 0.08])\ncbar_ax.imshow(np.arange(256).reshape(256, 1)[::-1],\n               cmap=cmap, aspect=\"auto\")\ncbar_ax.set_xticks([])\ncbar_ax.set_yticks([0, 255])\ncbar_ax.set_xticklabels([])\ncbar_ax.set_yticklabels([1., 0.])\n\nplt.show()"
      ]
    }
  ],
  "metadata": {
    "kernelspec": {
      "display_name": "Python 3",
      "language": "python",
      "name": "python3"
    },
    "language_info": {
      "codemirror_mode": {
        "name": "ipython",
        "version": 3
      },
      "file_extension": ".py",
      "mimetype": "text/x-python",
      "name": "python",
      "nbconvert_exporter": "python",
      "pygments_lexer": "ipython3",
      "version": "3.9.1"
    }
  },
  "nbformat": 4,
  "nbformat_minor": 0
}