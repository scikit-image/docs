{
  "cells": [
    {
      "cell_type": "code",
      "execution_count": null,
      "metadata": {
        "collapsed": false
      },
      "outputs": [],
      "source": [
        "%matplotlib inline"
      ]
    },
    {
      "cell_type": "markdown",
      "metadata": {},
      "source": [
        "\n# Edge operators\n\n\nEdge operators are used in image processing within edge detection algorithms.\nThey are discrete differentiation operators, computing an approximation of the\ngradient of the image intensity function.\n"
      ]
    },
    {
      "cell_type": "code",
      "execution_count": null,
      "metadata": {
        "collapsed": false
      },
      "outputs": [],
      "source": [
        "import numpy as np\nimport matplotlib.pyplot as plt\n\nfrom skimage import filters\nfrom skimage.data import camera\nfrom skimage.util import compare_images\n\n\nimage = camera()\nedge_roberts = filters.roberts(image)\nedge_sobel = filters.sobel(image)\n\nfig, axes = plt.subplots(ncols=2, sharex=True, sharey=True,\n                         figsize=(8, 4))\n\naxes[0].imshow(edge_roberts, cmap=plt.cm.gray)\naxes[0].set_title('Roberts Edge Detection')\n\naxes[1].imshow(edge_sobel, cmap=plt.cm.gray)\naxes[1].set_title('Sobel Edge Detection')\n\nfor ax in axes:\n    ax.axis('off')\n\nplt.tight_layout()\nplt.show()"
      ]
    },
    {
      "cell_type": "markdown",
      "metadata": {},
      "source": [
        "Different operators compute different finite-difference approximations of\nthe gradient. For example, the Scharr filter results in a less rotational\nvariance than the Sobel filter that is in turn better than the Prewitt\nfilter [1]_ [2]_ [3]_. The difference between the Prewitt and Sobel filters\nand the Scharr filter is illustrated below with an image that is the\ndiscretization of a rotation- invariant continuous function. The\ndiscrepancy between the Prewitt and Sobel filters, and the Scharr filter is\nstronger for regions of the image where the direction of the gradient is\nclose to diagonal, and for regions with high spatial frequencies. For the\nexample image the differences between the filter results are very small and\nthe filter results are visually almost indistinguishable.\n\n.. [1] https://en.wikipedia.org/wiki/Sobel_operator#Alternative_operators\n\n.. [2] B. Jaehne, H. Scharr, and S. Koerkel. Principles of filter design.\n       In Handbook of Computer Vision and Applications. Academic Press,\n       1999.\n\n.. [3] https://en.wikipedia.org/wiki/Prewitt_operator\n\n"
      ]
    },
    {
      "cell_type": "code",
      "execution_count": null,
      "metadata": {
        "collapsed": false
      },
      "outputs": [],
      "source": [
        "x, y = np.ogrid[:100, :100]\n\n# Creating a rotation-invariant image with different spatial frequencies.\nimage_rot = np.exp(1j * np.hypot(x, y) ** 1.3 / 20.).real\n\nedge_sobel = filters.sobel(image_rot)\nedge_scharr = filters.scharr(image_rot)\nedge_prewitt = filters.prewitt(image_rot)\n\ndiff_scharr_prewitt = compare_images(edge_scharr, edge_prewitt)\ndiff_scharr_sobel = compare_images(edge_scharr, edge_sobel)\nmax_diff = np.max(np.maximum(diff_scharr_prewitt, diff_scharr_sobel))\n\nfig, axes = plt.subplots(nrows=2, ncols=2, sharex=True, sharey=True,\n                         figsize=(8, 8))\naxes = axes.ravel()\n\naxes[0].imshow(image_rot, cmap=plt.cm.gray)\naxes[0].set_title('Original image')\n\naxes[1].imshow(edge_scharr, cmap=plt.cm.gray)\naxes[1].set_title('Scharr Edge Detection')\n\naxes[2].imshow(diff_scharr_prewitt, cmap=plt.cm.gray, vmax=max_diff)\naxes[2].set_title('Scharr - Prewitt')\n\naxes[3].imshow(diff_scharr_sobel, cmap=plt.cm.gray, vmax=max_diff)\naxes[3].set_title('Scharr - Sobel')\n\nfor ax in axes:\n    ax.axis('off')\n\nplt.tight_layout()\nplt.show()"
      ]
    },
    {
      "cell_type": "markdown",
      "metadata": {},
      "source": [
        "As in the previous example, here we illustrate the rotational invariance of\nthe filters. The top row shows a rotationally invariant image along with the\nangle of its analytical gradient. The other two rows contain the difference\nbetween the different gradient approximations (Sobel, Prewitt, Scharr &\nFarid) and analytical gradient.\n\nThe Farid & Simoncelli derivative filters [4]_, [5]_  are the most\nrotationally invariant, but require a 5x5 kernel, which is computationally\nmore intensive than a 3x3 kernel.\n\n.. [4] Farid, H. and Simoncelli, E. P., \"Differentiation of discrete\n       multidimensional signals\", IEEE Transactions on Image Processing\n       13(4): 496-508, 2004. :DOI:`10.1109/TIP.2004.823819`\n\n.. [5] Wikipedia, \"Farid and Simoncelli Derivatives.\" Available at:\n       <https://en.wikipedia.org/wiki/Image_derivatives#Farid_and_Simoncelli_Derivatives>\n\n"
      ]
    },
    {
      "cell_type": "code",
      "execution_count": null,
      "metadata": {
        "collapsed": false
      },
      "outputs": [],
      "source": [
        "x, y = np.mgrid[-10:10:255j, -10:10:255j]\nimage_rotinv = np.sin(x ** 2 + y ** 2)\n\nimage_x = 2 * x * np.cos(x ** 2 + y ** 2)\nimage_y = 2 * y * np.cos(x ** 2 + y ** 2)\n\ndef angle(dx, dy):\n    \"\"\"Calculate the angles between horizontal and vertical operators.\"\"\"\n    return np.mod(np.arctan2(dy, dx), np.pi)\n\n\ntrue_angle = angle(image_x, image_y)\n\nangle_farid = angle(filters.farid_h(image_rotinv),\n                    filters.farid_v(image_rotinv))\nangle_sobel = angle(filters.sobel_h(image_rotinv),\n                    filters.sobel_v(image_rotinv))\nangle_scharr = angle(filters.scharr_h(image_rotinv),\n                     filters.scharr_v(image_rotinv))\nangle_prewitt = angle(filters.prewitt_h(image_rotinv),\n                      filters.prewitt_v(image_rotinv))\n\ndef diff_angle(angle_1, angle_2):\n    \"\"\"Calculate the differences between two angles.\"\"\"\n    return np.minimum(np.pi - np.abs(angle_1 - angle_2),\n                      np.abs(angle_1 - angle_2))\n\n\ndiff_farid = diff_angle(true_angle, angle_farid)\ndiff_sobel = diff_angle(true_angle, angle_sobel)\ndiff_scharr = diff_angle(true_angle, angle_scharr)\ndiff_prewitt = diff_angle(true_angle, angle_prewitt)\n\nfig, axes = plt.subplots(nrows=3, ncols=2, sharex=True, sharey=True,\n                         figsize=(8, 8))\naxes = axes.ravel()\n\naxes[0].imshow(image_rotinv, cmap=plt.cm.gray)\naxes[0].set_title('Original image')\n\naxes[1].imshow(true_angle, cmap=plt.cm.hsv)\naxes[1].set_title('Analytical gradient angle')\n\naxes[2].imshow(diff_sobel, cmap=plt.cm.inferno, vmin=0, vmax=0.02)\naxes[2].set_title('Sobel error')\n\naxes[3].imshow(diff_prewitt, cmap=plt.cm.inferno, vmin=0, vmax=0.02)\naxes[3].set_title('Prewitt error')\n\naxes[4].imshow(diff_scharr, cmap=plt.cm.inferno, vmin=0, vmax=0.02)\naxes[4].set_title('Scharr error')\n\ncolor_ax = axes[5].imshow(diff_farid, cmap=plt.cm.inferno, vmin=0, vmax=0.02)\naxes[5].set_title('Farid error')\n\nfig.subplots_adjust(right=0.8)\ncolorbar_ax = fig.add_axes([0.90, 0.10, 0.02, 0.50])\nfig.colorbar(color_ax, cax=colorbar_ax, ticks=[0, 0.01, 0.02])\n\nfor ax in axes:\n    ax.axis('off')\n\nplt.show()"
      ]
    }
  ],
  "metadata": {
    "kernelspec": {
      "display_name": "Python 3",
      "language": "python",
      "name": "python3"
    },
    "language_info": {
      "codemirror_mode": {
        "name": "ipython",
        "version": 3
      },
      "file_extension": ".py",
      "mimetype": "text/x-python",
      "name": "python",
      "nbconvert_exporter": "python",
      "pygments_lexer": "ipython3",
      "version": "3.8.2"
    }
  },
  "nbformat": 4,
  "nbformat_minor": 0
}