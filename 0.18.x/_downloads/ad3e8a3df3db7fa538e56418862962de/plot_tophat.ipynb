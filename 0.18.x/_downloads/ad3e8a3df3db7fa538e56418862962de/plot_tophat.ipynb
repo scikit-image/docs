{
  "cells": [
    {
      "cell_type": "code",
      "execution_count": null,
      "metadata": {
        "collapsed": false
      },
      "outputs": [],
      "source": [
        "%matplotlib inline"
      ]
    },
    {
      "cell_type": "markdown",
      "metadata": {},
      "source": [
        "\n# Removing small objects in grayscale images with a top hat filter\n\n\nThis example shows how to remove small objects from grayscale images.\nThe top-hat transform [1]_ is an operation that extracts small elements and\ndetails from given images. Here we use a white top-hat transform, which is\ndefined as the difference between the input image and its\n(mathematical morphology) opening.\n\n.. [1] https://en.wikipedia.org/wiki/Top-hat_transform\n"
      ]
    },
    {
      "cell_type": "code",
      "execution_count": null,
      "metadata": {
        "collapsed": false
      },
      "outputs": [],
      "source": [
        "import numpy as np\nimport matplotlib.pyplot as plt\n\nfrom skimage import data\nfrom skimage import color, morphology\n\nimage = color.rgb2gray(data.hubble_deep_field())[:500, :500]\n\nselem =  morphology.disk(1)\nres = morphology.white_tophat(image, selem)\n\nfig, ax = plt.subplots(ncols=3, figsize=(20, 8))\nax[0].set_title('Original')\nax[0].imshow(image, cmap='gray')\nax[1].set_title('White tophat')\nax[1].imshow(res, cmap='gray')\nax[2].set_title('Complementary')\nax[2].imshow(image - res, cmap='gray')\n\nplt.show()"
      ]
    }
  ],
  "metadata": {
    "kernelspec": {
      "display_name": "Python 3",
      "language": "python",
      "name": "python3"
    },
    "language_info": {
      "codemirror_mode": {
        "name": "ipython",
        "version": 3
      },
      "file_extension": ".py",
      "mimetype": "text/x-python",
      "name": "python",
      "nbconvert_exporter": "python",
      "pygments_lexer": "ipython3",
      "version": "3.8.2"
    }
  },
  "nbformat": 4,
  "nbformat_minor": 0
}