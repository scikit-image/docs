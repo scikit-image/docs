{
  "cells": [
    {
      "cell_type": "code",
      "execution_count": null,
      "metadata": {
        "collapsed": false
      },
      "outputs": [],
      "source": [
        "%matplotlib inline"
      ]
    },
    {
      "cell_type": "markdown",
      "metadata": {},
      "source": [
        "\n# Using window functions with images\n\n\nFast Fourier transforms (FFTs) assume that the data being transformed\nrepresent one period of a periodic signal. Thus the endpoints of the signal to\nbe transformed can behave as discontinuities in the context of the FFT. These\ndiscontinuities distort the output of the FFT, resulting in energy from \"real\"\nfrequency components leaking into wider frequencies.\n\nThe effects of spectral leakage can be reduced by multiplying the signal with\na window function. Windowing smoothly reduces the amplitude of the signal as it\nreaches the edges, removing the effect of the artificial discontinuity that\nresults from the FFT.\n\nIn this example, we see that the FFT of a typical image can show strong\nspectral leakage along the x and y axes (see the vertical and horizontal lines\nin the figure). The application of a two-dimensional Hann window greatly\nreduces the spectral leakage, making the \"real\" frequency information more\nvisible in the plot of the frequency component of the FFT.\n"
      ]
    },
    {
      "cell_type": "code",
      "execution_count": null,
      "metadata": {
        "collapsed": false
      },
      "outputs": [],
      "source": [
        "import matplotlib.pyplot as plt\nimport numpy as np\nfrom scipy.fftpack import fft2, fftshift\nfrom skimage import img_as_float\nfrom skimage.color import rgb2gray\nfrom skimage.data import astronaut\nfrom skimage.filters import window\n\nimage = img_as_float(rgb2gray(astronaut()))\n\nwimage = image * window('hann', image.shape)\n\nimage_f = np.abs(fftshift(fft2(image)))\nwimage_f = np.abs(fftshift(fft2(wimage)))\n\nfig, axes = plt.subplots(2, 2, figsize=(8, 8))\nax = axes.ravel()\nax[0].set_title(\"Original image\")\nax[0].imshow(image, cmap='gray')\nax[1].set_title(\"Windowed image\")\nax[1].imshow(wimage, cmap='gray')\nax[2].set_title(\"Original FFT (frequency)\")\nax[2].imshow(np.log(image_f), cmap='magma')\nax[3].set_title(\"Window + FFT (frequency)\")\nax[3].imshow(np.log(wimage_f), cmap='magma')\nplt.show()"
      ]
    }
  ],
  "metadata": {
    "kernelspec": {
      "display_name": "Python 3",
      "language": "python",
      "name": "python3"
    },
    "language_info": {
      "codemirror_mode": {
        "name": "ipython",
        "version": 3
      },
      "file_extension": ".py",
      "mimetype": "text/x-python",
      "name": "python",
      "nbconvert_exporter": "python",
      "pygments_lexer": "ipython3",
      "version": "3.8.2"
    }
  },
  "nbformat": 4,
  "nbformat_minor": 0
}