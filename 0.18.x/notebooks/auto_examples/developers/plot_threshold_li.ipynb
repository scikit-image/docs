{
  "cells": [
    {
      "cell_type": "code",
      "execution_count": null,
      "metadata": {
        "collapsed": false
      },
      "outputs": [],
      "source": [
        "%matplotlib inline"
      ]
    },
    {
      "cell_type": "markdown",
      "metadata": {},
      "source": [
        "\n# Li thresholding\n\n\nIn 1993, Li and Lee proposed a new criterion for finding the \"optimal\"\nthreshold to distinguish between the background and foreground of an image\n[1]_. They proposed that minimizing the *cross-entropy* between the foreground\nand the foreground mean, and the background and the background mean, would give\nthe best threshold in most situations.\n\nUntil 1998, though, the way to find this threshold was by trying all possible\nthresholds and then choosing the one with the smallest cross-entropy. At that\npoint, Li and Tam implemented a new, iterative method to more quickly find the\noptimum point by using the slope of the cross-entropy [2]_. This is the method\nimplemented in scikit-image's :func:`skimage.filters.threshold_li`.\n\nHere, we demonstrate the cross-entropy and its optimization by Li's iterative\nmethod. Note that we are using the private function `_cross_entropy`, which\nshould not be used in production code, as it could change.\n\n.. [1] Li C.H. and Lee C.K. (1993) \"Minimum Cross Entropy Thresholding\"\n       Pattern Recognition, 26(4): 617-625\n       :DOI:`10.1016/0031-3203(93)90115-D`\n.. [2] Li C.H. and Tam P.K.S. (1998) \"An Iterative Algorithm for Minimum\n       Cross Entropy Thresholding\" Pattern Recognition Letters, 18(8): 771-776\n       :DOI:`10.1016/S0167-8655(98)00057-9`\n"
      ]
    },
    {
      "cell_type": "code",
      "execution_count": null,
      "metadata": {
        "collapsed": false
      },
      "outputs": [],
      "source": [
        "import numpy as np\nimport matplotlib.pyplot as plt\nfrom skimage import data\nfrom skimage import filters\nfrom skimage.filters.thresholding import _cross_entropy\n\ncell = data.cell()\ncamera = data.camera()"
      ]
    },
    {
      "cell_type": "markdown",
      "metadata": {},
      "source": [
        "First, we let's plot the cross entropy for the :func:`skimage.data.camera`\nimage at all possible thresholds.\n\n"
      ]
    },
    {
      "cell_type": "code",
      "execution_count": null,
      "metadata": {
        "collapsed": false
      },
      "outputs": [],
      "source": [
        "thresholds = np.arange(np.min(camera) + 1.5, np.max(camera) - 1.5)\nentropies = [_cross_entropy(camera, t) for t in thresholds]\n\noptimal_camera_threshold = thresholds[np.argmin(entropies)]\n\nfig, ax = plt.subplots(1, 3, figsize=(8, 3))\n\nax[0].imshow(camera, cmap='gray')\nax[0].set_title('image')\nax[0].set_axis_off()\n\nax[1].imshow(camera > optimal_camera_threshold, cmap='gray')\nax[1].set_title('thresholded')\nax[1].set_axis_off()\n\nax[2].plot(thresholds, entropies)\nax[2].set_xlabel('thresholds')\nax[2].set_ylabel('cross-entropy')\nax[2].vlines(optimal_camera_threshold,\n             ymin=np.min(entropies) - 0.05 * np.ptp(entropies),\n             ymax=np.max(entropies) - 0.05 * np.ptp(entropies))\nax[2].set_title('optimal threshold')\n\nfig.tight_layout()\n\nprint('The brute force optimal threshold is:', optimal_camera_threshold)\nprint('The computed optimal threshold is:', filters.threshold_li(camera))\n\nplt.show()"
      ]
    },
    {
      "cell_type": "markdown",
      "metadata": {},
      "source": [
        "Next, let's use the ``iter_callback`` feature of ``threshold_li`` to examine\nthe optimization process as it happens.\n\n"
      ]
    },
    {
      "cell_type": "code",
      "execution_count": null,
      "metadata": {
        "collapsed": false
      },
      "outputs": [],
      "source": [
        "iter_thresholds = []\n\noptimal_threshold = filters.threshold_li(camera,\n                                         iter_callback=iter_thresholds.append)\niter_entropies = [_cross_entropy(camera, t) for t in iter_thresholds]\n\nprint('Only', len(iter_thresholds), 'thresholds examined.')\n\nfig, ax = plt.subplots()\n\nax.plot(thresholds, entropies, label='all threshold entropies')\nax.plot(iter_thresholds, iter_entropies, label='optimization path')\nax.scatter(iter_thresholds, iter_entropies, c='C1')\nax.legend(loc='upper right')\n\nplt.show()"
      ]
    },
    {
      "cell_type": "markdown",
      "metadata": {},
      "source": [
        "This is clearly much more efficient than the brute force approach. However,\nin some images, the cross-entropy is not *convex*, meaning having a single\noptimum. In this case, gradient descent could yield a threshold that is not\noptimal. In this example, we see how a bad initial guess for the optimization\nresults in a poor threshold selection.\n\n"
      ]
    },
    {
      "cell_type": "code",
      "execution_count": null,
      "metadata": {
        "collapsed": false
      },
      "outputs": [],
      "source": [
        "iter_thresholds2 = []\n\nopt_threshold2 = filters.threshold_li(cell, initial_guess=64,\n                                      iter_callback=iter_thresholds2.append)\n\nthresholds2 = np.arange(np.min(cell) + 1.5, np.max(cell) - 1.5)\nentropies2 = [_cross_entropy(cell, t) for t in thresholds]\niter_entropies2 = [_cross_entropy(cell, t) for t in iter_thresholds2]\n\nfig, ax = plt.subplots(1, 3, figsize=(8, 3))\n\nax[0].imshow(cell, cmap='magma')\nax[0].set_title('image')\nax[0].set_axis_off()\n\nax[1].imshow(cell > opt_threshold2, cmap='gray')\nax[1].set_title('thresholded')\nax[1].set_axis_off()\n\nax[2].plot(thresholds2, entropies2, label='all threshold entropies')\nax[2].plot(iter_thresholds2, iter_entropies2, label='optimization path')\nax[2].scatter(iter_thresholds2, iter_entropies2, c='C1')\nax[2].legend(loc='upper right')\n\nplt.show()"
      ]
    },
    {
      "cell_type": "markdown",
      "metadata": {},
      "source": [
        "In this image, amazingly, the *default* initial guess, the mean image value,\nactually lies *right* on top of the peak between the two \"valleys\" of the\nobjective function. Without supplying an initial guess, Li's thresholding\nmethod does nothing at all!\n\n"
      ]
    },
    {
      "cell_type": "code",
      "execution_count": null,
      "metadata": {
        "collapsed": false
      },
      "outputs": [],
      "source": [
        "iter_thresholds3 = []\n\nopt_threshold3 = filters.threshold_li(cell,\n                                      iter_callback=iter_thresholds3.append)\n\niter_entropies3 = [_cross_entropy(cell, t) for t in iter_thresholds3]\n\nfig, ax = plt.subplots(1, 3, figsize=(8, 3))\n\nax[0].imshow(cell, cmap='magma')\nax[0].set_title('image')\nax[0].set_axis_off()\n\nax[1].imshow(cell > opt_threshold3, cmap='gray')\nax[1].set_title('thresholded')\nax[1].set_axis_off()\n\nax[2].plot(thresholds2, entropies2, label='all threshold entropies')\nax[2].plot(iter_thresholds3, iter_entropies3, label='optimization path')\nax[2].scatter(iter_thresholds3, iter_entropies3, c='C1')\nax[2].legend(loc='upper right')\n\nplt.show()"
      ]
    },
    {
      "cell_type": "markdown",
      "metadata": {},
      "source": [
        "To see what is going on, let's define a function, ``li_gradient``, that\nreplicates the inner loop of the Li method and returns the *change* from the\ncurrent threshold value to the next one. When this gradient is 0, we are at\na so-called *stationary point* and Li returns this value. When it is\nnegative, the next threshold guess will be lower, and when it is positive,\nthe next guess will be higher.\n\nIn the plot below, we show the cross-entropy and the Li update path when the\ninitial guess is on the *right* side of that entropy peak. We overlay the\nthreshold update gradient, marking the 0 gradient line and the default\ninitial guess by ``threshold_li``.\n\n"
      ]
    },
    {
      "cell_type": "code",
      "execution_count": null,
      "metadata": {
        "collapsed": false
      },
      "outputs": [],
      "source": [
        "def li_gradient(image, t):\n    \"\"\"Find the threshold update at a given threshold.\"\"\"\n    foreground = image > t\n    mean_fore = np.mean(image[foreground])\n    mean_back = np.mean(image[~foreground])\n    t_next = ((mean_back - mean_fore) /\n              (np.log(mean_back) - np.log(mean_fore)))\n    dt = t_next - t\n    return dt\n\n\niter_thresholds4 = []\nopt_threshold4 = filters.threshold_li(cell, initial_guess=68,\n                                      iter_callback=iter_thresholds4.append)\niter_entropies4 = [_cross_entropy(cell, t) for t in iter_thresholds4]\nprint(len(iter_thresholds4), 'examined, optimum:', opt_threshold4)\n\ngradients = [li_gradient(cell, t) for t in thresholds2]\n\nfig, ax1 = plt.subplots()\nax1.plot(thresholds2, entropies2)\nax1.plot(iter_thresholds4, iter_entropies4)\nax1.scatter(iter_thresholds4, iter_entropies4, c='C1')\nax1.set_xlabel('threshold')\nax1.set_ylabel('cross entropy', color='C0')\nax1.tick_params(axis='y', labelcolor='C0')\n\nax2 = ax1.twinx()\nax2.plot(thresholds2, gradients, c='C3')\nax2.hlines([0], xmin=thresholds2[0], xmax=thresholds2[-1],\n           colors='gray', linestyles='dashed')\nax2.vlines(np.mean(cell), ymin=np.min(gradients), ymax=np.max(gradients),\n           colors='gray', linestyles='dashed')\nax2.set_ylabel(r'$\\Delta$(threshold)', color='C3')\nax2.tick_params(axis='y', labelcolor='C3')\n\nfig.tight_layout()\n\nplt.show()"
      ]
    },
    {
      "cell_type": "markdown",
      "metadata": {},
      "source": [
        "In addition to allowing users to provide a number as an initial guess,\n:func:`skimage.filters.threshold_li` can receive a function that makes a\nguess from the image intensities, just like :func:`numpy.mean` does by\ndefault. This might be a good option when many images with different ranges\nneed to be processed.\n\n"
      ]
    },
    {
      "cell_type": "code",
      "execution_count": null,
      "metadata": {
        "collapsed": false
      },
      "outputs": [],
      "source": [
        "def quantile_95(image):\n    # you can use np.quantile(image, 0.95) if you have NumPy>=1.15\n    return np.percentile(image, 95)\n\niter_thresholds5 = []\nopt_threshold5 = filters.threshold_li(cell, initial_guess=quantile_95,\n                                      iter_callback=iter_thresholds5.append)\niter_entropies5 = [_cross_entropy(cell, t) for t in iter_thresholds5]\nprint(len(iter_thresholds5), 'examined, optimum:', opt_threshold5)\n\nfig, ax1 = plt.subplots()\nax1.plot(thresholds2, entropies2)\nax1.plot(iter_thresholds5, iter_entropies5)\nax1.scatter(iter_thresholds5, iter_entropies5, c='C1')\nax1.set_xlabel('threshold')\nax1.set_ylabel('cross entropy', color='C0')\nax1.tick_params(axis='y', labelcolor='C0')\n\nplt.show()"
      ]
    }
  ],
  "metadata": {
    "kernelspec": {
      "display_name": "Python 3",
      "language": "python",
      "name": "python3"
    },
    "language_info": {
      "codemirror_mode": {
        "name": "ipython",
        "version": 3
      },
      "file_extension": ".py",
      "mimetype": "text/x-python",
      "name": "python",
      "nbconvert_exporter": "python",
      "pygments_lexer": "ipython3",
      "version": "3.8.2"
    }
  },
  "nbformat": 4,
  "nbformat_minor": 0
}