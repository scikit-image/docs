{
  "cells": [
    {
      "cell_type": "code",
      "execution_count": null,
      "metadata": {
        "collapsed": false
      },
      "outputs": [],
      "source": [
        "%matplotlib inline"
      ]
    },
    {
      "cell_type": "markdown",
      "metadata": {},
      "source": [
        "\n# Use rolling-ball algorithm for estimating background intensity\n\nThe rolling-ball algorithm estimates the background intensity of a grayscale\nimage in case of uneven exposure. It is frequently used in biomedical\nimage processing and was first proposed by Stanley R. Sternberg in\n1983 [1]_.\n\nThe algorithm works as a filter and is quite intuitive. We think of the image\nas a surface that has unit-sized blocks stacked on top of each other in place\nof each pixel. The number of blocks, and hence surface height, is determined\nby the intensity of the pixel. To get the intensity of the background at a\ndesired (pixel) position, we imagine submerging a ball under the surface at the\ndesired position. Once it is completely covered by the blocks, the apex of\nthe ball determines the intensity of the background at that position. We can\nthen *roll* this ball around below the surface to get the background values for\nthe entire image.\n\nScikit-image implements a general version of this rolling-ball algorithm, which\nallows you to not just use balls, but arbitrary shapes as kernel and works on\nn-dimensional ndimages. This allows you to directly filter RGB images or filter\nimage stacks along any (or all) spacial dimensions.\n\n.. [1] Sternberg, Stanley R. \"Biomedical image processing.\" Computer 1 (1983):\n    22-34. :DOI:`10.1109/MC.1983.1654163`\n\n\n## Classic rolling ball\n\nIn scikit-image, the rolling ball algorithm assumes that your background has\nlow intensity (black), whereas the features have high intensity (white). If\nthis is the case for your image, you can directly use the filter like so:\n"
      ]
    },
    {
      "cell_type": "code",
      "execution_count": null,
      "metadata": {
        "collapsed": false
      },
      "outputs": [],
      "source": [
        "import imageio\nimport matplotlib.pyplot as plt\nimport numpy as np\n\nfrom skimage import (\n    data, restoration, util\n)\n\n\ndef plot_result(image, background):\n    fig, ax = plt.subplots(nrows=1, ncols=3)\n\n    ax[0].imshow(image, cmap='gray')\n    ax[0].set_title('Original image')\n    ax[0].axis('off')\n\n    ax[1].imshow(background, cmap='gray')\n    ax[1].set_title('Background')\n    ax[1].axis('off')\n\n    ax[2].imshow(image - background, cmap='gray')\n    ax[2].set_title('Result')\n    ax[2].axis('off')\n\n    fig.tight_layout()\n\n\nimage = data.coins()\n\nbackground = restoration.rolling_ball(image)\n\nplot_result(image, background)\nplt.show()"
      ]
    },
    {
      "cell_type": "markdown",
      "metadata": {},
      "source": [
        "## White background\n\nIf you have dark features on a bright background, you need to invert\nthe image before you pass it into the algorithm, and then invert the\nresult. This can be accomplished via:\n\n"
      ]
    },
    {
      "cell_type": "code",
      "execution_count": null,
      "metadata": {
        "collapsed": false
      },
      "outputs": [],
      "source": [
        "image = data.page()\nimage_inverted = util.invert(image)\n\nbackground_inverted = restoration.rolling_ball(image_inverted, radius=45)\nfiltered_image_inverted = image_inverted - background_inverted\nfiltered_image = util.invert(filtered_image_inverted)\nbackground = util.invert(background_inverted)\n\nfig, ax = plt.subplots(nrows=1, ncols=3)\n\nax[0].imshow(image, cmap='gray')\nax[0].set_title('Original image')\nax[0].axis('off')\n\nax[1].imshow(background, cmap='gray')\nax[1].set_title('Background')\nax[1].axis('off')\n\nax[2].imshow(filtered_image, cmap='gray')\nax[2].set_title('Result')\nax[2].axis('off')\n\nfig.tight_layout()\n\nplt.show()"
      ]
    },
    {
      "cell_type": "markdown",
      "metadata": {},
      "source": [
        "Be careful not to fall victim to an integer underflow when subtracting\na bright background. For example, this code looks correct, but may\nsuffer from an underflow leading to unwanted artifacts. You can see\nthis in the top right corner of the visualization.\n\n"
      ]
    },
    {
      "cell_type": "code",
      "execution_count": null,
      "metadata": {
        "collapsed": false
      },
      "outputs": [],
      "source": [
        "image = data.page()\nimage_inverted = util.invert(image)\n\nbackground_inverted = restoration.rolling_ball(image_inverted, radius=45)\nbackground = util.invert(background_inverted)\nunderflow_image = image - background  # integer underflow occurs here\n\n# correct subtraction\ncorrect_image = util.invert(image_inverted - background_inverted)\n\nfig, ax = plt.subplots(nrows=1, ncols=2)\n\nax[0].imshow(underflow_image, cmap='gray')\nax[0].set_title('Background Removal with Underflow')\nax[0].axis('off')\n\nax[1].imshow(correct_image, cmap='gray')\nax[1].set_title('Correct Background Removal')\nax[1].axis('off')\n\nfig.tight_layout()\n\nplt.show()"
      ]
    },
    {
      "cell_type": "markdown",
      "metadata": {},
      "source": [
        "## Image Datatypes\n\n``rolling_ball`` can handle datatypes other than `np.uint8`. You can\npass them into the function in the same way.\n\n"
      ]
    },
    {
      "cell_type": "code",
      "execution_count": null,
      "metadata": {
        "collapsed": false
      },
      "outputs": [],
      "source": [
        "image = data.coins()[:200, :200].astype(np.uint16)\n\nbackground = restoration.rolling_ball(image, radius=70.5)\nplot_result(image, background)\nplt.show()"
      ]
    },
    {
      "cell_type": "markdown",
      "metadata": {},
      "source": [
        "However, you need to be careful if you use floating point images\nthat have been normalized to ``[0, 1]``. In this case the ball will\nbe much larger than the image intensity, which can lead to\nunexpected results.\n\n"
      ]
    },
    {
      "cell_type": "code",
      "execution_count": null,
      "metadata": {
        "collapsed": false
      },
      "outputs": [],
      "source": [
        "image = util.img_as_float(data.coins()[:200, :200])\n\nbackground = restoration.rolling_ball(image, radius=70.5)\nplot_result(image, background)\nplt.show()"
      ]
    },
    {
      "cell_type": "markdown",
      "metadata": {},
      "source": [
        "Because ``radius=70.5`` is much larger than the maximum intensity of\nthe image, the effective kernel size is reduced significantly, i.e.,\nonly a small cap (approximately ``radius=10``) of the ball is rolled\naround in the image. You can find a reproduction of this strange\neffect in the ``Advanced Shapes`` section below.\n\nTo get the expected result, you need to reduce the intensity of the\nkernel. This is done by specifying the kernel manually using the\n``kernel`` argument.\n\nNote: The radius is equal to the length of a semi-axis of an\nellipsis, which is *half* a full axis. Hence, the kernel shape is\nmultipled by two.\n\n"
      ]
    },
    {
      "cell_type": "code",
      "execution_count": null,
      "metadata": {
        "collapsed": false
      },
      "outputs": [],
      "source": [
        "normalized_radius = 70.5 / 255\nimage = util.img_as_float(data.coins())\nkernel = restoration.ellipsoid_kernel(\n    (70.5 * 2, 70.5 * 2),\n    normalized_radius * 2\n)\n\nbackground = restoration.rolling_ball(\n    image,\n    kernel=kernel\n)\nplot_result(image, background)\nplt.show()"
      ]
    },
    {
      "cell_type": "markdown",
      "metadata": {},
      "source": [
        "## Advanced Shapes\n\nBy default, ``rolling_ball`` uses a ball shaped kernel (surprise).\nSometimes, this can be too limiting - as in the example above -,\nbecause the intensity dimension has a different scale compared to\nthe spatial dimensions, or because the image dimensions may have\ndifferent meanings - one could be a stack counter in an image stack.\n\nTo account for this, ``rolling_ball`` has a ``kernel`` argument\nwhich allows you to specify the kernel to be used. A kernel must\nhave the same dimensionality as the image (Note: dimensionality,\nnot shape). To help with it's creation, two default kernels are\nprovided by ``skimage``. ``ball_kernel`` specifies a ball shaped\nkernel and is used as the default kernel. ``ellipsoid_kernel``\nspecifies an ellipsoid shaped kernel.\n\n"
      ]
    },
    {
      "cell_type": "code",
      "execution_count": null,
      "metadata": {
        "collapsed": false
      },
      "outputs": [],
      "source": [
        "image = data.coins()\nkernel = restoration.ellipsoid_kernel(\n    (70.5 * 2, 70.5 * 2),\n    70.5 * 2\n)\n\nbackground = restoration.rolling_ball(\n    image,\n    kernel=kernel\n)\nplot_result(image, background)\nplt.show()"
      ]
    },
    {
      "cell_type": "markdown",
      "metadata": {},
      "source": [
        "You can also use ``ellipsoid_kernel`` to recreate the previous,\nunexpected result and see that the effective (spatial) filter size\nwas reduced.\n\n"
      ]
    },
    {
      "cell_type": "code",
      "execution_count": null,
      "metadata": {
        "collapsed": false
      },
      "outputs": [],
      "source": [
        "image = data.coins()\n\nkernel = restoration.ellipsoid_kernel(\n    (10 * 2, 10 * 2),\n    255 * 2\n)\n\nbackground = restoration.rolling_ball(\n    image,\n    kernel=kernel\n)\nplot_result(image, background)\nplt.show()"
      ]
    },
    {
      "cell_type": "markdown",
      "metadata": {},
      "source": [
        "## Higher Dimensions\n\nAnother feature of ``rolling_ball`` is that you can directly\napply it to higher dimensional images, e.g., a z-stack of images\nobtained during confocal microscopy. The number of kernel\ndimensions must match the image dimensions, hence the kernel shape\nis now 3 dimensional.\n\n"
      ]
    },
    {
      "cell_type": "code",
      "execution_count": null,
      "metadata": {
        "collapsed": false
      },
      "outputs": [],
      "source": [
        "image = data.cells3d()[:, 1, ...]\nbackground = restoration.rolling_ball(\n    image,\n    kernel=restoration.ellipsoid_kernel(\n        (1, 21, 21),\n        0.1\n    )\n)\n\nplot_result(image[30, ...], background[30, ...])\nplt.show()"
      ]
    },
    {
      "cell_type": "markdown",
      "metadata": {},
      "source": [
        "A kernel size of 1 does not filter along this axis. In other words,\nabove filter is applied to each image in the stack individually.\n\nHowever, you can also filter along all 3 dimensions at the same\ntime by specifying a value other than 1.\n\n"
      ]
    },
    {
      "cell_type": "code",
      "execution_count": null,
      "metadata": {
        "collapsed": false
      },
      "outputs": [],
      "source": [
        "image = data.cells3d()[:, 1, ...]\nbackground = restoration.rolling_ball(\n    image,\n    kernel=restoration.ellipsoid_kernel(\n        (5, 21, 21),\n        0.1\n    )\n)\n\nplot_result(image[30, ...], background[30, ...])\nplt.show()"
      ]
    },
    {
      "cell_type": "markdown",
      "metadata": {},
      "source": [
        "Another possibility is to filter individual pixels along the\nplanar axis (z-stack axis).\n\n"
      ]
    },
    {
      "cell_type": "code",
      "execution_count": null,
      "metadata": {
        "collapsed": false
      },
      "outputs": [],
      "source": [
        "image = data.cells3d()[:, 1, ...]\nbackground = restoration.rolling_ball(\n    image,\n    kernel=restoration.ellipsoid_kernel(\n        (100, 1, 1),\n        0.1\n    )\n)\n\nplot_result(image[30, ...], background[30, ...])\nplt.show()"
      ]
    }
  ],
  "metadata": {
    "kernelspec": {
      "display_name": "Python 3",
      "language": "python",
      "name": "python3"
    },
    "language_info": {
      "codemirror_mode": {
        "name": "ipython",
        "version": 3
      },
      "file_extension": ".py",
      "mimetype": "text/x-python",
      "name": "python",
      "nbconvert_exporter": "python",
      "pygments_lexer": "ipython3",
      "version": "3.9.1"
    }
  },
  "nbformat": 4,
  "nbformat_minor": 0
}