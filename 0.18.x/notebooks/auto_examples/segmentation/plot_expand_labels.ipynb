{
  "cells": [
    {
      "cell_type": "code",
      "execution_count": null,
      "metadata": {
        "collapsed": false
      },
      "outputs": [],
      "source": [
        "%matplotlib inline"
      ]
    },
    {
      "cell_type": "markdown",
      "metadata": {},
      "source": [
        "\n# Expand segmentation labels without overlap\n\n\nGiven several connected components represented by a label image, these\nconnected components can be expanded into background regions using\n:py:func:`skimage.segmentation.expand_labels`.\nIn contrast to :py:func:`skimage.morphology.dilation` this method will\nnot let connected components expand into neighboring connected components\nwith lower label number.\n"
      ]
    },
    {
      "cell_type": "code",
      "execution_count": null,
      "metadata": {
        "collapsed": false
      },
      "outputs": [],
      "source": [
        "import numpy as np\nimport matplotlib.pyplot as plt\n\nfrom skimage.filters import sobel\nfrom skimage.measure import label\nfrom skimage.segmentation import watershed, expand_labels\nfrom skimage.color import label2rgb\nfrom skimage import data\n\ncoins = data.coins()\n\n# Make segmentation using edge-detection and watershed.\nedges = sobel(coins)\n\n# Identify some background and foreground pixels from the intensity values.\n# These pixels are used as seeds for watershed.\nmarkers = np.zeros_like(coins)\nforeground, background = 1, 2\nmarkers[coins < 30.0] = background\nmarkers[coins > 150.0] = foreground\n\nws = watershed(edges, markers)\nseg1 = label(ws == foreground)\n\nexpanded = expand_labels(seg1, distance=10)\n\n# Show the segmentations.\nfig, axes = plt.subplots(nrows=1, ncols=2, figsize=(9, 5),\n                         sharex=True, sharey=True)\n\ncolor1 = label2rgb(seg1, image=coins, bg_label=0)\naxes[0].imshow(color1)\naxes[0].set_title('Sobel+Watershed')\n\ncolor2 = label2rgb(expanded, image=coins, bg_label=0)\naxes[1].imshow(color2)\naxes[1].set_title('Expanded labels')\n\nfor a in axes:\n    a.axis('off')\nfig.tight_layout()\nplt.show()"
      ]
    }
  ],
  "metadata": {
    "kernelspec": {
      "display_name": "Python 3",
      "language": "python",
      "name": "python3"
    },
    "language_info": {
      "codemirror_mode": {
        "name": "ipython",
        "version": 3
      },
      "file_extension": ".py",
      "mimetype": "text/x-python",
      "name": "python",
      "nbconvert_exporter": "python",
      "pygments_lexer": "ipython3",
      "version": "3.8.2"
    }
  },
  "nbformat": 4,
  "nbformat_minor": 0
}